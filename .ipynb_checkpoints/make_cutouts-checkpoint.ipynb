{
 "cells": [
  {
   "cell_type": "code",
   "execution_count": 33,
   "id": "50814c58-43ac-441f-a1a9-17762642d02e",
   "metadata": {},
   "outputs": [],
   "source": [
    "from astropy.io import fits\n",
    "from astropy.wcs import WCS\n",
    "from astropy.nddata import Cutout2D\n",
    "import numpy as np\n",
    "import glob as glob\n",
    "import os\n",
    "\n",
    "path_data = '/home/aellien/Euclid_LSB_DR1/data/EUC_EDF_N_bin4_10k2/'\n",
    "path_analysis = '/home/aellien/Euclid_LSB_DR1/analysis'\n",
    "path_out = '/home/aellien/Euclid_LSB_DR1/data/EUC_EDF_N_bin4_2.5k2'"
   ]
  },
  {
   "cell_type": "code",
   "execution_count": 46,
   "id": "b8790b34-ddb8-49bb-bcb1-9d860dcccadf",
   "metadata": {},
   "outputs": [],
   "source": [
    "for tile in glob.glob(path_analysis+'/*scaled_masked.fits'):\n",
    "\n",
    "    nf = tile.split('/')[-1]\n",
    "    hdu = fits.open(tile)\n",
    "    header = hdu[1].header\n",
    "    w = WCS(header)\n",
    "    im = hdu[1].data\n",
    "    xs, ys = im.shape\n",
    "    w = WCS(hdu[1].header)\n",
    "\n",
    "    ns = 2650.\n",
    "    xc = int(ns / 2.)\n",
    "\n",
    "    k = 0\n",
    "    for i in range(0, 3):\n",
    "        for j in range(0, 3):\n",
    "            k += 1\n",
    "            cutout = Cutout2D(im, ((i * ns) + xc, (j * ns) + xc), ns, wcs = w)\n",
    "            hduo = fits.PrimaryHDU(cutout.data, header = cutout.wcs.to_header())\n",
    "            hduo.writeto(os.path.join(path_out, nf[:-4]+'cut%d.fits'%k), overwrite = True)"
   ]
  },
  {
   "cell_type": "code",
   "execution_count": null,
   "id": "8cdd9f86-3103-48a4-83cc-a41d3fc319f4",
   "metadata": {},
   "outputs": [],
   "source": []
  }
 ],
 "metadata": {
  "kernelspec": {
   "display_name": "Python 3 (ipykernel)",
   "language": "python",
   "name": "python3"
  },
  "language_info": {
   "codemirror_mode": {
    "name": "ipython",
    "version": 3
   },
   "file_extension": ".py",
   "mimetype": "text/x-python",
   "name": "python",
   "nbconvert_exporter": "python",
   "pygments_lexer": "ipython3",
   "version": "3.11.6"
  }
 },
 "nbformat": 4,
 "nbformat_minor": 5
}
