{
 "cells": [
  {
   "cell_type": "code",
   "execution_count": 1,
   "id": "5e1b53e9-68f5-4481-8107-1dbdb223fc14",
   "metadata": {},
   "outputs": [
    {
     "name": "stdout",
     "output_type": "stream",
     "text": [
      "(5541, 5988)\n"
     ]
    }
   ],
   "source": [
    "import numpy as np\n",
    "import matplotlib.pyplot as plt\n",
    "from astropy.io import fits\n",
    "from astropy.wcs import WCS\n",
    "from astropy.nddata import Cutout2D\n",
    "from scipy.interpolate import griddata\n",
    "import pyregion as pyr\n",
    "import matplotlib.pyplot as plt\n",
    "\n",
    "infile = '/home/aellien/Euclid_LSB_DR1/data/mosaic_bin40.fits'\n",
    "hdu = fits.open(infile)\n",
    "header = hdu[1].header\n",
    "mosaic = hdu[1].data\n",
    "w = WCS(header)\n",
    "print(mosaic.shape)\n",
    "\n",
    "footprint = '/home/aellien/Euclid_LSB_DR1/data/EUC_N_footprint.reg'\n",
    "r = pyr.open(footprint)\n",
    "m = r.get_mask(hdu = hdu[1])"
   ]
  },
  {
   "cell_type": "code",
   "execution_count": 3,
   "id": "fd9e929d-9be8-4b22-993b-eb1a22df7335",
   "metadata": {},
   "outputs": [],
   "source": [
    "def interpolate_nans(image, method='linear'):\n",
    "    \"\"\"\n",
    "    Fill NaN values in a 2D image using interpolation.\n",
    "\n",
    "    Parameters:\n",
    "        image (2D np.ndarray): Input image with NaNs.\n",
    "        method (str): Interpolation method: 'linear', 'nearest', or 'cubic'.\n",
    "\n",
    "    Returns:\n",
    "        2D np.ndarray: Image with NaNs filled.\n",
    "    \"\"\"\n",
    "    y, x = np.indices(image.shape)\n",
    "    valid_mask = ~np.isnan(image)\n",
    "    coords_valid = np.array((x[valid_mask], y[valid_mask])).T\n",
    "    values_valid = image[valid_mask]\n",
    "    coords_nan = np.array((x[~valid_mask], y[~valid_mask])).T\n",
    "\n",
    "    interpolated = griddata(\n",
    "        coords_valid, values_valid, coords_nan, method=method\n",
    "    )\n",
    "\n",
    "    filled_image = image.copy()\n",
    "    filled_image[~valid_mask] = interpolated\n",
    "    return filled_image"
   ]
  },
  {
   "cell_type": "code",
   "execution_count": null,
   "id": "ebd2bc68-eb10-47ea-81dd-27d629571c96",
   "metadata": {},
   "outputs": [],
   "source": [
    "mosaic[mosaic == 0.] = np.nan\n",
    "mosaic[~m] = 0.\n",
    "\n",
    "#fmosaic = interpolate_nans(mosaic)"
   ]
  },
  {
   "cell_type": "code",
   "execution_count": null,
   "id": "24b01945-1031-451a-845b-badf24b04a05",
   "metadata": {},
   "outputs": [],
   "source": [
    "xs, ys = im.shape\n",
    "w = WCS(hdu[1].header)\n",
    "ns = 2000.\n",
    "xc = int(ns / 2.)\n",
    "k = 0\n",
    "for i in range(0, 3):\n",
    "    for j in range(0, 3):\n",
    "        k += 1\n",
    "        cutout = Cutout2D(im, ((i * ns) + xc, (j * ns) + xc), ns, wcs = w)\n",
    "        hduo = fits.PrimaryHDU(cutout.data, header = cutout.wcs.to_header())\n",
    "        hduo.writeto(os.path.join(path_out, nf[:-4]+'cut%d.fits'%k), overwrite = True)"
   ]
  },
  {
   "cell_type": "code",
   "execution_count": null,
   "id": "5d97ac85-858f-463e-a47c-50cd5b2fd813",
   "metadata": {},
   "outputs": [],
   "source": [
    "hduo = fits.PrimaryHDU(fmosaic, header = header)\n",
    "hduo.writeto('/home/aellien/Euclid_LSB_DR1/data/mosaic_bin40_interp.fits')"
   ]
  }
 ],
 "metadata": {
  "kernelspec": {
   "display_name": "Python 3 (ipykernel)",
   "language": "python",
   "name": "python3"
  },
  "language_info": {
   "codemirror_mode": {
    "name": "ipython",
    "version": 3
   },
   "file_extension": ".py",
   "mimetype": "text/x-python",
   "name": "python",
   "nbconvert_exporter": "python",
   "pygments_lexer": "ipython3",
   "version": "3.11.6"
  }
 },
 "nbformat": 4,
 "nbformat_minor": 5
}
