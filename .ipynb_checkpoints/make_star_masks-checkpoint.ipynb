{
 "cells": [
  {
   "cell_type": "code",
   "execution_count": 59,
   "id": "8ea41663-33a4-40a9-b7d9-6c213e9d7446",
   "metadata": {},
   "outputs": [],
   "source": [
    "import pandas as pd\n",
    "from astropy.coordinates import SkyCoord\n",
    "from regions import CircleSkyRegion\n",
    "import astropy.units as u\n",
    "from astropy.wcs import WCS\n",
    "from astropy.io import fits\n",
    "import os\n",
    "import numpy as np\n",
    "from skimage.draw import disk \n",
    "import matplotlib.pyplot as plt\n",
    "import glob"
   ]
  },
  {
   "cell_type": "code",
   "execution_count": 60,
   "id": "05e66fb3-6cf0-489b-ae63-2c95dba1eb21",
   "metadata": {},
   "outputs": [],
   "source": [
    "path_data = '/home/aellien/Euclid_LSB_DR1/data/EUC_EDF_N_bin4_2.5k2'\n",
    "cutl = glob.glob(path_data+'/EUC_VIS_LSB_ObsID_*_scaled.cut*[1234567890].fits')\n",
    "\n",
    "gaia_dr3_within5deg = pd.read_csv('/home/aellien/Euclid_LSB_DR1/data/gaia_dr3_cat/star_pos_within5deg_gleq9.csv')\n",
    "\n",
    "radius_pixels = 600 # pix, base radius of circles\n",
    "radius = 4 * u.arcmin"
   ]
  },
  {
   "cell_type": "code",
   "execution_count": 61,
   "id": "16e9be50-c2b9-46a1-a561-944b50fd881a",
   "metadata": {},
   "outputs": [],
   "source": [
    "# Astropy regions\n",
    "regl = []\n",
    "for ra, dec in zip(gaia_dr3_within5deg['ra'], gaia_dr3_within5deg['dec']):\n",
    "    center = SkyCoord(ra = ra * u.deg, dec = dec * u.deg, frame = \"icrs\")\n",
    "    region = CircleSkyRegion(center = center, radius = radius)\n",
    "    regl.append(region)"
   ]
  },
  {
   "cell_type": "code",
   "execution_count": 57,
   "id": "78b0f783-76b3-42f0-85eb-7ca8018f7e86",
   "metadata": {},
   "outputs": [],
   "source": [
    "for cut in cutl:\n",
    "    cutfp = os.path.join(path_data, cut)\n",
    "    tile_id = nf.split('_')[-1]\n",
    "    hdu = fits.open(cutfp)\n",
    "    im = hdu[0].data\n",
    "    header = hdu[0].header\n",
    "    wcs = WCS(header)\n",
    "\n",
    "    # blank mask\n",
    "    mstar = np.zeros(im.shape)\n",
    "\n",
    "    for region in regl:\n",
    "        \n",
    "        center_pix = region.center.to_pixel(wcs)\n",
    "        \n",
    "        #if (center_pix[0] > 0.) & (center_pix[0] <= 2650.) & (center_pix[1] > 0.) & (center_pix[1] <= 2650.):\n",
    "        y_pix, x_pix = int(center_pix[1]), int(center_pix[0])\n",
    "        rr, cc = disk((y_pix, x_pix), radius_pixels, shape = mstar.shape)\n",
    "\n",
    "        # Set circle pixels to 1 (avoid out-of-bounds errors)\n",
    "        valid_pixels = (rr >= 0) & (rr < mstar.shape[0]) & \\\n",
    "                       (cc >= 0) & (cc < mstar.shape[1])\n",
    "        mstar[rr[valid_pixels], cc[valid_pixels]] = 1\n",
    "            \n",
    "    hduo = fits.PrimaryHDU(mstar, header = header)\n",
    "    onfp = os.path.join(path_data, cut[:-12]+'.cut%d.masked.fits'%k), overwrite = True))\n",
    "    hduo.writeto()\n",
    "\n",
    "    "
   ]
  },
  {
   "cell_type": "code",
   "execution_count": 58,
   "id": "5794828b-5c2e-4e0c-b475-9549a6091245",
   "metadata": {},
   "outputs": [
    {
     "data": {
      "image/png": "[encoded data removed]",
      "text/plain": [
       "<Figure size 640x480 with 1 Axes>"
      ]
     },
     "metadata": {},
     "output_type": "display_data"
    }
   ],
   "source": [
    "plt.figure()\n",
    "plt.imshow(mstar)\n",
    "plt.show()"
   ]
  },
  {
   "cell_type": "code",
   "execution_count": null,
   "id": "d965c9e1-958b-49f2-9ce1-e19971fc56be",
   "metadata": {},
   "outputs": [],
   "source": []
  }
 ],
 "metadata": {
  "kernelspec": {
   "display_name": "Python 3 (ipykernel)",
   "language": "python",
   "name": "python3"
  },
  "language_info": {
   "codemirror_mode": {
    "name": "ipython",
    "version": 3
   },
   "file_extension": ".py",
   "mimetype": "text/x-python",
   "name": "python",
   "nbconvert_exporter": "python",
   "pygments_lexer": "ipython3",
   "version": "3.11.6"
  }
 },
 "nbformat": 4,
 "nbformat_minor": 5
}
