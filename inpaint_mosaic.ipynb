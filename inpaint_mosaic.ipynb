{
 "cells": [
  {
   "cell_type": "code",
   "execution_count": 4,
   "id": "24469302-b113-4519-853f-bbf969be2117",
   "metadata": {},
   "outputs": [],
   "source": [
    "import numpy as np\n",
    "import glob\n",
    "import os\n",
    "from astropy.io import fits\n",
    "import matplotlib.pyplot as plt\n",
    "from dawis.inpainting import sample_noise, inpaint_with_gaussian_noise\n",
    "\n",
    "path_wavelets = '/home/aellien/Euclid_LSB_DR1/wavelets/out3'"
   ]
  },
  {
   "cell_type": "code",
   "execution_count": 5,
   "id": "c19d35c1-a98b-40d3-b1dc-f672bfc82434",
   "metadata": {},
   "outputs": [
    {
     "name": "stdout",
     "output_type": "stream",
     "text": [
      "/home/aellien/Euclid_LSB_DR1/wavelets/out3/EUC_VIS_LSB_ObsID_2683_scaled.cut11.synth.lvl_sep.fits\n"
     ]
    },
    {
     "name": "stderr",
     "output_type": "stream",
     "text": [
      "WARNING: Input data contains invalid values (NaNs or infs), which were automatically clipped. [astropy.stats.sigma_clipping]\n"
     ]
    },
    {
     "name": "stdout",
     "output_type": "stream",
     "text": [
      "0.18092102 8.969748\n",
      "write to /home/aellien/Euclid_LSB_DR1/wavelets/out3/EUC_VIS_LSB_ObsID_2683_scaled.cut11.synth.lvl_sep.iptd.fits\n",
      "/home/aellien/Euclid_LSB_DR1/wavelets/out3/EUC_VIS_LSB_ObsID_2683_scaled.cut7.synth.lvl_sep.fits\n",
      "0.2631274 11.700311\n",
      "write to /home/aellien/Euclid_LSB_DR1/wavelets/out3/EUC_VIS_LSB_ObsID_2683_scaled.cut7.synth.lvl_sep.iptd.fits\n",
      "/home/aellien/Euclid_LSB_DR1/wavelets/out3/EUC_VIS_LSB_ObsID_2683_scaled.cut3.synth.lvl_sep.fits\n"
     ]
    },
    {
     "name": "stderr",
     "output_type": "stream",
     "text": [
      "WARNING: Input data contains invalid values (NaNs or infs), which were automatically clipped. [astropy.stats.sigma_clipping]\n"
     ]
    },
    {
     "name": "stdout",
     "output_type": "stream",
     "text": [
      "0.18604986 9.093417\n",
      "write to /home/aellien/Euclid_LSB_DR1/wavelets/out3/EUC_VIS_LSB_ObsID_2683_scaled.cut3.synth.lvl_sep.iptd.fits\n",
      "/home/aellien/Euclid_LSB_DR1/wavelets/out3/EUC_VIS_LSB_ObsID_2683_scaled.cut14.synth.lvl_sep.fits\n"
     ]
    },
    {
     "name": "stderr",
     "output_type": "stream",
     "text": [
      "WARNING: Input data contains invalid values (NaNs or infs), which were automatically clipped. [astropy.stats.sigma_clipping]\n"
     ]
    },
    {
     "name": "stdout",
     "output_type": "stream",
     "text": [
      "0.12235853 7.145836\n",
      "write to /home/aellien/Euclid_LSB_DR1/wavelets/out3/EUC_VIS_LSB_ObsID_2683_scaled.cut14.synth.lvl_sep.iptd.fits\n",
      "/home/aellien/Euclid_LSB_DR1/wavelets/out3/EUC_VIS_LSB_ObsID_2683_scaled.cut10.synth.lvl_sep.fits\n",
      "0.1877146 8.868121\n",
      "write to /home/aellien/Euclid_LSB_DR1/wavelets/out3/EUC_VIS_LSB_ObsID_2683_scaled.cut10.synth.lvl_sep.iptd.fits\n",
      "/home/aellien/Euclid_LSB_DR1/wavelets/out3/EUC_VIS_LSB_ObsID_2683_scaled.cut6.synth.lvl_sep.fits\n",
      "0.27875873 11.4714775\n",
      "write to /home/aellien/Euclid_LSB_DR1/wavelets/out3/EUC_VIS_LSB_ObsID_2683_scaled.cut6.synth.lvl_sep.iptd.fits\n",
      "/home/aellien/Euclid_LSB_DR1/wavelets/out3/EUC_VIS_LSB_ObsID_2683_scaled.cut8.synth.lvl_sep.fits\n"
     ]
    },
    {
     "name": "stderr",
     "output_type": "stream",
     "text": [
      "WARNING: Input data contains invalid values (NaNs or infs), which were automatically clipped. [astropy.stats.sigma_clipping]\n"
     ]
    },
    {
     "name": "stdout",
     "output_type": "stream",
     "text": [
      "0.19038615 9.329864\n",
      "write to /home/aellien/Euclid_LSB_DR1/wavelets/out3/EUC_VIS_LSB_ObsID_2683_scaled.cut8.synth.lvl_sep.iptd.fits\n",
      "/home/aellien/Euclid_LSB_DR1/wavelets/out3/EUC_VIS_LSB_ObsID_2683_scaled.cut13.synth.lvl_sep.fits\n"
     ]
    },
    {
     "name": "stderr",
     "output_type": "stream",
     "text": [
      "WARNING: Input data contains invalid values (NaNs or infs), which were automatically clipped. [astropy.stats.sigma_clipping]\n"
     ]
    },
    {
     "name": "stdout",
     "output_type": "stream",
     "text": [
      "0.101326205 6.311785\n",
      "write to /home/aellien/Euclid_LSB_DR1/wavelets/out3/EUC_VIS_LSB_ObsID_2683_scaled.cut13.synth.lvl_sep.iptd.fits\n",
      "/home/aellien/Euclid_LSB_DR1/wavelets/out3/EUC_VIS_LSB_ObsID_2683_scaled.cut2.synth.lvl_sep.fits\n"
     ]
    },
    {
     "name": "stderr",
     "output_type": "stream",
     "text": [
      "WARNING: Input data contains invalid values (NaNs or infs), which were automatically clipped. [astropy.stats.sigma_clipping]\n"
     ]
    },
    {
     "name": "stdout",
     "output_type": "stream",
     "text": [
      "0.16382837 8.532324\n",
      "write to /home/aellien/Euclid_LSB_DR1/wavelets/out3/EUC_VIS_LSB_ObsID_2683_scaled.cut2.synth.lvl_sep.iptd.fits\n",
      "/home/aellien/Euclid_LSB_DR1/wavelets/out3/EUC_VIS_LSB_ObsID_2683_scaled.cut9.synth.lvl_sep.fits\n"
     ]
    },
    {
     "name": "stderr",
     "output_type": "stream",
     "text": [
      "WARNING: Input data contains invalid values (NaNs or infs), which were automatically clipped. [astropy.stats.sigma_clipping]\n"
     ]
    },
    {
     "name": "stdout",
     "output_type": "stream",
     "text": [
      "0.24654518 11.038139\n",
      "write to /home/aellien/Euclid_LSB_DR1/wavelets/out3/EUC_VIS_LSB_ObsID_2683_scaled.cut9.synth.lvl_sep.iptd.fits\n",
      "/home/aellien/Euclid_LSB_DR1/wavelets/out3/EUC_VIS_LSB_ObsID_2683_scaled.cut5.synth.lvl_sep.fits\n"
     ]
    },
    {
     "name": "stderr",
     "output_type": "stream",
     "text": [
      "WARNING: Input data contains invalid values (NaNs or infs), which were automatically clipped. [astropy.stats.sigma_clipping]\n"
     ]
    },
    {
     "name": "stdout",
     "output_type": "stream",
     "text": [
      "0.2526339 10.734489\n",
      "write to /home/aellien/Euclid_LSB_DR1/wavelets/out3/EUC_VIS_LSB_ObsID_2683_scaled.cut5.synth.lvl_sep.iptd.fits\n",
      "/home/aellien/Euclid_LSB_DR1/wavelets/out3/EUC_VIS_LSB_ObsID_2683_scaled.cut12.synth.lvl_sep.fits\n"
     ]
    },
    {
     "name": "stderr",
     "output_type": "stream",
     "text": [
      "WARNING: Input data contains invalid values (NaNs or infs), which were automatically clipped. [astropy.stats.sigma_clipping]\n"
     ]
    },
    {
     "name": "stdout",
     "output_type": "stream",
     "text": [
      "0.29243976 11.794004\n",
      "write to /home/aellien/Euclid_LSB_DR1/wavelets/out3/EUC_VIS_LSB_ObsID_2683_scaled.cut12.synth.lvl_sep.iptd.fits\n",
      "/home/aellien/Euclid_LSB_DR1/wavelets/out3/EUC_VIS_LSB_ObsID_2683_scaled.cut15.synth.lvl_sep.fits\n"
     ]
    },
    {
     "name": "stderr",
     "output_type": "stream",
     "text": [
      "WARNING: Input data contains invalid values (NaNs or infs), which were automatically clipped. [astropy.stats.sigma_clipping]\n"
     ]
    },
    {
     "name": "stdout",
     "output_type": "stream",
     "text": [
      "0.3898855 16.626669\n",
      "write to /home/aellien/Euclid_LSB_DR1/wavelets/out3/EUC_VIS_LSB_ObsID_2683_scaled.cut15.synth.lvl_sep.iptd.fits\n",
      "done\n"
     ]
    }
   ],
   "source": [
    "nfpl = glob.glob(os.path.join(path_wavelets, '*2683*synth.lvl_sep.fits'))\n",
    "\n",
    "for nfp in nfpl:\n",
    "\n",
    "    print(nfp)\n",
    "\n",
    "    hdu = fits.open(nfp)\n",
    "    oim = hdu[1].data\n",
    "    header = hdu[1].header\n",
    "    res = hdu[3].data\n",
    "\n",
    "    # noise props\n",
    "    bckup = np.copy(oim)\n",
    "    oim[oim == 0] = np.nan\n",
    "    noise, valmax = sample_noise(oim, 5)\n",
    "    print(np.nanmean(oim), np.nanstd(oim))\n",
    "\n",
    "    # inpatinting\n",
    "    iptd = np.copy(res)\n",
    "    iptd[bckup == 0] = -1000 # add zeros to inpainting\n",
    "    iptd = inpaint_with_gaussian_noise(iptd, np.nanmean(noise), np.nanstd(noise), 4)\n",
    "\n",
    "    # write output\n",
    "    nfo = nfp[:-4] + 'iptd.fits'\n",
    "    print('write to %s'%nfo)\n",
    "    hduo = fits.PrimaryHDU(iptd, header = header)\n",
    "    hduo.writeto(nfo, overwrite = True)\n",
    "    \n",
    "print('done')"
   ]
  },
  {
   "cell_type": "code",
   "execution_count": null,
   "id": "6fc3a938-7ebc-493f-9e9a-67d5ec20b06e",
   "metadata": {},
   "outputs": [
    {
     "name": "stderr",
     "output_type": "stream",
     "text": [
      "WARNING: Input data contains invalid values (NaNs or infs), which were automatically clipped. [astropy.stats.sigma_clipping]\n"
     ]
    }
   ],
   "source": [
    "#mosaic = inpaint_with_gaussian_noise(mosaic, np.nanmin(mosaic), np.nanstd(mosaic), iptd_sigma)"
   ]
  }
 ],
 "metadata": {
  "kernelspec": {
   "display_name": "Python 3 (ipykernel)",
   "language": "python",
   "name": "python3"
  },
  "language_info": {
   "codemirror_mode": {
    "name": "ipython",
    "version": 3
   },
   "file_extension": ".py",
   "mimetype": "text/x-python",
   "name": "python",
   "nbconvert_exporter": "python",
   "pygments_lexer": "ipython3",
   "version": "3.11.6"
  }
 },
 "nbformat": 4,
 "nbformat_minor": 5
}
