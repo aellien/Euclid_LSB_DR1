{
 "cells": [
  {
   "cell_type": "code",
   "execution_count": 3,
   "id": "24469302-b113-4519-853f-bbf969be2117",
   "metadata": {},
   "outputs": [],
   "source": [
    "import numpy as np\n",
    "import glob\n",
    "import os\n",
    "from astropy.io import fits\n",
    "import matplotlib.pyplot as plt\n",
    "from dawis.inpainting import sample_noise, inpaint_with_gaussian_noise\n",
    "\n",
    "path_wavelets = '/home/aellien/Euclid_LSB_DR1/wavelets/out3'"
   ]
  },
  {
   "cell_type": "code",
   "execution_count": 4,
   "id": "c19d35c1-a98b-40d3-b1dc-f672bfc82434",
   "metadata": {},
   "outputs": [
    {
     "name": "stdout",
     "output_type": "stream",
     "text": [
      "/home/aellien/Euclid_LSB_DR1/wavelets/out3/EUC_VIS_LSB_ObsID_2707_scaled.cut5.synth.lvl_sep.fits\n"
     ]
    },
    {
     "name": "stderr",
     "output_type": "stream",
     "text": [
      "WARNING: Input data contains invalid values (NaNs or infs), which were automatically clipped. [astropy.stats.sigma_clipping]\n"
     ]
    },
    {
     "name": "stdout",
     "output_type": "stream",
     "text": [
      "0.25139698 10.913083\n",
      "write to /home/aellien/Euclid_LSB_DR1/wavelets/out3/EUC_VIS_LSB_ObsID_2707_scaled.cut5.synth.lvl_sep.iptd.fits\n",
      "/home/aellien/Euclid_LSB_DR1/wavelets/out3/EUC_VIS_LSB_ObsID_2688_scaled.cut14.synth.lvl_sep.fits\n"
     ]
    },
    {
     "name": "stderr",
     "output_type": "stream",
     "text": [
      "WARNING: Input data contains invalid values (NaNs or infs), which were automatically clipped. [astropy.stats.sigma_clipping]\n"
     ]
    },
    {
     "name": "stdout",
     "output_type": "stream",
     "text": [
      "0.18699352 8.965285\n",
      "write to /home/aellien/Euclid_LSB_DR1/wavelets/out3/EUC_VIS_LSB_ObsID_2688_scaled.cut14.synth.lvl_sep.iptd.fits\n",
      "/home/aellien/Euclid_LSB_DR1/wavelets/out3/EUC_VIS_LSB_ObsID_2721_scaled.cut12.synth.lvl_sep.fits\n"
     ]
    },
    {
     "name": "stderr",
     "output_type": "stream",
     "text": [
      "WARNING: Input data contains invalid values (NaNs or infs), which were automatically clipped. [astropy.stats.sigma_clipping]\n"
     ]
    },
    {
     "name": "stdout",
     "output_type": "stream",
     "text": [
      "0.33954975 13.031712\n",
      "write to /home/aellien/Euclid_LSB_DR1/wavelets/out3/EUC_VIS_LSB_ObsID_2721_scaled.cut12.synth.lvl_sep.iptd.fits\n",
      "/home/aellien/Euclid_LSB_DR1/wavelets/out3/EUC_VIS_LSB_ObsID_2694_scaled.cut16.synth.lvl_sep.fits\n"
     ]
    },
    {
     "name": "stderr",
     "output_type": "stream",
     "text": [
      "WARNING: Input data contains invalid values (NaNs or infs), which were automatically clipped. [astropy.stats.sigma_clipping]\n"
     ]
    },
    {
     "name": "stdout",
     "output_type": "stream",
     "text": [
      "0.21949294 10.155272\n",
      "write to /home/aellien/Euclid_LSB_DR1/wavelets/out3/EUC_VIS_LSB_ObsID_2694_scaled.cut16.synth.lvl_sep.iptd.fits\n",
      "/home/aellien/Euclid_LSB_DR1/wavelets/out3/EUC_VIS_LSB_ObsID_2700_scaled.cut9.synth.lvl_sep.fits\n"
     ]
    },
    {
     "name": "stderr",
     "output_type": "stream",
     "text": [
      "WARNING: Input data contains invalid values (NaNs or infs), which were automatically clipped. [astropy.stats.sigma_clipping]\n"
     ]
    },
    {
     "name": "stdout",
     "output_type": "stream",
     "text": [
      "0.57882 17.98406\n",
      "write to /home/aellien/Euclid_LSB_DR1/wavelets/out3/EUC_VIS_LSB_ObsID_2700_scaled.cut9.synth.lvl_sep.iptd.fits\n",
      "/home/aellien/Euclid_LSB_DR1/wavelets/out3/EUC_VIS_LSB_ObsID_2718_scaled.cut2.synth.lvl_sep.fits\n"
     ]
    },
    {
     "name": "stderr",
     "output_type": "stream",
     "text": [
      "WARNING: Input data contains invalid values (NaNs or infs), which were automatically clipped. [astropy.stats.sigma_clipping]\n"
     ]
    },
    {
     "name": "stdout",
     "output_type": "stream",
     "text": [
      "0.19062982 9.4529915\n",
      "write to /home/aellien/Euclid_LSB_DR1/wavelets/out3/EUC_VIS_LSB_ObsID_2718_scaled.cut2.synth.lvl_sep.iptd.fits\n",
      "/home/aellien/Euclid_LSB_DR1/wavelets/out3/EUC_VIS_LSB_ObsID_2722_scaled.cut6.synth.lvl_sep.fits\n"
     ]
    },
    {
     "name": "stderr",
     "output_type": "stream",
     "text": [
      "WARNING: Input data contains invalid values (NaNs or infs), which were automatically clipped. [astropy.stats.sigma_clipping]\n"
     ]
    },
    {
     "name": "stdout",
     "output_type": "stream",
     "text": [
      "0.25731888 11.012128\n",
      "write to /home/aellien/Euclid_LSB_DR1/wavelets/out3/EUC_VIS_LSB_ObsID_2722_scaled.cut6.synth.lvl_sep.iptd.fits\n",
      "/home/aellien/Euclid_LSB_DR1/wavelets/out3/EUC_VIS_LSB_ObsID_2706_scaled.cut9.synth.lvl_sep.fits\n"
     ]
    },
    {
     "name": "stderr",
     "output_type": "stream",
     "text": [
      "WARNING: Input data contains invalid values (NaNs or infs), which were automatically clipped. [astropy.stats.sigma_clipping]\n"
     ]
    },
    {
     "name": "stdout",
     "output_type": "stream",
     "text": [
      "0.10344898 6.4259214\n",
      "write to /home/aellien/Euclid_LSB_DR1/wavelets/out3/EUC_VIS_LSB_ObsID_2706_scaled.cut9.synth.lvl_sep.iptd.fits\n",
      "/home/aellien/Euclid_LSB_DR1/wavelets/out3/EUC_VIS_LSB_ObsID_2698_scaled.cut10.synth.lvl_sep.fits\n",
      "0.2514692 10.9294615\n",
      "write to /home/aellien/Euclid_LSB_DR1/wavelets/out3/EUC_VIS_LSB_ObsID_2698_scaled.cut10.synth.lvl_sep.iptd.fits\n",
      "/home/aellien/Euclid_LSB_DR1/wavelets/out3/EUC_VIS_LSB_ObsID_2690_scaled.cut8.synth.lvl_sep.fits\n"
     ]
    },
    {
     "name": "stderr",
     "output_type": "stream",
     "text": [
      "WARNING: Input data contains invalid values (NaNs or infs), which were automatically clipped. [astropy.stats.sigma_clipping]\n"
     ]
    },
    {
     "name": "stdout",
     "output_type": "stream",
     "text": [
      "0.15435071 8.371064\n",
      "write to /home/aellien/Euclid_LSB_DR1/wavelets/out3/EUC_VIS_LSB_ObsID_2690_scaled.cut8.synth.lvl_sep.iptd.fits\n",
      "/home/aellien/Euclid_LSB_DR1/wavelets/out3/EUC_VIS_LSB_ObsID_2699_scaled.cut13.synth.lvl_sep.fits\n"
     ]
    },
    {
     "name": "stderr",
     "output_type": "stream",
     "text": [
      "WARNING: Input data contains invalid values (NaNs or infs), which were automatically clipped. [astropy.stats.sigma_clipping]\n"
     ]
    },
    {
     "name": "stdout",
     "output_type": "stream",
     "text": [
      "0.1989291 9.232365\n",
      "write to /home/aellien/Euclid_LSB_DR1/wavelets/out3/EUC_VIS_LSB_ObsID_2699_scaled.cut13.synth.lvl_sep.iptd.fits\n",
      "/home/aellien/Euclid_LSB_DR1/wavelets/out3/EUC_VIS_LSB_ObsID_2697_scaled.cut9.synth.lvl_sep.fits\n"
     ]
    },
    {
     "name": "stderr",
     "output_type": "stream",
     "text": [
      "WARNING: Input data contains invalid values (NaNs or infs), which were automatically clipped. [astropy.stats.sigma_clipping]\n"
     ]
    },
    {
     "name": "stdout",
     "output_type": "stream",
     "text": [
      "0.12400895 7.0049353\n",
      "write to /home/aellien/Euclid_LSB_DR1/wavelets/out3/EUC_VIS_LSB_ObsID_2697_scaled.cut9.synth.lvl_sep.iptd.fits\n",
      "/home/aellien/Euclid_LSB_DR1/wavelets/out3/EUC_VIS_LSB_ObsID_2699_scaled.cut10.synth.lvl_sep.fits\n",
      "0.21441625 9.714687\n",
      "write to /home/aellien/Euclid_LSB_DR1/wavelets/out3/EUC_VIS_LSB_ObsID_2699_scaled.cut10.synth.lvl_sep.iptd.fits\n",
      "/home/aellien/Euclid_LSB_DR1/wavelets/out3/EUC_VIS_LSB_ObsID_2717_scaled.cut12.synth.lvl_sep.fits\n"
     ]
    },
    {
     "name": "stderr",
     "output_type": "stream",
     "text": [
      "WARNING: Input data contains invalid values (NaNs or infs), which were automatically clipped. [astropy.stats.sigma_clipping]\n"
     ]
    },
    {
     "name": "stdout",
     "output_type": "stream",
     "text": [
      "0.19063349 8.982925\n",
      "write to /home/aellien/Euclid_LSB_DR1/wavelets/out3/EUC_VIS_LSB_ObsID_2717_scaled.cut12.synth.lvl_sep.iptd.fits\n",
      "/home/aellien/Euclid_LSB_DR1/wavelets/out3/EUC_VIS_LSB_ObsID_2710_scaled.cut5.synth.lvl_sep.fits\n"
     ]
    },
    {
     "name": "stderr",
     "output_type": "stream",
     "text": [
      "WARNING: Input data contains invalid values (NaNs or infs), which were automatically clipped. [astropy.stats.sigma_clipping]\n"
     ]
    },
    {
     "name": "stdout",
     "output_type": "stream",
     "text": [
      "0.14679044 7.95711\n",
      "write to /home/aellien/Euclid_LSB_DR1/wavelets/out3/EUC_VIS_LSB_ObsID_2710_scaled.cut5.synth.lvl_sep.iptd.fits\n",
      "/home/aellien/Euclid_LSB_DR1/wavelets/out3/EUC_VIS_LSB_ObsID_2709_scaled.cut10.synth.lvl_sep.fits\n",
      "0.16424146 8.368134\n",
      "write to /home/aellien/Euclid_LSB_DR1/wavelets/out3/EUC_VIS_LSB_ObsID_2709_scaled.cut10.synth.lvl_sep.iptd.fits\n",
      "/home/aellien/Euclid_LSB_DR1/wavelets/out3/EUC_VIS_LSB_ObsID_2683_scaled.cut11.synth.lvl_sep.fits\n"
     ]
    },
    {
     "name": "stderr",
     "output_type": "stream",
     "text": [
      "WARNING: Input data contains invalid values (NaNs or infs), which were automatically clipped. [astropy.stats.sigma_clipping]\n"
     ]
    },
    {
     "name": "stdout",
     "output_type": "stream",
     "text": [
      "0.18092102 8.969748\n",
      "write to /home/aellien/Euclid_LSB_DR1/wavelets/out3/EUC_VIS_LSB_ObsID_2683_scaled.cut11.synth.lvl_sep.iptd.fits\n",
      "/home/aellien/Euclid_LSB_DR1/wavelets/out3/EUC_VIS_LSB_ObsID_2723_scaled.cut9.synth.lvl_sep.fits\n"
     ]
    },
    {
     "name": "stderr",
     "output_type": "stream",
     "text": [
      "WARNING: Input data contains invalid values (NaNs or infs), which were automatically clipped. [astropy.stats.sigma_clipping]\n"
     ]
    },
    {
     "name": "stdout",
     "output_type": "stream",
     "text": [
      "0.31703898 12.426449\n",
      "write to /home/aellien/Euclid_LSB_DR1/wavelets/out3/EUC_VIS_LSB_ObsID_2723_scaled.cut9.synth.lvl_sep.iptd.fits\n",
      "/home/aellien/Euclid_LSB_DR1/wavelets/out3/EUC_VIS_LSB_ObsID_2696_scaled.cut15.synth.lvl_sep.fits\n"
     ]
    },
    {
     "name": "stderr",
     "output_type": "stream",
     "text": [
      "WARNING: Input data contains invalid values (NaNs or infs), which were automatically clipped. [astropy.stats.sigma_clipping]\n"
     ]
    },
    {
     "name": "stdout",
     "output_type": "stream",
     "text": [
      "0.6342164 19.211298\n",
      "write to /home/aellien/Euclid_LSB_DR1/wavelets/out3/EUC_VIS_LSB_ObsID_2696_scaled.cut15.synth.lvl_sep.iptd.fits\n",
      "/home/aellien/Euclid_LSB_DR1/wavelets/out3/EUC_VIS_LSB_ObsID_2690_scaled.cut9.synth.lvl_sep.fits\n"
     ]
    },
    {
     "name": "stderr",
     "output_type": "stream",
     "text": [
      "WARNING: Input data contains invalid values (NaNs or infs), which were automatically clipped. [astropy.stats.sigma_clipping]\n"
     ]
    },
    {
     "name": "stdout",
     "output_type": "stream",
     "text": [
      "0.20311403 9.734004\n",
      "write to /home/aellien/Euclid_LSB_DR1/wavelets/out3/EUC_VIS_LSB_ObsID_2690_scaled.cut9.synth.lvl_sep.iptd.fits\n",
      "/home/aellien/Euclid_LSB_DR1/wavelets/out3/EUC_VIS_LSB_ObsID_2706_scaled.cut15.synth.lvl_sep.fits\n"
     ]
    },
    {
     "name": "stderr",
     "output_type": "stream",
     "text": [
      "WARNING: Input data contains invalid values (NaNs or infs), which were automatically clipped. [astropy.stats.sigma_clipping]\n"
     ]
    },
    {
     "name": "stdout",
     "output_type": "stream",
     "text": [
      "0.122399315 7.0528793\n",
      "write to /home/aellien/Euclid_LSB_DR1/wavelets/out3/EUC_VIS_LSB_ObsID_2706_scaled.cut15.synth.lvl_sep.iptd.fits\n",
      "/home/aellien/Euclid_LSB_DR1/wavelets/out3/EUC_VIS_LSB_ObsID_2718_scaled.cut11.synth.lvl_sep.fits\n",
      "0.5064527 17.280222\n",
      "write to /home/aellien/Euclid_LSB_DR1/wavelets/out3/EUC_VIS_LSB_ObsID_2718_scaled.cut11.synth.lvl_sep.iptd.fits\n",
      "/home/aellien/Euclid_LSB_DR1/wavelets/out3/EUC_VIS_LSB_ObsID_2701_scaled.cut14.synth.lvl_sep.fits\n"
     ]
    },
    {
     "name": "stderr",
     "output_type": "stream",
     "text": [
      "WARNING: Input data contains invalid values (NaNs or infs), which were automatically clipped. [astropy.stats.sigma_clipping]\n"
     ]
    },
    {
     "name": "stdout",
     "output_type": "stream",
     "text": [
      "0.35904866 14.427768\n",
      "write to /home/aellien/Euclid_LSB_DR1/wavelets/out3/EUC_VIS_LSB_ObsID_2701_scaled.cut14.synth.lvl_sep.iptd.fits\n",
      "/home/aellien/Euclid_LSB_DR1/wavelets/out3/EUC_VIS_LSB_ObsID_2712_scaled.cut15.synth.lvl_sep.fits\n"
     ]
    },
    {
     "name": "stderr",
     "output_type": "stream",
     "text": [
      "WARNING: Input data contains invalid values (NaNs or infs), which were automatically clipped. [astropy.stats.sigma_clipping]\n"
     ]
    },
    {
     "name": "stdout",
     "output_type": "stream",
     "text": [
      "0.122740746 6.9090705\n",
      "write to /home/aellien/Euclid_LSB_DR1/wavelets/out3/EUC_VIS_LSB_ObsID_2712_scaled.cut15.synth.lvl_sep.iptd.fits\n",
      "/home/aellien/Euclid_LSB_DR1/wavelets/out3/EUC_VIS_LSB_ObsID_2688_scaled.cut10.synth.lvl_sep.fits\n",
      "0.2761057 12.283316\n",
      "write to /home/aellien/Euclid_LSB_DR1/wavelets/out3/EUC_VIS_LSB_ObsID_2688_scaled.cut10.synth.lvl_sep.iptd.fits\n",
      "/home/aellien/Euclid_LSB_DR1/wavelets/out3/EUC_VIS_LSB_ObsID_2701_scaled.cut7.synth.lvl_sep.fits\n",
      "0.29211235 12.021368\n",
      "write to /home/aellien/Euclid_LSB_DR1/wavelets/out3/EUC_VIS_LSB_ObsID_2701_scaled.cut7.synth.lvl_sep.iptd.fits\n",
      "/home/aellien/Euclid_LSB_DR1/wavelets/out3/EUC_VIS_LSB_ObsID_2681_scaled.cut3.synth.lvl_sep.fits\n"
     ]
    },
    {
     "name": "stderr",
     "output_type": "stream",
     "text": [
      "WARNING: Input data contains invalid values (NaNs or infs), which were automatically clipped. [astropy.stats.sigma_clipping]\n"
     ]
    },
    {
     "name": "stdout",
     "output_type": "stream",
     "text": [
      "0.39414573 15.108414\n",
      "write to /home/aellien/Euclid_LSB_DR1/wavelets/out3/EUC_VIS_LSB_ObsID_2681_scaled.cut3.synth.lvl_sep.iptd.fits\n",
      "/home/aellien/Euclid_LSB_DR1/wavelets/out3/EUC_VIS_LSB_ObsID_2703_scaled.cut12.synth.lvl_sep.fits\n"
     ]
    },
    {
     "name": "stderr",
     "output_type": "stream",
     "text": [
      "WARNING: Input data contains invalid values (NaNs or infs), which were automatically clipped. [astropy.stats.sigma_clipping]\n"
     ]
    },
    {
     "name": "stdout",
     "output_type": "stream",
     "text": [
      "0.1761383 8.716313\n",
      "write to /home/aellien/Euclid_LSB_DR1/wavelets/out3/EUC_VIS_LSB_ObsID_2703_scaled.cut12.synth.lvl_sep.iptd.fits\n",
      "/home/aellien/Euclid_LSB_DR1/wavelets/out3/EUC_VIS_LSB_ObsID_2682_scaled.cut14.synth.lvl_sep.fits\n"
     ]
    },
    {
     "name": "stderr",
     "output_type": "stream",
     "text": [
      "WARNING: Input data contains invalid values (NaNs or infs), which were automatically clipped. [astropy.stats.sigma_clipping]\n"
     ]
    },
    {
     "name": "stdout",
     "output_type": "stream",
     "text": [
      "0.2251788 10.599235\n",
      "write to /home/aellien/Euclid_LSB_DR1/wavelets/out3/EUC_VIS_LSB_ObsID_2682_scaled.cut14.synth.lvl_sep.iptd.fits\n",
      "/home/aellien/Euclid_LSB_DR1/wavelets/out3/EUC_VIS_LSB_ObsID_2717_scaled.cut8.synth.lvl_sep.fits\n"
     ]
    },
    {
     "name": "stderr",
     "output_type": "stream",
     "text": [
      "WARNING: Input data contains invalid values (NaNs or infs), which were automatically clipped. [astropy.stats.sigma_clipping]\n"
     ]
    },
    {
     "name": "stdout",
     "output_type": "stream",
     "text": [
      "0.24446529 11.304505\n",
      "write to /home/aellien/Euclid_LSB_DR1/wavelets/out3/EUC_VIS_LSB_ObsID_2717_scaled.cut8.synth.lvl_sep.iptd.fits\n",
      "/home/aellien/Euclid_LSB_DR1/wavelets/out3/EUC_VIS_LSB_ObsID_2689_scaled.cut15.synth.lvl_sep.fits\n"
     ]
    },
    {
     "name": "stderr",
     "output_type": "stream",
     "text": [
      "WARNING: Input data contains invalid values (NaNs or infs), which were automatically clipped. [astropy.stats.sigma_clipping]\n"
     ]
    },
    {
     "name": "stdout",
     "output_type": "stream",
     "text": [
      "0.3098026 12.198237\n",
      "write to /home/aellien/Euclid_LSB_DR1/wavelets/out3/EUC_VIS_LSB_ObsID_2689_scaled.cut15.synth.lvl_sep.iptd.fits\n",
      "/home/aellien/Euclid_LSB_DR1/wavelets/out3/EUC_VIS_LSB_ObsID_2704_scaled.cut2.synth.lvl_sep.fits\n"
     ]
    },
    {
     "name": "stderr",
     "output_type": "stream",
     "text": [
      "WARNING: Input data contains invalid values (NaNs or infs), which were automatically clipped. [astropy.stats.sigma_clipping]\n"
     ]
    },
    {
     "name": "stdout",
     "output_type": "stream",
     "text": [
      "0.19095679 9.385202\n",
      "write to /home/aellien/Euclid_LSB_DR1/wavelets/out3/EUC_VIS_LSB_ObsID_2704_scaled.cut2.synth.lvl_sep.iptd.fits\n",
      "/home/aellien/Euclid_LSB_DR1/wavelets/out3/EUC_VIS_LSB_ObsID_2715_scaled.cut6.synth.lvl_sep.fits\n",
      "0.1793007 8.858496\n",
      "write to /home/aellien/Euclid_LSB_DR1/wavelets/out3/EUC_VIS_LSB_ObsID_2715_scaled.cut6.synth.lvl_sep.iptd.fits\n",
      "/home/aellien/Euclid_LSB_DR1/wavelets/out3/EUC_VIS_LSB_ObsID_2702_scaled.cut15.synth.lvl_sep.fits\n"
     ]
    },
    {
     "name": "stderr",
     "output_type": "stream",
     "text": [
      "WARNING: Input data contains invalid values (NaNs or infs), which were automatically clipped. [astropy.stats.sigma_clipping]\n"
     ]
    },
    {
     "name": "stdout",
     "output_type": "stream",
     "text": [
      "0.12612385 6.99469\n",
      "write to /home/aellien/Euclid_LSB_DR1/wavelets/out3/EUC_VIS_LSB_ObsID_2702_scaled.cut15.synth.lvl_sep.iptd.fits\n",
      "/home/aellien/Euclid_LSB_DR1/wavelets/out3/EUC_VIS_LSB_ObsID_2691_scaled.cut5.synth.lvl_sep.fits\n"
     ]
    },
    {
     "name": "stderr",
     "output_type": "stream",
     "text": [
      "WARNING: Input data contains invalid values (NaNs or infs), which were automatically clipped. [astropy.stats.sigma_clipping]\n"
     ]
    },
    {
     "name": "stdout",
     "output_type": "stream",
     "text": [
      "0.3005076 12.153753\n",
      "write to /home/aellien/Euclid_LSB_DR1/wavelets/out3/EUC_VIS_LSB_ObsID_2691_scaled.cut5.synth.lvl_sep.iptd.fits\n",
      "/home/aellien/Euclid_LSB_DR1/wavelets/out3/EUC_VIS_LSB_ObsID_2690_scaled.cut12.synth.lvl_sep.fits\n"
     ]
    },
    {
     "name": "stderr",
     "output_type": "stream",
     "text": [
      "WARNING: Input data contains invalid values (NaNs or infs), which were automatically clipped. [astropy.stats.sigma_clipping]\n"
     ]
    },
    {
     "name": "stdout",
     "output_type": "stream",
     "text": [
      "0.2209565 10.071342\n",
      "write to /home/aellien/Euclid_LSB_DR1/wavelets/out3/EUC_VIS_LSB_ObsID_2690_scaled.cut12.synth.lvl_sep.iptd.fits\n",
      "/home/aellien/Euclid_LSB_DR1/wavelets/out3/EUC_VIS_LSB_ObsID_2720_scaled.cut10.synth.lvl_sep.fits\n",
      "0.52734554 17.623209\n",
      "write to /home/aellien/Euclid_LSB_DR1/wavelets/out3/EUC_VIS_LSB_ObsID_2720_scaled.cut10.synth.lvl_sep.iptd.fits\n",
      "/home/aellien/Euclid_LSB_DR1/wavelets/out3/EUC_VIS_LSB_ObsID_2707_scaled.cut2.synth.lvl_sep.fits\n"
     ]
    },
    {
     "name": "stderr",
     "output_type": "stream",
     "text": [
      "WARNING: Input data contains invalid values (NaNs or infs), which were automatically clipped. [astropy.stats.sigma_clipping]\n"
     ]
    },
    {
     "name": "stdout",
     "output_type": "stream",
     "text": [
      "0.23026204 10.26753\n",
      "write to /home/aellien/Euclid_LSB_DR1/wavelets/out3/EUC_VIS_LSB_ObsID_2707_scaled.cut2.synth.lvl_sep.iptd.fits\n",
      "/home/aellien/Euclid_LSB_DR1/wavelets/out3/EUC_VIS_LSB_ObsID_2715_scaled.cut8.synth.lvl_sep.fits\n"
     ]
    },
    {
     "name": "stderr",
     "output_type": "stream",
     "text": [
      "WARNING: Input data contains invalid values (NaNs or infs), which were automatically clipped. [astropy.stats.sigma_clipping]\n"
     ]
    },
    {
     "name": "stdout",
     "output_type": "stream",
     "text": [
      "0.3151171 12.662276\n",
      "write to /home/aellien/Euclid_LSB_DR1/wavelets/out3/EUC_VIS_LSB_ObsID_2715_scaled.cut8.synth.lvl_sep.iptd.fits\n",
      "/home/aellien/Euclid_LSB_DR1/wavelets/out3/EUC_VIS_LSB_ObsID_2693_scaled.cut7.synth.lvl_sep.fits\n",
      "0.12874027 7.3743515\n",
      "write to /home/aellien/Euclid_LSB_DR1/wavelets/out3/EUC_VIS_LSB_ObsID_2693_scaled.cut7.synth.lvl_sep.iptd.fits\n",
      "/home/aellien/Euclid_LSB_DR1/wavelets/out3/EUC_VIS_LSB_ObsID_2710_scaled.cut15.synth.lvl_sep.fits\n"
     ]
    },
    {
     "name": "stderr",
     "output_type": "stream",
     "text": [
      "WARNING: Input data contains invalid values (NaNs or infs), which were automatically clipped. [astropy.stats.sigma_clipping]\n"
     ]
    },
    {
     "name": "stdout",
     "output_type": "stream",
     "text": [
      "0.16141906 8.509484\n",
      "write to /home/aellien/Euclid_LSB_DR1/wavelets/out3/EUC_VIS_LSB_ObsID_2710_scaled.cut15.synth.lvl_sep.iptd.fits\n",
      "/home/aellien/Euclid_LSB_DR1/wavelets/out3/EUC_VIS_LSB_ObsID_2696_scaled.cut10.synth.lvl_sep.fits\n",
      "0.243941 10.247083\n",
      "write to /home/aellien/Euclid_LSB_DR1/wavelets/out3/EUC_VIS_LSB_ObsID_2696_scaled.cut10.synth.lvl_sep.iptd.fits\n",
      "/home/aellien/Euclid_LSB_DR1/wavelets/out3/EUC_VIS_LSB_ObsID_2715_scaled.cut11.synth.lvl_sep.fits\n",
      "0.16601917 8.603733\n",
      "write to /home/aellien/Euclid_LSB_DR1/wavelets/out3/EUC_VIS_LSB_ObsID_2715_scaled.cut11.synth.lvl_sep.iptd.fits\n",
      "/home/aellien/Euclid_LSB_DR1/wavelets/out3/EUC_VIS_LSB_ObsID_2716_scaled.cut9.synth.lvl_sep.fits\n"
     ]
    },
    {
     "name": "stderr",
     "output_type": "stream",
     "text": [
      "WARNING: Input data contains invalid values (NaNs or infs), which were automatically clipped. [astropy.stats.sigma_clipping]\n"
     ]
    },
    {
     "name": "stdout",
     "output_type": "stream",
     "text": [
      "0.3100506 12.20774\n",
      "write to /home/aellien/Euclid_LSB_DR1/wavelets/out3/EUC_VIS_LSB_ObsID_2716_scaled.cut9.synth.lvl_sep.iptd.fits\n",
      "/home/aellien/Euclid_LSB_DR1/wavelets/out3/EUC_VIS_LSB_ObsID_2694_scaled.cut5.synth.lvl_sep.fits\n"
     ]
    },
    {
     "name": "stderr",
     "output_type": "stream",
     "text": [
      "WARNING: Input data contains invalid values (NaNs or infs), which were automatically clipped. [astropy.stats.sigma_clipping]\n"
     ]
    },
    {
     "name": "stdout",
     "output_type": "stream",
     "text": [
      "0.2676887 11.318368\n",
      "write to /home/aellien/Euclid_LSB_DR1/wavelets/out3/EUC_VIS_LSB_ObsID_2694_scaled.cut5.synth.lvl_sep.iptd.fits\n",
      "/home/aellien/Euclid_LSB_DR1/wavelets/out3/EUC_VIS_LSB_ObsID_2691_scaled.cut9.synth.lvl_sep.fits\n"
     ]
    },
    {
     "name": "stderr",
     "output_type": "stream",
     "text": [
      "WARNING: Input data contains invalid values (NaNs or infs), which were automatically clipped. [astropy.stats.sigma_clipping]\n"
     ]
    },
    {
     "name": "stdout",
     "output_type": "stream",
     "text": [
      "0.1857163 9.230419\n",
      "write to /home/aellien/Euclid_LSB_DR1/wavelets/out3/EUC_VIS_LSB_ObsID_2691_scaled.cut9.synth.lvl_sep.iptd.fits\n",
      "/home/aellien/Euclid_LSB_DR1/wavelets/out3/EUC_VIS_LSB_ObsID_2719_scaled.cut8.synth.lvl_sep.fits\n"
     ]
    },
    {
     "name": "stderr",
     "output_type": "stream",
     "text": [
      "WARNING: Input data contains invalid values (NaNs or infs), which were automatically clipped. [astropy.stats.sigma_clipping]\n"
     ]
    },
    {
     "name": "stdout",
     "output_type": "stream",
     "text": [
      "0.16782665 8.607871\n",
      "write to /home/aellien/Euclid_LSB_DR1/wavelets/out3/EUC_VIS_LSB_ObsID_2719_scaled.cut8.synth.lvl_sep.iptd.fits\n",
      "/home/aellien/Euclid_LSB_DR1/wavelets/out3/EUC_VIS_LSB_ObsID_2707_scaled.cut3.synth.lvl_sep.fits\n"
     ]
    },
    {
     "name": "stderr",
     "output_type": "stream",
     "text": [
      "WARNING: Input data contains invalid values (NaNs or infs), which were automatically clipped. [astropy.stats.sigma_clipping]\n"
     ]
    },
    {
     "name": "stdout",
     "output_type": "stream",
     "text": [
      "0.21052109 9.911249\n",
      "write to /home/aellien/Euclid_LSB_DR1/wavelets/out3/EUC_VIS_LSB_ObsID_2707_scaled.cut3.synth.lvl_sep.iptd.fits\n",
      "/home/aellien/Euclid_LSB_DR1/wavelets/out3/EUC_VIS_LSB_ObsID_2687_scaled.cut12.synth.lvl_sep.fits\n"
     ]
    },
    {
     "name": "stderr",
     "output_type": "stream",
     "text": [
      "WARNING: Input data contains invalid values (NaNs or infs), which were automatically clipped. [astropy.stats.sigma_clipping]\n"
     ]
    },
    {
     "name": "stdout",
     "output_type": "stream",
     "text": [
      "0.29090878 11.90796\n",
      "write to /home/aellien/Euclid_LSB_DR1/wavelets/out3/EUC_VIS_LSB_ObsID_2687_scaled.cut12.synth.lvl_sep.iptd.fits\n",
      "/home/aellien/Euclid_LSB_DR1/wavelets/out3/EUC_VIS_LSB_ObsID_2687_scaled.cut4.synth.lvl_sep.fits\n"
     ]
    },
    {
     "name": "stderr",
     "output_type": "stream",
     "text": [
      "WARNING: Input data contains invalid values (NaNs or infs), which were automatically clipped. [astropy.stats.sigma_clipping]\n"
     ]
    },
    {
     "name": "stdout",
     "output_type": "stream",
     "text": [
      "0.225963 10.445594\n",
      "write to /home/aellien/Euclid_LSB_DR1/wavelets/out3/EUC_VIS_LSB_ObsID_2687_scaled.cut4.synth.lvl_sep.iptd.fits\n",
      "/home/aellien/Euclid_LSB_DR1/wavelets/out3/EUC_VIS_LSB_ObsID_2723_scaled.cut12.synth.lvl_sep.fits\n"
     ]
    },
    {
     "name": "stderr",
     "output_type": "stream",
     "text": [
      "WARNING: Input data contains invalid values (NaNs or infs), which were automatically clipped. [astropy.stats.sigma_clipping]\n"
     ]
    },
    {
     "name": "stdout",
     "output_type": "stream",
     "text": [
      "0.17975168 8.851979\n",
      "write to /home/aellien/Euclid_LSB_DR1/wavelets/out3/EUC_VIS_LSB_ObsID_2723_scaled.cut12.synth.lvl_sep.iptd.fits\n",
      "/home/aellien/Euclid_LSB_DR1/wavelets/out3/EUC_VIS_LSB_ObsID_2692_scaled.cut12.synth.lvl_sep.fits\n"
     ]
    },
    {
     "name": "stderr",
     "output_type": "stream",
     "text": [
      "WARNING: Input data contains invalid values (NaNs or infs), which were automatically clipped. [astropy.stats.sigma_clipping]\n"
     ]
    },
    {
     "name": "stdout",
     "output_type": "stream",
     "text": [
      "0.21478786 9.955575\n",
      "write to /home/aellien/Euclid_LSB_DR1/wavelets/out3/EUC_VIS_LSB_ObsID_2692_scaled.cut12.synth.lvl_sep.iptd.fits\n",
      "/home/aellien/Euclid_LSB_DR1/wavelets/out3/EUC_VIS_LSB_ObsID_2689_scaled.cut4.synth.lvl_sep.fits\n"
     ]
    },
    {
     "name": "stderr",
     "output_type": "stream",
     "text": [
      "WARNING: Input data contains invalid values (NaNs or infs), which were automatically clipped. [astropy.stats.sigma_clipping]\n"
     ]
    },
    {
     "name": "stdout",
     "output_type": "stream",
     "text": [
      "0.15675245 8.238072\n",
      "write to /home/aellien/Euclid_LSB_DR1/wavelets/out3/EUC_VIS_LSB_ObsID_2689_scaled.cut4.synth.lvl_sep.iptd.fits\n",
      "/home/aellien/Euclid_LSB_DR1/wavelets/out3/EUC_VIS_LSB_ObsID_2721_scaled.cut3.synth.lvl_sep.fits\n"
     ]
    },
    {
     "name": "stderr",
     "output_type": "stream",
     "text": [
      "WARNING: Input data contains invalid values (NaNs or infs), which were automatically clipped. [astropy.stats.sigma_clipping]\n"
     ]
    },
    {
     "name": "stdout",
     "output_type": "stream",
     "text": [
      "0.66924965 20.271118\n",
      "write to /home/aellien/Euclid_LSB_DR1/wavelets/out3/EUC_VIS_LSB_ObsID_2721_scaled.cut3.synth.lvl_sep.iptd.fits\n",
      "/home/aellien/Euclid_LSB_DR1/wavelets/out3/EUC_VIS_LSB_ObsID_2701_scaled.cut5.synth.lvl_sep.fits\n"
     ]
    },
    {
     "name": "stderr",
     "output_type": "stream",
     "text": [
      "WARNING: Input data contains invalid values (NaNs or infs), which were automatically clipped. [astropy.stats.sigma_clipping]\n"
     ]
    },
    {
     "name": "stdout",
     "output_type": "stream",
     "text": [
      "0.2077907 9.597826\n",
      "write to /home/aellien/Euclid_LSB_DR1/wavelets/out3/EUC_VIS_LSB_ObsID_2701_scaled.cut5.synth.lvl_sep.iptd.fits\n",
      "/home/aellien/Euclid_LSB_DR1/wavelets/out3/EUC_VIS_LSB_ObsID_2699_scaled.cut11.synth.lvl_sep.fits\n",
      "0.17811196 8.5907135\n",
      "write to /home/aellien/Euclid_LSB_DR1/wavelets/out3/EUC_VIS_LSB_ObsID_2699_scaled.cut11.synth.lvl_sep.iptd.fits\n",
      "/home/aellien/Euclid_LSB_DR1/wavelets/out3/EUC_VIS_LSB_ObsID_2709_scaled.cut14.synth.lvl_sep.fits\n"
     ]
    },
    {
     "name": "stderr",
     "output_type": "stream",
     "text": [
      "WARNING: Input data contains invalid values (NaNs or infs), which were automatically clipped. [astropy.stats.sigma_clipping]\n"
     ]
    },
    {
     "name": "stdout",
     "output_type": "stream",
     "text": [
      "0.10258834 6.442668\n",
      "write to /home/aellien/Euclid_LSB_DR1/wavelets/out3/EUC_VIS_LSB_ObsID_2709_scaled.cut14.synth.lvl_sep.iptd.fits\n",
      "/home/aellien/Euclid_LSB_DR1/wavelets/out3/EUC_VIS_LSB_ObsID_2721_scaled.cut5.synth.lvl_sep.fits\n"
     ]
    },
    {
     "name": "stderr",
     "output_type": "stream",
     "text": [
      "WARNING: Input data contains invalid values (NaNs or infs), which were automatically clipped. [astropy.stats.sigma_clipping]\n"
     ]
    },
    {
     "name": "stdout",
     "output_type": "stream",
     "text": [
      "0.13837568 7.245184\n",
      "write to /home/aellien/Euclid_LSB_DR1/wavelets/out3/EUC_VIS_LSB_ObsID_2721_scaled.cut5.synth.lvl_sep.iptd.fits\n",
      "/home/aellien/Euclid_LSB_DR1/wavelets/out3/EUC_VIS_LSB_ObsID_2718_scaled.cut9.synth.lvl_sep.fits\n"
     ]
    },
    {
     "name": "stderr",
     "output_type": "stream",
     "text": [
      "WARNING: Input data contains invalid values (NaNs or infs), which were automatically clipped. [astropy.stats.sigma_clipping]\n"
     ]
    },
    {
     "name": "stdout",
     "output_type": "stream",
     "text": [
      "0.21755476 10.283225\n",
      "write to /home/aellien/Euclid_LSB_DR1/wavelets/out3/EUC_VIS_LSB_ObsID_2718_scaled.cut9.synth.lvl_sep.iptd.fits\n",
      "/home/aellien/Euclid_LSB_DR1/wavelets/out3/EUC_VIS_LSB_ObsID_2694_scaled.cut4.synth.lvl_sep.fits\n"
     ]
    },
    {
     "name": "stderr",
     "output_type": "stream",
     "text": [
      "WARNING: Input data contains invalid values (NaNs or infs), which were automatically clipped. [astropy.stats.sigma_clipping]\n"
     ]
    },
    {
     "name": "stdout",
     "output_type": "stream",
     "text": [
      "0.36813262 14.304925\n",
      "write to /home/aellien/Euclid_LSB_DR1/wavelets/out3/EUC_VIS_LSB_ObsID_2694_scaled.cut4.synth.lvl_sep.iptd.fits\n",
      "/home/aellien/Euclid_LSB_DR1/wavelets/out3/EUC_VIS_LSB_ObsID_2692_scaled.cut11.synth.lvl_sep.fits\n",
      "0.19393344 9.286044\n",
      "write to /home/aellien/Euclid_LSB_DR1/wavelets/out3/EUC_VIS_LSB_ObsID_2692_scaled.cut11.synth.lvl_sep.iptd.fits\n",
      "/home/aellien/Euclid_LSB_DR1/wavelets/out3/EUC_VIS_LSB_ObsID_2711_scaled.cut9.synth.lvl_sep.fits\n"
     ]
    },
    {
     "name": "stderr",
     "output_type": "stream",
     "text": [
      "WARNING: Input data contains invalid values (NaNs or infs), which were automatically clipped. [astropy.stats.sigma_clipping]\n"
     ]
    },
    {
     "name": "stdout",
     "output_type": "stream",
     "text": [
      "0.18723719 9.546307\n",
      "write to /home/aellien/Euclid_LSB_DR1/wavelets/out3/EUC_VIS_LSB_ObsID_2711_scaled.cut9.synth.lvl_sep.iptd.fits\n",
      "/home/aellien/Euclid_LSB_DR1/wavelets/out3/EUC_VIS_LSB_ObsID_2682_scaled.cut13.synth.lvl_sep.fits\n"
     ]
    },
    {
     "name": "stderr",
     "output_type": "stream",
     "text": [
      "WARNING: Input data contains invalid values (NaNs or infs), which were automatically clipped. [astropy.stats.sigma_clipping]\n"
     ]
    },
    {
     "name": "stdout",
     "output_type": "stream",
     "text": [
      "0.22847931 10.429078\n",
      "write to /home/aellien/Euclid_LSB_DR1/wavelets/out3/EUC_VIS_LSB_ObsID_2682_scaled.cut13.synth.lvl_sep.iptd.fits\n",
      "/home/aellien/Euclid_LSB_DR1/wavelets/out3/EUC_VIS_LSB_ObsID_2682_scaled.cut12.synth.lvl_sep.fits\n"
     ]
    },
    {
     "name": "stderr",
     "output_type": "stream",
     "text": [
      "WARNING: Input data contains invalid values (NaNs or infs), which were automatically clipped. [astropy.stats.sigma_clipping]\n"
     ]
    },
    {
     "name": "stdout",
     "output_type": "stream",
     "text": [
      "0.10373465 6.399904\n",
      "write to /home/aellien/Euclid_LSB_DR1/wavelets/out3/EUC_VIS_LSB_ObsID_2682_scaled.cut12.synth.lvl_sep.iptd.fits\n",
      "/home/aellien/Euclid_LSB_DR1/wavelets/out3/EUC_VIS_LSB_ObsID_2716_scaled.cut13.synth.lvl_sep.fits\n"
     ]
    },
    {
     "name": "stderr",
     "output_type": "stream",
     "text": [
      "WARNING: Input data contains invalid values (NaNs or infs), which were automatically clipped. [astropy.stats.sigma_clipping]\n"
     ]
    },
    {
     "name": "stdout",
     "output_type": "stream",
     "text": [
      "0.37502682 13.859892\n",
      "write to /home/aellien/Euclid_LSB_DR1/wavelets/out3/EUC_VIS_LSB_ObsID_2716_scaled.cut13.synth.lvl_sep.iptd.fits\n",
      "/home/aellien/Euclid_LSB_DR1/wavelets/out3/EUC_VIS_LSB_ObsID_2709_scaled.cut12.synth.lvl_sep.fits\n"
     ]
    },
    {
     "name": "stderr",
     "output_type": "stream",
     "text": [
      "WARNING: Input data contains invalid values (NaNs or infs), which were automatically clipped. [astropy.stats.sigma_clipping]\n"
     ]
    },
    {
     "name": "stdout",
     "output_type": "stream",
     "text": [
      "0.36796314 14.082244\n",
      "write to /home/aellien/Euclid_LSB_DR1/wavelets/out3/EUC_VIS_LSB_ObsID_2709_scaled.cut12.synth.lvl_sep.iptd.fits\n",
      "/home/aellien/Euclid_LSB_DR1/wavelets/out3/EUC_VIS_LSB_ObsID_2721_scaled.cut4.synth.lvl_sep.fits\n"
     ]
    },
    {
     "name": "stderr",
     "output_type": "stream",
     "text": [
      "WARNING: Input data contains invalid values (NaNs or infs), which were automatically clipped. [astropy.stats.sigma_clipping]\n"
     ]
    },
    {
     "name": "stdout",
     "output_type": "stream",
     "text": [
      "0.19205315 9.027419\n",
      "write to /home/aellien/Euclid_LSB_DR1/wavelets/out3/EUC_VIS_LSB_ObsID_2721_scaled.cut4.synth.lvl_sep.iptd.fits\n",
      "/home/aellien/Euclid_LSB_DR1/wavelets/out3/EUC_VIS_LSB_ObsID_2717_scaled.cut6.synth.lvl_sep.fits\n",
      "0.129284 7.156592\n",
      "write to /home/aellien/Euclid_LSB_DR1/wavelets/out3/EUC_VIS_LSB_ObsID_2717_scaled.cut6.synth.lvl_sep.iptd.fits\n",
      "/home/aellien/Euclid_LSB_DR1/wavelets/out3/EUC_VIS_LSB_ObsID_2721_scaled.cut9.synth.lvl_sep.fits\n"
     ]
    },
    {
     "name": "stderr",
     "output_type": "stream",
     "text": [
      "WARNING: Input data contains invalid values (NaNs or infs), which were automatically clipped. [astropy.stats.sigma_clipping]\n"
     ]
    },
    {
     "name": "stdout",
     "output_type": "stream",
     "text": [
      "0.25676656 10.93132\n",
      "write to /home/aellien/Euclid_LSB_DR1/wavelets/out3/EUC_VIS_LSB_ObsID_2721_scaled.cut9.synth.lvl_sep.iptd.fits\n",
      "/home/aellien/Euclid_LSB_DR1/wavelets/out3/EUC_VIS_LSB_ObsID_2723_scaled.cut5.synth.lvl_sep.fits\n"
     ]
    },
    {
     "name": "stderr",
     "output_type": "stream",
     "text": [
      "WARNING: Input data contains invalid values (NaNs or infs), which were automatically clipped. [astropy.stats.sigma_clipping]\n"
     ]
    },
    {
     "name": "stdout",
     "output_type": "stream",
     "text": [
      "0.26146406 10.592073\n",
      "write to /home/aellien/Euclid_LSB_DR1/wavelets/out3/EUC_VIS_LSB_ObsID_2723_scaled.cut5.synth.lvl_sep.iptd.fits\n",
      "/home/aellien/Euclid_LSB_DR1/wavelets/out3/EUC_VIS_LSB_ObsID_2705_scaled.cut9.synth.lvl_sep.fits\n"
     ]
    },
    {
     "name": "stderr",
     "output_type": "stream",
     "text": [
      "WARNING: Input data contains invalid values (NaNs or infs), which were automatically clipped. [astropy.stats.sigma_clipping]\n"
     ]
    },
    {
     "name": "stdout",
     "output_type": "stream",
     "text": [
      "0.23342717 11.071337\n",
      "write to /home/aellien/Euclid_LSB_DR1/wavelets/out3/EUC_VIS_LSB_ObsID_2705_scaled.cut9.synth.lvl_sep.iptd.fits\n",
      "/home/aellien/Euclid_LSB_DR1/wavelets/out3/EUC_VIS_LSB_ObsID_2705_scaled.cut3.synth.lvl_sep.fits\n"
     ]
    },
    {
     "name": "stderr",
     "output_type": "stream",
     "text": [
      "WARNING: Input data contains invalid values (NaNs or infs), which were automatically clipped. [astropy.stats.sigma_clipping]\n"
     ]
    },
    {
     "name": "stdout",
     "output_type": "stream",
     "text": [
      "0.13499542 7.382565\n",
      "write to /home/aellien/Euclid_LSB_DR1/wavelets/out3/EUC_VIS_LSB_ObsID_2705_scaled.cut3.synth.lvl_sep.iptd.fits\n",
      "/home/aellien/Euclid_LSB_DR1/wavelets/out3/EUC_VIS_LSB_ObsID_2719_scaled.cut15.synth.lvl_sep.fits\n"
     ]
    },
    {
     "name": "stderr",
     "output_type": "stream",
     "text": [
      "WARNING: Input data contains invalid values (NaNs or infs), which were automatically clipped. [astropy.stats.sigma_clipping]\n"
     ]
    },
    {
     "name": "stdout",
     "output_type": "stream",
     "text": [
      "0.18681301 9.180283\n",
      "write to /home/aellien/Euclid_LSB_DR1/wavelets/out3/EUC_VIS_LSB_ObsID_2719_scaled.cut15.synth.lvl_sep.iptd.fits\n",
      "/home/aellien/Euclid_LSB_DR1/wavelets/out3/EUC_VIS_LSB_ObsID_2683_scaled.cut7.synth.lvl_sep.fits\n",
      "0.2631274 11.700311\n",
      "write to /home/aellien/Euclid_LSB_DR1/wavelets/out3/EUC_VIS_LSB_ObsID_2683_scaled.cut7.synth.lvl_sep.iptd.fits\n",
      "/home/aellien/Euclid_LSB_DR1/wavelets/out3/EUC_VIS_LSB_ObsID_2693_scaled.cut8.synth.lvl_sep.fits\n"
     ]
    },
    {
     "name": "stderr",
     "output_type": "stream",
     "text": [
      "WARNING: Input data contains invalid values (NaNs or infs), which were automatically clipped. [astropy.stats.sigma_clipping]\n"
     ]
    },
    {
     "name": "stdout",
     "output_type": "stream",
     "text": [
      "0.2244294 10.392888\n",
      "write to /home/aellien/Euclid_LSB_DR1/wavelets/out3/EUC_VIS_LSB_ObsID_2693_scaled.cut8.synth.lvl_sep.iptd.fits\n",
      "/home/aellien/Euclid_LSB_DR1/wavelets/out3/EUC_VIS_LSB_ObsID_2712_scaled.cut9.synth.lvl_sep.fits\n"
     ]
    },
    {
     "name": "stderr",
     "output_type": "stream",
     "text": [
      "WARNING: Input data contains invalid values (NaNs or infs), which were automatically clipped. [astropy.stats.sigma_clipping]\n"
     ]
    },
    {
     "name": "stdout",
     "output_type": "stream",
     "text": [
      "0.2000663 9.725547\n",
      "write to /home/aellien/Euclid_LSB_DR1/wavelets/out3/EUC_VIS_LSB_ObsID_2712_scaled.cut9.synth.lvl_sep.iptd.fits\n",
      "/home/aellien/Euclid_LSB_DR1/wavelets/out3/EUC_VIS_LSB_ObsID_2689_scaled.cut14.synth.lvl_sep.fits\n"
     ]
    },
    {
     "name": "stderr",
     "output_type": "stream",
     "text": [
      "WARNING: Input data contains invalid values (NaNs or infs), which were automatically clipped. [astropy.stats.sigma_clipping]\n"
     ]
    },
    {
     "name": "stdout",
     "output_type": "stream",
     "text": [
      "0.35608032 13.9634075\n",
      "write to /home/aellien/Euclid_LSB_DR1/wavelets/out3/EUC_VIS_LSB_ObsID_2689_scaled.cut14.synth.lvl_sep.iptd.fits\n",
      "/home/aellien/Euclid_LSB_DR1/wavelets/out3/EUC_VIS_LSB_ObsID_2681_scaled.cut9.synth.lvl_sep.fits\n"
     ]
    },
    {
     "name": "stderr",
     "output_type": "stream",
     "text": [
      "WARNING: Input data contains invalid values (NaNs or infs), which were automatically clipped. [astropy.stats.sigma_clipping]\n"
     ]
    },
    {
     "name": "stdout",
     "output_type": "stream",
     "text": [
      "0.13015272 7.3223248\n",
      "write to /home/aellien/Euclid_LSB_DR1/wavelets/out3/EUC_VIS_LSB_ObsID_2681_scaled.cut9.synth.lvl_sep.iptd.fits\n",
      "/home/aellien/Euclid_LSB_DR1/wavelets/out3/EUC_VIS_LSB_ObsID_2720_scaled.cut4.synth.lvl_sep.fits\n"
     ]
    },
    {
     "name": "stderr",
     "output_type": "stream",
     "text": [
      "WARNING: Input data contains invalid values (NaNs or infs), which were automatically clipped. [astropy.stats.sigma_clipping]\n"
     ]
    },
    {
     "name": "stdout",
     "output_type": "stream",
     "text": [
      "0.44956914 16.24675\n",
      "write to /home/aellien/Euclid_LSB_DR1/wavelets/out3/EUC_VIS_LSB_ObsID_2720_scaled.cut4.synth.lvl_sep.iptd.fits\n",
      "/home/aellien/Euclid_LSB_DR1/wavelets/out3/EUC_VIS_LSB_ObsID_2699_scaled.cut6.synth.lvl_sep.fits\n"
     ]
    },
    {
     "name": "stderr",
     "output_type": "stream",
     "text": [
      "WARNING: Input data contains invalid values (NaNs or infs), which were automatically clipped. [astropy.stats.sigma_clipping]\n"
     ]
    },
    {
     "name": "stdout",
     "output_type": "stream",
     "text": [
      "0.5151415 15.97502\n",
      "write to /home/aellien/Euclid_LSB_DR1/wavelets/out3/EUC_VIS_LSB_ObsID_2699_scaled.cut6.synth.lvl_sep.iptd.fits\n",
      "/home/aellien/Euclid_LSB_DR1/wavelets/out3/EUC_VIS_LSB_ObsID_2695_scaled.cut14.synth.lvl_sep.fits\n"
     ]
    },
    {
     "name": "stderr",
     "output_type": "stream",
     "text": [
      "WARNING: Input data contains invalid values (NaNs or infs), which were automatically clipped. [astropy.stats.sigma_clipping]\n"
     ]
    },
    {
     "name": "stdout",
     "output_type": "stream",
     "text": [
      "0.20368493 9.59443\n",
      "write to /home/aellien/Euclid_LSB_DR1/wavelets/out3/EUC_VIS_LSB_ObsID_2695_scaled.cut14.synth.lvl_sep.iptd.fits\n",
      "/home/aellien/Euclid_LSB_DR1/wavelets/out3/EUC_VIS_LSB_ObsID_2721_scaled.cut14.synth.lvl_sep.fits\n"
     ]
    },
    {
     "name": "stderr",
     "output_type": "stream",
     "text": [
      "WARNING: Input data contains invalid values (NaNs or infs), which were automatically clipped. [astropy.stats.sigma_clipping]\n"
     ]
    },
    {
     "name": "stdout",
     "output_type": "stream",
     "text": [
      "0.20945922 10.086186\n",
      "write to /home/aellien/Euclid_LSB_DR1/wavelets/out3/EUC_VIS_LSB_ObsID_2721_scaled.cut14.synth.lvl_sep.iptd.fits\n",
      "/home/aellien/Euclid_LSB_DR1/wavelets/out3/EUC_VIS_LSB_ObsID_2692_scaled.cut16.synth.lvl_sep.fits\n"
     ]
    },
    {
     "name": "stderr",
     "output_type": "stream",
     "text": [
      "WARNING: Input data contains invalid values (NaNs or infs), which were automatically clipped. [astropy.stats.sigma_clipping]\n"
     ]
    },
    {
     "name": "stdout",
     "output_type": "stream",
     "text": [
      "0.27537677 11.3404875\n",
      "write to /home/aellien/Euclid_LSB_DR1/wavelets/out3/EUC_VIS_LSB_ObsID_2692_scaled.cut16.synth.lvl_sep.iptd.fits\n",
      "/home/aellien/Euclid_LSB_DR1/wavelets/out3/EUC_VIS_LSB_ObsID_2704_scaled.cut11.synth.lvl_sep.fits\n",
      "0.38800067 14.157078\n",
      "write to /home/aellien/Euclid_LSB_DR1/wavelets/out3/EUC_VIS_LSB_ObsID_2704_scaled.cut11.synth.lvl_sep.iptd.fits\n",
      "/home/aellien/Euclid_LSB_DR1/wavelets/out3/EUC_VIS_LSB_ObsID_2696_scaled.cut5.synth.lvl_sep.fits\n"
     ]
    },
    {
     "name": "stderr",
     "output_type": "stream",
     "text": [
      "WARNING: Input data contains invalid values (NaNs or infs), which were automatically clipped. [astropy.stats.sigma_clipping]\n"
     ]
    },
    {
     "name": "stdout",
     "output_type": "stream",
     "text": [
      "0.31808525 12.668142\n",
      "write to /home/aellien/Euclid_LSB_DR1/wavelets/out3/EUC_VIS_LSB_ObsID_2696_scaled.cut5.synth.lvl_sep.iptd.fits\n",
      "/home/aellien/Euclid_LSB_DR1/wavelets/out3/EUC_VIS_LSB_ObsID_2714_scaled.cut16.synth.lvl_sep.fits\n"
     ]
    },
    {
     "name": "stderr",
     "output_type": "stream",
     "text": [
      "WARNING: Input data contains invalid values (NaNs or infs), which were automatically clipped. [astropy.stats.sigma_clipping]\n"
     ]
    },
    {
     "name": "stdout",
     "output_type": "stream",
     "text": [
      "0.1844986 9.674755\n",
      "write to /home/aellien/Euclid_LSB_DR1/wavelets/out3/EUC_VIS_LSB_ObsID_2714_scaled.cut16.synth.lvl_sep.iptd.fits\n",
      "/home/aellien/Euclid_LSB_DR1/wavelets/out3/EUC_VIS_LSB_ObsID_2719_scaled.cut6.synth.lvl_sep.fits\n",
      "0.29179955 12.278646\n",
      "write to /home/aellien/Euclid_LSB_DR1/wavelets/out3/EUC_VIS_LSB_ObsID_2719_scaled.cut6.synth.lvl_sep.iptd.fits\n",
      "/home/aellien/Euclid_LSB_DR1/wavelets/out3/EUC_VIS_LSB_ObsID_2718_scaled.cut10.synth.lvl_sep.fits\n",
      "0.35557353 13.278096\n",
      "write to /home/aellien/Euclid_LSB_DR1/wavelets/out3/EUC_VIS_LSB_ObsID_2718_scaled.cut10.synth.lvl_sep.iptd.fits\n",
      "/home/aellien/Euclid_LSB_DR1/wavelets/out3/EUC_VIS_LSB_ObsID_2713_scaled.cut8.synth.lvl_sep.fits\n"
     ]
    },
    {
     "name": "stderr",
     "output_type": "stream",
     "text": [
      "WARNING: Input data contains invalid values (NaNs or infs), which were automatically clipped. [astropy.stats.sigma_clipping]\n"
     ]
    },
    {
     "name": "stdout",
     "output_type": "stream",
     "text": [
      "0.3017965 12.506243\n",
      "write to /home/aellien/Euclid_LSB_DR1/wavelets/out3/EUC_VIS_LSB_ObsID_2713_scaled.cut8.synth.lvl_sep.iptd.fits\n",
      "/home/aellien/Euclid_LSB_DR1/wavelets/out3/EUC_VIS_LSB_ObsID_2687_scaled.cut14.synth.lvl_sep.fits\n"
     ]
    },
    {
     "name": "stderr",
     "output_type": "stream",
     "text": [
      "WARNING: Input data contains invalid values (NaNs or infs), which were automatically clipped. [astropy.stats.sigma_clipping]\n"
     ]
    },
    {
     "name": "stdout",
     "output_type": "stream",
     "text": [
      "0.18605675 9.271638\n",
      "write to /home/aellien/Euclid_LSB_DR1/wavelets/out3/EUC_VIS_LSB_ObsID_2687_scaled.cut14.synth.lvl_sep.iptd.fits\n",
      "/home/aellien/Euclid_LSB_DR1/wavelets/out3/EUC_VIS_LSB_ObsID_2694_scaled.cut9.synth.lvl_sep.fits\n"
     ]
    },
    {
     "name": "stderr",
     "output_type": "stream",
     "text": [
      "WARNING: Input data contains invalid values (NaNs or infs), which were automatically clipped. [astropy.stats.sigma_clipping]\n"
     ]
    },
    {
     "name": "stdout",
     "output_type": "stream",
     "text": [
      "0.16829717 8.332251\n",
      "write to /home/aellien/Euclid_LSB_DR1/wavelets/out3/EUC_VIS_LSB_ObsID_2694_scaled.cut9.synth.lvl_sep.iptd.fits\n",
      "/home/aellien/Euclid_LSB_DR1/wavelets/out3/EUC_VIS_LSB_ObsID_2681_scaled.cut4.synth.lvl_sep.fits\n"
     ]
    },
    {
     "name": "stderr",
     "output_type": "stream",
     "text": [
      "WARNING: Input data contains invalid values (NaNs or infs), which were automatically clipped. [astropy.stats.sigma_clipping]\n"
     ]
    },
    {
     "name": "stdout",
     "output_type": "stream",
     "text": [
      "0.26110703 11.575887\n",
      "write to /home/aellien/Euclid_LSB_DR1/wavelets/out3/EUC_VIS_LSB_ObsID_2681_scaled.cut4.synth.lvl_sep.iptd.fits\n",
      "/home/aellien/Euclid_LSB_DR1/wavelets/out3/EUC_VIS_LSB_ObsID_2713_scaled.cut10.synth.lvl_sep.fits\n",
      "0.17151381 8.388891\n",
      "write to /home/aellien/Euclid_LSB_DR1/wavelets/out3/EUC_VIS_LSB_ObsID_2713_scaled.cut10.synth.lvl_sep.iptd.fits\n",
      "/home/aellien/Euclid_LSB_DR1/wavelets/out3/EUC_VIS_LSB_ObsID_2707_scaled.cut12.synth.lvl_sep.fits\n"
     ]
    },
    {
     "name": "stderr",
     "output_type": "stream",
     "text": [
      "WARNING: Input data contains invalid values (NaNs or infs), which were automatically clipped. [astropy.stats.sigma_clipping]\n"
     ]
    },
    {
     "name": "stdout",
     "output_type": "stream",
     "text": [
      "0.17577483 8.952009\n",
      "write to /home/aellien/Euclid_LSB_DR1/wavelets/out3/EUC_VIS_LSB_ObsID_2707_scaled.cut12.synth.lvl_sep.iptd.fits\n",
      "/home/aellien/Euclid_LSB_DR1/wavelets/out3/EUC_VIS_LSB_ObsID_2716_scaled.cut16.synth.lvl_sep.fits\n"
     ]
    },
    {
     "name": "stderr",
     "output_type": "stream",
     "text": [
      "WARNING: Input data contains invalid values (NaNs or infs), which were automatically clipped. [astropy.stats.sigma_clipping]\n"
     ]
    },
    {
     "name": "stdout",
     "output_type": "stream",
     "text": [
      "0.17060079 8.785093\n",
      "write to /home/aellien/Euclid_LSB_DR1/wavelets/out3/EUC_VIS_LSB_ObsID_2716_scaled.cut16.synth.lvl_sep.iptd.fits\n",
      "/home/aellien/Euclid_LSB_DR1/wavelets/out3/EUC_VIS_LSB_ObsID_2705_scaled.cut15.synth.lvl_sep.fits\n"
     ]
    },
    {
     "name": "stderr",
     "output_type": "stream",
     "text": [
      "WARNING: Input data contains invalid values (NaNs or infs), which were automatically clipped. [astropy.stats.sigma_clipping]\n"
     ]
    },
    {
     "name": "stdout",
     "output_type": "stream",
     "text": [
      "0.22800072 10.113065\n",
      "write to /home/aellien/Euclid_LSB_DR1/wavelets/out3/EUC_VIS_LSB_ObsID_2705_scaled.cut15.synth.lvl_sep.iptd.fits\n",
      "/home/aellien/Euclid_LSB_DR1/wavelets/out3/EUC_VIS_LSB_ObsID_2711_scaled.cut14.synth.lvl_sep.fits\n"
     ]
    },
    {
     "name": "stderr",
     "output_type": "stream",
     "text": [
      "WARNING: Input data contains invalid values (NaNs or infs), which were automatically clipped. [astropy.stats.sigma_clipping]\n"
     ]
    },
    {
     "name": "stdout",
     "output_type": "stream",
     "text": [
      "0.21179499 10.144992\n",
      "write to /home/aellien/Euclid_LSB_DR1/wavelets/out3/EUC_VIS_LSB_ObsID_2711_scaled.cut14.synth.lvl_sep.iptd.fits\n",
      "/home/aellien/Euclid_LSB_DR1/wavelets/out3/EUC_VIS_LSB_ObsID_2710_scaled.cut10.synth.lvl_sep.fits\n",
      "0.31931883 12.255032\n",
      "write to /home/aellien/Euclid_LSB_DR1/wavelets/out3/EUC_VIS_LSB_ObsID_2710_scaled.cut10.synth.lvl_sep.iptd.fits\n",
      "/home/aellien/Euclid_LSB_DR1/wavelets/out3/EUC_VIS_LSB_ObsID_2681_scaled.cut7.synth.lvl_sep.fits\n",
      "0.2679492 11.244179\n",
      "write to /home/aellien/Euclid_LSB_DR1/wavelets/out3/EUC_VIS_LSB_ObsID_2681_scaled.cut7.synth.lvl_sep.iptd.fits\n",
      "/home/aellien/Euclid_LSB_DR1/wavelets/out3/EUC_VIS_LSB_ObsID_2707_scaled.cut16.synth.lvl_sep.fits\n"
     ]
    },
    {
     "name": "stderr",
     "output_type": "stream",
     "text": [
      "WARNING: Input data contains invalid values (NaNs or infs), which were automatically clipped. [astropy.stats.sigma_clipping]\n"
     ]
    },
    {
     "name": "stdout",
     "output_type": "stream",
     "text": [
      "0.34582308 13.304904\n",
      "write to /home/aellien/Euclid_LSB_DR1/wavelets/out3/EUC_VIS_LSB_ObsID_2707_scaled.cut16.synth.lvl_sep.iptd.fits\n",
      "/home/aellien/Euclid_LSB_DR1/wavelets/out3/EUC_VIS_LSB_ObsID_2683_scaled.cut3.synth.lvl_sep.fits\n"
     ]
    },
    {
     "name": "stderr",
     "output_type": "stream",
     "text": [
      "WARNING: Input data contains invalid values (NaNs or infs), which were automatically clipped. [astropy.stats.sigma_clipping]\n"
     ]
    },
    {
     "name": "stdout",
     "output_type": "stream",
     "text": [
      "0.18604986 9.093417\n",
      "write to /home/aellien/Euclid_LSB_DR1/wavelets/out3/EUC_VIS_LSB_ObsID_2683_scaled.cut3.synth.lvl_sep.iptd.fits\n",
      "/home/aellien/Euclid_LSB_DR1/wavelets/out3/EUC_VIS_LSB_ObsID_2690_scaled.cut2.synth.lvl_sep.fits\n"
     ]
    },
    {
     "name": "stderr",
     "output_type": "stream",
     "text": [
      "WARNING: Input data contains invalid values (NaNs or infs), which were automatically clipped. [astropy.stats.sigma_clipping]\n"
     ]
    },
    {
     "name": "stdout",
     "output_type": "stream",
     "text": [
      "0.40658072 15.154258\n",
      "write to /home/aellien/Euclid_LSB_DR1/wavelets/out3/EUC_VIS_LSB_ObsID_2690_scaled.cut2.synth.lvl_sep.iptd.fits\n",
      "/home/aellien/Euclid_LSB_DR1/wavelets/out3/EUC_VIS_LSB_ObsID_2701_scaled.cut12.synth.lvl_sep.fits\n"
     ]
    },
    {
     "name": "stderr",
     "output_type": "stream",
     "text": [
      "WARNING: Input data contains invalid values (NaNs or infs), which were automatically clipped. [astropy.stats.sigma_clipping]\n"
     ]
    },
    {
     "name": "stdout",
     "output_type": "stream",
     "text": [
      "0.3839012 14.579287\n",
      "write to /home/aellien/Euclid_LSB_DR1/wavelets/out3/EUC_VIS_LSB_ObsID_2701_scaled.cut12.synth.lvl_sep.iptd.fits\n",
      "/home/aellien/Euclid_LSB_DR1/wavelets/out3/EUC_VIS_LSB_ObsID_2686_scaled.cut5.synth.lvl_sep.fits\n"
     ]
    },
    {
     "name": "stderr",
     "output_type": "stream",
     "text": [
      "WARNING: Input data contains invalid values (NaNs or infs), which were automatically clipped. [astropy.stats.sigma_clipping]\n"
     ]
    },
    {
     "name": "stdout",
     "output_type": "stream",
     "text": [
      "0.18127081 9.025006\n",
      "write to /home/aellien/Euclid_LSB_DR1/wavelets/out3/EUC_VIS_LSB_ObsID_2686_scaled.cut5.synth.lvl_sep.iptd.fits\n",
      "/home/aellien/Euclid_LSB_DR1/wavelets/out3/EUC_VIS_LSB_ObsID_2691_scaled.cut13.synth.lvl_sep.fits\n"
     ]
    },
    {
     "name": "stderr",
     "output_type": "stream",
     "text": [
      "WARNING: Input data contains invalid values (NaNs or infs), which were automatically clipped. [astropy.stats.sigma_clipping]\n"
     ]
    },
    {
     "name": "stdout",
     "output_type": "stream",
     "text": [
      "0.30412394 12.439504\n",
      "write to /home/aellien/Euclid_LSB_DR1/wavelets/out3/EUC_VIS_LSB_ObsID_2691_scaled.cut13.synth.lvl_sep.iptd.fits\n",
      "/home/aellien/Euclid_LSB_DR1/wavelets/out3/EUC_VIS_LSB_ObsID_2686_scaled.cut8.synth.lvl_sep.fits\n"
     ]
    },
    {
     "name": "stderr",
     "output_type": "stream",
     "text": [
      "WARNING: Input data contains invalid values (NaNs or infs), which were automatically clipped. [astropy.stats.sigma_clipping]\n"
     ]
    },
    {
     "name": "stdout",
     "output_type": "stream",
     "text": [
      "0.21521154 10.355049\n",
      "write to /home/aellien/Euclid_LSB_DR1/wavelets/out3/EUC_VIS_LSB_ObsID_2686_scaled.cut8.synth.lvl_sep.iptd.fits\n",
      "/home/aellien/Euclid_LSB_DR1/wavelets/out3/EUC_VIS_LSB_ObsID_2701_scaled.cut4.synth.lvl_sep.fits\n"
     ]
    },
    {
     "name": "stderr",
     "output_type": "stream",
     "text": [
      "WARNING: Input data contains invalid values (NaNs or infs), which were automatically clipped. [astropy.stats.sigma_clipping]\n"
     ]
    },
    {
     "name": "stdout",
     "output_type": "stream",
     "text": [
      "0.20736712 9.687417\n",
      "write to /home/aellien/Euclid_LSB_DR1/wavelets/out3/EUC_VIS_LSB_ObsID_2701_scaled.cut4.synth.lvl_sep.iptd.fits\n",
      "/home/aellien/Euclid_LSB_DR1/wavelets/out3/EUC_VIS_LSB_ObsID_2717_scaled.cut11.synth.lvl_sep.fits\n",
      "0.41079235 15.16194\n",
      "write to /home/aellien/Euclid_LSB_DR1/wavelets/out3/EUC_VIS_LSB_ObsID_2717_scaled.cut11.synth.lvl_sep.iptd.fits\n",
      "/home/aellien/Euclid_LSB_DR1/wavelets/out3/EUC_VIS_LSB_ObsID_2692_scaled.cut9.synth.lvl_sep.fits\n"
     ]
    },
    {
     "name": "stderr",
     "output_type": "stream",
     "text": [
      "WARNING: Input data contains invalid values (NaNs or infs), which were automatically clipped. [astropy.stats.sigma_clipping]\n"
     ]
    },
    {
     "name": "stdout",
     "output_type": "stream",
     "text": [
      "0.14177758 7.5899754\n",
      "write to /home/aellien/Euclid_LSB_DR1/wavelets/out3/EUC_VIS_LSB_ObsID_2692_scaled.cut9.synth.lvl_sep.iptd.fits\n",
      "/home/aellien/Euclid_LSB_DR1/wavelets/out3/EUC_VIS_LSB_ObsID_2723_scaled.cut8.synth.lvl_sep.fits\n"
     ]
    },
    {
     "name": "stderr",
     "output_type": "stream",
     "text": [
      "WARNING: Input data contains invalid values (NaNs or infs), which were automatically clipped. [astropy.stats.sigma_clipping]\n"
     ]
    },
    {
     "name": "stdout",
     "output_type": "stream",
     "text": [
      "0.16774583 8.516317\n",
      "write to /home/aellien/Euclid_LSB_DR1/wavelets/out3/EUC_VIS_LSB_ObsID_2723_scaled.cut8.synth.lvl_sep.iptd.fits\n",
      "/home/aellien/Euclid_LSB_DR1/wavelets/out3/EUC_VIS_LSB_ObsID_2716_scaled.cut11.synth.lvl_sep.fits\n",
      "0.3147648 12.870188\n",
      "write to /home/aellien/Euclid_LSB_DR1/wavelets/out3/EUC_VIS_LSB_ObsID_2716_scaled.cut11.synth.lvl_sep.iptd.fits\n",
      "/home/aellien/Euclid_LSB_DR1/wavelets/out3/EUC_VIS_LSB_ObsID_2699_scaled.cut12.synth.lvl_sep.fits\n"
     ]
    },
    {
     "name": "stderr",
     "output_type": "stream",
     "text": [
      "WARNING: Input data contains invalid values (NaNs or infs), which were automatically clipped. [astropy.stats.sigma_clipping]\n"
     ]
    },
    {
     "name": "stdout",
     "output_type": "stream",
     "text": [
      "0.26120326 11.671805\n",
      "write to /home/aellien/Euclid_LSB_DR1/wavelets/out3/EUC_VIS_LSB_ObsID_2699_scaled.cut12.synth.lvl_sep.iptd.fits\n",
      "/home/aellien/Euclid_LSB_DR1/wavelets/out3/EUC_VIS_LSB_ObsID_2708_scaled.cut16.synth.lvl_sep.fits\n"
     ]
    },
    {
     "name": "stderr",
     "output_type": "stream",
     "text": [
      "WARNING: Input data contains invalid values (NaNs or infs), which were automatically clipped. [astropy.stats.sigma_clipping]\n"
     ]
    },
    {
     "name": "stdout",
     "output_type": "stream",
     "text": [
      "0.09236806 5.852108\n",
      "write to /home/aellien/Euclid_LSB_DR1/wavelets/out3/EUC_VIS_LSB_ObsID_2708_scaled.cut16.synth.lvl_sep.iptd.fits\n",
      "/home/aellien/Euclid_LSB_DR1/wavelets/out3/EUC_VIS_LSB_ObsID_2690_scaled.cut15.synth.lvl_sep.fits\n"
     ]
    },
    {
     "name": "stderr",
     "output_type": "stream",
     "text": [
      "WARNING: Input data contains invalid values (NaNs or infs), which were automatically clipped. [astropy.stats.sigma_clipping]\n"
     ]
    },
    {
     "name": "stdout",
     "output_type": "stream",
     "text": [
      "0.22927666 10.507712\n",
      "write to /home/aellien/Euclid_LSB_DR1/wavelets/out3/EUC_VIS_LSB_ObsID_2690_scaled.cut15.synth.lvl_sep.iptd.fits\n",
      "/home/aellien/Euclid_LSB_DR1/wavelets/out3/EUC_VIS_LSB_ObsID_2681_scaled.cut2.synth.lvl_sep.fits\n"
     ]
    },
    {
     "name": "stderr",
     "output_type": "stream",
     "text": [
      "WARNING: Input data contains invalid values (NaNs or infs), which were automatically clipped. [astropy.stats.sigma_clipping]\n"
     ]
    },
    {
     "name": "stdout",
     "output_type": "stream",
     "text": [
      "0.26766098 11.391733\n",
      "write to /home/aellien/Euclid_LSB_DR1/wavelets/out3/EUC_VIS_LSB_ObsID_2681_scaled.cut2.synth.lvl_sep.iptd.fits\n",
      "/home/aellien/Euclid_LSB_DR1/wavelets/out3/EUC_VIS_LSB_ObsID_2722_scaled.cut12.synth.lvl_sep.fits\n"
     ]
    },
    {
     "name": "stderr",
     "output_type": "stream",
     "text": [
      "WARNING: Input data contains invalid values (NaNs or infs), which were automatically clipped. [astropy.stats.sigma_clipping]\n"
     ]
    },
    {
     "name": "stdout",
     "output_type": "stream",
     "text": [
      "0.1644006 8.315109\n",
      "write to /home/aellien/Euclid_LSB_DR1/wavelets/out3/EUC_VIS_LSB_ObsID_2722_scaled.cut12.synth.lvl_sep.iptd.fits\n",
      "/home/aellien/Euclid_LSB_DR1/wavelets/out3/EUC_VIS_LSB_ObsID_2684_scaled.cut3.synth.lvl_sep.fits\n"
     ]
    },
    {
     "name": "stderr",
     "output_type": "stream",
     "text": [
      "WARNING: Input data contains invalid values (NaNs or infs), which were automatically clipped. [astropy.stats.sigma_clipping]\n"
     ]
    },
    {
     "name": "stdout",
     "output_type": "stream",
     "text": [
      "0.51572573 17.167454\n",
      "write to /home/aellien/Euclid_LSB_DR1/wavelets/out3/EUC_VIS_LSB_ObsID_2684_scaled.cut3.synth.lvl_sep.iptd.fits\n",
      "/home/aellien/Euclid_LSB_DR1/wavelets/out3/EUC_VIS_LSB_ObsID_2681_scaled.cut10.synth.lvl_sep.fits\n",
      "0.109463066 6.3850265\n",
      "write to /home/aellien/Euclid_LSB_DR1/wavelets/out3/EUC_VIS_LSB_ObsID_2681_scaled.cut10.synth.lvl_sep.iptd.fits\n",
      "/home/aellien/Euclid_LSB_DR1/wavelets/out3/EUC_VIS_LSB_ObsID_2714_scaled.cut11.synth.lvl_sep.fits\n",
      "0.3841072 14.129727\n",
      "write to /home/aellien/Euclid_LSB_DR1/wavelets/out3/EUC_VIS_LSB_ObsID_2714_scaled.cut11.synth.lvl_sep.iptd.fits\n",
      "/home/aellien/Euclid_LSB_DR1/wavelets/out3/EUC_VIS_LSB_ObsID_2685_scaled.cut4.synth.lvl_sep.fits\n"
     ]
    },
    {
     "name": "stderr",
     "output_type": "stream",
     "text": [
      "WARNING: Input data contains invalid values (NaNs or infs), which were automatically clipped. [astropy.stats.sigma_clipping]\n"
     ]
    },
    {
     "name": "stdout",
     "output_type": "stream",
     "text": [
      "0.18558598 9.038954\n",
      "write to /home/aellien/Euclid_LSB_DR1/wavelets/out3/EUC_VIS_LSB_ObsID_2685_scaled.cut4.synth.lvl_sep.iptd.fits\n",
      "/home/aellien/Euclid_LSB_DR1/wavelets/out3/EUC_VIS_LSB_ObsID_2698_scaled.cut12.synth.lvl_sep.fits\n"
     ]
    },
    {
     "name": "stderr",
     "output_type": "stream",
     "text": [
      "WARNING: Input data contains invalid values (NaNs or infs), which were automatically clipped. [astropy.stats.sigma_clipping]\n"
     ]
    },
    {
     "name": "stdout",
     "output_type": "stream",
     "text": [
      "0.29999673 12.453437\n",
      "write to /home/aellien/Euclid_LSB_DR1/wavelets/out3/EUC_VIS_LSB_ObsID_2698_scaled.cut12.synth.lvl_sep.iptd.fits\n",
      "/home/aellien/Euclid_LSB_DR1/wavelets/out3/EUC_VIS_LSB_ObsID_2700_scaled.cut7.synth.lvl_sep.fits\n",
      "0.19930618 9.486664\n",
      "write to /home/aellien/Euclid_LSB_DR1/wavelets/out3/EUC_VIS_LSB_ObsID_2700_scaled.cut7.synth.lvl_sep.iptd.fits\n",
      "/home/aellien/Euclid_LSB_DR1/wavelets/out3/EUC_VIS_LSB_ObsID_2706_scaled.cut5.synth.lvl_sep.fits\n"
     ]
    },
    {
     "name": "stderr",
     "output_type": "stream",
     "text": [
      "WARNING: Input data contains invalid values (NaNs or infs), which were automatically clipped. [astropy.stats.sigma_clipping]\n"
     ]
    },
    {
     "name": "stdout",
     "output_type": "stream",
     "text": [
      "0.14913505 8.074885\n",
      "write to /home/aellien/Euclid_LSB_DR1/wavelets/out3/EUC_VIS_LSB_ObsID_2706_scaled.cut5.synth.lvl_sep.iptd.fits\n",
      "/home/aellien/Euclid_LSB_DR1/wavelets/out3/EUC_VIS_LSB_ObsID_2715_scaled.cut2.synth.lvl_sep.fits\n"
     ]
    },
    {
     "name": "stderr",
     "output_type": "stream",
     "text": [
      "WARNING: Input data contains invalid values (NaNs or infs), which were automatically clipped. [astropy.stats.sigma_clipping]\n"
     ]
    },
    {
     "name": "stdout",
     "output_type": "stream",
     "text": [
      "0.18698263 9.1033\n",
      "write to /home/aellien/Euclid_LSB_DR1/wavelets/out3/EUC_VIS_LSB_ObsID_2715_scaled.cut2.synth.lvl_sep.iptd.fits\n",
      "/home/aellien/Euclid_LSB_DR1/wavelets/out3/EUC_VIS_LSB_ObsID_2693_scaled.cut4.synth.lvl_sep.fits\n"
     ]
    },
    {
     "name": "stderr",
     "output_type": "stream",
     "text": [
      "WARNING: Input data contains invalid values (NaNs or infs), which were automatically clipped. [astropy.stats.sigma_clipping]\n"
     ]
    },
    {
     "name": "stdout",
     "output_type": "stream",
     "text": [
      "0.18995841 9.305065\n",
      "write to /home/aellien/Euclid_LSB_DR1/wavelets/out3/EUC_VIS_LSB_ObsID_2693_scaled.cut4.synth.lvl_sep.iptd.fits\n",
      "/home/aellien/Euclid_LSB_DR1/wavelets/out3/EUC_VIS_LSB_ObsID_2691_scaled.cut7.synth.lvl_sep.fits\n",
      "0.19456047 9.577473\n",
      "write to /home/aellien/Euclid_LSB_DR1/wavelets/out3/EUC_VIS_LSB_ObsID_2691_scaled.cut7.synth.lvl_sep.iptd.fits\n",
      "/home/aellien/Euclid_LSB_DR1/wavelets/out3/EUC_VIS_LSB_ObsID_2696_scaled.cut6.synth.lvl_sep.fits\n",
      "0.18937056 8.960648\n",
      "write to /home/aellien/Euclid_LSB_DR1/wavelets/out3/EUC_VIS_LSB_ObsID_2696_scaled.cut6.synth.lvl_sep.iptd.fits\n",
      "/home/aellien/Euclid_LSB_DR1/wavelets/out3/EUC_VIS_LSB_ObsID_2698_scaled.cut16.synth.lvl_sep.fits\n"
     ]
    },
    {
     "name": "stderr",
     "output_type": "stream",
     "text": [
      "WARNING: Input data contains invalid values (NaNs or infs), which were automatically clipped. [astropy.stats.sigma_clipping]\n"
     ]
    },
    {
     "name": "stdout",
     "output_type": "stream",
     "text": [
      "0.17371081 8.532315\n",
      "write to /home/aellien/Euclid_LSB_DR1/wavelets/out3/EUC_VIS_LSB_ObsID_2698_scaled.cut16.synth.lvl_sep.iptd.fits\n",
      "/home/aellien/Euclid_LSB_DR1/wavelets/out3/EUC_VIS_LSB_ObsID_2718_scaled.cut4.synth.lvl_sep.fits\n"
     ]
    },
    {
     "name": "stderr",
     "output_type": "stream",
     "text": [
      "WARNING: Input data contains invalid values (NaNs or infs), which were automatically clipped. [astropy.stats.sigma_clipping]\n"
     ]
    },
    {
     "name": "stdout",
     "output_type": "stream",
     "text": [
      "0.25071126 11.150421\n",
      "write to /home/aellien/Euclid_LSB_DR1/wavelets/out3/EUC_VIS_LSB_ObsID_2718_scaled.cut4.synth.lvl_sep.iptd.fits\n",
      "/home/aellien/Euclid_LSB_DR1/wavelets/out3/EUC_VIS_LSB_ObsID_2681_scaled.cut5.synth.lvl_sep.fits\n"
     ]
    },
    {
     "name": "stderr",
     "output_type": "stream",
     "text": [
      "WARNING: Input data contains invalid values (NaNs or infs), which were automatically clipped. [astropy.stats.sigma_clipping]\n"
     ]
    },
    {
     "name": "stdout",
     "output_type": "stream",
     "text": [
      "0.11036509 6.579901\n",
      "write to /home/aellien/Euclid_LSB_DR1/wavelets/out3/EUC_VIS_LSB_ObsID_2681_scaled.cut5.synth.lvl_sep.iptd.fits\n",
      "/home/aellien/Euclid_LSB_DR1/wavelets/out3/EUC_VIS_LSB_ObsID_2687_scaled.cut8.synth.lvl_sep.fits\n"
     ]
    },
    {
     "name": "stderr",
     "output_type": "stream",
     "text": [
      "WARNING: Input data contains invalid values (NaNs or infs), which were automatically clipped. [astropy.stats.sigma_clipping]\n"
     ]
    },
    {
     "name": "stdout",
     "output_type": "stream",
     "text": [
      "0.15705492 8.124149\n",
      "write to /home/aellien/Euclid_LSB_DR1/wavelets/out3/EUC_VIS_LSB_ObsID_2687_scaled.cut8.synth.lvl_sep.iptd.fits\n",
      "/home/aellien/Euclid_LSB_DR1/wavelets/out3/EUC_VIS_LSB_ObsID_2709_scaled.cut5.synth.lvl_sep.fits\n"
     ]
    },
    {
     "name": "stderr",
     "output_type": "stream",
     "text": [
      "WARNING: Input data contains invalid values (NaNs or infs), which were automatically clipped. [astropy.stats.sigma_clipping]\n"
     ]
    },
    {
     "name": "stdout",
     "output_type": "stream",
     "text": [
      "0.25969303 10.578552\n",
      "write to /home/aellien/Euclid_LSB_DR1/wavelets/out3/EUC_VIS_LSB_ObsID_2709_scaled.cut5.synth.lvl_sep.iptd.fits\n",
      "/home/aellien/Euclid_LSB_DR1/wavelets/out3/EUC_VIS_LSB_ObsID_2700_scaled.cut3.synth.lvl_sep.fits\n"
     ]
    },
    {
     "name": "stderr",
     "output_type": "stream",
     "text": [
      "WARNING: Input data contains invalid values (NaNs or infs), which were automatically clipped. [astropy.stats.sigma_clipping]\n"
     ]
    },
    {
     "name": "stdout",
     "output_type": "stream",
     "text": [
      "0.240046 10.518161\n",
      "write to /home/aellien/Euclid_LSB_DR1/wavelets/out3/EUC_VIS_LSB_ObsID_2700_scaled.cut3.synth.lvl_sep.iptd.fits\n",
      "/home/aellien/Euclid_LSB_DR1/wavelets/out3/EUC_VIS_LSB_ObsID_2687_scaled.cut9.synth.lvl_sep.fits\n"
     ]
    },
    {
     "name": "stderr",
     "output_type": "stream",
     "text": [
      "WARNING: Input data contains invalid values (NaNs or infs), which were automatically clipped. [astropy.stats.sigma_clipping]\n"
     ]
    },
    {
     "name": "stdout",
     "output_type": "stream",
     "text": [
      "0.12614982 6.8863444\n",
      "write to /home/aellien/Euclid_LSB_DR1/wavelets/out3/EUC_VIS_LSB_ObsID_2687_scaled.cut9.synth.lvl_sep.iptd.fits\n",
      "/home/aellien/Euclid_LSB_DR1/wavelets/out3/EUC_VIS_LSB_ObsID_2702_scaled.cut9.synth.lvl_sep.fits\n"
     ]
    },
    {
     "name": "stderr",
     "output_type": "stream",
     "text": [
      "WARNING: Input data contains invalid values (NaNs or infs), which were automatically clipped. [astropy.stats.sigma_clipping]\n"
     ]
    },
    {
     "name": "stdout",
     "output_type": "stream",
     "text": [
      "0.26265034 10.943698\n",
      "write to /home/aellien/Euclid_LSB_DR1/wavelets/out3/EUC_VIS_LSB_ObsID_2702_scaled.cut9.synth.lvl_sep.iptd.fits\n",
      "/home/aellien/Euclid_LSB_DR1/wavelets/out3/EUC_VIS_LSB_ObsID_2709_scaled.cut7.synth.lvl_sep.fits\n",
      "0.17123984 8.719386\n",
      "write to /home/aellien/Euclid_LSB_DR1/wavelets/out3/EUC_VIS_LSB_ObsID_2709_scaled.cut7.synth.lvl_sep.iptd.fits\n",
      "/home/aellien/Euclid_LSB_DR1/wavelets/out3/EUC_VIS_LSB_ObsID_2698_scaled.cut15.synth.lvl_sep.fits\n"
     ]
    },
    {
     "name": "stderr",
     "output_type": "stream",
     "text": [
      "WARNING: Input data contains invalid values (NaNs or infs), which were automatically clipped. [astropy.stats.sigma_clipping]\n"
     ]
    },
    {
     "name": "stdout",
     "output_type": "stream",
     "text": [
      "0.14679822 7.880263\n",
      "write to /home/aellien/Euclid_LSB_DR1/wavelets/out3/EUC_VIS_LSB_ObsID_2698_scaled.cut15.synth.lvl_sep.iptd.fits\n",
      "/home/aellien/Euclid_LSB_DR1/wavelets/out3/EUC_VIS_LSB_ObsID_2695_scaled.cut4.synth.lvl_sep.fits\n"
     ]
    },
    {
     "name": "stderr",
     "output_type": "stream",
     "text": [
      "WARNING: Input data contains invalid values (NaNs or infs), which were automatically clipped. [astropy.stats.sigma_clipping]\n"
     ]
    },
    {
     "name": "stdout",
     "output_type": "stream",
     "text": [
      "0.2836181 11.590363\n",
      "write to /home/aellien/Euclid_LSB_DR1/wavelets/out3/EUC_VIS_LSB_ObsID_2695_scaled.cut4.synth.lvl_sep.iptd.fits\n",
      "/home/aellien/Euclid_LSB_DR1/wavelets/out3/EUC_VIS_LSB_ObsID_2722_scaled.cut4.synth.lvl_sep.fits\n"
     ]
    },
    {
     "name": "stderr",
     "output_type": "stream",
     "text": [
      "WARNING: Input data contains invalid values (NaNs or infs), which were automatically clipped. [astropy.stats.sigma_clipping]\n"
     ]
    },
    {
     "name": "stdout",
     "output_type": "stream",
     "text": [
      "0.21163382 9.392084\n",
      "write to /home/aellien/Euclid_LSB_DR1/wavelets/out3/EUC_VIS_LSB_ObsID_2722_scaled.cut4.synth.lvl_sep.iptd.fits\n",
      "/home/aellien/Euclid_LSB_DR1/wavelets/out3/EUC_VIS_LSB_ObsID_2707_scaled.cut4.synth.lvl_sep.fits\n"
     ]
    },
    {
     "name": "stderr",
     "output_type": "stream",
     "text": [
      "WARNING: Input data contains invalid values (NaNs or infs), which were automatically clipped. [astropy.stats.sigma_clipping]\n"
     ]
    },
    {
     "name": "stdout",
     "output_type": "stream",
     "text": [
      "0.20592843 9.509323\n",
      "write to /home/aellien/Euclid_LSB_DR1/wavelets/out3/EUC_VIS_LSB_ObsID_2707_scaled.cut4.synth.lvl_sep.iptd.fits\n",
      "/home/aellien/Euclid_LSB_DR1/wavelets/out3/EUC_VIS_LSB_ObsID_2705_scaled.cut12.synth.lvl_sep.fits\n"
     ]
    },
    {
     "name": "stderr",
     "output_type": "stream",
     "text": [
      "WARNING: Input data contains invalid values (NaNs or infs), which were automatically clipped. [astropy.stats.sigma_clipping]\n"
     ]
    },
    {
     "name": "stdout",
     "output_type": "stream",
     "text": [
      "0.04277284 2.8401992\n",
      "write to /home/aellien/Euclid_LSB_DR1/wavelets/out3/EUC_VIS_LSB_ObsID_2705_scaled.cut12.synth.lvl_sep.iptd.fits\n",
      "/home/aellien/Euclid_LSB_DR1/wavelets/out3/EUC_VIS_LSB_ObsID_2704_scaled.cut7.synth.lvl_sep.fits\n",
      "0.15726732 8.185368\n",
      "write to /home/aellien/Euclid_LSB_DR1/wavelets/out3/EUC_VIS_LSB_ObsID_2704_scaled.cut7.synth.lvl_sep.iptd.fits\n",
      "/home/aellien/Euclid_LSB_DR1/wavelets/out3/EUC_VIS_LSB_ObsID_2688_scaled.cut5.synth.lvl_sep.fits\n"
     ]
    },
    {
     "name": "stderr",
     "output_type": "stream",
     "text": [
      "WARNING: Input data contains invalid values (NaNs or infs), which were automatically clipped. [astropy.stats.sigma_clipping]\n"
     ]
    },
    {
     "name": "stdout",
     "output_type": "stream",
     "text": [
      "0.112752534 6.729323\n",
      "write to /home/aellien/Euclid_LSB_DR1/wavelets/out3/EUC_VIS_LSB_ObsID_2688_scaled.cut5.synth.lvl_sep.iptd.fits\n",
      "/home/aellien/Euclid_LSB_DR1/wavelets/out3/EUC_VIS_LSB_ObsID_2690_scaled.cut7.synth.lvl_sep.fits\n",
      "0.26485446 11.756936\n",
      "write to /home/aellien/Euclid_LSB_DR1/wavelets/out3/EUC_VIS_LSB_ObsID_2690_scaled.cut7.synth.lvl_sep.iptd.fits\n",
      "/home/aellien/Euclid_LSB_DR1/wavelets/out3/EUC_VIS_LSB_ObsID_2683_scaled.cut14.synth.lvl_sep.fits\n"
     ]
    },
    {
     "name": "stderr",
     "output_type": "stream",
     "text": [
      "WARNING: Input data contains invalid values (NaNs or infs), which were automatically clipped. [astropy.stats.sigma_clipping]\n"
     ]
    },
    {
     "name": "stdout",
     "output_type": "stream",
     "text": [
      "0.12235853 7.145836\n",
      "write to /home/aellien/Euclid_LSB_DR1/wavelets/out3/EUC_VIS_LSB_ObsID_2683_scaled.cut14.synth.lvl_sep.iptd.fits\n",
      "/home/aellien/Euclid_LSB_DR1/wavelets/out3/EUC_VIS_LSB_ObsID_2694_scaled.cut2.synth.lvl_sep.fits\n"
     ]
    },
    {
     "name": "stderr",
     "output_type": "stream",
     "text": [
      "WARNING: Input data contains invalid values (NaNs or infs), which were automatically clipped. [astropy.stats.sigma_clipping]\n"
     ]
    },
    {
     "name": "stdout",
     "output_type": "stream",
     "text": [
      "0.4063061 15.444526\n",
      "write to /home/aellien/Euclid_LSB_DR1/wavelets/out3/EUC_VIS_LSB_ObsID_2694_scaled.cut2.synth.lvl_sep.iptd.fits\n",
      "/home/aellien/Euclid_LSB_DR1/wavelets/out3/EUC_VIS_LSB_ObsID_2710_scaled.cut13.synth.lvl_sep.fits\n"
     ]
    },
    {
     "name": "stderr",
     "output_type": "stream",
     "text": [
      "WARNING: Input data contains invalid values (NaNs or infs), which were automatically clipped. [astropy.stats.sigma_clipping]\n"
     ]
    },
    {
     "name": "stdout",
     "output_type": "stream",
     "text": [
      "0.13941155 7.7052193\n",
      "write to /home/aellien/Euclid_LSB_DR1/wavelets/out3/EUC_VIS_LSB_ObsID_2710_scaled.cut13.synth.lvl_sep.iptd.fits\n",
      "/home/aellien/Euclid_LSB_DR1/wavelets/out3/EUC_VIS_LSB_ObsID_2704_scaled.cut13.synth.lvl_sep.fits\n"
     ]
    },
    {
     "name": "stderr",
     "output_type": "stream",
     "text": [
      "WARNING: Input data contains invalid values (NaNs or infs), which were automatically clipped. [astropy.stats.sigma_clipping]\n"
     ]
    },
    {
     "name": "stdout",
     "output_type": "stream",
     "text": [
      "0.19859527 9.588766\n",
      "write to /home/aellien/Euclid_LSB_DR1/wavelets/out3/EUC_VIS_LSB_ObsID_2704_scaled.cut13.synth.lvl_sep.iptd.fits\n",
      "/home/aellien/Euclid_LSB_DR1/wavelets/out3/EUC_VIS_LSB_ObsID_2687_scaled.cut13.synth.lvl_sep.fits\n"
     ]
    },
    {
     "name": "stderr",
     "output_type": "stream",
     "text": [
      "WARNING: Input data contains invalid values (NaNs or infs), which were automatically clipped. [astropy.stats.sigma_clipping]\n"
     ]
    },
    {
     "name": "stdout",
     "output_type": "stream",
     "text": [
      "0.14452475 7.9203496\n",
      "write to /home/aellien/Euclid_LSB_DR1/wavelets/out3/EUC_VIS_LSB_ObsID_2687_scaled.cut13.synth.lvl_sep.iptd.fits\n",
      "/home/aellien/Euclid_LSB_DR1/wavelets/out3/EUC_VIS_LSB_ObsID_2715_scaled.cut16.synth.lvl_sep.fits\n"
     ]
    },
    {
     "name": "stderr",
     "output_type": "stream",
     "text": [
      "WARNING: Input data contains invalid values (NaNs or infs), which were automatically clipped. [astropy.stats.sigma_clipping]\n"
     ]
    },
    {
     "name": "stdout",
     "output_type": "stream",
     "text": [
      "0.46973422 15.886686\n",
      "write to /home/aellien/Euclid_LSB_DR1/wavelets/out3/EUC_VIS_LSB_ObsID_2715_scaled.cut16.synth.lvl_sep.iptd.fits\n",
      "/home/aellien/Euclid_LSB_DR1/wavelets/out3/EUC_VIS_LSB_ObsID_2689_scaled.cut8.synth.lvl_sep.fits\n"
     ]
    },
    {
     "name": "stderr",
     "output_type": "stream",
     "text": [
      "WARNING: Input data contains invalid values (NaNs or infs), which were automatically clipped. [astropy.stats.sigma_clipping]\n"
     ]
    },
    {
     "name": "stdout",
     "output_type": "stream",
     "text": [
      "0.15774752 8.4563055\n",
      "write to /home/aellien/Euclid_LSB_DR1/wavelets/out3/EUC_VIS_LSB_ObsID_2689_scaled.cut8.synth.lvl_sep.iptd.fits\n",
      "/home/aellien/Euclid_LSB_DR1/wavelets/out3/EUC_VIS_LSB_ObsID_2693_scaled.cut2.synth.lvl_sep.fits\n"
     ]
    },
    {
     "name": "stderr",
     "output_type": "stream",
     "text": [
      "WARNING: Input data contains invalid values (NaNs or infs), which were automatically clipped. [astropy.stats.sigma_clipping]\n"
     ]
    },
    {
     "name": "stdout",
     "output_type": "stream",
     "text": [
      "0.09689012 5.78336\n",
      "write to /home/aellien/Euclid_LSB_DR1/wavelets/out3/EUC_VIS_LSB_ObsID_2693_scaled.cut2.synth.lvl_sep.iptd.fits\n",
      "/home/aellien/Euclid_LSB_DR1/wavelets/out3/EUC_VIS_LSB_ObsID_2687_scaled.cut10.synth.lvl_sep.fits\n",
      "0.31843203 12.613041\n",
      "write to /home/aellien/Euclid_LSB_DR1/wavelets/out3/EUC_VIS_LSB_ObsID_2687_scaled.cut10.synth.lvl_sep.iptd.fits\n",
      "/home/aellien/Euclid_LSB_DR1/wavelets/out3/EUC_VIS_LSB_ObsID_2697_scaled.cut6.synth.lvl_sep.fits\n",
      "0.2294176 10.376135\n",
      "write to /home/aellien/Euclid_LSB_DR1/wavelets/out3/EUC_VIS_LSB_ObsID_2697_scaled.cut6.synth.lvl_sep.iptd.fits\n",
      "/home/aellien/Euclid_LSB_DR1/wavelets/out3/EUC_VIS_LSB_ObsID_2686_scaled.cut11.synth.lvl_sep.fits\n",
      "0.22314306 10.245213\n",
      "write to /home/aellien/Euclid_LSB_DR1/wavelets/out3/EUC_VIS_LSB_ObsID_2686_scaled.cut11.synth.lvl_sep.iptd.fits\n",
      "/home/aellien/Euclid_LSB_DR1/wavelets/out3/EUC_VIS_LSB_ObsID_2719_scaled.cut16.synth.lvl_sep.fits\n"
     ]
    },
    {
     "name": "stderr",
     "output_type": "stream",
     "text": [
      "WARNING: Input data contains invalid values (NaNs or infs), which were automatically clipped. [astropy.stats.sigma_clipping]\n"
     ]
    },
    {
     "name": "stdout",
     "output_type": "stream",
     "text": [
      "0.16365397 8.154825\n",
      "write to /home/aellien/Euclid_LSB_DR1/wavelets/out3/EUC_VIS_LSB_ObsID_2719_scaled.cut16.synth.lvl_sep.iptd.fits\n",
      "/home/aellien/Euclid_LSB_DR1/wavelets/out3/EUC_VIS_LSB_ObsID_2721_scaled.cut11.synth.lvl_sep.fits\n",
      "0.47175467 16.553343\n",
      "write to /home/aellien/Euclid_LSB_DR1/wavelets/out3/EUC_VIS_LSB_ObsID_2721_scaled.cut11.synth.lvl_sep.iptd.fits\n",
      "/home/aellien/Euclid_LSB_DR1/wavelets/out3/EUC_VIS_LSB_ObsID_2699_scaled.cut16.synth.lvl_sep.fits\n"
     ]
    },
    {
     "name": "stderr",
     "output_type": "stream",
     "text": [
      "WARNING: Input data contains invalid values (NaNs or infs), which were automatically clipped. [astropy.stats.sigma_clipping]\n"
     ]
    },
    {
     "name": "stdout",
     "output_type": "stream",
     "text": [
      "0.26315904 11.37452\n",
      "write to /home/aellien/Euclid_LSB_DR1/wavelets/out3/EUC_VIS_LSB_ObsID_2699_scaled.cut16.synth.lvl_sep.iptd.fits\n",
      "/home/aellien/Euclid_LSB_DR1/wavelets/out3/EUC_VIS_LSB_ObsID_2699_scaled.cut7.synth.lvl_sep.fits\n",
      "0.17504351 8.696957\n",
      "write to /home/aellien/Euclid_LSB_DR1/wavelets/out3/EUC_VIS_LSB_ObsID_2699_scaled.cut7.synth.lvl_sep.iptd.fits\n",
      "/home/aellien/Euclid_LSB_DR1/wavelets/out3/EUC_VIS_LSB_ObsID_2692_scaled.cut8.synth.lvl_sep.fits\n"
     ]
    },
    {
     "name": "stderr",
     "output_type": "stream",
     "text": [
      "WARNING: Input data contains invalid values (NaNs or infs), which were automatically clipped. [astropy.stats.sigma_clipping]\n"
     ]
    },
    {
     "name": "stdout",
     "output_type": "stream",
     "text": [
      "0.102648385 6.3592806\n",
      "write to /home/aellien/Euclid_LSB_DR1/wavelets/out3/EUC_VIS_LSB_ObsID_2692_scaled.cut8.synth.lvl_sep.iptd.fits\n",
      "/home/aellien/Euclid_LSB_DR1/wavelets/out3/EUC_VIS_LSB_ObsID_2683_scaled.cut10.synth.lvl_sep.fits\n",
      "0.1877146 8.868121\n",
      "write to /home/aellien/Euclid_LSB_DR1/wavelets/out3/EUC_VIS_LSB_ObsID_2683_scaled.cut10.synth.lvl_sep.iptd.fits\n",
      "/home/aellien/Euclid_LSB_DR1/wavelets/out3/EUC_VIS_LSB_ObsID_2690_scaled.cut3.synth.lvl_sep.fits\n"
     ]
    },
    {
     "name": "stderr",
     "output_type": "stream",
     "text": [
      "WARNING: Input data contains invalid values (NaNs or infs), which were automatically clipped. [astropy.stats.sigma_clipping]\n"
     ]
    },
    {
     "name": "stdout",
     "output_type": "stream",
     "text": [
      "0.27599737 11.659291\n",
      "write to /home/aellien/Euclid_LSB_DR1/wavelets/out3/EUC_VIS_LSB_ObsID_2690_scaled.cut3.synth.lvl_sep.iptd.fits\n",
      "/home/aellien/Euclid_LSB_DR1/wavelets/out3/EUC_VIS_LSB_ObsID_2720_scaled.cut15.synth.lvl_sep.fits\n"
     ]
    },
    {
     "name": "stderr",
     "output_type": "stream",
     "text": [
      "WARNING: Input data contains invalid values (NaNs or infs), which were automatically clipped. [astropy.stats.sigma_clipping]\n"
     ]
    },
    {
     "name": "stdout",
     "output_type": "stream",
     "text": [
      "0.4087244 15.577892\n",
      "write to /home/aellien/Euclid_LSB_DR1/wavelets/out3/EUC_VIS_LSB_ObsID_2720_scaled.cut15.synth.lvl_sep.iptd.fits\n",
      "/home/aellien/Euclid_LSB_DR1/wavelets/out3/EUC_VIS_LSB_ObsID_2710_scaled.cut3.synth.lvl_sep.fits\n"
     ]
    },
    {
     "name": "stderr",
     "output_type": "stream",
     "text": [
      "WARNING: Input data contains invalid values (NaNs or infs), which were automatically clipped. [astropy.stats.sigma_clipping]\n"
     ]
    },
    {
     "name": "stdout",
     "output_type": "stream",
     "text": [
      "0.29496548 12.184795\n",
      "write to /home/aellien/Euclid_LSB_DR1/wavelets/out3/EUC_VIS_LSB_ObsID_2710_scaled.cut3.synth.lvl_sep.iptd.fits\n",
      "/home/aellien/Euclid_LSB_DR1/wavelets/out3/EUC_VIS_LSB_ObsID_2696_scaled.cut13.synth.lvl_sep.fits\n"
     ]
    },
    {
     "name": "stderr",
     "output_type": "stream",
     "text": [
      "WARNING: Input data contains invalid values (NaNs or infs), which were automatically clipped. [astropy.stats.sigma_clipping]\n"
     ]
    },
    {
     "name": "stdout",
     "output_type": "stream",
     "text": [
      "0.31594223 13.065139\n",
      "write to /home/aellien/Euclid_LSB_DR1/wavelets/out3/EUC_VIS_LSB_ObsID_2696_scaled.cut13.synth.lvl_sep.iptd.fits\n",
      "/home/aellien/Euclid_LSB_DR1/wavelets/out3/EUC_VIS_LSB_ObsID_2683_scaled.cut6.synth.lvl_sep.fits\n",
      "0.27875873 11.4714775\n",
      "write to /home/aellien/Euclid_LSB_DR1/wavelets/out3/EUC_VIS_LSB_ObsID_2683_scaled.cut6.synth.lvl_sep.iptd.fits\n",
      "/home/aellien/Euclid_LSB_DR1/wavelets/out3/EUC_VIS_LSB_ObsID_2686_scaled.cut4.synth.lvl_sep.fits\n"
     ]
    },
    {
     "name": "stderr",
     "output_type": "stream",
     "text": [
      "WARNING: Input data contains invalid values (NaNs or infs), which were automatically clipped. [astropy.stats.sigma_clipping]\n"
     ]
    },
    {
     "name": "stdout",
     "output_type": "stream",
     "text": [
      "0.27440274 11.941498\n",
      "write to /home/aellien/Euclid_LSB_DR1/wavelets/out3/EUC_VIS_LSB_ObsID_2686_scaled.cut4.synth.lvl_sep.iptd.fits\n",
      "/home/aellien/Euclid_LSB_DR1/wavelets/out3/EUC_VIS_LSB_ObsID_2682_scaled.cut4.synth.lvl_sep.fits\n"
     ]
    },
    {
     "name": "stderr",
     "output_type": "stream",
     "text": [
      "WARNING: Input data contains invalid values (NaNs or infs), which were automatically clipped. [astropy.stats.sigma_clipping]\n"
     ]
    },
    {
     "name": "stdout",
     "output_type": "stream",
     "text": [
      "0.17752063 8.835755\n",
      "write to /home/aellien/Euclid_LSB_DR1/wavelets/out3/EUC_VIS_LSB_ObsID_2682_scaled.cut4.synth.lvl_sep.iptd.fits\n",
      "/home/aellien/Euclid_LSB_DR1/wavelets/out3/EUC_VIS_LSB_ObsID_2701_scaled.cut6.synth.lvl_sep.fits\n",
      "0.16399612 8.299096\n",
      "write to /home/aellien/Euclid_LSB_DR1/wavelets/out3/EUC_VIS_LSB_ObsID_2701_scaled.cut6.synth.lvl_sep.iptd.fits\n",
      "/home/aellien/Euclid_LSB_DR1/wavelets/out3/EUC_VIS_LSB_ObsID_2682_scaled.cut6.synth.lvl_sep.fits\n",
      "0.12597145 7.3393483\n",
      "write to /home/aellien/Euclid_LSB_DR1/wavelets/out3/EUC_VIS_LSB_ObsID_2682_scaled.cut6.synth.lvl_sep.iptd.fits\n",
      "/home/aellien/Euclid_LSB_DR1/wavelets/out3/EUC_VIS_LSB_ObsID_2723_scaled.cut2.synth.lvl_sep.fits\n"
     ]
    },
    {
     "name": "stderr",
     "output_type": "stream",
     "text": [
      "WARNING: Input data contains invalid values (NaNs or infs), which were automatically clipped. [astropy.stats.sigma_clipping]\n"
     ]
    },
    {
     "name": "stdout",
     "output_type": "stream",
     "text": [
      "0.13912418 7.219733\n",
      "write to /home/aellien/Euclid_LSB_DR1/wavelets/out3/EUC_VIS_LSB_ObsID_2723_scaled.cut2.synth.lvl_sep.iptd.fits\n",
      "/home/aellien/Euclid_LSB_DR1/wavelets/out3/EUC_VIS_LSB_ObsID_2699_scaled.cut5.synth.lvl_sep.fits\n"
     ]
    },
    {
     "name": "stderr",
     "output_type": "stream",
     "text": [
      "WARNING: Input data contains invalid values (NaNs or infs), which were automatically clipped. [astropy.stats.sigma_clipping]\n"
     ]
    },
    {
     "name": "stdout",
     "output_type": "stream",
     "text": [
      "0.204087 9.282114\n",
      "write to /home/aellien/Euclid_LSB_DR1/wavelets/out3/EUC_VIS_LSB_ObsID_2699_scaled.cut5.synth.lvl_sep.iptd.fits\n",
      "/home/aellien/Euclid_LSB_DR1/wavelets/out3/EUC_VIS_LSB_ObsID_2721_scaled.cut16.synth.lvl_sep.fits\n"
     ]
    },
    {
     "name": "stderr",
     "output_type": "stream",
     "text": [
      "WARNING: Input data contains invalid values (NaNs or infs), which were automatically clipped. [astropy.stats.sigma_clipping]\n"
     ]
    },
    {
     "name": "stdout",
     "output_type": "stream",
     "text": [
      "0.22643027 10.143396\n",
      "write to /home/aellien/Euclid_LSB_DR1/wavelets/out3/EUC_VIS_LSB_ObsID_2721_scaled.cut16.synth.lvl_sep.iptd.fits\n",
      "/home/aellien/Euclid_LSB_DR1/wavelets/out3/EUC_VIS_LSB_ObsID_2689_scaled.cut11.synth.lvl_sep.fits\n"
     ]
    },
    {
     "name": "stderr",
     "output_type": "stream",
     "text": [
      "WARNING: Input data contains invalid values (NaNs or infs), which were automatically clipped. [astropy.stats.sigma_clipping]\n"
     ]
    },
    {
     "name": "stdout",
     "output_type": "stream",
     "text": [
      "0.1775425 9.115428\n",
      "write to /home/aellien/Euclid_LSB_DR1/wavelets/out3/EUC_VIS_LSB_ObsID_2689_scaled.cut11.synth.lvl_sep.iptd.fits\n",
      "/home/aellien/Euclid_LSB_DR1/wavelets/out3/EUC_VIS_LSB_ObsID_2694_scaled.cut15.synth.lvl_sep.fits\n"
     ]
    },
    {
     "name": "stderr",
     "output_type": "stream",
     "text": [
      "WARNING: Input data contains invalid values (NaNs or infs), which were automatically clipped. [astropy.stats.sigma_clipping]\n"
     ]
    },
    {
     "name": "stdout",
     "output_type": "stream",
     "text": [
      "0.12856095 7.248521\n",
      "write to /home/aellien/Euclid_LSB_DR1/wavelets/out3/EUC_VIS_LSB_ObsID_2694_scaled.cut15.synth.lvl_sep.iptd.fits\n",
      "/home/aellien/Euclid_LSB_DR1/wavelets/out3/EUC_VIS_LSB_ObsID_2709_scaled.cut9.synth.lvl_sep.fits\n"
     ]
    },
    {
     "name": "stderr",
     "output_type": "stream",
     "text": [
      "WARNING: Input data contains invalid values (NaNs or infs), which were automatically clipped. [astropy.stats.sigma_clipping]\n"
     ]
    },
    {
     "name": "stdout",
     "output_type": "stream",
     "text": [
      "0.268951 11.566955\n",
      "write to /home/aellien/Euclid_LSB_DR1/wavelets/out3/EUC_VIS_LSB_ObsID_2709_scaled.cut9.synth.lvl_sep.iptd.fits\n",
      "/home/aellien/Euclid_LSB_DR1/wavelets/out3/EUC_VIS_LSB_ObsID_2687_scaled.cut5.synth.lvl_sep.fits\n"
     ]
    },
    {
     "name": "stderr",
     "output_type": "stream",
     "text": [
      "WARNING: Input data contains invalid values (NaNs or infs), which were automatically clipped. [astropy.stats.sigma_clipping]\n"
     ]
    },
    {
     "name": "stdout",
     "output_type": "stream",
     "text": [
      "0.2439992 10.897482\n",
      "write to /home/aellien/Euclid_LSB_DR1/wavelets/out3/EUC_VIS_LSB_ObsID_2687_scaled.cut5.synth.lvl_sep.iptd.fits\n",
      "/home/aellien/Euclid_LSB_DR1/wavelets/out3/EUC_VIS_LSB_ObsID_2707_scaled.cut7.synth.lvl_sep.fits\n",
      "0.09166922 5.9888034\n",
      "write to /home/aellien/Euclid_LSB_DR1/wavelets/out3/EUC_VIS_LSB_ObsID_2707_scaled.cut7.synth.lvl_sep.iptd.fits\n",
      "/home/aellien/Euclid_LSB_DR1/wavelets/out3/EUC_VIS_LSB_ObsID_2698_scaled.cut11.synth.lvl_sep.fits\n",
      "0.13791578 7.6314692\n",
      "write to /home/aellien/Euclid_LSB_DR1/wavelets/out3/EUC_VIS_LSB_ObsID_2698_scaled.cut11.synth.lvl_sep.iptd.fits\n",
      "/home/aellien/Euclid_LSB_DR1/wavelets/out3/EUC_VIS_LSB_ObsID_2700_scaled.cut4.synth.lvl_sep.fits\n"
     ]
    },
    {
     "name": "stderr",
     "output_type": "stream",
     "text": [
      "WARNING: Input data contains invalid values (NaNs or infs), which were automatically clipped. [astropy.stats.sigma_clipping]\n"
     ]
    },
    {
     "name": "stdout",
     "output_type": "stream",
     "text": [
      "0.35159883 13.663558\n",
      "write to /home/aellien/Euclid_LSB_DR1/wavelets/out3/EUC_VIS_LSB_ObsID_2700_scaled.cut4.synth.lvl_sep.iptd.fits\n",
      "/home/aellien/Euclid_LSB_DR1/wavelets/out3/EUC_VIS_LSB_ObsID_2722_scaled.cut15.synth.lvl_sep.fits\n"
     ]
    },
    {
     "name": "stderr",
     "output_type": "stream",
     "text": [
      "WARNING: Input data contains invalid values (NaNs or infs), which were automatically clipped. [astropy.stats.sigma_clipping]\n"
     ]
    },
    {
     "name": "stdout",
     "output_type": "stream",
     "text": [
      "0.17813906 9.104061\n",
      "write to /home/aellien/Euclid_LSB_DR1/wavelets/out3/EUC_VIS_LSB_ObsID_2722_scaled.cut15.synth.lvl_sep.iptd.fits\n",
      "/home/aellien/Euclid_LSB_DR1/wavelets/out3/EUC_VIS_LSB_ObsID_2695_scaled.cut9.synth.lvl_sep.fits\n"
     ]
    },
    {
     "name": "stderr",
     "output_type": "stream",
     "text": [
      "WARNING: Input data contains invalid values (NaNs or infs), which were automatically clipped. [astropy.stats.sigma_clipping]\n"
     ]
    },
    {
     "name": "stdout",
     "output_type": "stream",
     "text": [
      "0.40952706 14.589745\n",
      "write to /home/aellien/Euclid_LSB_DR1/wavelets/out3/EUC_VIS_LSB_ObsID_2695_scaled.cut9.synth.lvl_sep.iptd.fits\n",
      "/home/aellien/Euclid_LSB_DR1/wavelets/out3/EUC_VIS_LSB_ObsID_2711_scaled.cut6.synth.lvl_sep.fits\n",
      "0.32458836 12.985474\n",
      "write to /home/aellien/Euclid_LSB_DR1/wavelets/out3/EUC_VIS_LSB_ObsID_2711_scaled.cut6.synth.lvl_sep.iptd.fits\n",
      "/home/aellien/Euclid_LSB_DR1/wavelets/out3/EUC_VIS_LSB_ObsID_2706_scaled.cut14.synth.lvl_sep.fits\n"
     ]
    },
    {
     "name": "stderr",
     "output_type": "stream",
     "text": [
      "WARNING: Input data contains invalid values (NaNs or infs), which were automatically clipped. [astropy.stats.sigma_clipping]\n"
     ]
    },
    {
     "name": "stdout",
     "output_type": "stream",
     "text": [
      "0.14394115 7.7370005\n",
      "write to /home/aellien/Euclid_LSB_DR1/wavelets/out3/EUC_VIS_LSB_ObsID_2706_scaled.cut14.synth.lvl_sep.iptd.fits\n",
      "/home/aellien/Euclid_LSB_DR1/wavelets/out3/EUC_VIS_LSB_ObsID_2710_scaled.cut6.synth.lvl_sep.fits\n",
      "0.27184597 11.333573\n",
      "write to /home/aellien/Euclid_LSB_DR1/wavelets/out3/EUC_VIS_LSB_ObsID_2710_scaled.cut6.synth.lvl_sep.iptd.fits\n",
      "/home/aellien/Euclid_LSB_DR1/wavelets/out3/EUC_VIS_LSB_ObsID_2713_scaled.cut4.synth.lvl_sep.fits\n"
     ]
    },
    {
     "name": "stderr",
     "output_type": "stream",
     "text": [
      "WARNING: Input data contains invalid values (NaNs or infs), which were automatically clipped. [astropy.stats.sigma_clipping]\n"
     ]
    },
    {
     "name": "stdout",
     "output_type": "stream",
     "text": [
      "0.55903757 17.600214\n",
      "write to /home/aellien/Euclid_LSB_DR1/wavelets/out3/EUC_VIS_LSB_ObsID_2713_scaled.cut4.synth.lvl_sep.iptd.fits\n",
      "/home/aellien/Euclid_LSB_DR1/wavelets/out3/EUC_VIS_LSB_ObsID_2707_scaled.cut10.synth.lvl_sep.fits\n",
      "0.23985803 10.750875\n",
      "write to /home/aellien/Euclid_LSB_DR1/wavelets/out3/EUC_VIS_LSB_ObsID_2707_scaled.cut10.synth.lvl_sep.iptd.fits\n",
      "/home/aellien/Euclid_LSB_DR1/wavelets/out3/EUC_VIS_LSB_ObsID_2717_scaled.cut3.synth.lvl_sep.fits\n"
     ]
    },
    {
     "name": "stderr",
     "output_type": "stream",
     "text": [
      "WARNING: Input data contains invalid values (NaNs or infs), which were automatically clipped. [astropy.stats.sigma_clipping]\n"
     ]
    },
    {
     "name": "stdout",
     "output_type": "stream",
     "text": [
      "0.15423307 8.073951\n",
      "write to /home/aellien/Euclid_LSB_DR1/wavelets/out3/EUC_VIS_LSB_ObsID_2717_scaled.cut3.synth.lvl_sep.iptd.fits\n",
      "/home/aellien/Euclid_LSB_DR1/wavelets/out3/EUC_VIS_LSB_ObsID_2690_scaled.cut16.synth.lvl_sep.fits\n"
     ]
    },
    {
     "name": "stderr",
     "output_type": "stream",
     "text": [
      "WARNING: Input data contains invalid values (NaNs or infs), which were automatically clipped. [astropy.stats.sigma_clipping]\n"
     ]
    },
    {
     "name": "stdout",
     "output_type": "stream",
     "text": [
      "0.16348532 8.540461\n",
      "write to /home/aellien/Euclid_LSB_DR1/wavelets/out3/EUC_VIS_LSB_ObsID_2690_scaled.cut16.synth.lvl_sep.iptd.fits\n",
      "/home/aellien/Euclid_LSB_DR1/wavelets/out3/EUC_VIS_LSB_ObsID_2684_scaled.cut2.synth.lvl_sep.fits\n"
     ]
    },
    {
     "name": "stderr",
     "output_type": "stream",
     "text": [
      "WARNING: Input data contains invalid values (NaNs or infs), which were automatically clipped. [astropy.stats.sigma_clipping]\n"
     ]
    },
    {
     "name": "stdout",
     "output_type": "stream",
     "text": [
      "0.17266151 8.580708\n",
      "write to /home/aellien/Euclid_LSB_DR1/wavelets/out3/EUC_VIS_LSB_ObsID_2684_scaled.cut2.synth.lvl_sep.iptd.fits\n",
      "/home/aellien/Euclid_LSB_DR1/wavelets/out3/EUC_VIS_LSB_ObsID_2703_scaled.cut15.synth.lvl_sep.fits\n"
     ]
    },
    {
     "name": "stderr",
     "output_type": "stream",
     "text": [
      "WARNING: Input data contains invalid values (NaNs or infs), which were automatically clipped. [astropy.stats.sigma_clipping]\n"
     ]
    },
    {
     "name": "stdout",
     "output_type": "stream",
     "text": [
      "0.23182803 10.298087\n",
      "write to /home/aellien/Euclid_LSB_DR1/wavelets/out3/EUC_VIS_LSB_ObsID_2703_scaled.cut15.synth.lvl_sep.iptd.fits\n",
      "/home/aellien/Euclid_LSB_DR1/wavelets/out3/EUC_VIS_LSB_ObsID_2685_scaled.cut6.synth.lvl_sep.fits\n",
      "0.1909869 9.20558\n",
      "write to /home/aellien/Euclid_LSB_DR1/wavelets/out3/EUC_VIS_LSB_ObsID_2685_scaled.cut6.synth.lvl_sep.iptd.fits\n",
      "/home/aellien/Euclid_LSB_DR1/wavelets/out3/EUC_VIS_LSB_ObsID_2685_scaled.cut5.synth.lvl_sep.fits\n"
     ]
    },
    {
     "name": "stderr",
     "output_type": "stream",
     "text": [
      "WARNING: Input data contains invalid values (NaNs or infs), which were automatically clipped. [astropy.stats.sigma_clipping]\n"
     ]
    },
    {
     "name": "stdout",
     "output_type": "stream",
     "text": [
      "0.27965376 11.567896\n",
      "write to /home/aellien/Euclid_LSB_DR1/wavelets/out3/EUC_VIS_LSB_ObsID_2685_scaled.cut5.synth.lvl_sep.iptd.fits\n",
      "/home/aellien/Euclid_LSB_DR1/wavelets/out3/EUC_VIS_LSB_ObsID_2701_scaled.cut11.synth.lvl_sep.fits\n",
      "0.19143903 9.128312\n",
      "write to /home/aellien/Euclid_LSB_DR1/wavelets/out3/EUC_VIS_LSB_ObsID_2701_scaled.cut11.synth.lvl_sep.iptd.fits\n",
      "/home/aellien/Euclid_LSB_DR1/wavelets/out3/EUC_VIS_LSB_ObsID_2708_scaled.cut3.synth.lvl_sep.fits\n"
     ]
    },
    {
     "name": "stderr",
     "output_type": "stream",
     "text": [
      "WARNING: Input data contains invalid values (NaNs or infs), which were automatically clipped. [astropy.stats.sigma_clipping]\n"
     ]
    },
    {
     "name": "stdout",
     "output_type": "stream",
     "text": [
      "0.19971682 10.202626\n",
      "write to /home/aellien/Euclid_LSB_DR1/wavelets/out3/EUC_VIS_LSB_ObsID_2708_scaled.cut3.synth.lvl_sep.iptd.fits\n",
      "/home/aellien/Euclid_LSB_DR1/wavelets/out3/EUC_VIS_LSB_ObsID_2686_scaled.cut3.synth.lvl_sep.fits\n"
     ]
    },
    {
     "name": "stderr",
     "output_type": "stream",
     "text": [
      "WARNING: Input data contains invalid values (NaNs or infs), which were automatically clipped. [astropy.stats.sigma_clipping]\n"
     ]
    },
    {
     "name": "stdout",
     "output_type": "stream",
     "text": [
      "0.2026966 9.650649\n",
      "write to /home/aellien/Euclid_LSB_DR1/wavelets/out3/EUC_VIS_LSB_ObsID_2686_scaled.cut3.synth.lvl_sep.iptd.fits\n",
      "/home/aellien/Euclid_LSB_DR1/wavelets/out3/EUC_VIS_LSB_ObsID_2691_scaled.cut10.synth.lvl_sep.fits\n",
      "0.18868631 9.156006\n",
      "write to /home/aellien/Euclid_LSB_DR1/wavelets/out3/EUC_VIS_LSB_ObsID_2691_scaled.cut10.synth.lvl_sep.iptd.fits\n",
      "/home/aellien/Euclid_LSB_DR1/wavelets/out3/EUC_VIS_LSB_ObsID_2705_scaled.cut5.synth.lvl_sep.fits\n"
     ]
    },
    {
     "name": "stderr",
     "output_type": "stream",
     "text": [
      "WARNING: Input data contains invalid values (NaNs or infs), which were automatically clipped. [astropy.stats.sigma_clipping]\n"
     ]
    },
    {
     "name": "stdout",
     "output_type": "stream",
     "text": [
      "0.09010837 5.851271\n",
      "write to /home/aellien/Euclid_LSB_DR1/wavelets/out3/EUC_VIS_LSB_ObsID_2705_scaled.cut5.synth.lvl_sep.iptd.fits\n",
      "/home/aellien/Euclid_LSB_DR1/wavelets/out3/EUC_VIS_LSB_ObsID_2698_scaled.cut2.synth.lvl_sep.fits\n"
     ]
    },
    {
     "name": "stderr",
     "output_type": "stream",
     "text": [
      "WARNING: Input data contains invalid values (NaNs or infs), which were automatically clipped. [astropy.stats.sigma_clipping]\n"
     ]
    },
    {
     "name": "stdout",
     "output_type": "stream",
     "text": [
      "0.18959779 8.898147\n",
      "write to /home/aellien/Euclid_LSB_DR1/wavelets/out3/EUC_VIS_LSB_ObsID_2698_scaled.cut2.synth.lvl_sep.iptd.fits\n",
      "/home/aellien/Euclid_LSB_DR1/wavelets/out3/EUC_VIS_LSB_ObsID_2691_scaled.cut6.synth.lvl_sep.fits\n",
      "0.27023274 11.758075\n",
      "write to /home/aellien/Euclid_LSB_DR1/wavelets/out3/EUC_VIS_LSB_ObsID_2691_scaled.cut6.synth.lvl_sep.iptd.fits\n",
      "/home/aellien/Euclid_LSB_DR1/wavelets/out3/EUC_VIS_LSB_ObsID_2716_scaled.cut5.synth.lvl_sep.fits\n"
     ]
    },
    {
     "name": "stderr",
     "output_type": "stream",
     "text": [
      "WARNING: Input data contains invalid values (NaNs or infs), which were automatically clipped. [astropy.stats.sigma_clipping]\n"
     ]
    },
    {
     "name": "stdout",
     "output_type": "stream",
     "text": [
      "0.24016611 10.392015\n",
      "write to /home/aellien/Euclid_LSB_DR1/wavelets/out3/EUC_VIS_LSB_ObsID_2716_scaled.cut5.synth.lvl_sep.iptd.fits\n",
      "/home/aellien/Euclid_LSB_DR1/wavelets/out3/EUC_VIS_LSB_ObsID_2719_scaled.cut13.synth.lvl_sep.fits\n"
     ]
    },
    {
     "name": "stderr",
     "output_type": "stream",
     "text": [
      "WARNING: Input data contains invalid values (NaNs or infs), which were automatically clipped. [astropy.stats.sigma_clipping]\n"
     ]
    },
    {
     "name": "stdout",
     "output_type": "stream",
     "text": [
      "0.42693168 15.424011\n",
      "write to /home/aellien/Euclid_LSB_DR1/wavelets/out3/EUC_VIS_LSB_ObsID_2719_scaled.cut13.synth.lvl_sep.iptd.fits\n",
      "/home/aellien/Euclid_LSB_DR1/wavelets/out3/EUC_VIS_LSB_ObsID_2705_scaled.cut2.synth.lvl_sep.fits\n"
     ]
    },
    {
     "name": "stderr",
     "output_type": "stream",
     "text": [
      "WARNING: Input data contains invalid values (NaNs or infs), which were automatically clipped. [astropy.stats.sigma_clipping]\n"
     ]
    },
    {
     "name": "stdout",
     "output_type": "stream",
     "text": [
      "0.21050943 10.272092\n",
      "write to /home/aellien/Euclid_LSB_DR1/wavelets/out3/EUC_VIS_LSB_ObsID_2705_scaled.cut2.synth.lvl_sep.iptd.fits\n",
      "/home/aellien/Euclid_LSB_DR1/wavelets/out3/EUC_VIS_LSB_ObsID_2706_scaled.cut8.synth.lvl_sep.fits\n"
     ]
    },
    {
     "name": "stderr",
     "output_type": "stream",
     "text": [
      "WARNING: Input data contains invalid values (NaNs or infs), which were automatically clipped. [astropy.stats.sigma_clipping]\n"
     ]
    },
    {
     "name": "stdout",
     "output_type": "stream",
     "text": [
      "0.30382952 12.970871\n",
      "write to /home/aellien/Euclid_LSB_DR1/wavelets/out3/EUC_VIS_LSB_ObsID_2706_scaled.cut8.synth.lvl_sep.iptd.fits\n",
      "/home/aellien/Euclid_LSB_DR1/wavelets/out3/EUC_VIS_LSB_ObsID_2713_scaled.cut16.synth.lvl_sep.fits\n"
     ]
    },
    {
     "name": "stderr",
     "output_type": "stream",
     "text": [
      "WARNING: Input data contains invalid values (NaNs or infs), which were automatically clipped. [astropy.stats.sigma_clipping]\n"
     ]
    },
    {
     "name": "stdout",
     "output_type": "stream",
     "text": [
      "0.27992338 11.736816\n",
      "write to /home/aellien/Euclid_LSB_DR1/wavelets/out3/EUC_VIS_LSB_ObsID_2713_scaled.cut16.synth.lvl_sep.iptd.fits\n",
      "/home/aellien/Euclid_LSB_DR1/wavelets/out3/EUC_VIS_LSB_ObsID_2691_scaled.cut8.synth.lvl_sep.fits\n"
     ]
    },
    {
     "name": "stderr",
     "output_type": "stream",
     "text": [
      "WARNING: Input data contains invalid values (NaNs or infs), which were automatically clipped. [astropy.stats.sigma_clipping]\n"
     ]
    },
    {
     "name": "stdout",
     "output_type": "stream",
     "text": [
      "0.11931057 6.8266826\n",
      "write to /home/aellien/Euclid_LSB_DR1/wavelets/out3/EUC_VIS_LSB_ObsID_2691_scaled.cut8.synth.lvl_sep.iptd.fits\n",
      "/home/aellien/Euclid_LSB_DR1/wavelets/out3/EUC_VIS_LSB_ObsID_2703_scaled.cut10.synth.lvl_sep.fits\n",
      "0.23839931 10.72756\n",
      "write to /home/aellien/Euclid_LSB_DR1/wavelets/out3/EUC_VIS_LSB_ObsID_2703_scaled.cut10.synth.lvl_sep.iptd.fits\n",
      "/home/aellien/Euclid_LSB_DR1/wavelets/out3/EUC_VIS_LSB_ObsID_2723_scaled.cut15.synth.lvl_sep.fits\n"
     ]
    },
    {
     "name": "stderr",
     "output_type": "stream",
     "text": [
      "WARNING: Input data contains invalid values (NaNs or infs), which were automatically clipped. [astropy.stats.sigma_clipping]\n"
     ]
    },
    {
     "name": "stdout",
     "output_type": "stream",
     "text": [
      "0.23173831 10.85789\n",
      "write to /home/aellien/Euclid_LSB_DR1/wavelets/out3/EUC_VIS_LSB_ObsID_2723_scaled.cut15.synth.lvl_sep.iptd.fits\n",
      "/home/aellien/Euclid_LSB_DR1/wavelets/out3/EUC_VIS_LSB_ObsID_2692_scaled.cut10.synth.lvl_sep.fits\n",
      "0.20648706 9.943426\n",
      "write to /home/aellien/Euclid_LSB_DR1/wavelets/out3/EUC_VIS_LSB_ObsID_2692_scaled.cut10.synth.lvl_sep.iptd.fits\n",
      "/home/aellien/Euclid_LSB_DR1/wavelets/out3/EUC_VIS_LSB_ObsID_2710_scaled.cut14.synth.lvl_sep.fits\n"
     ]
    },
    {
     "name": "stderr",
     "output_type": "stream",
     "text": [
      "WARNING: Input data contains invalid values (NaNs or infs), which were automatically clipped. [astropy.stats.sigma_clipping]\n"
     ]
    },
    {
     "name": "stdout",
     "output_type": "stream",
     "text": [
      "0.29949412 11.916945\n",
      "write to /home/aellien/Euclid_LSB_DR1/wavelets/out3/EUC_VIS_LSB_ObsID_2710_scaled.cut14.synth.lvl_sep.iptd.fits\n",
      "/home/aellien/Euclid_LSB_DR1/wavelets/out3/EUC_VIS_LSB_ObsID_2718_scaled.cut7.synth.lvl_sep.fits\n",
      "0.24939269 10.806821\n",
      "write to /home/aellien/Euclid_LSB_DR1/wavelets/out3/EUC_VIS_LSB_ObsID_2718_scaled.cut7.synth.lvl_sep.iptd.fits\n",
      "/home/aellien/Euclid_LSB_DR1/wavelets/out3/EUC_VIS_LSB_ObsID_2705_scaled.cut11.synth.lvl_sep.fits\n"
     ]
    },
    {
     "name": "stderr",
     "output_type": "stream",
     "text": [
      "WARNING: Input data contains invalid values (NaNs or infs), which were automatically clipped. [astropy.stats.sigma_clipping]\n"
     ]
    },
    {
     "name": "stdout",
     "output_type": "stream",
     "text": [
      "0.29684412 12.257734\n",
      "write to /home/aellien/Euclid_LSB_DR1/wavelets/out3/EUC_VIS_LSB_ObsID_2705_scaled.cut11.synth.lvl_sep.iptd.fits\n",
      "/home/aellien/Euclid_LSB_DR1/wavelets/out3/EUC_VIS_LSB_ObsID_2708_scaled.cut15.synth.lvl_sep.fits\n"
     ]
    },
    {
     "name": "stderr",
     "output_type": "stream",
     "text": [
      "WARNING: Input data contains invalid values (NaNs or infs), which were automatically clipped. [astropy.stats.sigma_clipping]\n"
     ]
    },
    {
     "name": "stdout",
     "output_type": "stream",
     "text": [
      "0.22212242 10.126596\n",
      "write to /home/aellien/Euclid_LSB_DR1/wavelets/out3/EUC_VIS_LSB_ObsID_2708_scaled.cut15.synth.lvl_sep.iptd.fits\n",
      "/home/aellien/Euclid_LSB_DR1/wavelets/out3/EUC_VIS_LSB_ObsID_2723_scaled.cut6.synth.lvl_sep.fits\n"
     ]
    },
    {
     "name": "stderr",
     "output_type": "stream",
     "text": [
      "WARNING: Input data contains invalid values (NaNs or infs), which were automatically clipped. [astropy.stats.sigma_clipping]\n"
     ]
    },
    {
     "name": "stdout",
     "output_type": "stream",
     "text": [
      "0.24278238 10.377817\n",
      "write to /home/aellien/Euclid_LSB_DR1/wavelets/out3/EUC_VIS_LSB_ObsID_2723_scaled.cut6.synth.lvl_sep.iptd.fits\n",
      "/home/aellien/Euclid_LSB_DR1/wavelets/out3/EUC_VIS_LSB_ObsID_2708_scaled.cut4.synth.lvl_sep.fits\n"
     ]
    },
    {
     "name": "stderr",
     "output_type": "stream",
     "text": [
      "WARNING: Input data contains invalid values (NaNs or infs), which were automatically clipped. [astropy.stats.sigma_clipping]\n"
     ]
    },
    {
     "name": "stdout",
     "output_type": "stream",
     "text": [
      "0.24838242 10.537501\n",
      "write to /home/aellien/Euclid_LSB_DR1/wavelets/out3/EUC_VIS_LSB_ObsID_2708_scaled.cut4.synth.lvl_sep.iptd.fits\n",
      "/home/aellien/Euclid_LSB_DR1/wavelets/out3/EUC_VIS_LSB_ObsID_2709_scaled.cut16.synth.lvl_sep.fits\n"
     ]
    },
    {
     "name": "stderr",
     "output_type": "stream",
     "text": [
      "WARNING: Input data contains invalid values (NaNs or infs), which were automatically clipped. [astropy.stats.sigma_clipping]\n"
     ]
    },
    {
     "name": "stdout",
     "output_type": "stream",
     "text": [
      "0.30522653 11.95278\n",
      "write to /home/aellien/Euclid_LSB_DR1/wavelets/out3/EUC_VIS_LSB_ObsID_2709_scaled.cut16.synth.lvl_sep.iptd.fits\n",
      "/home/aellien/Euclid_LSB_DR1/wavelets/out3/EUC_VIS_LSB_ObsID_2682_scaled.cut5.synth.lvl_sep.fits\n"
     ]
    },
    {
     "name": "stderr",
     "output_type": "stream",
     "text": [
      "WARNING: Input data contains invalid values (NaNs or infs), which were automatically clipped. [astropy.stats.sigma_clipping]\n"
     ]
    },
    {
     "name": "stdout",
     "output_type": "stream",
     "text": [
      "0.22653814 10.302339\n",
      "write to /home/aellien/Euclid_LSB_DR1/wavelets/out3/EUC_VIS_LSB_ObsID_2682_scaled.cut5.synth.lvl_sep.iptd.fits\n",
      "/home/aellien/Euclid_LSB_DR1/wavelets/out3/EUC_VIS_LSB_ObsID_2716_scaled.cut2.synth.lvl_sep.fits\n"
     ]
    },
    {
     "name": "stderr",
     "output_type": "stream",
     "text": [
      "WARNING: Input data contains invalid values (NaNs or infs), which were automatically clipped. [astropy.stats.sigma_clipping]\n"
     ]
    },
    {
     "name": "stdout",
     "output_type": "stream",
     "text": [
      "0.21943097 9.139868\n",
      "write to /home/aellien/Euclid_LSB_DR1/wavelets/out3/EUC_VIS_LSB_ObsID_2716_scaled.cut2.synth.lvl_sep.iptd.fits\n",
      "/home/aellien/Euclid_LSB_DR1/wavelets/out3/EUC_VIS_LSB_ObsID_2706_scaled.cut4.synth.lvl_sep.fits\n"
     ]
    },
    {
     "name": "stderr",
     "output_type": "stream",
     "text": [
      "WARNING: Input data contains invalid values (NaNs or infs), which were automatically clipped. [astropy.stats.sigma_clipping]\n"
     ]
    },
    {
     "name": "stdout",
     "output_type": "stream",
     "text": [
      "0.11713087 6.8806205\n",
      "write to /home/aellien/Euclid_LSB_DR1/wavelets/out3/EUC_VIS_LSB_ObsID_2706_scaled.cut4.synth.lvl_sep.iptd.fits\n",
      "/home/aellien/Euclid_LSB_DR1/wavelets/out3/EUC_VIS_LSB_ObsID_2720_scaled.cut6.synth.lvl_sep.fits\n"
     ]
    },
    {
     "name": "stderr",
     "output_type": "stream",
     "text": [
      "WARNING: Input data contains invalid values (NaNs or infs), which were automatically clipped. [astropy.stats.sigma_clipping]\n"
     ]
    },
    {
     "name": "stdout",
     "output_type": "stream",
     "text": [
      "0.30294785 13.126249\n",
      "write to /home/aellien/Euclid_LSB_DR1/wavelets/out3/EUC_VIS_LSB_ObsID_2720_scaled.cut6.synth.lvl_sep.iptd.fits\n",
      "/home/aellien/Euclid_LSB_DR1/wavelets/out3/EUC_VIS_LSB_ObsID_2693_scaled.cut12.synth.lvl_sep.fits\n"
     ]
    },
    {
     "name": "stderr",
     "output_type": "stream",
     "text": [
      "WARNING: Input data contains invalid values (NaNs or infs), which were automatically clipped. [astropy.stats.sigma_clipping]\n"
     ]
    },
    {
     "name": "stdout",
     "output_type": "stream",
     "text": [
      "0.19498363 9.426669\n",
      "write to /home/aellien/Euclid_LSB_DR1/wavelets/out3/EUC_VIS_LSB_ObsID_2693_scaled.cut12.synth.lvl_sep.iptd.fits\n",
      "/home/aellien/Euclid_LSB_DR1/wavelets/out3/EUC_VIS_LSB_ObsID_2694_scaled.cut7.synth.lvl_sep.fits\n",
      "0.19029205 9.445806\n",
      "write to /home/aellien/Euclid_LSB_DR1/wavelets/out3/EUC_VIS_LSB_ObsID_2694_scaled.cut7.synth.lvl_sep.iptd.fits\n",
      "/home/aellien/Euclid_LSB_DR1/wavelets/out3/EUC_VIS_LSB_ObsID_2704_scaled.cut4.synth.lvl_sep.fits\n"
     ]
    },
    {
     "name": "stderr",
     "output_type": "stream",
     "text": [
      "WARNING: Input data contains invalid values (NaNs or infs), which were automatically clipped. [astropy.stats.sigma_clipping]\n"
     ]
    },
    {
     "name": "stdout",
     "output_type": "stream",
     "text": [
      "0.17968318 8.880926\n",
      "write to /home/aellien/Euclid_LSB_DR1/wavelets/out3/EUC_VIS_LSB_ObsID_2704_scaled.cut4.synth.lvl_sep.iptd.fits\n",
      "/home/aellien/Euclid_LSB_DR1/wavelets/out3/EUC_VIS_LSB_ObsID_2696_scaled.cut14.synth.lvl_sep.fits\n"
     ]
    },
    {
     "name": "stderr",
     "output_type": "stream",
     "text": [
      "WARNING: Input data contains invalid values (NaNs or infs), which were automatically clipped. [astropy.stats.sigma_clipping]\n"
     ]
    },
    {
     "name": "stdout",
     "output_type": "stream",
     "text": [
      "0.17980994 8.919737\n",
      "write to /home/aellien/Euclid_LSB_DR1/wavelets/out3/EUC_VIS_LSB_ObsID_2696_scaled.cut14.synth.lvl_sep.iptd.fits\n",
      "/home/aellien/Euclid_LSB_DR1/wavelets/out3/EUC_VIS_LSB_ObsID_2702_scaled.cut14.synth.lvl_sep.fits\n"
     ]
    },
    {
     "name": "stderr",
     "output_type": "stream",
     "text": [
      "WARNING: Input data contains invalid values (NaNs or infs), which were automatically clipped. [astropy.stats.sigma_clipping]\n"
     ]
    },
    {
     "name": "stdout",
     "output_type": "stream",
     "text": [
      "0.17425975 8.772345\n",
      "write to /home/aellien/Euclid_LSB_DR1/wavelets/out3/EUC_VIS_LSB_ObsID_2702_scaled.cut14.synth.lvl_sep.iptd.fits\n",
      "/home/aellien/Euclid_LSB_DR1/wavelets/out3/EUC_VIS_LSB_ObsID_2722_scaled.cut3.synth.lvl_sep.fits\n"
     ]
    },
    {
     "name": "stderr",
     "output_type": "stream",
     "text": [
      "WARNING: Input data contains invalid values (NaNs or infs), which were automatically clipped. [astropy.stats.sigma_clipping]\n"
     ]
    },
    {
     "name": "stdout",
     "output_type": "stream",
     "text": [
      "0.34291223 13.231076\n",
      "write to /home/aellien/Euclid_LSB_DR1/wavelets/out3/EUC_VIS_LSB_ObsID_2722_scaled.cut3.synth.lvl_sep.iptd.fits\n",
      "/home/aellien/Euclid_LSB_DR1/wavelets/out3/EUC_VIS_LSB_ObsID_2717_scaled.cut15.synth.lvl_sep.fits\n"
     ]
    },
    {
     "name": "stderr",
     "output_type": "stream",
     "text": [
      "WARNING: Input data contains invalid values (NaNs or infs), which were automatically clipped. [astropy.stats.sigma_clipping]\n"
     ]
    },
    {
     "name": "stdout",
     "output_type": "stream",
     "text": [
      "0.1892837 9.81211\n",
      "write to /home/aellien/Euclid_LSB_DR1/wavelets/out3/EUC_VIS_LSB_ObsID_2717_scaled.cut15.synth.lvl_sep.iptd.fits\n",
      "/home/aellien/Euclid_LSB_DR1/wavelets/out3/EUC_VIS_LSB_ObsID_2697_scaled.cut2.synth.lvl_sep.fits\n"
     ]
    },
    {
     "name": "stderr",
     "output_type": "stream",
     "text": [
      "WARNING: Input data contains invalid values (NaNs or infs), which were automatically clipped. [astropy.stats.sigma_clipping]\n"
     ]
    },
    {
     "name": "stdout",
     "output_type": "stream",
     "text": [
      "0.1365205 7.5217214\n",
      "write to /home/aellien/Euclid_LSB_DR1/wavelets/out3/EUC_VIS_LSB_ObsID_2697_scaled.cut2.synth.lvl_sep.iptd.fits\n",
      "/home/aellien/Euclid_LSB_DR1/wavelets/out3/EUC_VIS_LSB_ObsID_2700_scaled.cut8.synth.lvl_sep.fits\n"
     ]
    },
    {
     "name": "stderr",
     "output_type": "stream",
     "text": [
      "WARNING: Input data contains invalid values (NaNs or infs), which were automatically clipped. [astropy.stats.sigma_clipping]\n"
     ]
    },
    {
     "name": "stdout",
     "output_type": "stream",
     "text": [
      "0.12989743 7.132892\n",
      "write to /home/aellien/Euclid_LSB_DR1/wavelets/out3/EUC_VIS_LSB_ObsID_2700_scaled.cut8.synth.lvl_sep.iptd.fits\n",
      "/home/aellien/Euclid_LSB_DR1/wavelets/out3/EUC_VIS_LSB_ObsID_2719_scaled.cut2.synth.lvl_sep.fits\n"
     ]
    },
    {
     "name": "stderr",
     "output_type": "stream",
     "text": [
      "WARNING: Input data contains invalid values (NaNs or infs), which were automatically clipped. [astropy.stats.sigma_clipping]\n"
     ]
    },
    {
     "name": "stdout",
     "output_type": "stream",
     "text": [
      "0.110786535 6.6740146\n",
      "write to /home/aellien/Euclid_LSB_DR1/wavelets/out3/EUC_VIS_LSB_ObsID_2719_scaled.cut2.synth.lvl_sep.iptd.fits\n",
      "/home/aellien/Euclid_LSB_DR1/wavelets/out3/EUC_VIS_LSB_ObsID_2685_scaled.cut2.synth.lvl_sep.fits\n"
     ]
    },
    {
     "name": "stderr",
     "output_type": "stream",
     "text": [
      "WARNING: Input data contains invalid values (NaNs or infs), which were automatically clipped. [astropy.stats.sigma_clipping]\n"
     ]
    },
    {
     "name": "stdout",
     "output_type": "stream",
     "text": [
      "0.3019413 12.397809\n",
      "write to /home/aellien/Euclid_LSB_DR1/wavelets/out3/EUC_VIS_LSB_ObsID_2685_scaled.cut2.synth.lvl_sep.iptd.fits\n",
      "/home/aellien/Euclid_LSB_DR1/wavelets/out3/EUC_VIS_LSB_ObsID_2689_scaled.cut12.synth.lvl_sep.fits\n"
     ]
    },
    {
     "name": "stderr",
     "output_type": "stream",
     "text": [
      "WARNING: Input data contains invalid values (NaNs or infs), which were automatically clipped. [astropy.stats.sigma_clipping]\n"
     ]
    },
    {
     "name": "stdout",
     "output_type": "stream",
     "text": [
      "0.35349765 13.854886\n",
      "write to /home/aellien/Euclid_LSB_DR1/wavelets/out3/EUC_VIS_LSB_ObsID_2689_scaled.cut12.synth.lvl_sep.iptd.fits\n",
      "/home/aellien/Euclid_LSB_DR1/wavelets/out3/EUC_VIS_LSB_ObsID_2703_scaled.cut9.synth.lvl_sep.fits\n"
     ]
    },
    {
     "name": "stderr",
     "output_type": "stream",
     "text": [
      "WARNING: Input data contains invalid values (NaNs or infs), which were automatically clipped. [astropy.stats.sigma_clipping]\n"
     ]
    },
    {
     "name": "stdout",
     "output_type": "stream",
     "text": [
      "0.18323933 9.014172\n",
      "write to /home/aellien/Euclid_LSB_DR1/wavelets/out3/EUC_VIS_LSB_ObsID_2703_scaled.cut9.synth.lvl_sep.iptd.fits\n",
      "/home/aellien/Euclid_LSB_DR1/wavelets/out3/EUC_VIS_LSB_ObsID_2692_scaled.cut2.synth.lvl_sep.fits\n"
     ]
    },
    {
     "name": "stderr",
     "output_type": "stream",
     "text": [
      "WARNING: Input data contains invalid values (NaNs or infs), which were automatically clipped. [astropy.stats.sigma_clipping]\n"
     ]
    },
    {
     "name": "stdout",
     "output_type": "stream",
     "text": [
      "0.14220016 7.6766167\n",
      "write to /home/aellien/Euclid_LSB_DR1/wavelets/out3/EUC_VIS_LSB_ObsID_2692_scaled.cut2.synth.lvl_sep.iptd.fits\n",
      "/home/aellien/Euclid_LSB_DR1/wavelets/out3/EUC_VIS_LSB_ObsID_2710_scaled.cut2.synth.lvl_sep.fits\n"
     ]
    },
    {
     "name": "stderr",
     "output_type": "stream",
     "text": [
      "WARNING: Input data contains invalid values (NaNs or infs), which were automatically clipped. [astropy.stats.sigma_clipping]\n"
     ]
    },
    {
     "name": "stdout",
     "output_type": "stream",
     "text": [
      "0.30855578 13.290458\n",
      "write to /home/aellien/Euclid_LSB_DR1/wavelets/out3/EUC_VIS_LSB_ObsID_2710_scaled.cut2.synth.lvl_sep.iptd.fits\n",
      "/home/aellien/Euclid_LSB_DR1/wavelets/out3/EUC_VIS_LSB_ObsID_2682_scaled.cut2.synth.lvl_sep.fits\n"
     ]
    },
    {
     "name": "stderr",
     "output_type": "stream",
     "text": [
      "WARNING: Input data contains invalid values (NaNs or infs), which were automatically clipped. [astropy.stats.sigma_clipping]\n"
     ]
    },
    {
     "name": "stdout",
     "output_type": "stream",
     "text": [
      "0.14583857 7.811877\n",
      "write to /home/aellien/Euclid_LSB_DR1/wavelets/out3/EUC_VIS_LSB_ObsID_2682_scaled.cut2.synth.lvl_sep.iptd.fits\n",
      "/home/aellien/Euclid_LSB_DR1/wavelets/out3/EUC_VIS_LSB_ObsID_2690_scaled.cut6.synth.lvl_sep.fits\n",
      "0.13617766 7.662969\n",
      "write to /home/aellien/Euclid_LSB_DR1/wavelets/out3/EUC_VIS_LSB_ObsID_2690_scaled.cut6.synth.lvl_sep.iptd.fits\n",
      "/home/aellien/Euclid_LSB_DR1/wavelets/out3/EUC_VIS_LSB_ObsID_2692_scaled.cut4.synth.lvl_sep.fits\n"
     ]
    },
    {
     "name": "stderr",
     "output_type": "stream",
     "text": [
      "WARNING: Input data contains invalid values (NaNs or infs), which were automatically clipped. [astropy.stats.sigma_clipping]\n"
     ]
    },
    {
     "name": "stdout",
     "output_type": "stream",
     "text": [
      "0.1800386 9.113353\n",
      "write to /home/aellien/Euclid_LSB_DR1/wavelets/out3/EUC_VIS_LSB_ObsID_2692_scaled.cut4.synth.lvl_sep.iptd.fits\n",
      "/home/aellien/Euclid_LSB_DR1/wavelets/out3/EUC_VIS_LSB_ObsID_2694_scaled.cut10.synth.lvl_sep.fits\n",
      "0.1631701 8.286833\n",
      "write to /home/aellien/Euclid_LSB_DR1/wavelets/out3/EUC_VIS_LSB_ObsID_2694_scaled.cut10.synth.lvl_sep.iptd.fits\n",
      "/home/aellien/Euclid_LSB_DR1/wavelets/out3/EUC_VIS_LSB_ObsID_2711_scaled.cut13.synth.lvl_sep.fits\n"
     ]
    },
    {
     "name": "stderr",
     "output_type": "stream",
     "text": [
      "WARNING: Input data contains invalid values (NaNs or infs), which were automatically clipped. [astropy.stats.sigma_clipping]\n"
     ]
    },
    {
     "name": "stdout",
     "output_type": "stream",
     "text": [
      "0.14650363 8.309206\n",
      "write to /home/aellien/Euclid_LSB_DR1/wavelets/out3/EUC_VIS_LSB_ObsID_2711_scaled.cut13.synth.lvl_sep.iptd.fits\n",
      "/home/aellien/Euclid_LSB_DR1/wavelets/out3/EUC_VIS_LSB_ObsID_2709_scaled.cut11.synth.lvl_sep.fits\n",
      "0.16064534 8.428056\n",
      "write to /home/aellien/Euclid_LSB_DR1/wavelets/out3/EUC_VIS_LSB_ObsID_2709_scaled.cut11.synth.lvl_sep.iptd.fits\n",
      "/home/aellien/Euclid_LSB_DR1/wavelets/out3/EUC_VIS_LSB_ObsID_2683_scaled.cut8.synth.lvl_sep.fits\n"
     ]
    },
    {
     "name": "stderr",
     "output_type": "stream",
     "text": [
      "WARNING: Input data contains invalid values (NaNs or infs), which were automatically clipped. [astropy.stats.sigma_clipping]\n"
     ]
    },
    {
     "name": "stdout",
     "output_type": "stream",
     "text": [
      "0.19038615 9.329864\n",
      "write to /home/aellien/Euclid_LSB_DR1/wavelets/out3/EUC_VIS_LSB_ObsID_2683_scaled.cut8.synth.lvl_sep.iptd.fits\n",
      "/home/aellien/Euclid_LSB_DR1/wavelets/out3/EUC_VIS_LSB_ObsID_2708_scaled.cut5.synth.lvl_sep.fits\n"
     ]
    },
    {
     "name": "stderr",
     "output_type": "stream",
     "text": [
      "WARNING: Input data contains invalid values (NaNs or infs), which were automatically clipped. [astropy.stats.sigma_clipping]\n"
     ]
    },
    {
     "name": "stdout",
     "output_type": "stream",
     "text": [
      "0.21095815 9.613492\n",
      "write to /home/aellien/Euclid_LSB_DR1/wavelets/out3/EUC_VIS_LSB_ObsID_2708_scaled.cut5.synth.lvl_sep.iptd.fits\n",
      "/home/aellien/Euclid_LSB_DR1/wavelets/out3/EUC_VIS_LSB_ObsID_2702_scaled.cut7.synth.lvl_sep.fits\n",
      "0.21600018 9.850093\n",
      "write to /home/aellien/Euclid_LSB_DR1/wavelets/out3/EUC_VIS_LSB_ObsID_2702_scaled.cut7.synth.lvl_sep.iptd.fits\n",
      "/home/aellien/Euclid_LSB_DR1/wavelets/out3/EUC_VIS_LSB_ObsID_2709_scaled.cut4.synth.lvl_sep.fits\n"
     ]
    },
    {
     "name": "stderr",
     "output_type": "stream",
     "text": [
      "WARNING: Input data contains invalid values (NaNs or infs), which were automatically clipped. [astropy.stats.sigma_clipping]\n"
     ]
    },
    {
     "name": "stdout",
     "output_type": "stream",
     "text": [
      "0.62158304 19.182602\n",
      "write to /home/aellien/Euclid_LSB_DR1/wavelets/out3/EUC_VIS_LSB_ObsID_2709_scaled.cut4.synth.lvl_sep.iptd.fits\n",
      "/home/aellien/Euclid_LSB_DR1/wavelets/out3/EUC_VIS_LSB_ObsID_2685_scaled.cut7.synth.lvl_sep.fits\n",
      "0.23427258 10.704761\n",
      "write to /home/aellien/Euclid_LSB_DR1/wavelets/out3/EUC_VIS_LSB_ObsID_2685_scaled.cut7.synth.lvl_sep.iptd.fits\n",
      "/home/aellien/Euclid_LSB_DR1/wavelets/out3/EUC_VIS_LSB_ObsID_2687_scaled.cut3.synth.lvl_sep.fits\n"
     ]
    },
    {
     "name": "stderr",
     "output_type": "stream",
     "text": [
      "WARNING: Input data contains invalid values (NaNs or infs), which were automatically clipped. [astropy.stats.sigma_clipping]\n"
     ]
    },
    {
     "name": "stdout",
     "output_type": "stream",
     "text": [
      "0.1568995 8.252292\n",
      "write to /home/aellien/Euclid_LSB_DR1/wavelets/out3/EUC_VIS_LSB_ObsID_2687_scaled.cut3.synth.lvl_sep.iptd.fits\n",
      "/home/aellien/Euclid_LSB_DR1/wavelets/out3/EUC_VIS_LSB_ObsID_2685_scaled.cut13.synth.lvl_sep.fits\n"
     ]
    },
    {
     "name": "stderr",
     "output_type": "stream",
     "text": [
      "WARNING: Input data contains invalid values (NaNs or infs), which were automatically clipped. [astropy.stats.sigma_clipping]\n"
     ]
    },
    {
     "name": "stdout",
     "output_type": "stream",
     "text": [
      "0.14737524 7.9721427\n",
      "write to /home/aellien/Euclid_LSB_DR1/wavelets/out3/EUC_VIS_LSB_ObsID_2685_scaled.cut13.synth.lvl_sep.iptd.fits\n",
      "/home/aellien/Euclid_LSB_DR1/wavelets/out3/EUC_VIS_LSB_ObsID_2718_scaled.cut16.synth.lvl_sep.fits\n"
     ]
    },
    {
     "name": "stderr",
     "output_type": "stream",
     "text": [
      "WARNING: Input data contains invalid values (NaNs or infs), which were automatically clipped. [astropy.stats.sigma_clipping]\n"
     ]
    },
    {
     "name": "stdout",
     "output_type": "stream",
     "text": [
      "0.1870864 8.760821\n",
      "write to /home/aellien/Euclid_LSB_DR1/wavelets/out3/EUC_VIS_LSB_ObsID_2718_scaled.cut16.synth.lvl_sep.iptd.fits\n",
      "/home/aellien/Euclid_LSB_DR1/wavelets/out3/EUC_VIS_LSB_ObsID_2700_scaled.cut6.synth.lvl_sep.fits\n",
      "0.2579297 11.335737\n",
      "write to /home/aellien/Euclid_LSB_DR1/wavelets/out3/EUC_VIS_LSB_ObsID_2700_scaled.cut6.synth.lvl_sep.iptd.fits\n",
      "/home/aellien/Euclid_LSB_DR1/wavelets/out3/EUC_VIS_LSB_ObsID_2694_scaled.cut14.synth.lvl_sep.fits\n"
     ]
    },
    {
     "name": "stderr",
     "output_type": "stream",
     "text": [
      "WARNING: Input data contains invalid values (NaNs or infs), which were automatically clipped. [astropy.stats.sigma_clipping]\n"
     ]
    },
    {
     "name": "stdout",
     "output_type": "stream",
     "text": [
      "0.12017336 6.6699095\n",
      "write to /home/aellien/Euclid_LSB_DR1/wavelets/out3/EUC_VIS_LSB_ObsID_2694_scaled.cut14.synth.lvl_sep.iptd.fits\n",
      "/home/aellien/Euclid_LSB_DR1/wavelets/out3/EUC_VIS_LSB_ObsID_2706_scaled.cut12.synth.lvl_sep.fits\n"
     ]
    },
    {
     "name": "stderr",
     "output_type": "stream",
     "text": [
      "WARNING: Input data contains invalid values (NaNs or infs), which were automatically clipped. [astropy.stats.sigma_clipping]\n"
     ]
    },
    {
     "name": "stdout",
     "output_type": "stream",
     "text": [
      "0.21577756 10.44977\n",
      "write to /home/aellien/Euclid_LSB_DR1/wavelets/out3/EUC_VIS_LSB_ObsID_2706_scaled.cut12.synth.lvl_sep.iptd.fits\n",
      "/home/aellien/Euclid_LSB_DR1/wavelets/out3/EUC_VIS_LSB_ObsID_2695_scaled.cut5.synth.lvl_sep.fits\n"
     ]
    },
    {
     "name": "stderr",
     "output_type": "stream",
     "text": [
      "WARNING: Input data contains invalid values (NaNs or infs), which were automatically clipped. [astropy.stats.sigma_clipping]\n"
     ]
    },
    {
     "name": "stdout",
     "output_type": "stream",
     "text": [
      "0.3270543 13.420421\n",
      "write to /home/aellien/Euclid_LSB_DR1/wavelets/out3/EUC_VIS_LSB_ObsID_2695_scaled.cut5.synth.lvl_sep.iptd.fits\n",
      "/home/aellien/Euclid_LSB_DR1/wavelets/out3/EUC_VIS_LSB_ObsID_2696_scaled.cut11.synth.lvl_sep.fits\n"
     ]
    },
    {
     "name": "stderr",
     "output_type": "stream",
     "text": [
      "WARNING: Input data contains invalid values (NaNs or infs), which were automatically clipped. [astropy.stats.sigma_clipping]\n"
     ]
    },
    {
     "name": "stdout",
     "output_type": "stream",
     "text": [
      "0.26887172 11.376618\n",
      "write to /home/aellien/Euclid_LSB_DR1/wavelets/out3/EUC_VIS_LSB_ObsID_2696_scaled.cut11.synth.lvl_sep.iptd.fits\n",
      "/home/aellien/Euclid_LSB_DR1/wavelets/out3/EUC_VIS_LSB_ObsID_2696_scaled.cut3.synth.lvl_sep.fits\n"
     ]
    },
    {
     "name": "stderr",
     "output_type": "stream",
     "text": [
      "WARNING: Input data contains invalid values (NaNs or infs), which were automatically clipped. [astropy.stats.sigma_clipping]\n"
     ]
    },
    {
     "name": "stdout",
     "output_type": "stream",
     "text": [
      "0.24642578 10.362836\n",
      "write to /home/aellien/Euclid_LSB_DR1/wavelets/out3/EUC_VIS_LSB_ObsID_2696_scaled.cut3.synth.lvl_sep.iptd.fits\n",
      "/home/aellien/Euclid_LSB_DR1/wavelets/out3/EUC_VIS_LSB_ObsID_2689_scaled.cut2.synth.lvl_sep.fits\n"
     ]
    },
    {
     "name": "stderr",
     "output_type": "stream",
     "text": [
      "WARNING: Input data contains invalid values (NaNs or infs), which were automatically clipped. [astropy.stats.sigma_clipping]\n"
     ]
    },
    {
     "name": "stdout",
     "output_type": "stream",
     "text": [
      "0.17546767 8.966978\n",
      "write to /home/aellien/Euclid_LSB_DR1/wavelets/out3/EUC_VIS_LSB_ObsID_2689_scaled.cut2.synth.lvl_sep.iptd.fits\n",
      "/home/aellien/Euclid_LSB_DR1/wavelets/out3/EUC_VIS_LSB_ObsID_2719_scaled.cut7.synth.lvl_sep.fits\n",
      "0.3178976 13.164533\n",
      "write to /home/aellien/Euclid_LSB_DR1/wavelets/out3/EUC_VIS_LSB_ObsID_2719_scaled.cut7.synth.lvl_sep.iptd.fits\n",
      "/home/aellien/Euclid_LSB_DR1/wavelets/out3/EUC_VIS_LSB_ObsID_2684_scaled.cut5.synth.lvl_sep.fits\n"
     ]
    },
    {
     "name": "stderr",
     "output_type": "stream",
     "text": [
      "WARNING: Input data contains invalid values (NaNs or infs), which were automatically clipped. [astropy.stats.sigma_clipping]\n"
     ]
    },
    {
     "name": "stdout",
     "output_type": "stream",
     "text": [
      "0.20452657 9.770313\n",
      "write to /home/aellien/Euclid_LSB_DR1/wavelets/out3/EUC_VIS_LSB_ObsID_2684_scaled.cut5.synth.lvl_sep.iptd.fits\n",
      "/home/aellien/Euclid_LSB_DR1/wavelets/out3/EUC_VIS_LSB_ObsID_2687_scaled.cut11.synth.lvl_sep.fits\n",
      "0.08627636 5.5000725\n",
      "write to /home/aellien/Euclid_LSB_DR1/wavelets/out3/EUC_VIS_LSB_ObsID_2687_scaled.cut11.synth.lvl_sep.iptd.fits\n",
      "/home/aellien/Euclid_LSB_DR1/wavelets/out3/EUC_VIS_LSB_ObsID_2714_scaled.cut12.synth.lvl_sep.fits\n"
     ]
    },
    {
     "name": "stderr",
     "output_type": "stream",
     "text": [
      "WARNING: Input data contains invalid values (NaNs or infs), which were automatically clipped. [astropy.stats.sigma_clipping]\n"
     ]
    },
    {
     "name": "stdout",
     "output_type": "stream",
     "text": [
      "0.30889124 12.667185\n",
      "write to /home/aellien/Euclid_LSB_DR1/wavelets/out3/EUC_VIS_LSB_ObsID_2714_scaled.cut12.synth.lvl_sep.iptd.fits\n",
      "/home/aellien/Euclid_LSB_DR1/wavelets/out3/EUC_VIS_LSB_ObsID_2702_scaled.cut11.synth.lvl_sep.fits\n",
      "0.30078351 12.137138\n",
      "write to /home/aellien/Euclid_LSB_DR1/wavelets/out3/EUC_VIS_LSB_ObsID_2702_scaled.cut11.synth.lvl_sep.iptd.fits\n",
      "/home/aellien/Euclid_LSB_DR1/wavelets/out3/EUC_VIS_LSB_ObsID_2686_scaled.cut13.synth.lvl_sep.fits\n"
     ]
    },
    {
     "name": "stderr",
     "output_type": "stream",
     "text": [
      "WARNING: Input data contains invalid values (NaNs or infs), which were automatically clipped. [astropy.stats.sigma_clipping]\n"
     ]
    },
    {
     "name": "stdout",
     "output_type": "stream",
     "text": [
      "0.18284711 8.748627\n",
      "write to /home/aellien/Euclid_LSB_DR1/wavelets/out3/EUC_VIS_LSB_ObsID_2686_scaled.cut13.synth.lvl_sep.iptd.fits\n",
      "/home/aellien/Euclid_LSB_DR1/wavelets/out3/EUC_VIS_LSB_ObsID_2685_scaled.cut16.synth.lvl_sep.fits\n"
     ]
    },
    {
     "name": "stderr",
     "output_type": "stream",
     "text": [
      "WARNING: Input data contains invalid values (NaNs or infs), which were automatically clipped. [astropy.stats.sigma_clipping]\n"
     ]
    },
    {
     "name": "stdout",
     "output_type": "stream",
     "text": [
      "0.1537873 7.6277704\n",
      "write to /home/aellien/Euclid_LSB_DR1/wavelets/out3/EUC_VIS_LSB_ObsID_2685_scaled.cut16.synth.lvl_sep.iptd.fits\n",
      "/home/aellien/Euclid_LSB_DR1/wavelets/out3/EUC_VIS_LSB_ObsID_2686_scaled.cut16.synth.lvl_sep.fits\n"
     ]
    },
    {
     "name": "stderr",
     "output_type": "stream",
     "text": [
      "WARNING: Input data contains invalid values (NaNs or infs), which were automatically clipped. [astropy.stats.sigma_clipping]\n"
     ]
    },
    {
     "name": "stdout",
     "output_type": "stream",
     "text": [
      "0.26576805 11.993551\n",
      "write to /home/aellien/Euclid_LSB_DR1/wavelets/out3/EUC_VIS_LSB_ObsID_2686_scaled.cut16.synth.lvl_sep.iptd.fits\n",
      "/home/aellien/Euclid_LSB_DR1/wavelets/out3/EUC_VIS_LSB_ObsID_2723_scaled.cut16.synth.lvl_sep.fits\n"
     ]
    },
    {
     "name": "stderr",
     "output_type": "stream",
     "text": [
      "WARNING: Input data contains invalid values (NaNs or infs), which were automatically clipped. [astropy.stats.sigma_clipping]\n"
     ]
    },
    {
     "name": "stdout",
     "output_type": "stream",
     "text": [
      "0.2685406 11.692794\n",
      "write to /home/aellien/Euclid_LSB_DR1/wavelets/out3/EUC_VIS_LSB_ObsID_2723_scaled.cut16.synth.lvl_sep.iptd.fits\n",
      "/home/aellien/Euclid_LSB_DR1/wavelets/out3/EUC_VIS_LSB_ObsID_2708_scaled.cut9.synth.lvl_sep.fits\n"
     ]
    },
    {
     "name": "stderr",
     "output_type": "stream",
     "text": [
      "WARNING: Input data contains invalid values (NaNs or infs), which were automatically clipped. [astropy.stats.sigma_clipping]\n"
     ]
    },
    {
     "name": "stdout",
     "output_type": "stream",
     "text": [
      "0.14386126 7.5003705\n",
      "write to /home/aellien/Euclid_LSB_DR1/wavelets/out3/EUC_VIS_LSB_ObsID_2708_scaled.cut9.synth.lvl_sep.iptd.fits\n",
      "/home/aellien/Euclid_LSB_DR1/wavelets/out3/EUC_VIS_LSB_ObsID_2698_scaled.cut8.synth.lvl_sep.fits\n"
     ]
    },
    {
     "name": "stderr",
     "output_type": "stream",
     "text": [
      "WARNING: Input data contains invalid values (NaNs or infs), which were automatically clipped. [astropy.stats.sigma_clipping]\n"
     ]
    },
    {
     "name": "stdout",
     "output_type": "stream",
     "text": [
      "0.497428 17.647131\n",
      "write to /home/aellien/Euclid_LSB_DR1/wavelets/out3/EUC_VIS_LSB_ObsID_2698_scaled.cut8.synth.lvl_sep.iptd.fits\n",
      "/home/aellien/Euclid_LSB_DR1/wavelets/out3/EUC_VIS_LSB_ObsID_2705_scaled.cut14.synth.lvl_sep.fits\n"
     ]
    },
    {
     "name": "stderr",
     "output_type": "stream",
     "text": [
      "WARNING: Input data contains invalid values (NaNs or infs), which were automatically clipped. [astropy.stats.sigma_clipping]\n"
     ]
    },
    {
     "name": "stdout",
     "output_type": "stream",
     "text": [
      "0.6191856 18.983444\n",
      "write to /home/aellien/Euclid_LSB_DR1/wavelets/out3/EUC_VIS_LSB_ObsID_2705_scaled.cut14.synth.lvl_sep.iptd.fits\n",
      "/home/aellien/Euclid_LSB_DR1/wavelets/out3/EUC_VIS_LSB_ObsID_2700_scaled.cut2.synth.lvl_sep.fits\n"
     ]
    },
    {
     "name": "stderr",
     "output_type": "stream",
     "text": [
      "WARNING: Input data contains invalid values (NaNs or infs), which were automatically clipped. [astropy.stats.sigma_clipping]\n"
     ]
    },
    {
     "name": "stdout",
     "output_type": "stream",
     "text": [
      "0.33550704 13.001568\n",
      "write to /home/aellien/Euclid_LSB_DR1/wavelets/out3/EUC_VIS_LSB_ObsID_2700_scaled.cut2.synth.lvl_sep.iptd.fits\n",
      "/home/aellien/Euclid_LSB_DR1/wavelets/out3/EUC_VIS_LSB_ObsID_2688_scaled.cut2.synth.lvl_sep.fits\n"
     ]
    },
    {
     "name": "stderr",
     "output_type": "stream",
     "text": [
      "WARNING: Input data contains invalid values (NaNs or infs), which were automatically clipped. [astropy.stats.sigma_clipping]\n"
     ]
    },
    {
     "name": "stdout",
     "output_type": "stream",
     "text": [
      "0.13439208 7.6311994\n",
      "write to /home/aellien/Euclid_LSB_DR1/wavelets/out3/EUC_VIS_LSB_ObsID_2688_scaled.cut2.synth.lvl_sep.iptd.fits\n",
      "/home/aellien/Euclid_LSB_DR1/wavelets/out3/EUC_VIS_LSB_ObsID_2687_scaled.cut7.synth.lvl_sep.fits\n",
      "0.13811721 7.604932\n",
      "write to /home/aellien/Euclid_LSB_DR1/wavelets/out3/EUC_VIS_LSB_ObsID_2687_scaled.cut7.synth.lvl_sep.iptd.fits\n",
      "/home/aellien/Euclid_LSB_DR1/wavelets/out3/EUC_VIS_LSB_ObsID_2706_scaled.cut6.synth.lvl_sep.fits\n",
      "0.13849938 7.485185\n",
      "write to /home/aellien/Euclid_LSB_DR1/wavelets/out3/EUC_VIS_LSB_ObsID_2706_scaled.cut6.synth.lvl_sep.iptd.fits\n",
      "/home/aellien/Euclid_LSB_DR1/wavelets/out3/EUC_VIS_LSB_ObsID_2708_scaled.cut10.synth.lvl_sep.fits\n",
      "0.3380673 12.903732\n",
      "write to /home/aellien/Euclid_LSB_DR1/wavelets/out3/EUC_VIS_LSB_ObsID_2708_scaled.cut10.synth.lvl_sep.iptd.fits\n",
      "/home/aellien/Euclid_LSB_DR1/wavelets/out3/EUC_VIS_LSB_ObsID_2684_scaled.cut10.synth.lvl_sep.fits\n",
      "0.19498996 9.539749\n",
      "write to /home/aellien/Euclid_LSB_DR1/wavelets/out3/EUC_VIS_LSB_ObsID_2684_scaled.cut10.synth.lvl_sep.iptd.fits\n",
      "/home/aellien/Euclid_LSB_DR1/wavelets/out3/EUC_VIS_LSB_ObsID_2686_scaled.cut14.synth.lvl_sep.fits\n"
     ]
    },
    {
     "name": "stderr",
     "output_type": "stream",
     "text": [
      "WARNING: Input data contains invalid values (NaNs or infs), which were automatically clipped. [astropy.stats.sigma_clipping]\n"
     ]
    },
    {
     "name": "stdout",
     "output_type": "stream",
     "text": [
      "0.12879479 7.3097343\n",
      "write to /home/aellien/Euclid_LSB_DR1/wavelets/out3/EUC_VIS_LSB_ObsID_2686_scaled.cut14.synth.lvl_sep.iptd.fits\n",
      "/home/aellien/Euclid_LSB_DR1/wavelets/out3/EUC_VIS_LSB_ObsID_2703_scaled.cut13.synth.lvl_sep.fits\n"
     ]
    },
    {
     "name": "stderr",
     "output_type": "stream",
     "text": [
      "WARNING: Input data contains invalid values (NaNs or infs), which were automatically clipped. [astropy.stats.sigma_clipping]\n"
     ]
    },
    {
     "name": "stdout",
     "output_type": "stream",
     "text": [
      "0.21783562 10.085495\n",
      "write to /home/aellien/Euclid_LSB_DR1/wavelets/out3/EUC_VIS_LSB_ObsID_2703_scaled.cut13.synth.lvl_sep.iptd.fits\n",
      "/home/aellien/Euclid_LSB_DR1/wavelets/out3/EUC_VIS_LSB_ObsID_2682_scaled.cut8.synth.lvl_sep.fits\n"
     ]
    },
    {
     "name": "stderr",
     "output_type": "stream",
     "text": [
      "WARNING: Input data contains invalid values (NaNs or infs), which were automatically clipped. [astropy.stats.sigma_clipping]\n"
     ]
    },
    {
     "name": "stdout",
     "output_type": "stream",
     "text": [
      "0.28094968 13.718809\n",
      "write to /home/aellien/Euclid_LSB_DR1/wavelets/out3/EUC_VIS_LSB_ObsID_2682_scaled.cut8.synth.lvl_sep.iptd.fits\n",
      "/home/aellien/Euclid_LSB_DR1/wavelets/out3/EUC_VIS_LSB_ObsID_2684_scaled.cut15.synth.lvl_sep.fits\n"
     ]
    },
    {
     "name": "stderr",
     "output_type": "stream",
     "text": [
      "WARNING: Input data contains invalid values (NaNs or infs), which were automatically clipped. [astropy.stats.sigma_clipping]\n"
     ]
    },
    {
     "name": "stdout",
     "output_type": "stream",
     "text": [
      "0.24055776 10.31836\n",
      "write to /home/aellien/Euclid_LSB_DR1/wavelets/out3/EUC_VIS_LSB_ObsID_2684_scaled.cut15.synth.lvl_sep.iptd.fits\n",
      "/home/aellien/Euclid_LSB_DR1/wavelets/out3/EUC_VIS_LSB_ObsID_2703_scaled.cut3.synth.lvl_sep.fits\n"
     ]
    },
    {
     "name": "stderr",
     "output_type": "stream",
     "text": [
      "WARNING: Input data contains invalid values (NaNs or infs), which were automatically clipped. [astropy.stats.sigma_clipping]\n"
     ]
    },
    {
     "name": "stdout",
     "output_type": "stream",
     "text": [
      "0.13426298 7.281257\n",
      "write to /home/aellien/Euclid_LSB_DR1/wavelets/out3/EUC_VIS_LSB_ObsID_2703_scaled.cut3.synth.lvl_sep.iptd.fits\n",
      "/home/aellien/Euclid_LSB_DR1/wavelets/out3/EUC_VIS_LSB_ObsID_2716_scaled.cut14.synth.lvl_sep.fits\n"
     ]
    },
    {
     "name": "stderr",
     "output_type": "stream",
     "text": [
      "WARNING: Input data contains invalid values (NaNs or infs), which were automatically clipped. [astropy.stats.sigma_clipping]\n"
     ]
    },
    {
     "name": "stdout",
     "output_type": "stream",
     "text": [
      "0.25655088 11.776256\n",
      "write to /home/aellien/Euclid_LSB_DR1/wavelets/out3/EUC_VIS_LSB_ObsID_2716_scaled.cut14.synth.lvl_sep.iptd.fits\n",
      "/home/aellien/Euclid_LSB_DR1/wavelets/out3/EUC_VIS_LSB_ObsID_2702_scaled.cut16.synth.lvl_sep.fits\n"
     ]
    },
    {
     "name": "stderr",
     "output_type": "stream",
     "text": [
      "WARNING: Input data contains invalid values (NaNs or infs), which were automatically clipped. [astropy.stats.sigma_clipping]\n"
     ]
    },
    {
     "name": "stdout",
     "output_type": "stream",
     "text": [
      "0.1704421 8.450196\n",
      "write to /home/aellien/Euclid_LSB_DR1/wavelets/out3/EUC_VIS_LSB_ObsID_2702_scaled.cut16.synth.lvl_sep.iptd.fits\n",
      "/home/aellien/Euclid_LSB_DR1/wavelets/out3/EUC_VIS_LSB_ObsID_2695_scaled.cut13.synth.lvl_sep.fits\n"
     ]
    },
    {
     "name": "stderr",
     "output_type": "stream",
     "text": [
      "WARNING: Input data contains invalid values (NaNs or infs), which were automatically clipped. [astropy.stats.sigma_clipping]\n"
     ]
    },
    {
     "name": "stdout",
     "output_type": "stream",
     "text": [
      "0.14492638 8.090655\n",
      "write to /home/aellien/Euclid_LSB_DR1/wavelets/out3/EUC_VIS_LSB_ObsID_2695_scaled.cut13.synth.lvl_sep.iptd.fits\n",
      "/home/aellien/Euclid_LSB_DR1/wavelets/out3/EUC_VIS_LSB_ObsID_2706_scaled.cut10.synth.lvl_sep.fits\n",
      "0.38545215 14.161022\n",
      "write to /home/aellien/Euclid_LSB_DR1/wavelets/out3/EUC_VIS_LSB_ObsID_2706_scaled.cut10.synth.lvl_sep.iptd.fits\n",
      "/home/aellien/Euclid_LSB_DR1/wavelets/out3/EUC_VIS_LSB_ObsID_2691_scaled.cut16.synth.lvl_sep.fits\n"
     ]
    },
    {
     "name": "stderr",
     "output_type": "stream",
     "text": [
      "WARNING: Input data contains invalid values (NaNs or infs), which were automatically clipped. [astropy.stats.sigma_clipping]\n"
     ]
    },
    {
     "name": "stdout",
     "output_type": "stream",
     "text": [
      "0.14057027 7.6939874\n",
      "write to /home/aellien/Euclid_LSB_DR1/wavelets/out3/EUC_VIS_LSB_ObsID_2691_scaled.cut16.synth.lvl_sep.iptd.fits\n",
      "/home/aellien/Euclid_LSB_DR1/wavelets/out3/EUC_VIS_LSB_ObsID_2703_scaled.cut5.synth.lvl_sep.fits\n"
     ]
    },
    {
     "name": "stderr",
     "output_type": "stream",
     "text": [
      "WARNING: Input data contains invalid values (NaNs or infs), which were automatically clipped. [astropy.stats.sigma_clipping]\n"
     ]
    },
    {
     "name": "stdout",
     "output_type": "stream",
     "text": [
      "0.14329314 7.5716696\n",
      "write to /home/aellien/Euclid_LSB_DR1/wavelets/out3/EUC_VIS_LSB_ObsID_2703_scaled.cut5.synth.lvl_sep.iptd.fits\n",
      "/home/aellien/Euclid_LSB_DR1/wavelets/out3/EUC_VIS_LSB_ObsID_2681_scaled.cut13.synth.lvl_sep.fits\n"
     ]
    },
    {
     "name": "stderr",
     "output_type": "stream",
     "text": [
      "WARNING: Input data contains invalid values (NaNs or infs), which were automatically clipped. [astropy.stats.sigma_clipping]\n"
     ]
    },
    {
     "name": "stdout",
     "output_type": "stream",
     "text": [
      "0.27865112 12.332901\n",
      "write to /home/aellien/Euclid_LSB_DR1/wavelets/out3/EUC_VIS_LSB_ObsID_2681_scaled.cut13.synth.lvl_sep.iptd.fits\n",
      "/home/aellien/Euclid_LSB_DR1/wavelets/out3/EUC_VIS_LSB_ObsID_2715_scaled.cut4.synth.lvl_sep.fits\n"
     ]
    },
    {
     "name": "stderr",
     "output_type": "stream",
     "text": [
      "WARNING: Input data contains invalid values (NaNs or infs), which were automatically clipped. [astropy.stats.sigma_clipping]\n"
     ]
    },
    {
     "name": "stdout",
     "output_type": "stream",
     "text": [
      "0.2306116 10.044316\n",
      "write to /home/aellien/Euclid_LSB_DR1/wavelets/out3/EUC_VIS_LSB_ObsID_2715_scaled.cut4.synth.lvl_sep.iptd.fits\n",
      "/home/aellien/Euclid_LSB_DR1/wavelets/out3/EUC_VIS_LSB_ObsID_2713_scaled.cut13.synth.lvl_sep.fits\n"
     ]
    },
    {
     "name": "stderr",
     "output_type": "stream",
     "text": [
      "WARNING: Input data contains invalid values (NaNs or infs), which were automatically clipped. [astropy.stats.sigma_clipping]\n"
     ]
    },
    {
     "name": "stdout",
     "output_type": "stream",
     "text": [
      "0.18490772 9.003931\n",
      "write to /home/aellien/Euclid_LSB_DR1/wavelets/out3/EUC_VIS_LSB_ObsID_2713_scaled.cut13.synth.lvl_sep.iptd.fits\n",
      "/home/aellien/Euclid_LSB_DR1/wavelets/out3/EUC_VIS_LSB_ObsID_2698_scaled.cut14.synth.lvl_sep.fits\n"
     ]
    },
    {
     "name": "stderr",
     "output_type": "stream",
     "text": [
      "WARNING: Input data contains invalid values (NaNs or infs), which were automatically clipped. [astropy.stats.sigma_clipping]\n"
     ]
    },
    {
     "name": "stdout",
     "output_type": "stream",
     "text": [
      "0.28542134 12.464004\n",
      "write to /home/aellien/Euclid_LSB_DR1/wavelets/out3/EUC_VIS_LSB_ObsID_2698_scaled.cut14.synth.lvl_sep.iptd.fits\n",
      "/home/aellien/Euclid_LSB_DR1/wavelets/out3/EUC_VIS_LSB_ObsID_2711_scaled.cut2.synth.lvl_sep.fits\n"
     ]
    },
    {
     "name": "stderr",
     "output_type": "stream",
     "text": [
      "WARNING: Input data contains invalid values (NaNs or infs), which were automatically clipped. [astropy.stats.sigma_clipping]\n"
     ]
    },
    {
     "name": "stdout",
     "output_type": "stream",
     "text": [
      "0.12716454 7.3870645\n",
      "write to /home/aellien/Euclid_LSB_DR1/wavelets/out3/EUC_VIS_LSB_ObsID_2711_scaled.cut2.synth.lvl_sep.iptd.fits\n",
      "/home/aellien/Euclid_LSB_DR1/wavelets/out3/EUC_VIS_LSB_ObsID_2695_scaled.cut12.synth.lvl_sep.fits\n"
     ]
    },
    {
     "name": "stderr",
     "output_type": "stream",
     "text": [
      "WARNING: Input data contains invalid values (NaNs or infs), which were automatically clipped. [astropy.stats.sigma_clipping]\n"
     ]
    },
    {
     "name": "stdout",
     "output_type": "stream",
     "text": [
      "0.12458818 7.116774\n",
      "write to /home/aellien/Euclid_LSB_DR1/wavelets/out3/EUC_VIS_LSB_ObsID_2695_scaled.cut12.synth.lvl_sep.iptd.fits\n",
      "/home/aellien/Euclid_LSB_DR1/wavelets/out3/EUC_VIS_LSB_ObsID_2722_scaled.cut11.synth.lvl_sep.fits\n",
      "0.52184373 17.208256\n",
      "write to /home/aellien/Euclid_LSB_DR1/wavelets/out3/EUC_VIS_LSB_ObsID_2722_scaled.cut11.synth.lvl_sep.iptd.fits\n",
      "/home/aellien/Euclid_LSB_DR1/wavelets/out3/EUC_VIS_LSB_ObsID_2715_scaled.cut14.synth.lvl_sep.fits\n"
     ]
    },
    {
     "name": "stderr",
     "output_type": "stream",
     "text": [
      "WARNING: Input data contains invalid values (NaNs or infs), which were automatically clipped. [astropy.stats.sigma_clipping]\n"
     ]
    },
    {
     "name": "stdout",
     "output_type": "stream",
     "text": [
      "0.24922095 11.385023\n",
      "write to /home/aellien/Euclid_LSB_DR1/wavelets/out3/EUC_VIS_LSB_ObsID_2715_scaled.cut14.synth.lvl_sep.iptd.fits\n",
      "/home/aellien/Euclid_LSB_DR1/wavelets/out3/EUC_VIS_LSB_ObsID_2697_scaled.cut11.synth.lvl_sep.fits\n",
      "0.29328543 12.128056\n",
      "write to /home/aellien/Euclid_LSB_DR1/wavelets/out3/EUC_VIS_LSB_ObsID_2697_scaled.cut11.synth.lvl_sep.iptd.fits\n",
      "/home/aellien/Euclid_LSB_DR1/wavelets/out3/EUC_VIS_LSB_ObsID_2720_scaled.cut14.synth.lvl_sep.fits\n"
     ]
    },
    {
     "name": "stderr",
     "output_type": "stream",
     "text": [
      "WARNING: Input data contains invalid values (NaNs or infs), which were automatically clipped. [astropy.stats.sigma_clipping]\n"
     ]
    },
    {
     "name": "stdout",
     "output_type": "stream",
     "text": [
      "0.18126014 8.969009\n",
      "write to /home/aellien/Euclid_LSB_DR1/wavelets/out3/EUC_VIS_LSB_ObsID_2720_scaled.cut14.synth.lvl_sep.iptd.fits\n",
      "/home/aellien/Euclid_LSB_DR1/wavelets/out3/EUC_VIS_LSB_ObsID_2715_scaled.cut5.synth.lvl_sep.fits\n"
     ]
    },
    {
     "name": "stderr",
     "output_type": "stream",
     "text": [
      "WARNING: Input data contains invalid values (NaNs or infs), which were automatically clipped. [astropy.stats.sigma_clipping]\n"
     ]
    },
    {
     "name": "stdout",
     "output_type": "stream",
     "text": [
      "0.2908763 12.056175\n",
      "write to /home/aellien/Euclid_LSB_DR1/wavelets/out3/EUC_VIS_LSB_ObsID_2715_scaled.cut5.synth.lvl_sep.iptd.fits\n",
      "/home/aellien/Euclid_LSB_DR1/wavelets/out3/EUC_VIS_LSB_ObsID_2714_scaled.cut7.synth.lvl_sep.fits\n",
      "0.1148246 6.68267\n",
      "write to /home/aellien/Euclid_LSB_DR1/wavelets/out3/EUC_VIS_LSB_ObsID_2714_scaled.cut7.synth.lvl_sep.iptd.fits\n",
      "/home/aellien/Euclid_LSB_DR1/wavelets/out3/EUC_VIS_LSB_ObsID_2685_scaled.cut12.synth.lvl_sep.fits\n"
     ]
    },
    {
     "name": "stderr",
     "output_type": "stream",
     "text": [
      "WARNING: Input data contains invalid values (NaNs or infs), which were automatically clipped. [astropy.stats.sigma_clipping]\n"
     ]
    },
    {
     "name": "stdout",
     "output_type": "stream",
     "text": [
      "0.32443815 12.679399\n",
      "write to /home/aellien/Euclid_LSB_DR1/wavelets/out3/EUC_VIS_LSB_ObsID_2685_scaled.cut12.synth.lvl_sep.iptd.fits\n",
      "/home/aellien/Euclid_LSB_DR1/wavelets/out3/EUC_VIS_LSB_ObsID_2718_scaled.cut5.synth.lvl_sep.fits\n"
     ]
    },
    {
     "name": "stderr",
     "output_type": "stream",
     "text": [
      "WARNING: Input data contains invalid values (NaNs or infs), which were automatically clipped. [astropy.stats.sigma_clipping]\n"
     ]
    },
    {
     "name": "stdout",
     "output_type": "stream",
     "text": [
      "0.38345194 15.219823\n",
      "write to /home/aellien/Euclid_LSB_DR1/wavelets/out3/EUC_VIS_LSB_ObsID_2718_scaled.cut5.synth.lvl_sep.iptd.fits\n",
      "/home/aellien/Euclid_LSB_DR1/wavelets/out3/EUC_VIS_LSB_ObsID_2708_scaled.cut2.synth.lvl_sep.fits\n"
     ]
    },
    {
     "name": "stderr",
     "output_type": "stream",
     "text": [
      "WARNING: Input data contains invalid values (NaNs or infs), which were automatically clipped. [astropy.stats.sigma_clipping]\n"
     ]
    },
    {
     "name": "stdout",
     "output_type": "stream",
     "text": [
      "0.09075095 5.8066006\n",
      "write to /home/aellien/Euclid_LSB_DR1/wavelets/out3/EUC_VIS_LSB_ObsID_2708_scaled.cut2.synth.lvl_sep.iptd.fits\n",
      "/home/aellien/Euclid_LSB_DR1/wavelets/out3/EUC_VIS_LSB_ObsID_2710_scaled.cut12.synth.lvl_sep.fits\n"
     ]
    },
    {
     "name": "stderr",
     "output_type": "stream",
     "text": [
      "WARNING: Input data contains invalid values (NaNs or infs), which were automatically clipped. [astropy.stats.sigma_clipping]\n"
     ]
    },
    {
     "name": "stdout",
     "output_type": "stream",
     "text": [
      "0.25321424 10.862403\n",
      "write to /home/aellien/Euclid_LSB_DR1/wavelets/out3/EUC_VIS_LSB_ObsID_2710_scaled.cut12.synth.lvl_sep.iptd.fits\n",
      "/home/aellien/Euclid_LSB_DR1/wavelets/out3/EUC_VIS_LSB_ObsID_2720_scaled.cut7.synth.lvl_sep.fits\n",
      "0.1513367 8.424119\n",
      "write to /home/aellien/Euclid_LSB_DR1/wavelets/out3/EUC_VIS_LSB_ObsID_2720_scaled.cut7.synth.lvl_sep.iptd.fits\n",
      "/home/aellien/Euclid_LSB_DR1/wavelets/out3/EUC_VIS_LSB_ObsID_2720_scaled.cut9.synth.lvl_sep.fits\n"
     ]
    },
    {
     "name": "stderr",
     "output_type": "stream",
     "text": [
      "WARNING: Input data contains invalid values (NaNs or infs), which were automatically clipped. [astropy.stats.sigma_clipping]\n"
     ]
    },
    {
     "name": "stdout",
     "output_type": "stream",
     "text": [
      "0.20659983 9.560535\n",
      "write to /home/aellien/Euclid_LSB_DR1/wavelets/out3/EUC_VIS_LSB_ObsID_2720_scaled.cut9.synth.lvl_sep.iptd.fits\n",
      "/home/aellien/Euclid_LSB_DR1/wavelets/out3/EUC_VIS_LSB_ObsID_2697_scaled.cut13.synth.lvl_sep.fits\n"
     ]
    },
    {
     "name": "stderr",
     "output_type": "stream",
     "text": [
      "WARNING: Input data contains invalid values (NaNs or infs), which were automatically clipped. [astropy.stats.sigma_clipping]\n"
     ]
    },
    {
     "name": "stdout",
     "output_type": "stream",
     "text": [
      "0.23460153 10.695392\n",
      "write to /home/aellien/Euclid_LSB_DR1/wavelets/out3/EUC_VIS_LSB_ObsID_2697_scaled.cut13.synth.lvl_sep.iptd.fits\n",
      "/home/aellien/Euclid_LSB_DR1/wavelets/out3/EUC_VIS_LSB_ObsID_2721_scaled.cut6.synth.lvl_sep.fits\n"
     ]
    },
    {
     "name": "stderr",
     "output_type": "stream",
     "text": [
      "WARNING: Input data contains invalid values (NaNs or infs), which were automatically clipped. [astropy.stats.sigma_clipping]\n"
     ]
    },
    {
     "name": "stdout",
     "output_type": "stream",
     "text": [
      "0.20644857 9.72209\n",
      "write to /home/aellien/Euclid_LSB_DR1/wavelets/out3/EUC_VIS_LSB_ObsID_2721_scaled.cut6.synth.lvl_sep.iptd.fits\n",
      "/home/aellien/Euclid_LSB_DR1/wavelets/out3/EUC_VIS_LSB_ObsID_2681_scaled.cut15.synth.lvl_sep.fits\n"
     ]
    },
    {
     "name": "stderr",
     "output_type": "stream",
     "text": [
      "WARNING: Input data contains invalid values (NaNs or infs), which were automatically clipped. [astropy.stats.sigma_clipping]\n"
     ]
    },
    {
     "name": "stdout",
     "output_type": "stream",
     "text": [
      "0.12499923 6.875587\n",
      "write to /home/aellien/Euclid_LSB_DR1/wavelets/out3/EUC_VIS_LSB_ObsID_2681_scaled.cut15.synth.lvl_sep.iptd.fits\n",
      "/home/aellien/Euclid_LSB_DR1/wavelets/out3/EUC_VIS_LSB_ObsID_2709_scaled.cut3.synth.lvl_sep.fits\n"
     ]
    },
    {
     "name": "stderr",
     "output_type": "stream",
     "text": [
      "WARNING: Input data contains invalid values (NaNs or infs), which were automatically clipped. [astropy.stats.sigma_clipping]\n"
     ]
    },
    {
     "name": "stdout",
     "output_type": "stream",
     "text": [
      "0.37099883 14.9525795\n",
      "write to /home/aellien/Euclid_LSB_DR1/wavelets/out3/EUC_VIS_LSB_ObsID_2709_scaled.cut3.synth.lvl_sep.iptd.fits\n",
      "/home/aellien/Euclid_LSB_DR1/wavelets/out3/EUC_VIS_LSB_ObsID_2697_scaled.cut16.synth.lvl_sep.fits\n"
     ]
    },
    {
     "name": "stderr",
     "output_type": "stream",
     "text": [
      "WARNING: Input data contains invalid values (NaNs or infs), which were automatically clipped. [astropy.stats.sigma_clipping]\n"
     ]
    },
    {
     "name": "stdout",
     "output_type": "stream",
     "text": [
      "0.21129103 9.5081005\n",
      "write to /home/aellien/Euclid_LSB_DR1/wavelets/out3/EUC_VIS_LSB_ObsID_2697_scaled.cut16.synth.lvl_sep.iptd.fits\n",
      "/home/aellien/Euclid_LSB_DR1/wavelets/out3/EUC_VIS_LSB_ObsID_2685_scaled.cut9.synth.lvl_sep.fits\n"
     ]
    },
    {
     "name": "stderr",
     "output_type": "stream",
     "text": [
      "WARNING: Input data contains invalid values (NaNs or infs), which were automatically clipped. [astropy.stats.sigma_clipping]\n"
     ]
    },
    {
     "name": "stdout",
     "output_type": "stream",
     "text": [
      "0.12527326 6.946917\n",
      "write to /home/aellien/Euclid_LSB_DR1/wavelets/out3/EUC_VIS_LSB_ObsID_2685_scaled.cut9.synth.lvl_sep.iptd.fits\n",
      "/home/aellien/Euclid_LSB_DR1/wavelets/out3/EUC_VIS_LSB_ObsID_2705_scaled.cut8.synth.lvl_sep.fits\n"
     ]
    },
    {
     "name": "stderr",
     "output_type": "stream",
     "text": [
      "WARNING: Input data contains invalid values (NaNs or infs), which were automatically clipped. [astropy.stats.sigma_clipping]\n"
     ]
    },
    {
     "name": "stdout",
     "output_type": "stream",
     "text": [
      "0.09567356 5.9831862\n",
      "write to /home/aellien/Euclid_LSB_DR1/wavelets/out3/EUC_VIS_LSB_ObsID_2705_scaled.cut8.synth.lvl_sep.iptd.fits\n",
      "/home/aellien/Euclid_LSB_DR1/wavelets/out3/EUC_VIS_LSB_ObsID_2713_scaled.cut14.synth.lvl_sep.fits\n"
     ]
    },
    {
     "name": "stderr",
     "output_type": "stream",
     "text": [
      "WARNING: Input data contains invalid values (NaNs or infs), which were automatically clipped. [astropy.stats.sigma_clipping]\n"
     ]
    },
    {
     "name": "stdout",
     "output_type": "stream",
     "text": [
      "0.1703574 8.841755\n",
      "write to /home/aellien/Euclid_LSB_DR1/wavelets/out3/EUC_VIS_LSB_ObsID_2713_scaled.cut14.synth.lvl_sep.iptd.fits\n",
      "/home/aellien/Euclid_LSB_DR1/wavelets/out3/EUC_VIS_LSB_ObsID_2706_scaled.cut7.synth.lvl_sep.fits\n",
      "0.2182005 10.419805\n",
      "write to /home/aellien/Euclid_LSB_DR1/wavelets/out3/EUC_VIS_LSB_ObsID_2706_scaled.cut7.synth.lvl_sep.iptd.fits\n",
      "/home/aellien/Euclid_LSB_DR1/wavelets/out3/EUC_VIS_LSB_ObsID_2711_scaled.cut10.synth.lvl_sep.fits\n",
      "0.123690166 6.967606\n",
      "write to /home/aellien/Euclid_LSB_DR1/wavelets/out3/EUC_VIS_LSB_ObsID_2711_scaled.cut10.synth.lvl_sep.iptd.fits\n",
      "/home/aellien/Euclid_LSB_DR1/wavelets/out3/EUC_VIS_LSB_ObsID_2702_scaled.cut4.synth.lvl_sep.fits\n"
     ]
    },
    {
     "name": "stderr",
     "output_type": "stream",
     "text": [
      "WARNING: Input data contains invalid values (NaNs or infs), which were automatically clipped. [astropy.stats.sigma_clipping]\n"
     ]
    },
    {
     "name": "stdout",
     "output_type": "stream",
     "text": [
      "0.25003424 10.498878\n",
      "write to /home/aellien/Euclid_LSB_DR1/wavelets/out3/EUC_VIS_LSB_ObsID_2702_scaled.cut4.synth.lvl_sep.iptd.fits\n",
      "/home/aellien/Euclid_LSB_DR1/wavelets/out3/EUC_VIS_LSB_ObsID_2707_scaled.cut9.synth.lvl_sep.fits\n"
     ]
    },
    {
     "name": "stderr",
     "output_type": "stream",
     "text": [
      "WARNING: Input data contains invalid values (NaNs or infs), which were automatically clipped. [astropy.stats.sigma_clipping]\n"
     ]
    },
    {
     "name": "stdout",
     "output_type": "stream",
     "text": [
      "0.20650569 9.632045\n",
      "write to /home/aellien/Euclid_LSB_DR1/wavelets/out3/EUC_VIS_LSB_ObsID_2707_scaled.cut9.synth.lvl_sep.iptd.fits\n",
      "/home/aellien/Euclid_LSB_DR1/wavelets/out3/EUC_VIS_LSB_ObsID_2698_scaled.cut13.synth.lvl_sep.fits\n"
     ]
    },
    {
     "name": "stderr",
     "output_type": "stream",
     "text": [
      "WARNING: Input data contains invalid values (NaNs or infs), which were automatically clipped. [astropy.stats.sigma_clipping]\n"
     ]
    },
    {
     "name": "stdout",
     "output_type": "stream",
     "text": [
      "0.101315826 6.2510242\n",
      "write to /home/aellien/Euclid_LSB_DR1/wavelets/out3/EUC_VIS_LSB_ObsID_2698_scaled.cut13.synth.lvl_sep.iptd.fits\n",
      "/home/aellien/Euclid_LSB_DR1/wavelets/out3/EUC_VIS_LSB_ObsID_2693_scaled.cut14.synth.lvl_sep.fits\n"
     ]
    },
    {
     "name": "stderr",
     "output_type": "stream",
     "text": [
      "WARNING: Input data contains invalid values (NaNs or infs), which were automatically clipped. [astropy.stats.sigma_clipping]\n"
     ]
    },
    {
     "name": "stdout",
     "output_type": "stream",
     "text": [
      "0.101194486 6.298153\n",
      "write to /home/aellien/Euclid_LSB_DR1/wavelets/out3/EUC_VIS_LSB_ObsID_2693_scaled.cut14.synth.lvl_sep.iptd.fits\n",
      "/home/aellien/Euclid_LSB_DR1/wavelets/out3/EUC_VIS_LSB_ObsID_2683_scaled.cut13.synth.lvl_sep.fits\n"
     ]
    },
    {
     "name": "stderr",
     "output_type": "stream",
     "text": [
      "WARNING: Input data contains invalid values (NaNs or infs), which were automatically clipped. [astropy.stats.sigma_clipping]\n"
     ]
    },
    {
     "name": "stdout",
     "output_type": "stream",
     "text": [
      "0.101326205 6.311785\n",
      "write to /home/aellien/Euclid_LSB_DR1/wavelets/out3/EUC_VIS_LSB_ObsID_2683_scaled.cut13.synth.lvl_sep.iptd.fits\n",
      "/home/aellien/Euclid_LSB_DR1/wavelets/out3/EUC_VIS_LSB_ObsID_2691_scaled.cut4.synth.lvl_sep.fits\n"
     ]
    },
    {
     "name": "stderr",
     "output_type": "stream",
     "text": [
      "WARNING: Input data contains invalid values (NaNs or infs), which were automatically clipped. [astropy.stats.sigma_clipping]\n"
     ]
    },
    {
     "name": "stdout",
     "output_type": "stream",
     "text": [
      "0.36855847 13.462445\n",
      "write to /home/aellien/Euclid_LSB_DR1/wavelets/out3/EUC_VIS_LSB_ObsID_2691_scaled.cut4.synth.lvl_sep.iptd.fits\n",
      "/home/aellien/Euclid_LSB_DR1/wavelets/out3/EUC_VIS_LSB_ObsID_2689_scaled.cut6.synth.lvl_sep.fits\n",
      "0.18066965 9.05138\n",
      "write to /home/aellien/Euclid_LSB_DR1/wavelets/out3/EUC_VIS_LSB_ObsID_2689_scaled.cut6.synth.lvl_sep.iptd.fits\n",
      "/home/aellien/Euclid_LSB_DR1/wavelets/out3/EUC_VIS_LSB_ObsID_2722_scaled.cut10.synth.lvl_sep.fits\n",
      "0.6483543 19.92442\n",
      "write to /home/aellien/Euclid_LSB_DR1/wavelets/out3/EUC_VIS_LSB_ObsID_2722_scaled.cut10.synth.lvl_sep.iptd.fits\n",
      "/home/aellien/Euclid_LSB_DR1/wavelets/out3/EUC_VIS_LSB_ObsID_2717_scaled.cut2.synth.lvl_sep.fits\n"
     ]
    },
    {
     "name": "stderr",
     "output_type": "stream",
     "text": [
      "WARNING: Input data contains invalid values (NaNs or infs), which were automatically clipped. [astropy.stats.sigma_clipping]\n"
     ]
    },
    {
     "name": "stdout",
     "output_type": "stream",
     "text": [
      "0.35801092 13.458326\n",
      "write to /home/aellien/Euclid_LSB_DR1/wavelets/out3/EUC_VIS_LSB_ObsID_2717_scaled.cut2.synth.lvl_sep.iptd.fits\n",
      "/home/aellien/Euclid_LSB_DR1/wavelets/out3/EUC_VIS_LSB_ObsID_2693_scaled.cut16.synth.lvl_sep.fits\n"
     ]
    },
    {
     "name": "stderr",
     "output_type": "stream",
     "text": [
      "WARNING: Input data contains invalid values (NaNs or infs), which were automatically clipped. [astropy.stats.sigma_clipping]\n"
     ]
    },
    {
     "name": "stdout",
     "output_type": "stream",
     "text": [
      "0.2000095 9.600356\n",
      "write to /home/aellien/Euclid_LSB_DR1/wavelets/out3/EUC_VIS_LSB_ObsID_2693_scaled.cut16.synth.lvl_sep.iptd.fits\n",
      "/home/aellien/Euclid_LSB_DR1/wavelets/out3/EUC_VIS_LSB_ObsID_2720_scaled.cut11.synth.lvl_sep.fits\n",
      "0.30294126 12.213228\n",
      "write to /home/aellien/Euclid_LSB_DR1/wavelets/out3/EUC_VIS_LSB_ObsID_2720_scaled.cut11.synth.lvl_sep.iptd.fits\n",
      "/home/aellien/Euclid_LSB_DR1/wavelets/out3/EUC_VIS_LSB_ObsID_2710_scaled.cut16.synth.lvl_sep.fits\n"
     ]
    },
    {
     "name": "stderr",
     "output_type": "stream",
     "text": [
      "WARNING: Input data contains invalid values (NaNs or infs), which were automatically clipped. [astropy.stats.sigma_clipping]\n"
     ]
    },
    {
     "name": "stdout",
     "output_type": "stream",
     "text": [
      "0.19412881 9.989851\n",
      "write to /home/aellien/Euclid_LSB_DR1/wavelets/out3/EUC_VIS_LSB_ObsID_2710_scaled.cut16.synth.lvl_sep.iptd.fits\n",
      "/home/aellien/Euclid_LSB_DR1/wavelets/out3/EUC_VIS_LSB_ObsID_2712_scaled.cut6.synth.lvl_sep.fits\n",
      "0.1564844 7.9777536\n",
      "write to /home/aellien/Euclid_LSB_DR1/wavelets/out3/EUC_VIS_LSB_ObsID_2712_scaled.cut6.synth.lvl_sep.iptd.fits\n",
      "/home/aellien/Euclid_LSB_DR1/wavelets/out3/EUC_VIS_LSB_ObsID_2704_scaled.cut6.synth.lvl_sep.fits\n",
      "0.18591264 8.914957\n",
      "write to /home/aellien/Euclid_LSB_DR1/wavelets/out3/EUC_VIS_LSB_ObsID_2704_scaled.cut6.synth.lvl_sep.iptd.fits\n",
      "/home/aellien/Euclid_LSB_DR1/wavelets/out3/EUC_VIS_LSB_ObsID_2715_scaled.cut9.synth.lvl_sep.fits\n"
     ]
    },
    {
     "name": "stderr",
     "output_type": "stream",
     "text": [
      "WARNING: Input data contains invalid values (NaNs or infs), which were automatically clipped. [astropy.stats.sigma_clipping]\n"
     ]
    },
    {
     "name": "stdout",
     "output_type": "stream",
     "text": [
      "0.29422715 12.599669\n",
      "write to /home/aellien/Euclid_LSB_DR1/wavelets/out3/EUC_VIS_LSB_ObsID_2715_scaled.cut9.synth.lvl_sep.iptd.fits\n",
      "/home/aellien/Euclid_LSB_DR1/wavelets/out3/EUC_VIS_LSB_ObsID_2721_scaled.cut2.synth.lvl_sep.fits\n"
     ]
    },
    {
     "name": "stderr",
     "output_type": "stream",
     "text": [
      "WARNING: Input data contains invalid values (NaNs or infs), which were automatically clipped. [astropy.stats.sigma_clipping]\n"
     ]
    },
    {
     "name": "stdout",
     "output_type": "stream",
     "text": [
      "0.19943522 9.460245\n",
      "write to /home/aellien/Euclid_LSB_DR1/wavelets/out3/EUC_VIS_LSB_ObsID_2721_scaled.cut2.synth.lvl_sep.iptd.fits\n",
      "/home/aellien/Euclid_LSB_DR1/wavelets/out3/EUC_VIS_LSB_ObsID_2703_scaled.cut7.synth.lvl_sep.fits\n",
      "0.14790839 8.088288\n",
      "write to /home/aellien/Euclid_LSB_DR1/wavelets/out3/EUC_VIS_LSB_ObsID_2703_scaled.cut7.synth.lvl_sep.iptd.fits\n",
      "/home/aellien/Euclid_LSB_DR1/wavelets/out3/EUC_VIS_LSB_ObsID_2681_scaled.cut8.synth.lvl_sep.fits\n"
     ]
    },
    {
     "name": "stderr",
     "output_type": "stream",
     "text": [
      "WARNING: Input data contains invalid values (NaNs or infs), which were automatically clipped. [astropy.stats.sigma_clipping]\n"
     ]
    },
    {
     "name": "stdout",
     "output_type": "stream",
     "text": [
      "0.12133241 6.9429274\n",
      "write to /home/aellien/Euclid_LSB_DR1/wavelets/out3/EUC_VIS_LSB_ObsID_2681_scaled.cut8.synth.lvl_sep.iptd.fits\n",
      "/home/aellien/Euclid_LSB_DR1/wavelets/out3/EUC_VIS_LSB_ObsID_2716_scaled.cut8.synth.lvl_sep.fits\n"
     ]
    },
    {
     "name": "stderr",
     "output_type": "stream",
     "text": [
      "WARNING: Input data contains invalid values (NaNs or infs), which were automatically clipped. [astropy.stats.sigma_clipping]\n"
     ]
    },
    {
     "name": "stdout",
     "output_type": "stream",
     "text": [
      "0.22429371 10.062766\n",
      "write to /home/aellien/Euclid_LSB_DR1/wavelets/out3/EUC_VIS_LSB_ObsID_2716_scaled.cut8.synth.lvl_sep.iptd.fits\n",
      "/home/aellien/Euclid_LSB_DR1/wavelets/out3/EUC_VIS_LSB_ObsID_2708_scaled.cut6.synth.lvl_sep.fits\n"
     ]
    },
    {
     "name": "stderr",
     "output_type": "stream",
     "text": [
      "WARNING: Input data contains invalid values (NaNs or infs), which were automatically clipped. [astropy.stats.sigma_clipping]\n"
     ]
    },
    {
     "name": "stdout",
     "output_type": "stream",
     "text": [
      "0.15637836 8.140682\n",
      "write to /home/aellien/Euclid_LSB_DR1/wavelets/out3/EUC_VIS_LSB_ObsID_2708_scaled.cut6.synth.lvl_sep.iptd.fits\n",
      "/home/aellien/Euclid_LSB_DR1/wavelets/out3/EUC_VIS_LSB_ObsID_2710_scaled.cut11.synth.lvl_sep.fits\n",
      "0.12332083 7.1460853\n",
      "write to /home/aellien/Euclid_LSB_DR1/wavelets/out3/EUC_VIS_LSB_ObsID_2710_scaled.cut11.synth.lvl_sep.iptd.fits\n",
      "/home/aellien/Euclid_LSB_DR1/wavelets/out3/EUC_VIS_LSB_ObsID_2699_scaled.cut14.synth.lvl_sep.fits\n"
     ]
    },
    {
     "name": "stderr",
     "output_type": "stream",
     "text": [
      "WARNING: Input data contains invalid values (NaNs or infs), which were automatically clipped. [astropy.stats.sigma_clipping]\n"
     ]
    },
    {
     "name": "stdout",
     "output_type": "stream",
     "text": [
      "0.34725288 13.334583\n",
      "write to /home/aellien/Euclid_LSB_DR1/wavelets/out3/EUC_VIS_LSB_ObsID_2699_scaled.cut14.synth.lvl_sep.iptd.fits\n",
      "/home/aellien/Euclid_LSB_DR1/wavelets/out3/EUC_VIS_LSB_ObsID_2714_scaled.cut2.synth.lvl_sep.fits\n"
     ]
    },
    {
     "name": "stderr",
     "output_type": "stream",
     "text": [
      "WARNING: Input data contains invalid values (NaNs or infs), which were automatically clipped. [astropy.stats.sigma_clipping]\n"
     ]
    },
    {
     "name": "stdout",
     "output_type": "stream",
     "text": [
      "0.23073168 10.95665\n",
      "write to /home/aellien/Euclid_LSB_DR1/wavelets/out3/EUC_VIS_LSB_ObsID_2714_scaled.cut2.synth.lvl_sep.iptd.fits\n",
      "/home/aellien/Euclid_LSB_DR1/wavelets/out3/EUC_VIS_LSB_ObsID_2707_scaled.cut15.synth.lvl_sep.fits\n"
     ]
    },
    {
     "name": "stderr",
     "output_type": "stream",
     "text": [
      "WARNING: Input data contains invalid values (NaNs or infs), which were automatically clipped. [astropy.stats.sigma_clipping]\n"
     ]
    },
    {
     "name": "stdout",
     "output_type": "stream",
     "text": [
      "0.14167021 7.8761187\n",
      "write to /home/aellien/Euclid_LSB_DR1/wavelets/out3/EUC_VIS_LSB_ObsID_2707_scaled.cut15.synth.lvl_sep.iptd.fits\n",
      "/home/aellien/Euclid_LSB_DR1/wavelets/out3/EUC_VIS_LSB_ObsID_2704_scaled.cut15.synth.lvl_sep.fits\n"
     ]
    },
    {
     "name": "stderr",
     "output_type": "stream",
     "text": [
      "WARNING: Input data contains invalid values (NaNs or infs), which were automatically clipped. [astropy.stats.sigma_clipping]\n"
     ]
    },
    {
     "name": "stdout",
     "output_type": "stream",
     "text": [
      "0.105926946 6.301584\n",
      "write to /home/aellien/Euclid_LSB_DR1/wavelets/out3/EUC_VIS_LSB_ObsID_2704_scaled.cut15.synth.lvl_sep.iptd.fits\n",
      "/home/aellien/Euclid_LSB_DR1/wavelets/out3/EUC_VIS_LSB_ObsID_2692_scaled.cut6.synth.lvl_sep.fits\n",
      "0.14145201 7.6519995\n",
      "write to /home/aellien/Euclid_LSB_DR1/wavelets/out3/EUC_VIS_LSB_ObsID_2692_scaled.cut6.synth.lvl_sep.iptd.fits\n",
      "/home/aellien/Euclid_LSB_DR1/wavelets/out3/EUC_VIS_LSB_ObsID_2688_scaled.cut15.synth.lvl_sep.fits\n"
     ]
    },
    {
     "name": "stderr",
     "output_type": "stream",
     "text": [
      "WARNING: Input data contains invalid values (NaNs or infs), which were automatically clipped. [astropy.stats.sigma_clipping]\n"
     ]
    },
    {
     "name": "stdout",
     "output_type": "stream",
     "text": [
      "0.17972924 8.948525\n",
      "write to /home/aellien/Euclid_LSB_DR1/wavelets/out3/EUC_VIS_LSB_ObsID_2688_scaled.cut15.synth.lvl_sep.iptd.fits\n",
      "/home/aellien/Euclid_LSB_DR1/wavelets/out3/EUC_VIS_LSB_ObsID_2697_scaled.cut7.synth.lvl_sep.fits\n",
      "0.13938016 7.6372647\n",
      "write to /home/aellien/Euclid_LSB_DR1/wavelets/out3/EUC_VIS_LSB_ObsID_2697_scaled.cut7.synth.lvl_sep.iptd.fits\n",
      "/home/aellien/Euclid_LSB_DR1/wavelets/out3/EUC_VIS_LSB_ObsID_2694_scaled.cut11.synth.lvl_sep.fits\n",
      "0.23585296 10.478943\n",
      "write to /home/aellien/Euclid_LSB_DR1/wavelets/out3/EUC_VIS_LSB_ObsID_2694_scaled.cut11.synth.lvl_sep.iptd.fits\n",
      "/home/aellien/Euclid_LSB_DR1/wavelets/out3/EUC_VIS_LSB_ObsID_2711_scaled.cut8.synth.lvl_sep.fits\n"
     ]
    },
    {
     "name": "stderr",
     "output_type": "stream",
     "text": [
      "WARNING: Input data contains invalid values (NaNs or infs), which were automatically clipped. [astropy.stats.sigma_clipping]\n"
     ]
    },
    {
     "name": "stdout",
     "output_type": "stream",
     "text": [
      "0.17344303 9.239102\n",
      "write to /home/aellien/Euclid_LSB_DR1/wavelets/out3/EUC_VIS_LSB_ObsID_2711_scaled.cut8.synth.lvl_sep.iptd.fits\n",
      "/home/aellien/Euclid_LSB_DR1/wavelets/out3/EUC_VIS_LSB_ObsID_2696_scaled.cut2.synth.lvl_sep.fits\n"
     ]
    },
    {
     "name": "stderr",
     "output_type": "stream",
     "text": [
      "WARNING: Input data contains invalid values (NaNs or infs), which were automatically clipped. [astropy.stats.sigma_clipping]\n"
     ]
    },
    {
     "name": "stdout",
     "output_type": "stream",
     "text": [
      "0.42302403 14.7593565\n",
      "write to /home/aellien/Euclid_LSB_DR1/wavelets/out3/EUC_VIS_LSB_ObsID_2696_scaled.cut2.synth.lvl_sep.iptd.fits\n",
      "/home/aellien/Euclid_LSB_DR1/wavelets/out3/EUC_VIS_LSB_ObsID_2687_scaled.cut2.synth.lvl_sep.fits\n"
     ]
    },
    {
     "name": "stderr",
     "output_type": "stream",
     "text": [
      "WARNING: Input data contains invalid values (NaNs or infs), which were automatically clipped. [astropy.stats.sigma_clipping]\n"
     ]
    },
    {
     "name": "stdout",
     "output_type": "stream",
     "text": [
      "0.1448506 7.699872\n",
      "write to /home/aellien/Euclid_LSB_DR1/wavelets/out3/EUC_VIS_LSB_ObsID_2687_scaled.cut2.synth.lvl_sep.iptd.fits\n",
      "/home/aellien/Euclid_LSB_DR1/wavelets/out3/EUC_VIS_LSB_ObsID_2722_scaled.cut14.synth.lvl_sep.fits\n"
     ]
    },
    {
     "name": "stderr",
     "output_type": "stream",
     "text": [
      "WARNING: Input data contains invalid values (NaNs or infs), which were automatically clipped. [astropy.stats.sigma_clipping]\n"
     ]
    },
    {
     "name": "stdout",
     "output_type": "stream",
     "text": [
      "0.21582979 8.622696\n",
      "write to /home/aellien/Euclid_LSB_DR1/wavelets/out3/EUC_VIS_LSB_ObsID_2722_scaled.cut14.synth.lvl_sep.iptd.fits\n",
      "/home/aellien/Euclid_LSB_DR1/wavelets/out3/EUC_VIS_LSB_ObsID_2712_scaled.cut16.synth.lvl_sep.fits\n"
     ]
    },
    {
     "name": "stderr",
     "output_type": "stream",
     "text": [
      "WARNING: Input data contains invalid values (NaNs or infs), which were automatically clipped. [astropy.stats.sigma_clipping]\n"
     ]
    },
    {
     "name": "stdout",
     "output_type": "stream",
     "text": [
      "0.22977099 9.810227\n",
      "write to /home/aellien/Euclid_LSB_DR1/wavelets/out3/EUC_VIS_LSB_ObsID_2712_scaled.cut16.synth.lvl_sep.iptd.fits\n",
      "/home/aellien/Euclid_LSB_DR1/wavelets/out3/EUC_VIS_LSB_ObsID_2711_scaled.cut5.synth.lvl_sep.fits\n"
     ]
    },
    {
     "name": "stderr",
     "output_type": "stream",
     "text": [
      "WARNING: Input data contains invalid values (NaNs or infs), which were automatically clipped. [astropy.stats.sigma_clipping]\n"
     ]
    },
    {
     "name": "stdout",
     "output_type": "stream",
     "text": [
      "0.13481316 7.4916873\n",
      "write to /home/aellien/Euclid_LSB_DR1/wavelets/out3/EUC_VIS_LSB_ObsID_2711_scaled.cut5.synth.lvl_sep.iptd.fits\n",
      "/home/aellien/Euclid_LSB_DR1/wavelets/out3/EUC_VIS_LSB_ObsID_2702_scaled.cut6.synth.lvl_sep.fits\n",
      "0.27604428 11.33466\n",
      "write to /home/aellien/Euclid_LSB_DR1/wavelets/out3/EUC_VIS_LSB_ObsID_2702_scaled.cut6.synth.lvl_sep.iptd.fits\n",
      "/home/aellien/Euclid_LSB_DR1/wavelets/out3/EUC_VIS_LSB_ObsID_2704_scaled.cut10.synth.lvl_sep.fits\n",
      "0.20124711 9.024973\n",
      "write to /home/aellien/Euclid_LSB_DR1/wavelets/out3/EUC_VIS_LSB_ObsID_2704_scaled.cut10.synth.lvl_sep.iptd.fits\n",
      "/home/aellien/Euclid_LSB_DR1/wavelets/out3/EUC_VIS_LSB_ObsID_2701_scaled.cut10.synth.lvl_sep.fits\n",
      "0.16720907 8.467284\n",
      "write to /home/aellien/Euclid_LSB_DR1/wavelets/out3/EUC_VIS_LSB_ObsID_2701_scaled.cut10.synth.lvl_sep.iptd.fits\n",
      "/home/aellien/Euclid_LSB_DR1/wavelets/out3/EUC_VIS_LSB_ObsID_2700_scaled.cut12.synth.lvl_sep.fits\n"
     ]
    },
    {
     "name": "stderr",
     "output_type": "stream",
     "text": [
      "WARNING: Input data contains invalid values (NaNs or infs), which were automatically clipped. [astropy.stats.sigma_clipping]\n"
     ]
    },
    {
     "name": "stdout",
     "output_type": "stream",
     "text": [
      "0.16216551 8.226999\n",
      "write to /home/aellien/Euclid_LSB_DR1/wavelets/out3/EUC_VIS_LSB_ObsID_2700_scaled.cut12.synth.lvl_sep.iptd.fits\n",
      "/home/aellien/Euclid_LSB_DR1/wavelets/out3/EUC_VIS_LSB_ObsID_2712_scaled.cut12.synth.lvl_sep.fits\n"
     ]
    },
    {
     "name": "stderr",
     "output_type": "stream",
     "text": [
      "WARNING: Input data contains invalid values (NaNs or infs), which were automatically clipped. [astropy.stats.sigma_clipping]\n"
     ]
    },
    {
     "name": "stdout",
     "output_type": "stream",
     "text": [
      "0.21237925 10.014998\n",
      "write to /home/aellien/Euclid_LSB_DR1/wavelets/out3/EUC_VIS_LSB_ObsID_2712_scaled.cut12.synth.lvl_sep.iptd.fits\n",
      "/home/aellien/Euclid_LSB_DR1/wavelets/out3/EUC_VIS_LSB_ObsID_2722_scaled.cut5.synth.lvl_sep.fits\n"
     ]
    },
    {
     "name": "stderr",
     "output_type": "stream",
     "text": [
      "WARNING: Input data contains invalid values (NaNs or infs), which were automatically clipped. [astropy.stats.sigma_clipping]\n"
     ]
    },
    {
     "name": "stdout",
     "output_type": "stream",
     "text": [
      "0.7679387 20.927011\n",
      "write to /home/aellien/Euclid_LSB_DR1/wavelets/out3/EUC_VIS_LSB_ObsID_2722_scaled.cut5.synth.lvl_sep.iptd.fits\n",
      "/home/aellien/Euclid_LSB_DR1/wavelets/out3/EUC_VIS_LSB_ObsID_2720_scaled.cut5.synth.lvl_sep.fits\n"
     ]
    },
    {
     "name": "stderr",
     "output_type": "stream",
     "text": [
      "WARNING: Input data contains invalid values (NaNs or infs), which were automatically clipped. [astropy.stats.sigma_clipping]\n"
     ]
    },
    {
     "name": "stdout",
     "output_type": "stream",
     "text": [
      "0.22649774 9.8691225\n",
      "write to /home/aellien/Euclid_LSB_DR1/wavelets/out3/EUC_VIS_LSB_ObsID_2720_scaled.cut5.synth.lvl_sep.iptd.fits\n",
      "/home/aellien/Euclid_LSB_DR1/wavelets/out3/EUC_VIS_LSB_ObsID_2702_scaled.cut3.synth.lvl_sep.fits\n"
     ]
    },
    {
     "name": "stderr",
     "output_type": "stream",
     "text": [
      "WARNING: Input data contains invalid values (NaNs or infs), which were automatically clipped. [astropy.stats.sigma_clipping]\n"
     ]
    },
    {
     "name": "stdout",
     "output_type": "stream",
     "text": [
      "0.13866729 7.573565\n",
      "write to /home/aellien/Euclid_LSB_DR1/wavelets/out3/EUC_VIS_LSB_ObsID_2702_scaled.cut3.synth.lvl_sep.iptd.fits\n",
      "/home/aellien/Euclid_LSB_DR1/wavelets/out3/EUC_VIS_LSB_ObsID_2704_scaled.cut5.synth.lvl_sep.fits\n"
     ]
    },
    {
     "name": "stderr",
     "output_type": "stream",
     "text": [
      "WARNING: Input data contains invalid values (NaNs or infs), which were automatically clipped. [astropy.stats.sigma_clipping]\n"
     ]
    },
    {
     "name": "stdout",
     "output_type": "stream",
     "text": [
      "0.117282644 6.801124\n",
      "write to /home/aellien/Euclid_LSB_DR1/wavelets/out3/EUC_VIS_LSB_ObsID_2704_scaled.cut5.synth.lvl_sep.iptd.fits\n",
      "/home/aellien/Euclid_LSB_DR1/wavelets/out3/EUC_VIS_LSB_ObsID_2708_scaled.cut11.synth.lvl_sep.fits\n",
      "0.17818013 8.882121\n",
      "write to /home/aellien/Euclid_LSB_DR1/wavelets/out3/EUC_VIS_LSB_ObsID_2708_scaled.cut11.synth.lvl_sep.iptd.fits\n",
      "/home/aellien/Euclid_LSB_DR1/wavelets/out3/EUC_VIS_LSB_ObsID_2708_scaled.cut7.synth.lvl_sep.fits\n",
      "0.1145659 6.848622\n",
      "write to /home/aellien/Euclid_LSB_DR1/wavelets/out3/EUC_VIS_LSB_ObsID_2708_scaled.cut7.synth.lvl_sep.iptd.fits\n",
      "/home/aellien/Euclid_LSB_DR1/wavelets/out3/EUC_VIS_LSB_ObsID_2706_scaled.cut16.synth.lvl_sep.fits\n"
     ]
    },
    {
     "name": "stderr",
     "output_type": "stream",
     "text": [
      "WARNING: Input data contains invalid values (NaNs or infs), which were automatically clipped. [astropy.stats.sigma_clipping]\n"
     ]
    },
    {
     "name": "stdout",
     "output_type": "stream",
     "text": [
      "0.16209888 8.9366045\n",
      "write to /home/aellien/Euclid_LSB_DR1/wavelets/out3/EUC_VIS_LSB_ObsID_2706_scaled.cut16.synth.lvl_sep.iptd.fits\n",
      "/home/aellien/Euclid_LSB_DR1/wavelets/out3/EUC_VIS_LSB_ObsID_2694_scaled.cut8.synth.lvl_sep.fits\n"
     ]
    },
    {
     "name": "stderr",
     "output_type": "stream",
     "text": [
      "WARNING: Input data contains invalid values (NaNs or infs), which were automatically clipped. [astropy.stats.sigma_clipping]\n"
     ]
    },
    {
     "name": "stdout",
     "output_type": "stream",
     "text": [
      "0.28693572 12.040849\n",
      "write to /home/aellien/Euclid_LSB_DR1/wavelets/out3/EUC_VIS_LSB_ObsID_2694_scaled.cut8.synth.lvl_sep.iptd.fits\n",
      "/home/aellien/Euclid_LSB_DR1/wavelets/out3/EUC_VIS_LSB_ObsID_2690_scaled.cut10.synth.lvl_sep.fits\n",
      "0.16932774 9.358143\n",
      "write to /home/aellien/Euclid_LSB_DR1/wavelets/out3/EUC_VIS_LSB_ObsID_2690_scaled.cut10.synth.lvl_sep.iptd.fits\n",
      "/home/aellien/Euclid_LSB_DR1/wavelets/out3/EUC_VIS_LSB_ObsID_2701_scaled.cut15.synth.lvl_sep.fits\n"
     ]
    },
    {
     "name": "stderr",
     "output_type": "stream",
     "text": [
      "WARNING: Input data contains invalid values (NaNs or infs), which were automatically clipped. [astropy.stats.sigma_clipping]\n"
     ]
    },
    {
     "name": "stdout",
     "output_type": "stream",
     "text": [
      "0.34783465 13.140352\n",
      "write to /home/aellien/Euclid_LSB_DR1/wavelets/out3/EUC_VIS_LSB_ObsID_2701_scaled.cut15.synth.lvl_sep.iptd.fits\n",
      "/home/aellien/Euclid_LSB_DR1/wavelets/out3/EUC_VIS_LSB_ObsID_2712_scaled.cut7.synth.lvl_sep.fits\n",
      "0.18901195 9.166649\n",
      "write to /home/aellien/Euclid_LSB_DR1/wavelets/out3/EUC_VIS_LSB_ObsID_2712_scaled.cut7.synth.lvl_sep.iptd.fits\n",
      "/home/aellien/Euclid_LSB_DR1/wavelets/out3/EUC_VIS_LSB_ObsID_2717_scaled.cut9.synth.lvl_sep.fits\n"
     ]
    },
    {
     "name": "stderr",
     "output_type": "stream",
     "text": [
      "WARNING: Input data contains invalid values (NaNs or infs), which were automatically clipped. [astropy.stats.sigma_clipping]\n"
     ]
    },
    {
     "name": "stdout",
     "output_type": "stream",
     "text": [
      "0.078014985 5.2420645\n",
      "write to /home/aellien/Euclid_LSB_DR1/wavelets/out3/EUC_VIS_LSB_ObsID_2717_scaled.cut9.synth.lvl_sep.iptd.fits\n",
      "/home/aellien/Euclid_LSB_DR1/wavelets/out3/EUC_VIS_LSB_ObsID_2723_scaled.cut4.synth.lvl_sep.fits\n"
     ]
    },
    {
     "name": "stderr",
     "output_type": "stream",
     "text": [
      "WARNING: Input data contains invalid values (NaNs or infs), which were automatically clipped. [astropy.stats.sigma_clipping]\n"
     ]
    },
    {
     "name": "stdout",
     "output_type": "stream",
     "text": [
      "0.17188798 8.125958\n",
      "write to /home/aellien/Euclid_LSB_DR1/wavelets/out3/EUC_VIS_LSB_ObsID_2723_scaled.cut4.synth.lvl_sep.iptd.fits\n",
      "/home/aellien/Euclid_LSB_DR1/wavelets/out3/EUC_VIS_LSB_ObsID_2683_scaled.cut2.synth.lvl_sep.fits\n"
     ]
    },
    {
     "name": "stderr",
     "output_type": "stream",
     "text": [
      "WARNING: Input data contains invalid values (NaNs or infs), which were automatically clipped. [astropy.stats.sigma_clipping]\n"
     ]
    },
    {
     "name": "stdout",
     "output_type": "stream",
     "text": [
      "0.16382837 8.532324\n",
      "write to /home/aellien/Euclid_LSB_DR1/wavelets/out3/EUC_VIS_LSB_ObsID_2683_scaled.cut2.synth.lvl_sep.iptd.fits\n",
      "/home/aellien/Euclid_LSB_DR1/wavelets/out3/EUC_VIS_LSB_ObsID_2689_scaled.cut9.synth.lvl_sep.fits\n"
     ]
    },
    {
     "name": "stderr",
     "output_type": "stream",
     "text": [
      "WARNING: Input data contains invalid values (NaNs or infs), which were automatically clipped. [astropy.stats.sigma_clipping]\n"
     ]
    },
    {
     "name": "stdout",
     "output_type": "stream",
     "text": [
      "0.2623167 11.411339\n",
      "write to /home/aellien/Euclid_LSB_DR1/wavelets/out3/EUC_VIS_LSB_ObsID_2689_scaled.cut9.synth.lvl_sep.iptd.fits\n",
      "/home/aellien/Euclid_LSB_DR1/wavelets/out3/EUC_VIS_LSB_ObsID_2712_scaled.cut14.synth.lvl_sep.fits\n"
     ]
    },
    {
     "name": "stderr",
     "output_type": "stream",
     "text": [
      "WARNING: Input data contains invalid values (NaNs or infs), which were automatically clipped. [astropy.stats.sigma_clipping]\n"
     ]
    },
    {
     "name": "stdout",
     "output_type": "stream",
     "text": [
      "0.19027214 9.508284\n",
      "write to /home/aellien/Euclid_LSB_DR1/wavelets/out3/EUC_VIS_LSB_ObsID_2712_scaled.cut14.synth.lvl_sep.iptd.fits\n",
      "/home/aellien/Euclid_LSB_DR1/wavelets/out3/EUC_VIS_LSB_ObsID_2686_scaled.cut15.synth.lvl_sep.fits\n"
     ]
    },
    {
     "name": "stderr",
     "output_type": "stream",
     "text": [
      "WARNING: Input data contains invalid values (NaNs or infs), which were automatically clipped. [astropy.stats.sigma_clipping]\n"
     ]
    },
    {
     "name": "stdout",
     "output_type": "stream",
     "text": [
      "0.19334899 9.192851\n",
      "write to /home/aellien/Euclid_LSB_DR1/wavelets/out3/EUC_VIS_LSB_ObsID_2686_scaled.cut15.synth.lvl_sep.iptd.fits\n",
      "/home/aellien/Euclid_LSB_DR1/wavelets/out3/EUC_VIS_LSB_ObsID_2691_scaled.cut12.synth.lvl_sep.fits\n"
     ]
    },
    {
     "name": "stderr",
     "output_type": "stream",
     "text": [
      "WARNING: Input data contains invalid values (NaNs or infs), which were automatically clipped. [astropy.stats.sigma_clipping]\n"
     ]
    },
    {
     "name": "stdout",
     "output_type": "stream",
     "text": [
      "0.12852049 7.384876\n",
      "write to /home/aellien/Euclid_LSB_DR1/wavelets/out3/EUC_VIS_LSB_ObsID_2691_scaled.cut12.synth.lvl_sep.iptd.fits\n",
      "/home/aellien/Euclid_LSB_DR1/wavelets/out3/EUC_VIS_LSB_ObsID_2713_scaled.cut7.synth.lvl_sep.fits\n",
      "0.27720103 11.672412\n",
      "write to /home/aellien/Euclid_LSB_DR1/wavelets/out3/EUC_VIS_LSB_ObsID_2713_scaled.cut7.synth.lvl_sep.iptd.fits\n",
      "/home/aellien/Euclid_LSB_DR1/wavelets/out3/EUC_VIS_LSB_ObsID_2688_scaled.cut6.synth.lvl_sep.fits\n",
      "0.12162089 7.1245365\n",
      "write to /home/aellien/Euclid_LSB_DR1/wavelets/out3/EUC_VIS_LSB_ObsID_2688_scaled.cut6.synth.lvl_sep.iptd.fits\n",
      "/home/aellien/Euclid_LSB_DR1/wavelets/out3/EUC_VIS_LSB_ObsID_2707_scaled.cut14.synth.lvl_sep.fits\n"
     ]
    },
    {
     "name": "stderr",
     "output_type": "stream",
     "text": [
      "WARNING: Input data contains invalid values (NaNs or infs), which were automatically clipped. [astropy.stats.sigma_clipping]\n"
     ]
    },
    {
     "name": "stdout",
     "output_type": "stream",
     "text": [
      "0.118200004 6.897325\n",
      "write to /home/aellien/Euclid_LSB_DR1/wavelets/out3/EUC_VIS_LSB_ObsID_2707_scaled.cut14.synth.lvl_sep.iptd.fits\n",
      "/home/aellien/Euclid_LSB_DR1/wavelets/out3/EUC_VIS_LSB_ObsID_2711_scaled.cut15.synth.lvl_sep.fits\n"
     ]
    },
    {
     "name": "stderr",
     "output_type": "stream",
     "text": [
      "WARNING: Input data contains invalid values (NaNs or infs), which were automatically clipped. [astropy.stats.sigma_clipping]\n"
     ]
    },
    {
     "name": "stdout",
     "output_type": "stream",
     "text": [
      "0.12510654 7.409055\n",
      "write to /home/aellien/Euclid_LSB_DR1/wavelets/out3/EUC_VIS_LSB_ObsID_2711_scaled.cut15.synth.lvl_sep.iptd.fits\n",
      "/home/aellien/Euclid_LSB_DR1/wavelets/out3/EUC_VIS_LSB_ObsID_2688_scaled.cut12.synth.lvl_sep.fits\n"
     ]
    },
    {
     "name": "stderr",
     "output_type": "stream",
     "text": [
      "WARNING: Input data contains invalid values (NaNs or infs), which were automatically clipped. [astropy.stats.sigma_clipping]\n"
     ]
    },
    {
     "name": "stdout",
     "output_type": "stream",
     "text": [
      "0.049851224 3.8942642\n",
      "write to /home/aellien/Euclid_LSB_DR1/wavelets/out3/EUC_VIS_LSB_ObsID_2688_scaled.cut12.synth.lvl_sep.iptd.fits\n",
      "/home/aellien/Euclid_LSB_DR1/wavelets/out3/EUC_VIS_LSB_ObsID_2698_scaled.cut6.synth.lvl_sep.fits\n"
     ]
    },
    {
     "name": "stderr",
     "output_type": "stream",
     "text": [
      "WARNING: Input data contains invalid values (NaNs or infs), which were automatically clipped. [astropy.stats.sigma_clipping]\n"
     ]
    },
    {
     "name": "stdout",
     "output_type": "stream",
     "text": [
      "0.14022261 7.5194182\n",
      "write to /home/aellien/Euclid_LSB_DR1/wavelets/out3/EUC_VIS_LSB_ObsID_2698_scaled.cut6.synth.lvl_sep.iptd.fits\n",
      "/home/aellien/Euclid_LSB_DR1/wavelets/out3/EUC_VIS_LSB_ObsID_2683_scaled.cut9.synth.lvl_sep.fits\n"
     ]
    },
    {
     "name": "stderr",
     "output_type": "stream",
     "text": [
      "WARNING: Input data contains invalid values (NaNs or infs), which were automatically clipped. [astropy.stats.sigma_clipping]\n"
     ]
    },
    {
     "name": "stdout",
     "output_type": "stream",
     "text": [
      "0.24654518 11.038139\n",
      "write to /home/aellien/Euclid_LSB_DR1/wavelets/out3/EUC_VIS_LSB_ObsID_2683_scaled.cut9.synth.lvl_sep.iptd.fits\n",
      "/home/aellien/Euclid_LSB_DR1/wavelets/out3/EUC_VIS_LSB_ObsID_2703_scaled.cut2.synth.lvl_sep.fits\n"
     ]
    },
    {
     "name": "stderr",
     "output_type": "stream",
     "text": [
      "WARNING: Input data contains invalid values (NaNs or infs), which were automatically clipped. [astropy.stats.sigma_clipping]\n"
     ]
    },
    {
     "name": "stdout",
     "output_type": "stream",
     "text": [
      "0.26026917 10.984298\n",
      "write to /home/aellien/Euclid_LSB_DR1/wavelets/out3/EUC_VIS_LSB_ObsID_2703_scaled.cut2.synth.lvl_sep.iptd.fits\n",
      "/home/aellien/Euclid_LSB_DR1/wavelets/out3/EUC_VIS_LSB_ObsID_2701_scaled.cut8.synth.lvl_sep.fits\n"
     ]
    },
    {
     "name": "stderr",
     "output_type": "stream",
     "text": [
      "WARNING: Input data contains invalid values (NaNs or infs), which were automatically clipped. [astropy.stats.sigma_clipping]\n"
     ]
    },
    {
     "name": "stdout",
     "output_type": "stream",
     "text": [
      "0.23023868 10.055428\n",
      "write to /home/aellien/Euclid_LSB_DR1/wavelets/out3/EUC_VIS_LSB_ObsID_2701_scaled.cut8.synth.lvl_sep.iptd.fits\n",
      "/home/aellien/Euclid_LSB_DR1/wavelets/out3/EUC_VIS_LSB_ObsID_2716_scaled.cut6.synth.lvl_sep.fits\n",
      "0.20957616 9.954535\n",
      "write to /home/aellien/Euclid_LSB_DR1/wavelets/out3/EUC_VIS_LSB_ObsID_2716_scaled.cut6.synth.lvl_sep.iptd.fits\n",
      "/home/aellien/Euclid_LSB_DR1/wavelets/out3/EUC_VIS_LSB_ObsID_2695_scaled.cut8.synth.lvl_sep.fits\n"
     ]
    },
    {
     "name": "stderr",
     "output_type": "stream",
     "text": [
      "WARNING: Input data contains invalid values (NaNs or infs), which were automatically clipped. [astropy.stats.sigma_clipping]\n"
     ]
    },
    {
     "name": "stdout",
     "output_type": "stream",
     "text": [
      "0.17360838 8.577889\n",
      "write to /home/aellien/Euclid_LSB_DR1/wavelets/out3/EUC_VIS_LSB_ObsID_2695_scaled.cut8.synth.lvl_sep.iptd.fits\n",
      "/home/aellien/Euclid_LSB_DR1/wavelets/out3/EUC_VIS_LSB_ObsID_2691_scaled.cut11.synth.lvl_sep.fits\n",
      "0.116895735 7.0920978\n",
      "write to /home/aellien/Euclid_LSB_DR1/wavelets/out3/EUC_VIS_LSB_ObsID_2691_scaled.cut11.synth.lvl_sep.iptd.fits\n",
      "/home/aellien/Euclid_LSB_DR1/wavelets/out3/EUC_VIS_LSB_ObsID_2711_scaled.cut7.synth.lvl_sep.fits\n",
      "0.19890155 9.634251\n",
      "write to /home/aellien/Euclid_LSB_DR1/wavelets/out3/EUC_VIS_LSB_ObsID_2711_scaled.cut7.synth.lvl_sep.iptd.fits\n",
      "/home/aellien/Euclid_LSB_DR1/wavelets/out3/EUC_VIS_LSB_ObsID_2721_scaled.cut13.synth.lvl_sep.fits\n"
     ]
    },
    {
     "name": "stderr",
     "output_type": "stream",
     "text": [
      "WARNING: Input data contains invalid values (NaNs or infs), which were automatically clipped. [astropy.stats.sigma_clipping]\n"
     ]
    },
    {
     "name": "stdout",
     "output_type": "stream",
     "text": [
      "0.43116075 15.963964\n",
      "write to /home/aellien/Euclid_LSB_DR1/wavelets/out3/EUC_VIS_LSB_ObsID_2721_scaled.cut13.synth.lvl_sep.iptd.fits\n",
      "/home/aellien/Euclid_LSB_DR1/wavelets/out3/EUC_VIS_LSB_ObsID_2695_scaled.cut2.synth.lvl_sep.fits\n"
     ]
    },
    {
     "name": "stderr",
     "output_type": "stream",
     "text": [
      "WARNING: Input data contains invalid values (NaNs or infs), which were automatically clipped. [astropy.stats.sigma_clipping]\n"
     ]
    },
    {
     "name": "stdout",
     "output_type": "stream",
     "text": [
      "0.22303517 10.021377\n",
      "write to /home/aellien/Euclid_LSB_DR1/wavelets/out3/EUC_VIS_LSB_ObsID_2695_scaled.cut2.synth.lvl_sep.iptd.fits\n",
      "/home/aellien/Euclid_LSB_DR1/wavelets/out3/EUC_VIS_LSB_ObsID_2692_scaled.cut14.synth.lvl_sep.fits\n"
     ]
    },
    {
     "name": "stderr",
     "output_type": "stream",
     "text": [
      "WARNING: Input data contains invalid values (NaNs or infs), which were automatically clipped. [astropy.stats.sigma_clipping]\n"
     ]
    },
    {
     "name": "stdout",
     "output_type": "stream",
     "text": [
      "0.27298567 11.570072\n",
      "write to /home/aellien/Euclid_LSB_DR1/wavelets/out3/EUC_VIS_LSB_ObsID_2692_scaled.cut14.synth.lvl_sep.iptd.fits\n",
      "/home/aellien/Euclid_LSB_DR1/wavelets/out3/EUC_VIS_LSB_ObsID_2685_scaled.cut11.synth.lvl_sep.fits\n",
      "0.20954926 9.5592785\n",
      "write to /home/aellien/Euclid_LSB_DR1/wavelets/out3/EUC_VIS_LSB_ObsID_2685_scaled.cut11.synth.lvl_sep.iptd.fits\n",
      "/home/aellien/Euclid_LSB_DR1/wavelets/out3/EUC_VIS_LSB_ObsID_2707_scaled.cut8.synth.lvl_sep.fits\n"
     ]
    },
    {
     "name": "stderr",
     "output_type": "stream",
     "text": [
      "WARNING: Input data contains invalid values (NaNs or infs), which were automatically clipped. [astropy.stats.sigma_clipping]\n"
     ]
    },
    {
     "name": "stdout",
     "output_type": "stream",
     "text": [
      "0.24046808 11.073835\n",
      "write to /home/aellien/Euclid_LSB_DR1/wavelets/out3/EUC_VIS_LSB_ObsID_2707_scaled.cut8.synth.lvl_sep.iptd.fits\n",
      "/home/aellien/Euclid_LSB_DR1/wavelets/out3/EUC_VIS_LSB_ObsID_2693_scaled.cut13.synth.lvl_sep.fits\n"
     ]
    },
    {
     "name": "stderr",
     "output_type": "stream",
     "text": [
      "WARNING: Input data contains invalid values (NaNs or infs), which were automatically clipped. [astropy.stats.sigma_clipping]\n"
     ]
    },
    {
     "name": "stdout",
     "output_type": "stream",
     "text": [
      "0.16598015 8.495364\n",
      "write to /home/aellien/Euclid_LSB_DR1/wavelets/out3/EUC_VIS_LSB_ObsID_2693_scaled.cut13.synth.lvl_sep.iptd.fits\n",
      "/home/aellien/Euclid_LSB_DR1/wavelets/out3/EUC_VIS_LSB_ObsID_2684_scaled.cut8.synth.lvl_sep.fits\n"
     ]
    },
    {
     "name": "stderr",
     "output_type": "stream",
     "text": [
      "WARNING: Input data contains invalid values (NaNs or infs), which were automatically clipped. [astropy.stats.sigma_clipping]\n"
     ]
    },
    {
     "name": "stdout",
     "output_type": "stream",
     "text": [
      "0.10568542 6.13955\n",
      "write to /home/aellien/Euclid_LSB_DR1/wavelets/out3/EUC_VIS_LSB_ObsID_2684_scaled.cut8.synth.lvl_sep.iptd.fits\n",
      "/home/aellien/Euclid_LSB_DR1/wavelets/out3/EUC_VIS_LSB_ObsID_2699_scaled.cut3.synth.lvl_sep.fits\n"
     ]
    },
    {
     "name": "stderr",
     "output_type": "stream",
     "text": [
      "WARNING: Input data contains invalid values (NaNs or infs), which were automatically clipped. [astropy.stats.sigma_clipping]\n"
     ]
    },
    {
     "name": "stdout",
     "output_type": "stream",
     "text": [
      "0.33611226 12.968355\n",
      "write to /home/aellien/Euclid_LSB_DR1/wavelets/out3/EUC_VIS_LSB_ObsID_2699_scaled.cut3.synth.lvl_sep.iptd.fits\n",
      "/home/aellien/Euclid_LSB_DR1/wavelets/out3/EUC_VIS_LSB_ObsID_2712_scaled.cut2.synth.lvl_sep.fits\n"
     ]
    },
    {
     "name": "stderr",
     "output_type": "stream",
     "text": [
      "WARNING: Input data contains invalid values (NaNs or infs), which were automatically clipped. [astropy.stats.sigma_clipping]\n"
     ]
    },
    {
     "name": "stdout",
     "output_type": "stream",
     "text": [
      "0.16680788 8.577465\n",
      "write to /home/aellien/Euclid_LSB_DR1/wavelets/out3/EUC_VIS_LSB_ObsID_2712_scaled.cut2.synth.lvl_sep.iptd.fits\n",
      "/home/aellien/Euclid_LSB_DR1/wavelets/out3/EUC_VIS_LSB_ObsID_2713_scaled.cut12.synth.lvl_sep.fits\n"
     ]
    },
    {
     "name": "stderr",
     "output_type": "stream",
     "text": [
      "WARNING: Input data contains invalid values (NaNs or infs), which were automatically clipped. [astropy.stats.sigma_clipping]\n"
     ]
    },
    {
     "name": "stdout",
     "output_type": "stream",
     "text": [
      "0.44115368 16.021372\n",
      "write to /home/aellien/Euclid_LSB_DR1/wavelets/out3/EUC_VIS_LSB_ObsID_2713_scaled.cut12.synth.lvl_sep.iptd.fits\n",
      "/home/aellien/Euclid_LSB_DR1/wavelets/out3/EUC_VIS_LSB_ObsID_2700_scaled.cut10.synth.lvl_sep.fits\n",
      "0.18008295 8.7846985\n",
      "write to /home/aellien/Euclid_LSB_DR1/wavelets/out3/EUC_VIS_LSB_ObsID_2700_scaled.cut10.synth.lvl_sep.iptd.fits\n",
      "/home/aellien/Euclid_LSB_DR1/wavelets/out3/EUC_VIS_LSB_ObsID_2711_scaled.cut3.synth.lvl_sep.fits\n"
     ]
    },
    {
     "name": "stderr",
     "output_type": "stream",
     "text": [
      "WARNING: Input data contains invalid values (NaNs or infs), which were automatically clipped. [astropy.stats.sigma_clipping]\n"
     ]
    },
    {
     "name": "stdout",
     "output_type": "stream",
     "text": [
      "0.15129502 8.192941\n",
      "write to /home/aellien/Euclid_LSB_DR1/wavelets/out3/EUC_VIS_LSB_ObsID_2711_scaled.cut3.synth.lvl_sep.iptd.fits\n",
      "/home/aellien/Euclid_LSB_DR1/wavelets/out3/EUC_VIS_LSB_ObsID_2693_scaled.cut9.synth.lvl_sep.fits\n"
     ]
    },
    {
     "name": "stderr",
     "output_type": "stream",
     "text": [
      "WARNING: Input data contains invalid values (NaNs or infs), which were automatically clipped. [astropy.stats.sigma_clipping]\n"
     ]
    },
    {
     "name": "stdout",
     "output_type": "stream",
     "text": [
      "0.27372375 11.237085\n",
      "write to /home/aellien/Euclid_LSB_DR1/wavelets/out3/EUC_VIS_LSB_ObsID_2693_scaled.cut9.synth.lvl_sep.iptd.fits\n",
      "/home/aellien/Euclid_LSB_DR1/wavelets/out3/EUC_VIS_LSB_ObsID_2684_scaled.cut14.synth.lvl_sep.fits\n"
     ]
    },
    {
     "name": "stderr",
     "output_type": "stream",
     "text": [
      "WARNING: Input data contains invalid values (NaNs or infs), which were automatically clipped. [astropy.stats.sigma_clipping]\n"
     ]
    },
    {
     "name": "stdout",
     "output_type": "stream",
     "text": [
      "0.21090546 9.987048\n",
      "write to /home/aellien/Euclid_LSB_DR1/wavelets/out3/EUC_VIS_LSB_ObsID_2684_scaled.cut14.synth.lvl_sep.iptd.fits\n",
      "/home/aellien/Euclid_LSB_DR1/wavelets/out3/EUC_VIS_LSB_ObsID_2722_scaled.cut8.synth.lvl_sep.fits\n"
     ]
    },
    {
     "name": "stderr",
     "output_type": "stream",
     "text": [
      "WARNING: Input data contains invalid values (NaNs or infs), which were automatically clipped. [astropy.stats.sigma_clipping]\n"
     ]
    },
    {
     "name": "stdout",
     "output_type": "stream",
     "text": [
      "0.4259586 14.845254\n",
      "write to /home/aellien/Euclid_LSB_DR1/wavelets/out3/EUC_VIS_LSB_ObsID_2722_scaled.cut8.synth.lvl_sep.iptd.fits\n",
      "/home/aellien/Euclid_LSB_DR1/wavelets/out3/EUC_VIS_LSB_ObsID_2704_scaled.cut12.synth.lvl_sep.fits\n"
     ]
    },
    {
     "name": "stderr",
     "output_type": "stream",
     "text": [
      "WARNING: Input data contains invalid values (NaNs or infs), which were automatically clipped. [astropy.stats.sigma_clipping]\n"
     ]
    },
    {
     "name": "stdout",
     "output_type": "stream",
     "text": [
      "0.15113431 7.9494743\n",
      "write to /home/aellien/Euclid_LSB_DR1/wavelets/out3/EUC_VIS_LSB_ObsID_2704_scaled.cut12.synth.lvl_sep.iptd.fits\n",
      "/home/aellien/Euclid_LSB_DR1/wavelets/out3/EUC_VIS_LSB_ObsID_2723_scaled.cut7.synth.lvl_sep.fits\n",
      "0.27767605 12.055053\n",
      "write to /home/aellien/Euclid_LSB_DR1/wavelets/out3/EUC_VIS_LSB_ObsID_2723_scaled.cut7.synth.lvl_sep.iptd.fits\n",
      "/home/aellien/Euclid_LSB_DR1/wavelets/out3/EUC_VIS_LSB_ObsID_2684_scaled.cut6.synth.lvl_sep.fits\n",
      "0.16342328 8.253476\n",
      "write to /home/aellien/Euclid_LSB_DR1/wavelets/out3/EUC_VIS_LSB_ObsID_2684_scaled.cut6.synth.lvl_sep.iptd.fits\n",
      "/home/aellien/Euclid_LSB_DR1/wavelets/out3/EUC_VIS_LSB_ObsID_2722_scaled.cut13.synth.lvl_sep.fits\n"
     ]
    },
    {
     "name": "stderr",
     "output_type": "stream",
     "text": [
      "WARNING: Input data contains invalid values (NaNs or infs), which were automatically clipped. [astropy.stats.sigma_clipping]\n"
     ]
    },
    {
     "name": "stdout",
     "output_type": "stream",
     "text": [
      "0.23393738 10.476961\n",
      "write to /home/aellien/Euclid_LSB_DR1/wavelets/out3/EUC_VIS_LSB_ObsID_2722_scaled.cut13.synth.lvl_sep.iptd.fits\n",
      "/home/aellien/Euclid_LSB_DR1/wavelets/out3/EUC_VIS_LSB_ObsID_2684_scaled.cut9.synth.lvl_sep.fits\n"
     ]
    },
    {
     "name": "stderr",
     "output_type": "stream",
     "text": [
      "WARNING: Input data contains invalid values (NaNs or infs), which were automatically clipped. [astropy.stats.sigma_clipping]\n"
     ]
    },
    {
     "name": "stdout",
     "output_type": "stream",
     "text": [
      "0.14602402 7.8021407\n",
      "write to /home/aellien/Euclid_LSB_DR1/wavelets/out3/EUC_VIS_LSB_ObsID_2684_scaled.cut9.synth.lvl_sep.iptd.fits\n",
      "/home/aellien/Euclid_LSB_DR1/wavelets/out3/EUC_VIS_LSB_ObsID_2688_scaled.cut3.synth.lvl_sep.fits\n"
     ]
    },
    {
     "name": "stderr",
     "output_type": "stream",
     "text": [
      "WARNING: Input data contains invalid values (NaNs or infs), which were automatically clipped. [astropy.stats.sigma_clipping]\n"
     ]
    },
    {
     "name": "stdout",
     "output_type": "stream",
     "text": [
      "0.22446631 10.278598\n",
      "write to /home/aellien/Euclid_LSB_DR1/wavelets/out3/EUC_VIS_LSB_ObsID_2688_scaled.cut3.synth.lvl_sep.iptd.fits\n",
      "/home/aellien/Euclid_LSB_DR1/wavelets/out3/EUC_VIS_LSB_ObsID_2696_scaled.cut8.synth.lvl_sep.fits\n"
     ]
    },
    {
     "name": "stderr",
     "output_type": "stream",
     "text": [
      "WARNING: Input data contains invalid values (NaNs or infs), which were automatically clipped. [astropy.stats.sigma_clipping]\n"
     ]
    },
    {
     "name": "stdout",
     "output_type": "stream",
     "text": [
      "0.9536269 24.83386\n",
      "write to /home/aellien/Euclid_LSB_DR1/wavelets/out3/EUC_VIS_LSB_ObsID_2696_scaled.cut8.synth.lvl_sep.iptd.fits\n",
      "/home/aellien/Euclid_LSB_DR1/wavelets/out3/EUC_VIS_LSB_ObsID_2687_scaled.cut6.synth.lvl_sep.fits\n",
      "0.18345273 9.073078\n",
      "write to /home/aellien/Euclid_LSB_DR1/wavelets/out3/EUC_VIS_LSB_ObsID_2687_scaled.cut6.synth.lvl_sep.iptd.fits\n",
      "/home/aellien/Euclid_LSB_DR1/wavelets/out3/EUC_VIS_LSB_ObsID_2718_scaled.cut15.synth.lvl_sep.fits\n"
     ]
    },
    {
     "name": "stderr",
     "output_type": "stream",
     "text": [
      "WARNING: Input data contains invalid values (NaNs or infs), which were automatically clipped. [astropy.stats.sigma_clipping]\n"
     ]
    },
    {
     "name": "stdout",
     "output_type": "stream",
     "text": [
      "0.16755898 8.534727\n",
      "write to /home/aellien/Euclid_LSB_DR1/wavelets/out3/EUC_VIS_LSB_ObsID_2718_scaled.cut15.synth.lvl_sep.iptd.fits\n",
      "/home/aellien/Euclid_LSB_DR1/wavelets/out3/EUC_VIS_LSB_ObsID_2712_scaled.cut13.synth.lvl_sep.fits\n"
     ]
    },
    {
     "name": "stderr",
     "output_type": "stream",
     "text": [
      "WARNING: Input data contains invalid values (NaNs or infs), which were automatically clipped. [astropy.stats.sigma_clipping]\n"
     ]
    },
    {
     "name": "stdout",
     "output_type": "stream",
     "text": [
      "0.102669924 6.3037543\n",
      "write to /home/aellien/Euclid_LSB_DR1/wavelets/out3/EUC_VIS_LSB_ObsID_2712_scaled.cut13.synth.lvl_sep.iptd.fits\n",
      "/home/aellien/Euclid_LSB_DR1/wavelets/out3/EUC_VIS_LSB_ObsID_2717_scaled.cut13.synth.lvl_sep.fits\n"
     ]
    },
    {
     "name": "stderr",
     "output_type": "stream",
     "text": [
      "WARNING: Input data contains invalid values (NaNs or infs), which were automatically clipped. [astropy.stats.sigma_clipping]\n"
     ]
    },
    {
     "name": "stdout",
     "output_type": "stream",
     "text": [
      "0.30702925 12.399484\n",
      "write to /home/aellien/Euclid_LSB_DR1/wavelets/out3/EUC_VIS_LSB_ObsID_2717_scaled.cut13.synth.lvl_sep.iptd.fits\n",
      "/home/aellien/Euclid_LSB_DR1/wavelets/out3/EUC_VIS_LSB_ObsID_2693_scaled.cut3.synth.lvl_sep.fits\n"
     ]
    },
    {
     "name": "stderr",
     "output_type": "stream",
     "text": [
      "WARNING: Input data contains invalid values (NaNs or infs), which were automatically clipped. [astropy.stats.sigma_clipping]\n"
     ]
    },
    {
     "name": "stdout",
     "output_type": "stream",
     "text": [
      "0.28951618 10.902947\n",
      "write to /home/aellien/Euclid_LSB_DR1/wavelets/out3/EUC_VIS_LSB_ObsID_2693_scaled.cut3.synth.lvl_sep.iptd.fits\n",
      "/home/aellien/Euclid_LSB_DR1/wavelets/out3/EUC_VIS_LSB_ObsID_2714_scaled.cut5.synth.lvl_sep.fits\n"
     ]
    },
    {
     "name": "stderr",
     "output_type": "stream",
     "text": [
      "WARNING: Input data contains invalid values (NaNs or infs), which were automatically clipped. [astropy.stats.sigma_clipping]\n"
     ]
    },
    {
     "name": "stdout",
     "output_type": "stream",
     "text": [
      "0.43828762 15.558359\n",
      "write to /home/aellien/Euclid_LSB_DR1/wavelets/out3/EUC_VIS_LSB_ObsID_2714_scaled.cut5.synth.lvl_sep.iptd.fits\n",
      "/home/aellien/Euclid_LSB_DR1/wavelets/out3/EUC_VIS_LSB_ObsID_2717_scaled.cut4.synth.lvl_sep.fits\n"
     ]
    },
    {
     "name": "stderr",
     "output_type": "stream",
     "text": [
      "WARNING: Input data contains invalid values (NaNs or infs), which were automatically clipped. [astropy.stats.sigma_clipping]\n"
     ]
    },
    {
     "name": "stdout",
     "output_type": "stream",
     "text": [
      "0.3455304 13.8132105\n",
      "write to /home/aellien/Euclid_LSB_DR1/wavelets/out3/EUC_VIS_LSB_ObsID_2717_scaled.cut4.synth.lvl_sep.iptd.fits\n",
      "/home/aellien/Euclid_LSB_DR1/wavelets/out3/EUC_VIS_LSB_ObsID_2691_scaled.cut3.synth.lvl_sep.fits\n"
     ]
    },
    {
     "name": "stderr",
     "output_type": "stream",
     "text": [
      "WARNING: Input data contains invalid values (NaNs or infs), which were automatically clipped. [astropy.stats.sigma_clipping]\n"
     ]
    },
    {
     "name": "stdout",
     "output_type": "stream",
     "text": [
      "0.14151302 7.7140417\n",
      "write to /home/aellien/Euclid_LSB_DR1/wavelets/out3/EUC_VIS_LSB_ObsID_2691_scaled.cut3.synth.lvl_sep.iptd.fits\n",
      "/home/aellien/Euclid_LSB_DR1/wavelets/out3/EUC_VIS_LSB_ObsID_2681_scaled.cut11.synth.lvl_sep.fits\n"
     ]
    },
    {
     "name": "stderr",
     "output_type": "stream",
     "text": [
      "WARNING: Input data contains invalid values (NaNs or infs), which were automatically clipped. [astropy.stats.sigma_clipping]\n"
     ]
    },
    {
     "name": "stdout",
     "output_type": "stream",
     "text": [
      "0.27703097 11.529237\n",
      "write to /home/aellien/Euclid_LSB_DR1/wavelets/out3/EUC_VIS_LSB_ObsID_2681_scaled.cut11.synth.lvl_sep.iptd.fits\n",
      "/home/aellien/Euclid_LSB_DR1/wavelets/out3/EUC_VIS_LSB_ObsID_2685_scaled.cut3.synth.lvl_sep.fits\n"
     ]
    },
    {
     "name": "stderr",
     "output_type": "stream",
     "text": [
      "WARNING: Input data contains invalid values (NaNs or infs), which were automatically clipped. [astropy.stats.sigma_clipping]\n"
     ]
    },
    {
     "name": "stdout",
     "output_type": "stream",
     "text": [
      "0.18034814 8.864072\n",
      "write to /home/aellien/Euclid_LSB_DR1/wavelets/out3/EUC_VIS_LSB_ObsID_2685_scaled.cut3.synth.lvl_sep.iptd.fits\n",
      "/home/aellien/Euclid_LSB_DR1/wavelets/out3/EUC_VIS_LSB_ObsID_2719_scaled.cut10.synth.lvl_sep.fits\n",
      "0.51424325 17.478231\n",
      "write to /home/aellien/Euclid_LSB_DR1/wavelets/out3/EUC_VIS_LSB_ObsID_2719_scaled.cut10.synth.lvl_sep.iptd.fits\n",
      "/home/aellien/Euclid_LSB_DR1/wavelets/out3/EUC_VIS_LSB_ObsID_2717_scaled.cut7.synth.lvl_sep.fits\n",
      "0.2670469 12.042868\n",
      "write to /home/aellien/Euclid_LSB_DR1/wavelets/out3/EUC_VIS_LSB_ObsID_2717_scaled.cut7.synth.lvl_sep.iptd.fits\n",
      "/home/aellien/Euclid_LSB_DR1/wavelets/out3/EUC_VIS_LSB_ObsID_2720_scaled.cut8.synth.lvl_sep.fits\n"
     ]
    },
    {
     "name": "stderr",
     "output_type": "stream",
     "text": [
      "WARNING: Input data contains invalid values (NaNs or infs), which were automatically clipped. [astropy.stats.sigma_clipping]\n"
     ]
    },
    {
     "name": "stdout",
     "output_type": "stream",
     "text": [
      "0.12609129 7.312623\n",
      "write to /home/aellien/Euclid_LSB_DR1/wavelets/out3/EUC_VIS_LSB_ObsID_2720_scaled.cut8.synth.lvl_sep.iptd.fits\n",
      "/home/aellien/Euclid_LSB_DR1/wavelets/out3/EUC_VIS_LSB_ObsID_2721_scaled.cut8.synth.lvl_sep.fits\n"
     ]
    },
    {
     "name": "stderr",
     "output_type": "stream",
     "text": [
      "WARNING: Input data contains invalid values (NaNs or infs), which were automatically clipped. [astropy.stats.sigma_clipping]\n"
     ]
    },
    {
     "name": "stdout",
     "output_type": "stream",
     "text": [
      "0.18534926 9.24602\n",
      "write to /home/aellien/Euclid_LSB_DR1/wavelets/out3/EUC_VIS_LSB_ObsID_2721_scaled.cut8.synth.lvl_sep.iptd.fits\n",
      "/home/aellien/Euclid_LSB_DR1/wavelets/out3/EUC_VIS_LSB_ObsID_2685_scaled.cut15.synth.lvl_sep.fits\n"
     ]
    },
    {
     "name": "stderr",
     "output_type": "stream",
     "text": [
      "WARNING: Input data contains invalid values (NaNs or infs), which were automatically clipped. [astropy.stats.sigma_clipping]\n"
     ]
    },
    {
     "name": "stdout",
     "output_type": "stream",
     "text": [
      "0.25574023 11.283647\n",
      "write to /home/aellien/Euclid_LSB_DR1/wavelets/out3/EUC_VIS_LSB_ObsID_2685_scaled.cut15.synth.lvl_sep.iptd.fits\n",
      "/home/aellien/Euclid_LSB_DR1/wavelets/out3/EUC_VIS_LSB_ObsID_2711_scaled.cut4.synth.lvl_sep.fits\n"
     ]
    },
    {
     "name": "stderr",
     "output_type": "stream",
     "text": [
      "WARNING: Input data contains invalid values (NaNs or infs), which were automatically clipped. [astropy.stats.sigma_clipping]\n"
     ]
    },
    {
     "name": "stdout",
     "output_type": "stream",
     "text": [
      "0.13872957 7.3939023\n",
      "write to /home/aellien/Euclid_LSB_DR1/wavelets/out3/EUC_VIS_LSB_ObsID_2711_scaled.cut4.synth.lvl_sep.iptd.fits\n",
      "/home/aellien/Euclid_LSB_DR1/wavelets/out3/EUC_VIS_LSB_ObsID_2689_scaled.cut3.synth.lvl_sep.fits\n"
     ]
    },
    {
     "name": "stderr",
     "output_type": "stream",
     "text": [
      "WARNING: Input data contains invalid values (NaNs or infs), which were automatically clipped. [astropy.stats.sigma_clipping]\n"
     ]
    },
    {
     "name": "stdout",
     "output_type": "stream",
     "text": [
      "0.15569557 8.533734\n",
      "write to /home/aellien/Euclid_LSB_DR1/wavelets/out3/EUC_VIS_LSB_ObsID_2689_scaled.cut3.synth.lvl_sep.iptd.fits\n",
      "/home/aellien/Euclid_LSB_DR1/wavelets/out3/EUC_VIS_LSB_ObsID_2686_scaled.cut7.synth.lvl_sep.fits\n",
      "0.09218247 5.8947554\n",
      "write to /home/aellien/Euclid_LSB_DR1/wavelets/out3/EUC_VIS_LSB_ObsID_2686_scaled.cut7.synth.lvl_sep.iptd.fits\n",
      "/home/aellien/Euclid_LSB_DR1/wavelets/out3/EUC_VIS_LSB_ObsID_2691_scaled.cut14.synth.lvl_sep.fits\n"
     ]
    },
    {
     "name": "stderr",
     "output_type": "stream",
     "text": [
      "WARNING: Input data contains invalid values (NaNs or infs), which were automatically clipped. [astropy.stats.sigma_clipping]\n"
     ]
    },
    {
     "name": "stdout",
     "output_type": "stream",
     "text": [
      "0.10886854 6.715312\n",
      "write to /home/aellien/Euclid_LSB_DR1/wavelets/out3/EUC_VIS_LSB_ObsID_2691_scaled.cut14.synth.lvl_sep.iptd.fits\n",
      "/home/aellien/Euclid_LSB_DR1/wavelets/out3/EUC_VIS_LSB_ObsID_2720_scaled.cut16.synth.lvl_sep.fits\n"
     ]
    },
    {
     "name": "stderr",
     "output_type": "stream",
     "text": [
      "WARNING: Input data contains invalid values (NaNs or infs), which were automatically clipped. [astropy.stats.sigma_clipping]\n"
     ]
    },
    {
     "name": "stdout",
     "output_type": "stream",
     "text": [
      "0.61561775 19.220423\n",
      "write to /home/aellien/Euclid_LSB_DR1/wavelets/out3/EUC_VIS_LSB_ObsID_2720_scaled.cut16.synth.lvl_sep.iptd.fits\n",
      "/home/aellien/Euclid_LSB_DR1/wavelets/out3/EUC_VIS_LSB_ObsID_2701_scaled.cut16.synth.lvl_sep.fits\n"
     ]
    },
    {
     "name": "stderr",
     "output_type": "stream",
     "text": [
      "WARNING: Input data contains invalid values (NaNs or infs), which were automatically clipped. [astropy.stats.sigma_clipping]\n"
     ]
    },
    {
     "name": "stdout",
     "output_type": "stream",
     "text": [
      "0.1585848 8.6593685\n",
      "write to /home/aellien/Euclid_LSB_DR1/wavelets/out3/EUC_VIS_LSB_ObsID_2701_scaled.cut16.synth.lvl_sep.iptd.fits\n",
      "/home/aellien/Euclid_LSB_DR1/wavelets/out3/EUC_VIS_LSB_ObsID_2704_scaled.cut9.synth.lvl_sep.fits\n"
     ]
    },
    {
     "name": "stderr",
     "output_type": "stream",
     "text": [
      "WARNING: Input data contains invalid values (NaNs or infs), which were automatically clipped. [astropy.stats.sigma_clipping]\n"
     ]
    },
    {
     "name": "stdout",
     "output_type": "stream",
     "text": [
      "0.14060277 7.5954995\n",
      "write to /home/aellien/Euclid_LSB_DR1/wavelets/out3/EUC_VIS_LSB_ObsID_2704_scaled.cut9.synth.lvl_sep.iptd.fits\n",
      "/home/aellien/Euclid_LSB_DR1/wavelets/out3/EUC_VIS_LSB_ObsID_2706_scaled.cut2.synth.lvl_sep.fits\n"
     ]
    },
    {
     "name": "stderr",
     "output_type": "stream",
     "text": [
      "WARNING: Input data contains invalid values (NaNs or infs), which were automatically clipped. [astropy.stats.sigma_clipping]\n"
     ]
    },
    {
     "name": "stdout",
     "output_type": "stream",
     "text": [
      "0.24112096 11.206588\n",
      "write to /home/aellien/Euclid_LSB_DR1/wavelets/out3/EUC_VIS_LSB_ObsID_2706_scaled.cut2.synth.lvl_sep.iptd.fits\n",
      "/home/aellien/Euclid_LSB_DR1/wavelets/out3/EUC_VIS_LSB_ObsID_2723_scaled.cut14.synth.lvl_sep.fits\n"
     ]
    },
    {
     "name": "stderr",
     "output_type": "stream",
     "text": [
      "WARNING: Input data contains invalid values (NaNs or infs), which were automatically clipped. [astropy.stats.sigma_clipping]\n"
     ]
    },
    {
     "name": "stdout",
     "output_type": "stream",
     "text": [
      "0.312313 12.379136\n",
      "write to /home/aellien/Euclid_LSB_DR1/wavelets/out3/EUC_VIS_LSB_ObsID_2723_scaled.cut14.synth.lvl_sep.iptd.fits\n",
      "/home/aellien/Euclid_LSB_DR1/wavelets/out3/EUC_VIS_LSB_ObsID_2719_scaled.cut3.synth.lvl_sep.fits\n"
     ]
    },
    {
     "name": "stderr",
     "output_type": "stream",
     "text": [
      "WARNING: Input data contains invalid values (NaNs or infs), which were automatically clipped. [astropy.stats.sigma_clipping]\n"
     ]
    },
    {
     "name": "stdout",
     "output_type": "stream",
     "text": [
      "0.3054061 12.51303\n",
      "write to /home/aellien/Euclid_LSB_DR1/wavelets/out3/EUC_VIS_LSB_ObsID_2719_scaled.cut3.synth.lvl_sep.iptd.fits\n",
      "/home/aellien/Euclid_LSB_DR1/wavelets/out3/EUC_VIS_LSB_ObsID_2714_scaled.cut4.synth.lvl_sep.fits\n"
     ]
    },
    {
     "name": "stderr",
     "output_type": "stream",
     "text": [
      "WARNING: Input data contains invalid values (NaNs or infs), which were automatically clipped. [astropy.stats.sigma_clipping]\n"
     ]
    },
    {
     "name": "stdout",
     "output_type": "stream",
     "text": [
      "0.40046206 13.961852\n",
      "write to /home/aellien/Euclid_LSB_DR1/wavelets/out3/EUC_VIS_LSB_ObsID_2714_scaled.cut4.synth.lvl_sep.iptd.fits\n",
      "/home/aellien/Euclid_LSB_DR1/wavelets/out3/EUC_VIS_LSB_ObsID_2690_scaled.cut11.synth.lvl_sep.fits\n",
      "0.14621535 7.89456\n",
      "write to /home/aellien/Euclid_LSB_DR1/wavelets/out3/EUC_VIS_LSB_ObsID_2690_scaled.cut11.synth.lvl_sep.iptd.fits\n",
      "/home/aellien/Euclid_LSB_DR1/wavelets/out3/EUC_VIS_LSB_ObsID_2716_scaled.cut3.synth.lvl_sep.fits\n"
     ]
    },
    {
     "name": "stderr",
     "output_type": "stream",
     "text": [
      "WARNING: Input data contains invalid values (NaNs or infs), which were automatically clipped. [astropy.stats.sigma_clipping]\n"
     ]
    },
    {
     "name": "stdout",
     "output_type": "stream",
     "text": [
      "0.091238484 5.163115\n",
      "write to /home/aellien/Euclid_LSB_DR1/wavelets/out3/EUC_VIS_LSB_ObsID_2716_scaled.cut3.synth.lvl_sep.iptd.fits\n",
      "/home/aellien/Euclid_LSB_DR1/wavelets/out3/EUC_VIS_LSB_ObsID_2713_scaled.cut11.synth.lvl_sep.fits\n",
      "0.12907612 7.238859\n",
      "write to /home/aellien/Euclid_LSB_DR1/wavelets/out3/EUC_VIS_LSB_ObsID_2713_scaled.cut11.synth.lvl_sep.iptd.fits\n",
      "/home/aellien/Euclid_LSB_DR1/wavelets/out3/EUC_VIS_LSB_ObsID_2718_scaled.cut3.synth.lvl_sep.fits\n"
     ]
    },
    {
     "name": "stderr",
     "output_type": "stream",
     "text": [
      "WARNING: Input data contains invalid values (NaNs or infs), which were automatically clipped. [astropy.stats.sigma_clipping]\n"
     ]
    },
    {
     "name": "stdout",
     "output_type": "stream",
     "text": [
      "0.09413076 5.9529896\n",
      "write to /home/aellien/Euclid_LSB_DR1/wavelets/out3/EUC_VIS_LSB_ObsID_2718_scaled.cut3.synth.lvl_sep.iptd.fits\n",
      "/home/aellien/Euclid_LSB_DR1/wavelets/out3/EUC_VIS_LSB_ObsID_2704_scaled.cut16.synth.lvl_sep.fits\n"
     ]
    },
    {
     "name": "stderr",
     "output_type": "stream",
     "text": [
      "WARNING: Input data contains invalid values (NaNs or infs), which were automatically clipped. [astropy.stats.sigma_clipping]\n"
     ]
    },
    {
     "name": "stdout",
     "output_type": "stream",
     "text": [
      "0.19213554 9.560837\n",
      "write to /home/aellien/Euclid_LSB_DR1/wavelets/out3/EUC_VIS_LSB_ObsID_2704_scaled.cut16.synth.lvl_sep.iptd.fits\n",
      "/home/aellien/Euclid_LSB_DR1/wavelets/out3/EUC_VIS_LSB_ObsID_2716_scaled.cut10.synth.lvl_sep.fits\n",
      "0.336217 13.390249\n",
      "write to /home/aellien/Euclid_LSB_DR1/wavelets/out3/EUC_VIS_LSB_ObsID_2716_scaled.cut10.synth.lvl_sep.iptd.fits\n",
      "/home/aellien/Euclid_LSB_DR1/wavelets/out3/EUC_VIS_LSB_ObsID_2712_scaled.cut10.synth.lvl_sep.fits\n",
      "0.258621 11.82006\n",
      "write to /home/aellien/Euclid_LSB_DR1/wavelets/out3/EUC_VIS_LSB_ObsID_2712_scaled.cut10.synth.lvl_sep.iptd.fits\n",
      "/home/aellien/Euclid_LSB_DR1/wavelets/out3/EUC_VIS_LSB_ObsID_2702_scaled.cut2.synth.lvl_sep.fits\n"
     ]
    },
    {
     "name": "stderr",
     "output_type": "stream",
     "text": [
      "WARNING: Input data contains invalid values (NaNs or infs), which were automatically clipped. [astropy.stats.sigma_clipping]\n"
     ]
    },
    {
     "name": "stdout",
     "output_type": "stream",
     "text": [
      "0.27679068 11.617628\n",
      "write to /home/aellien/Euclid_LSB_DR1/wavelets/out3/EUC_VIS_LSB_ObsID_2702_scaled.cut2.synth.lvl_sep.iptd.fits\n",
      "/home/aellien/Euclid_LSB_DR1/wavelets/out3/EUC_VIS_LSB_ObsID_2692_scaled.cut7.synth.lvl_sep.fits\n",
      "0.131421 7.457246\n",
      "write to /home/aellien/Euclid_LSB_DR1/wavelets/out3/EUC_VIS_LSB_ObsID_2692_scaled.cut7.synth.lvl_sep.iptd.fits\n",
      "/home/aellien/Euclid_LSB_DR1/wavelets/out3/EUC_VIS_LSB_ObsID_2713_scaled.cut6.synth.lvl_sep.fits\n",
      "0.24372277 10.7408\n",
      "write to /home/aellien/Euclid_LSB_DR1/wavelets/out3/EUC_VIS_LSB_ObsID_2713_scaled.cut6.synth.lvl_sep.iptd.fits\n",
      "/home/aellien/Euclid_LSB_DR1/wavelets/out3/EUC_VIS_LSB_ObsID_2697_scaled.cut5.synth.lvl_sep.fits\n"
     ]
    },
    {
     "name": "stderr",
     "output_type": "stream",
     "text": [
      "WARNING: Input data contains invalid values (NaNs or infs), which were automatically clipped. [astropy.stats.sigma_clipping]\n"
     ]
    },
    {
     "name": "stdout",
     "output_type": "stream",
     "text": [
      "0.17130116 8.598148\n",
      "write to /home/aellien/Euclid_LSB_DR1/wavelets/out3/EUC_VIS_LSB_ObsID_2697_scaled.cut5.synth.lvl_sep.iptd.fits\n",
      "/home/aellien/Euclid_LSB_DR1/wavelets/out3/EUC_VIS_LSB_ObsID_2711_scaled.cut12.synth.lvl_sep.fits\n"
     ]
    },
    {
     "name": "stderr",
     "output_type": "stream",
     "text": [
      "WARNING: Input data contains invalid values (NaNs or infs), which were automatically clipped. [astropy.stats.sigma_clipping]\n"
     ]
    },
    {
     "name": "stdout",
     "output_type": "stream",
     "text": [
      "0.29438758 12.083738\n",
      "write to /home/aellien/Euclid_LSB_DR1/wavelets/out3/EUC_VIS_LSB_ObsID_2711_scaled.cut12.synth.lvl_sep.iptd.fits\n",
      "/home/aellien/Euclid_LSB_DR1/wavelets/out3/EUC_VIS_LSB_ObsID_2711_scaled.cut11.synth.lvl_sep.fits\n",
      "0.11484597 6.806439\n",
      "write to /home/aellien/Euclid_LSB_DR1/wavelets/out3/EUC_VIS_LSB_ObsID_2711_scaled.cut11.synth.lvl_sep.iptd.fits\n",
      "/home/aellien/Euclid_LSB_DR1/wavelets/out3/EUC_VIS_LSB_ObsID_2705_scaled.cut10.synth.lvl_sep.fits\n",
      "0.17197861 8.71263\n",
      "write to /home/aellien/Euclid_LSB_DR1/wavelets/out3/EUC_VIS_LSB_ObsID_2705_scaled.cut10.synth.lvl_sep.iptd.fits\n",
      "/home/aellien/Euclid_LSB_DR1/wavelets/out3/EUC_VIS_LSB_ObsID_2703_scaled.cut11.synth.lvl_sep.fits\n",
      "0.27350202 11.788542\n",
      "write to /home/aellien/Euclid_LSB_DR1/wavelets/out3/EUC_VIS_LSB_ObsID_2703_scaled.cut11.synth.lvl_sep.iptd.fits\n",
      "/home/aellien/Euclid_LSB_DR1/wavelets/out3/EUC_VIS_LSB_ObsID_2715_scaled.cut10.synth.lvl_sep.fits\n",
      "0.18516053 9.1628275\n",
      "write to /home/aellien/Euclid_LSB_DR1/wavelets/out3/EUC_VIS_LSB_ObsID_2715_scaled.cut10.synth.lvl_sep.iptd.fits\n",
      "/home/aellien/Euclid_LSB_DR1/wavelets/out3/EUC_VIS_LSB_ObsID_2688_scaled.cut4.synth.lvl_sep.fits\n"
     ]
    },
    {
     "name": "stderr",
     "output_type": "stream",
     "text": [
      "WARNING: Input data contains invalid values (NaNs or infs), which were automatically clipped. [astropy.stats.sigma_clipping]\n"
     ]
    },
    {
     "name": "stdout",
     "output_type": "stream",
     "text": [
      "0.46674138 16.998045\n",
      "write to /home/aellien/Euclid_LSB_DR1/wavelets/out3/EUC_VIS_LSB_ObsID_2688_scaled.cut4.synth.lvl_sep.iptd.fits\n",
      "/home/aellien/Euclid_LSB_DR1/wavelets/out3/EUC_VIS_LSB_ObsID_2688_scaled.cut13.synth.lvl_sep.fits\n"
     ]
    },
    {
     "name": "stderr",
     "output_type": "stream",
     "text": [
      "WARNING: Input data contains invalid values (NaNs or infs), which were automatically clipped. [astropy.stats.sigma_clipping]\n"
     ]
    },
    {
     "name": "stdout",
     "output_type": "stream",
     "text": [
      "0.29395705 12.44051\n",
      "write to /home/aellien/Euclid_LSB_DR1/wavelets/out3/EUC_VIS_LSB_ObsID_2688_scaled.cut13.synth.lvl_sep.iptd.fits\n",
      "/home/aellien/Euclid_LSB_DR1/wavelets/out3/EUC_VIS_LSB_ObsID_2700_scaled.cut13.synth.lvl_sep.fits\n"
     ]
    },
    {
     "name": "stderr",
     "output_type": "stream",
     "text": [
      "WARNING: Input data contains invalid values (NaNs or infs), which were automatically clipped. [astropy.stats.sigma_clipping]\n"
     ]
    },
    {
     "name": "stdout",
     "output_type": "stream",
     "text": [
      "0.1545873 8.220946\n",
      "write to /home/aellien/Euclid_LSB_DR1/wavelets/out3/EUC_VIS_LSB_ObsID_2700_scaled.cut13.synth.lvl_sep.iptd.fits\n",
      "/home/aellien/Euclid_LSB_DR1/wavelets/out3/EUC_VIS_LSB_ObsID_2718_scaled.cut8.synth.lvl_sep.fits\n"
     ]
    },
    {
     "name": "stderr",
     "output_type": "stream",
     "text": [
      "WARNING: Input data contains invalid values (NaNs or infs), which were automatically clipped. [astropy.stats.sigma_clipping]\n"
     ]
    },
    {
     "name": "stdout",
     "output_type": "stream",
     "text": [
      "0.1660329 9.294469\n",
      "write to /home/aellien/Euclid_LSB_DR1/wavelets/out3/EUC_VIS_LSB_ObsID_2718_scaled.cut8.synth.lvl_sep.iptd.fits\n",
      "/home/aellien/Euclid_LSB_DR1/wavelets/out3/EUC_VIS_LSB_ObsID_2705_scaled.cut4.synth.lvl_sep.fits\n"
     ]
    },
    {
     "name": "stderr",
     "output_type": "stream",
     "text": [
      "WARNING: Input data contains invalid values (NaNs or infs), which were automatically clipped. [astropy.stats.sigma_clipping]\n"
     ]
    },
    {
     "name": "stdout",
     "output_type": "stream",
     "text": [
      "0.08542494 5.445391\n",
      "write to /home/aellien/Euclid_LSB_DR1/wavelets/out3/EUC_VIS_LSB_ObsID_2705_scaled.cut4.synth.lvl_sep.iptd.fits\n",
      "/home/aellien/Euclid_LSB_DR1/wavelets/out3/EUC_VIS_LSB_ObsID_2715_scaled.cut12.synth.lvl_sep.fits\n"
     ]
    },
    {
     "name": "stderr",
     "output_type": "stream",
     "text": [
      "WARNING: Input data contains invalid values (NaNs or infs), which were automatically clipped. [astropy.stats.sigma_clipping]\n"
     ]
    },
    {
     "name": "stdout",
     "output_type": "stream",
     "text": [
      "0.22934726 10.138393\n",
      "write to /home/aellien/Euclid_LSB_DR1/wavelets/out3/EUC_VIS_LSB_ObsID_2715_scaled.cut12.synth.lvl_sep.iptd.fits\n",
      "/home/aellien/Euclid_LSB_DR1/wavelets/out3/EUC_VIS_LSB_ObsID_2713_scaled.cut5.synth.lvl_sep.fits\n"
     ]
    },
    {
     "name": "stderr",
     "output_type": "stream",
     "text": [
      "WARNING: Input data contains invalid values (NaNs or infs), which were automatically clipped. [astropy.stats.sigma_clipping]\n"
     ]
    },
    {
     "name": "stdout",
     "output_type": "stream",
     "text": [
      "0.3605937 14.138268\n",
      "write to /home/aellien/Euclid_LSB_DR1/wavelets/out3/EUC_VIS_LSB_ObsID_2713_scaled.cut5.synth.lvl_sep.iptd.fits\n",
      "/home/aellien/Euclid_LSB_DR1/wavelets/out3/EUC_VIS_LSB_ObsID_2702_scaled.cut12.synth.lvl_sep.fits\n"
     ]
    },
    {
     "name": "stderr",
     "output_type": "stream",
     "text": [
      "WARNING: Input data contains invalid values (NaNs or infs), which were automatically clipped. [astropy.stats.sigma_clipping]\n"
     ]
    },
    {
     "name": "stdout",
     "output_type": "stream",
     "text": [
      "0.478182 16.307613\n",
      "write to /home/aellien/Euclid_LSB_DR1/wavelets/out3/EUC_VIS_LSB_ObsID_2702_scaled.cut12.synth.lvl_sep.iptd.fits\n",
      "/home/aellien/Euclid_LSB_DR1/wavelets/out3/EUC_VIS_LSB_ObsID_2693_scaled.cut15.synth.lvl_sep.fits\n"
     ]
    },
    {
     "name": "stderr",
     "output_type": "stream",
     "text": [
      "WARNING: Input data contains invalid values (NaNs or infs), which were automatically clipped. [astropy.stats.sigma_clipping]\n"
     ]
    },
    {
     "name": "stdout",
     "output_type": "stream",
     "text": [
      "0.17452459 8.930694\n",
      "write to /home/aellien/Euclid_LSB_DR1/wavelets/out3/EUC_VIS_LSB_ObsID_2693_scaled.cut15.synth.lvl_sep.iptd.fits\n",
      "/home/aellien/Euclid_LSB_DR1/wavelets/out3/EUC_VIS_LSB_ObsID_2692_scaled.cut15.synth.lvl_sep.fits\n"
     ]
    },
    {
     "name": "stderr",
     "output_type": "stream",
     "text": [
      "WARNING: Input data contains invalid values (NaNs or infs), which were automatically clipped. [astropy.stats.sigma_clipping]\n"
     ]
    },
    {
     "name": "stdout",
     "output_type": "stream",
     "text": [
      "0.20631531 9.778942\n",
      "write to /home/aellien/Euclid_LSB_DR1/wavelets/out3/EUC_VIS_LSB_ObsID_2692_scaled.cut15.synth.lvl_sep.iptd.fits\n",
      "/home/aellien/Euclid_LSB_DR1/wavelets/out3/EUC_VIS_LSB_ObsID_2695_scaled.cut16.synth.lvl_sep.fits\n"
     ]
    },
    {
     "name": "stderr",
     "output_type": "stream",
     "text": [
      "WARNING: Input data contains invalid values (NaNs or infs), which were automatically clipped. [astropy.stats.sigma_clipping]\n"
     ]
    },
    {
     "name": "stdout",
     "output_type": "stream",
     "text": [
      "0.19392386 9.207738\n",
      "write to /home/aellien/Euclid_LSB_DR1/wavelets/out3/EUC_VIS_LSB_ObsID_2695_scaled.cut16.synth.lvl_sep.iptd.fits\n",
      "/home/aellien/Euclid_LSB_DR1/wavelets/out3/EUC_VIS_LSB_ObsID_2690_scaled.cut14.synth.lvl_sep.fits\n"
     ]
    },
    {
     "name": "stderr",
     "output_type": "stream",
     "text": [
      "WARNING: Input data contains invalid values (NaNs or infs), which were automatically clipped. [astropy.stats.sigma_clipping]\n"
     ]
    },
    {
     "name": "stdout",
     "output_type": "stream",
     "text": [
      "0.13767885 8.157945\n",
      "write to /home/aellien/Euclid_LSB_DR1/wavelets/out3/EUC_VIS_LSB_ObsID_2690_scaled.cut14.synth.lvl_sep.iptd.fits\n",
      "/home/aellien/Euclid_LSB_DR1/wavelets/out3/EUC_VIS_LSB_ObsID_2714_scaled.cut10.synth.lvl_sep.fits\n",
      "0.19108693 8.979717\n",
      "write to /home/aellien/Euclid_LSB_DR1/wavelets/out3/EUC_VIS_LSB_ObsID_2714_scaled.cut10.synth.lvl_sep.iptd.fits\n",
      "/home/aellien/Euclid_LSB_DR1/wavelets/out3/EUC_VIS_LSB_ObsID_2715_scaled.cut7.synth.lvl_sep.fits\n",
      "0.2831769 11.939001\n",
      "write to /home/aellien/Euclid_LSB_DR1/wavelets/out3/EUC_VIS_LSB_ObsID_2715_scaled.cut7.synth.lvl_sep.iptd.fits\n",
      "/home/aellien/Euclid_LSB_DR1/wavelets/out3/EUC_VIS_LSB_ObsID_2693_scaled.cut5.synth.lvl_sep.fits\n"
     ]
    },
    {
     "name": "stderr",
     "output_type": "stream",
     "text": [
      "WARNING: Input data contains invalid values (NaNs or infs), which were automatically clipped. [astropy.stats.sigma_clipping]\n"
     ]
    },
    {
     "name": "stdout",
     "output_type": "stream",
     "text": [
      "0.31145537 12.557071\n",
      "write to /home/aellien/Euclid_LSB_DR1/wavelets/out3/EUC_VIS_LSB_ObsID_2693_scaled.cut5.synth.lvl_sep.iptd.fits\n",
      "/home/aellien/Euclid_LSB_DR1/wavelets/out3/EUC_VIS_LSB_ObsID_2690_scaled.cut5.synth.lvl_sep.fits\n"
     ]
    },
    {
     "name": "stderr",
     "output_type": "stream",
     "text": [
      "WARNING: Input data contains invalid values (NaNs or infs), which were automatically clipped. [astropy.stats.sigma_clipping]\n"
     ]
    },
    {
     "name": "stdout",
     "output_type": "stream",
     "text": [
      "0.3410214 13.865437\n",
      "write to /home/aellien/Euclid_LSB_DR1/wavelets/out3/EUC_VIS_LSB_ObsID_2690_scaled.cut5.synth.lvl_sep.iptd.fits\n",
      "/home/aellien/Euclid_LSB_DR1/wavelets/out3/EUC_VIS_LSB_ObsID_2697_scaled.cut14.synth.lvl_sep.fits\n"
     ]
    },
    {
     "name": "stderr",
     "output_type": "stream",
     "text": [
      "WARNING: Input data contains invalid values (NaNs or infs), which were automatically clipped. [astropy.stats.sigma_clipping]\n"
     ]
    },
    {
     "name": "stdout",
     "output_type": "stream",
     "text": [
      "0.24869812 10.720157\n",
      "write to /home/aellien/Euclid_LSB_DR1/wavelets/out3/EUC_VIS_LSB_ObsID_2697_scaled.cut14.synth.lvl_sep.iptd.fits\n",
      "/home/aellien/Euclid_LSB_DR1/wavelets/out3/EUC_VIS_LSB_ObsID_2688_scaled.cut11.synth.lvl_sep.fits\n"
     ]
    },
    {
     "name": "stderr",
     "output_type": "stream",
     "text": [
      "WARNING: Input data contains invalid values (NaNs or infs), which were automatically clipped. [astropy.stats.sigma_clipping]\n"
     ]
    },
    {
     "name": "stdout",
     "output_type": "stream",
     "text": [
      "0.3799443 14.439917\n",
      "write to /home/aellien/Euclid_LSB_DR1/wavelets/out3/EUC_VIS_LSB_ObsID_2688_scaled.cut11.synth.lvl_sep.iptd.fits\n",
      "/home/aellien/Euclid_LSB_DR1/wavelets/out3/EUC_VIS_LSB_ObsID_2714_scaled.cut6.synth.lvl_sep.fits\n",
      "0.21434604 9.668124\n",
      "write to /home/aellien/Euclid_LSB_DR1/wavelets/out3/EUC_VIS_LSB_ObsID_2714_scaled.cut6.synth.lvl_sep.iptd.fits\n",
      "/home/aellien/Euclid_LSB_DR1/wavelets/out3/EUC_VIS_LSB_ObsID_2688_scaled.cut7.synth.lvl_sep.fits\n",
      "0.27582476 12.045479\n",
      "write to /home/aellien/Euclid_LSB_DR1/wavelets/out3/EUC_VIS_LSB_ObsID_2688_scaled.cut7.synth.lvl_sep.iptd.fits\n",
      "/home/aellien/Euclid_LSB_DR1/wavelets/out3/EUC_VIS_LSB_ObsID_2702_scaled.cut10.synth.lvl_sep.fits\n",
      "0.20361586 10.026547\n",
      "write to /home/aellien/Euclid_LSB_DR1/wavelets/out3/EUC_VIS_LSB_ObsID_2702_scaled.cut10.synth.lvl_sep.iptd.fits\n",
      "/home/aellien/Euclid_LSB_DR1/wavelets/out3/EUC_VIS_LSB_ObsID_2698_scaled.cut7.synth.lvl_sep.fits\n",
      "0.1836875 8.92704\n",
      "write to /home/aellien/Euclid_LSB_DR1/wavelets/out3/EUC_VIS_LSB_ObsID_2698_scaled.cut7.synth.lvl_sep.iptd.fits\n",
      "/home/aellien/Euclid_LSB_DR1/wavelets/out3/EUC_VIS_LSB_ObsID_2685_scaled.cut8.synth.lvl_sep.fits\n"
     ]
    },
    {
     "name": "stderr",
     "output_type": "stream",
     "text": [
      "WARNING: Input data contains invalid values (NaNs or infs), which were automatically clipped. [astropy.stats.sigma_clipping]\n"
     ]
    },
    {
     "name": "stdout",
     "output_type": "stream",
     "text": [
      "0.08806372 5.580423\n",
      "write to /home/aellien/Euclid_LSB_DR1/wavelets/out3/EUC_VIS_LSB_ObsID_2685_scaled.cut8.synth.lvl_sep.iptd.fits\n",
      "/home/aellien/Euclid_LSB_DR1/wavelets/out3/EUC_VIS_LSB_ObsID_2696_scaled.cut12.synth.lvl_sep.fits\n"
     ]
    },
    {
     "name": "stderr",
     "output_type": "stream",
     "text": [
      "WARNING: Input data contains invalid values (NaNs or infs), which were automatically clipped. [astropy.stats.sigma_clipping]\n"
     ]
    },
    {
     "name": "stdout",
     "output_type": "stream",
     "text": [
      "0.3156236 11.650892\n",
      "write to /home/aellien/Euclid_LSB_DR1/wavelets/out3/EUC_VIS_LSB_ObsID_2696_scaled.cut12.synth.lvl_sep.iptd.fits\n",
      "/home/aellien/Euclid_LSB_DR1/wavelets/out3/EUC_VIS_LSB_ObsID_2695_scaled.cut6.synth.lvl_sep.fits\n",
      "0.2827245 11.835627\n",
      "write to /home/aellien/Euclid_LSB_DR1/wavelets/out3/EUC_VIS_LSB_ObsID_2695_scaled.cut6.synth.lvl_sep.iptd.fits\n",
      "/home/aellien/Euclid_LSB_DR1/wavelets/out3/EUC_VIS_LSB_ObsID_2720_scaled.cut12.synth.lvl_sep.fits\n"
     ]
    },
    {
     "name": "stderr",
     "output_type": "stream",
     "text": [
      "WARNING: Input data contains invalid values (NaNs or infs), which were automatically clipped. [astropy.stats.sigma_clipping]\n"
     ]
    },
    {
     "name": "stdout",
     "output_type": "stream",
     "text": [
      "0.2474694 10.99213\n",
      "write to /home/aellien/Euclid_LSB_DR1/wavelets/out3/EUC_VIS_LSB_ObsID_2720_scaled.cut12.synth.lvl_sep.iptd.fits\n",
      "/home/aellien/Euclid_LSB_DR1/wavelets/out3/EUC_VIS_LSB_ObsID_2702_scaled.cut13.synth.lvl_sep.fits\n"
     ]
    },
    {
     "name": "stderr",
     "output_type": "stream",
     "text": [
      "WARNING: Input data contains invalid values (NaNs or infs), which were automatically clipped. [astropy.stats.sigma_clipping]\n"
     ]
    },
    {
     "name": "stdout",
     "output_type": "stream",
     "text": [
      "0.4262879 15.743965\n",
      "write to /home/aellien/Euclid_LSB_DR1/wavelets/out3/EUC_VIS_LSB_ObsID_2702_scaled.cut13.synth.lvl_sep.iptd.fits\n",
      "/home/aellien/Euclid_LSB_DR1/wavelets/out3/EUC_VIS_LSB_ObsID_2705_scaled.cut6.synth.lvl_sep.fits\n",
      "0.2934925 12.179174\n",
      "write to /home/aellien/Euclid_LSB_DR1/wavelets/out3/EUC_VIS_LSB_ObsID_2705_scaled.cut6.synth.lvl_sep.iptd.fits\n",
      "/home/aellien/Euclid_LSB_DR1/wavelets/out3/EUC_VIS_LSB_ObsID_2717_scaled.cut10.synth.lvl_sep.fits\n",
      "0.117440894 6.803282\n",
      "write to /home/aellien/Euclid_LSB_DR1/wavelets/out3/EUC_VIS_LSB_ObsID_2717_scaled.cut10.synth.lvl_sep.iptd.fits\n",
      "/home/aellien/Euclid_LSB_DR1/wavelets/out3/EUC_VIS_LSB_ObsID_2699_scaled.cut9.synth.lvl_sep.fits\n"
     ]
    },
    {
     "name": "stderr",
     "output_type": "stream",
     "text": [
      "WARNING: Input data contains invalid values (NaNs or infs), which were automatically clipped. [astropy.stats.sigma_clipping]\n"
     ]
    },
    {
     "name": "stdout",
     "output_type": "stream",
     "text": [
      "0.22014967 10.067448\n",
      "write to /home/aellien/Euclid_LSB_DR1/wavelets/out3/EUC_VIS_LSB_ObsID_2699_scaled.cut9.synth.lvl_sep.iptd.fits\n",
      "/home/aellien/Euclid_LSB_DR1/wavelets/out3/EUC_VIS_LSB_ObsID_2723_scaled.cut13.synth.lvl_sep.fits\n"
     ]
    },
    {
     "name": "stderr",
     "output_type": "stream",
     "text": [
      "WARNING: Input data contains invalid values (NaNs or infs), which were automatically clipped. [astropy.stats.sigma_clipping]\n"
     ]
    },
    {
     "name": "stdout",
     "output_type": "stream",
     "text": [
      "0.21099786 9.710887\n",
      "write to /home/aellien/Euclid_LSB_DR1/wavelets/out3/EUC_VIS_LSB_ObsID_2723_scaled.cut13.synth.lvl_sep.iptd.fits\n",
      "/home/aellien/Euclid_LSB_DR1/wavelets/out3/EUC_VIS_LSB_ObsID_2709_scaled.cut15.synth.lvl_sep.fits\n"
     ]
    },
    {
     "name": "stderr",
     "output_type": "stream",
     "text": [
      "WARNING: Input data contains invalid values (NaNs or infs), which were automatically clipped. [astropy.stats.sigma_clipping]\n"
     ]
    },
    {
     "name": "stdout",
     "output_type": "stream",
     "text": [
      "0.21463276 10.573729\n",
      "write to /home/aellien/Euclid_LSB_DR1/wavelets/out3/EUC_VIS_LSB_ObsID_2709_scaled.cut15.synth.lvl_sep.iptd.fits\n",
      "/home/aellien/Euclid_LSB_DR1/wavelets/out3/EUC_VIS_LSB_ObsID_2687_scaled.cut16.synth.lvl_sep.fits\n"
     ]
    },
    {
     "name": "stderr",
     "output_type": "stream",
     "text": [
      "WARNING: Input data contains invalid values (NaNs or infs), which were automatically clipped. [astropy.stats.sigma_clipping]\n"
     ]
    },
    {
     "name": "stdout",
     "output_type": "stream",
     "text": [
      "0.50900155 17.74876\n",
      "write to /home/aellien/Euclid_LSB_DR1/wavelets/out3/EUC_VIS_LSB_ObsID_2687_scaled.cut16.synth.lvl_sep.iptd.fits\n",
      "/home/aellien/Euclid_LSB_DR1/wavelets/out3/EUC_VIS_LSB_ObsID_2697_scaled.cut15.synth.lvl_sep.fits\n"
     ]
    },
    {
     "name": "stderr",
     "output_type": "stream",
     "text": [
      "WARNING: Input data contains invalid values (NaNs or infs), which were automatically clipped. [astropy.stats.sigma_clipping]\n"
     ]
    },
    {
     "name": "stdout",
     "output_type": "stream",
     "text": [
      "0.244016 10.804767\n",
      "write to /home/aellien/Euclid_LSB_DR1/wavelets/out3/EUC_VIS_LSB_ObsID_2697_scaled.cut15.synth.lvl_sep.iptd.fits\n",
      "/home/aellien/Euclid_LSB_DR1/wavelets/out3/EUC_VIS_LSB_ObsID_2692_scaled.cut5.synth.lvl_sep.fits\n"
     ]
    },
    {
     "name": "stderr",
     "output_type": "stream",
     "text": [
      "WARNING: Input data contains invalid values (NaNs or infs), which were automatically clipped. [astropy.stats.sigma_clipping]\n"
     ]
    },
    {
     "name": "stdout",
     "output_type": "stream",
     "text": [
      "0.31497112 12.643486\n",
      "write to /home/aellien/Euclid_LSB_DR1/wavelets/out3/EUC_VIS_LSB_ObsID_2692_scaled.cut5.synth.lvl_sep.iptd.fits\n",
      "/home/aellien/Euclid_LSB_DR1/wavelets/out3/EUC_VIS_LSB_ObsID_2686_scaled.cut9.synth.lvl_sep.fits\n"
     ]
    },
    {
     "name": "stderr",
     "output_type": "stream",
     "text": [
      "WARNING: Input data contains invalid values (NaNs or infs), which were automatically clipped. [astropy.stats.sigma_clipping]\n"
     ]
    },
    {
     "name": "stdout",
     "output_type": "stream",
     "text": [
      "0.19028074 9.355769\n",
      "write to /home/aellien/Euclid_LSB_DR1/wavelets/out3/EUC_VIS_LSB_ObsID_2686_scaled.cut9.synth.lvl_sep.iptd.fits\n",
      "/home/aellien/Euclid_LSB_DR1/wavelets/out3/EUC_VIS_LSB_ObsID_2709_scaled.cut8.synth.lvl_sep.fits\n"
     ]
    },
    {
     "name": "stderr",
     "output_type": "stream",
     "text": [
      "WARNING: Input data contains invalid values (NaNs or infs), which were automatically clipped. [astropy.stats.sigma_clipping]\n"
     ]
    },
    {
     "name": "stdout",
     "output_type": "stream",
     "text": [
      "0.19926403 10.075287\n",
      "write to /home/aellien/Euclid_LSB_DR1/wavelets/out3/EUC_VIS_LSB_ObsID_2709_scaled.cut8.synth.lvl_sep.iptd.fits\n",
      "/home/aellien/Euclid_LSB_DR1/wavelets/out3/EUC_VIS_LSB_ObsID_2684_scaled.cut13.synth.lvl_sep.fits\n"
     ]
    },
    {
     "name": "stderr",
     "output_type": "stream",
     "text": [
      "WARNING: Input data contains invalid values (NaNs or infs), which were automatically clipped. [astropy.stats.sigma_clipping]\n"
     ]
    },
    {
     "name": "stdout",
     "output_type": "stream",
     "text": [
      "0.22962171 10.760071\n",
      "write to /home/aellien/Euclid_LSB_DR1/wavelets/out3/EUC_VIS_LSB_ObsID_2684_scaled.cut13.synth.lvl_sep.iptd.fits\n",
      "/home/aellien/Euclid_LSB_DR1/wavelets/out3/EUC_VIS_LSB_ObsID_2701_scaled.cut2.synth.lvl_sep.fits\n"
     ]
    },
    {
     "name": "stderr",
     "output_type": "stream",
     "text": [
      "WARNING: Input data contains invalid values (NaNs or infs), which were automatically clipped. [astropy.stats.sigma_clipping]\n"
     ]
    },
    {
     "name": "stdout",
     "output_type": "stream",
     "text": [
      "0.27793345 12.275088\n",
      "write to /home/aellien/Euclid_LSB_DR1/wavelets/out3/EUC_VIS_LSB_ObsID_2701_scaled.cut2.synth.lvl_sep.iptd.fits\n",
      "/home/aellien/Euclid_LSB_DR1/wavelets/out3/EUC_VIS_LSB_ObsID_2686_scaled.cut2.synth.lvl_sep.fits\n"
     ]
    },
    {
     "name": "stderr",
     "output_type": "stream",
     "text": [
      "WARNING: Input data contains invalid values (NaNs or infs), which were automatically clipped. [astropy.stats.sigma_clipping]\n"
     ]
    },
    {
     "name": "stdout",
     "output_type": "stream",
     "text": [
      "0.2215772 10.4079485\n",
      "write to /home/aellien/Euclid_LSB_DR1/wavelets/out3/EUC_VIS_LSB_ObsID_2686_scaled.cut2.synth.lvl_sep.iptd.fits\n",
      "/home/aellien/Euclid_LSB_DR1/wavelets/out3/EUC_VIS_LSB_ObsID_2694_scaled.cut12.synth.lvl_sep.fits\n"
     ]
    },
    {
     "name": "stderr",
     "output_type": "stream",
     "text": [
      "WARNING: Input data contains invalid values (NaNs or infs), which were automatically clipped. [astropy.stats.sigma_clipping]\n"
     ]
    },
    {
     "name": "stdout",
     "output_type": "stream",
     "text": [
      "0.21831653 9.93696\n",
      "write to /home/aellien/Euclid_LSB_DR1/wavelets/out3/EUC_VIS_LSB_ObsID_2694_scaled.cut12.synth.lvl_sep.iptd.fits\n",
      "/home/aellien/Euclid_LSB_DR1/wavelets/out3/EUC_VIS_LSB_ObsID_2703_scaled.cut4.synth.lvl_sep.fits\n"
     ]
    },
    {
     "name": "stderr",
     "output_type": "stream",
     "text": [
      "WARNING: Input data contains invalid values (NaNs or infs), which were automatically clipped. [astropy.stats.sigma_clipping]\n"
     ]
    },
    {
     "name": "stdout",
     "output_type": "stream",
     "text": [
      "0.27994034 11.983762\n",
      "write to /home/aellien/Euclid_LSB_DR1/wavelets/out3/EUC_VIS_LSB_ObsID_2703_scaled.cut4.synth.lvl_sep.iptd.fits\n",
      "/home/aellien/Euclid_LSB_DR1/wavelets/out3/EUC_VIS_LSB_ObsID_2720_scaled.cut2.synth.lvl_sep.fits\n"
     ]
    },
    {
     "name": "stderr",
     "output_type": "stream",
     "text": [
      "WARNING: Input data contains invalid values (NaNs or infs), which were automatically clipped. [astropy.stats.sigma_clipping]\n"
     ]
    },
    {
     "name": "stdout",
     "output_type": "stream",
     "text": [
      "0.32856303 12.987017\n",
      "write to /home/aellien/Euclid_LSB_DR1/wavelets/out3/EUC_VIS_LSB_ObsID_2720_scaled.cut2.synth.lvl_sep.iptd.fits\n",
      "/home/aellien/Euclid_LSB_DR1/wavelets/out3/EUC_VIS_LSB_ObsID_2682_scaled.cut3.synth.lvl_sep.fits\n"
     ]
    },
    {
     "name": "stderr",
     "output_type": "stream",
     "text": [
      "WARNING: Input data contains invalid values (NaNs or infs), which were automatically clipped. [astropy.stats.sigma_clipping]\n"
     ]
    },
    {
     "name": "stdout",
     "output_type": "stream",
     "text": [
      "0.19239393 9.202769\n",
      "write to /home/aellien/Euclid_LSB_DR1/wavelets/out3/EUC_VIS_LSB_ObsID_2682_scaled.cut3.synth.lvl_sep.iptd.fits\n",
      "/home/aellien/Euclid_LSB_DR1/wavelets/out3/EUC_VIS_LSB_ObsID_2701_scaled.cut3.synth.lvl_sep.fits\n"
     ]
    },
    {
     "name": "stderr",
     "output_type": "stream",
     "text": [
      "WARNING: Input data contains invalid values (NaNs or infs), which were automatically clipped. [astropy.stats.sigma_clipping]\n"
     ]
    },
    {
     "name": "stdout",
     "output_type": "stream",
     "text": [
      "0.14620821 7.8760324\n",
      "write to /home/aellien/Euclid_LSB_DR1/wavelets/out3/EUC_VIS_LSB_ObsID_2701_scaled.cut3.synth.lvl_sep.iptd.fits\n",
      "/home/aellien/Euclid_LSB_DR1/wavelets/out3/EUC_VIS_LSB_ObsID_2723_scaled.cut3.synth.lvl_sep.fits\n"
     ]
    },
    {
     "name": "stderr",
     "output_type": "stream",
     "text": [
      "WARNING: Input data contains invalid values (NaNs or infs), which were automatically clipped. [astropy.stats.sigma_clipping]\n"
     ]
    },
    {
     "name": "stdout",
     "output_type": "stream",
     "text": [
      "0.23649676 10.314765\n",
      "write to /home/aellien/Euclid_LSB_DR1/wavelets/out3/EUC_VIS_LSB_ObsID_2723_scaled.cut3.synth.lvl_sep.iptd.fits\n",
      "/home/aellien/Euclid_LSB_DR1/wavelets/out3/EUC_VIS_LSB_ObsID_2699_scaled.cut2.synth.lvl_sep.fits\n"
     ]
    },
    {
     "name": "stderr",
     "output_type": "stream",
     "text": [
      "WARNING: Input data contains invalid values (NaNs or infs), which were automatically clipped. [astropy.stats.sigma_clipping]\n"
     ]
    },
    {
     "name": "stdout",
     "output_type": "stream",
     "text": [
      "0.23520343 10.279721\n",
      "write to /home/aellien/Euclid_LSB_DR1/wavelets/out3/EUC_VIS_LSB_ObsID_2699_scaled.cut2.synth.lvl_sep.iptd.fits\n",
      "/home/aellien/Euclid_LSB_DR1/wavelets/out3/EUC_VIS_LSB_ObsID_2695_scaled.cut3.synth.lvl_sep.fits\n"
     ]
    },
    {
     "name": "stderr",
     "output_type": "stream",
     "text": [
      "WARNING: Input data contains invalid values (NaNs or infs), which were automatically clipped. [astropy.stats.sigma_clipping]\n"
     ]
    },
    {
     "name": "stdout",
     "output_type": "stream",
     "text": [
      "0.22123748 10.181457\n",
      "write to /home/aellien/Euclid_LSB_DR1/wavelets/out3/EUC_VIS_LSB_ObsID_2695_scaled.cut3.synth.lvl_sep.iptd.fits\n",
      "/home/aellien/Euclid_LSB_DR1/wavelets/out3/EUC_VIS_LSB_ObsID_2717_scaled.cut14.synth.lvl_sep.fits\n"
     ]
    },
    {
     "name": "stderr",
     "output_type": "stream",
     "text": [
      "WARNING: Input data contains invalid values (NaNs or infs), which were automatically clipped. [astropy.stats.sigma_clipping]\n"
     ]
    },
    {
     "name": "stdout",
     "output_type": "stream",
     "text": [
      "0.21105155 9.841946\n",
      "write to /home/aellien/Euclid_LSB_DR1/wavelets/out3/EUC_VIS_LSB_ObsID_2717_scaled.cut14.synth.lvl_sep.iptd.fits\n",
      "/home/aellien/Euclid_LSB_DR1/wavelets/out3/EUC_VIS_LSB_ObsID_2699_scaled.cut8.synth.lvl_sep.fits\n"
     ]
    },
    {
     "name": "stderr",
     "output_type": "stream",
     "text": [
      "WARNING: Input data contains invalid values (NaNs or infs), which were automatically clipped. [astropy.stats.sigma_clipping]\n"
     ]
    },
    {
     "name": "stdout",
     "output_type": "stream",
     "text": [
      "0.20902352 9.661048\n",
      "write to /home/aellien/Euclid_LSB_DR1/wavelets/out3/EUC_VIS_LSB_ObsID_2699_scaled.cut8.synth.lvl_sep.iptd.fits\n",
      "/home/aellien/Euclid_LSB_DR1/wavelets/out3/EUC_VIS_LSB_ObsID_2712_scaled.cut4.synth.lvl_sep.fits\n"
     ]
    },
    {
     "name": "stderr",
     "output_type": "stream",
     "text": [
      "WARNING: Input data contains invalid values (NaNs or infs), which were automatically clipped. [astropy.stats.sigma_clipping]\n"
     ]
    },
    {
     "name": "stdout",
     "output_type": "stream",
     "text": [
      "0.15309274 7.6958385\n",
      "write to /home/aellien/Euclid_LSB_DR1/wavelets/out3/EUC_VIS_LSB_ObsID_2712_scaled.cut4.synth.lvl_sep.iptd.fits\n",
      "/home/aellien/Euclid_LSB_DR1/wavelets/out3/EUC_VIS_LSB_ObsID_2686_scaled.cut10.synth.lvl_sep.fits\n",
      "0.26439536 11.247538\n",
      "write to /home/aellien/Euclid_LSB_DR1/wavelets/out3/EUC_VIS_LSB_ObsID_2686_scaled.cut10.synth.lvl_sep.iptd.fits\n",
      "/home/aellien/Euclid_LSB_DR1/wavelets/out3/EUC_VIS_LSB_ObsID_2703_scaled.cut6.synth.lvl_sep.fits\n",
      "0.41128728 15.458421\n",
      "write to /home/aellien/Euclid_LSB_DR1/wavelets/out3/EUC_VIS_LSB_ObsID_2703_scaled.cut6.synth.lvl_sep.iptd.fits\n",
      "/home/aellien/Euclid_LSB_DR1/wavelets/out3/EUC_VIS_LSB_ObsID_2710_scaled.cut7.synth.lvl_sep.fits\n",
      "0.26917094 11.488843\n",
      "write to /home/aellien/Euclid_LSB_DR1/wavelets/out3/EUC_VIS_LSB_ObsID_2710_scaled.cut7.synth.lvl_sep.iptd.fits\n",
      "/home/aellien/Euclid_LSB_DR1/wavelets/out3/EUC_VIS_LSB_ObsID_2693_scaled.cut6.synth.lvl_sep.fits\n",
      "0.1654989 8.468966\n",
      "write to /home/aellien/Euclid_LSB_DR1/wavelets/out3/EUC_VIS_LSB_ObsID_2693_scaled.cut6.synth.lvl_sep.iptd.fits\n",
      "/home/aellien/Euclid_LSB_DR1/wavelets/out3/EUC_VIS_LSB_ObsID_2716_scaled.cut7.synth.lvl_sep.fits\n",
      "0.18307905 8.942035\n",
      "write to /home/aellien/Euclid_LSB_DR1/wavelets/out3/EUC_VIS_LSB_ObsID_2716_scaled.cut7.synth.lvl_sep.iptd.fits\n",
      "/home/aellien/Euclid_LSB_DR1/wavelets/out3/EUC_VIS_LSB_ObsID_2714_scaled.cut8.synth.lvl_sep.fits\n"
     ]
    },
    {
     "name": "stderr",
     "output_type": "stream",
     "text": [
      "WARNING: Input data contains invalid values (NaNs or infs), which were automatically clipped. [astropy.stats.sigma_clipping]\n"
     ]
    },
    {
     "name": "stdout",
     "output_type": "stream",
     "text": [
      "0.37470052 14.190416\n",
      "write to /home/aellien/Euclid_LSB_DR1/wavelets/out3/EUC_VIS_LSB_ObsID_2714_scaled.cut8.synth.lvl_sep.iptd.fits\n",
      "/home/aellien/Euclid_LSB_DR1/wavelets/out3/EUC_VIS_LSB_ObsID_2686_scaled.cut6.synth.lvl_sep.fits\n",
      "0.22113357 10.091773\n",
      "write to /home/aellien/Euclid_LSB_DR1/wavelets/out3/EUC_VIS_LSB_ObsID_2686_scaled.cut6.synth.lvl_sep.iptd.fits\n",
      "/home/aellien/Euclid_LSB_DR1/wavelets/out3/EUC_VIS_LSB_ObsID_2703_scaled.cut8.synth.lvl_sep.fits\n"
     ]
    },
    {
     "name": "stderr",
     "output_type": "stream",
     "text": [
      "WARNING: Input data contains invalid values (NaNs or infs), which were automatically clipped. [astropy.stats.sigma_clipping]\n"
     ]
    },
    {
     "name": "stdout",
     "output_type": "stream",
     "text": [
      "0.13761477 7.5382366\n",
      "write to /home/aellien/Euclid_LSB_DR1/wavelets/out3/EUC_VIS_LSB_ObsID_2703_scaled.cut8.synth.lvl_sep.iptd.fits\n",
      "/home/aellien/Euclid_LSB_DR1/wavelets/out3/EUC_VIS_LSB_ObsID_2682_scaled.cut10.synth.lvl_sep.fits\n",
      "0.2784743 12.133186\n",
      "write to /home/aellien/Euclid_LSB_DR1/wavelets/out3/EUC_VIS_LSB_ObsID_2682_scaled.cut10.synth.lvl_sep.iptd.fits\n",
      "/home/aellien/Euclid_LSB_DR1/wavelets/out3/EUC_VIS_LSB_ObsID_2700_scaled.cut5.synth.lvl_sep.fits\n"
     ]
    },
    {
     "name": "stderr",
     "output_type": "stream",
     "text": [
      "WARNING: Input data contains invalid values (NaNs or infs), which were automatically clipped. [astropy.stats.sigma_clipping]\n"
     ]
    },
    {
     "name": "stdout",
     "output_type": "stream",
     "text": [
      "0.20821406 9.851273\n",
      "write to /home/aellien/Euclid_LSB_DR1/wavelets/out3/EUC_VIS_LSB_ObsID_2700_scaled.cut5.synth.lvl_sep.iptd.fits\n",
      "/home/aellien/Euclid_LSB_DR1/wavelets/out3/EUC_VIS_LSB_ObsID_2682_scaled.cut9.synth.lvl_sep.fits\n"
     ]
    },
    {
     "name": "stderr",
     "output_type": "stream",
     "text": [
      "WARNING: Input data contains invalid values (NaNs or infs), which were automatically clipped. [astropy.stats.sigma_clipping]\n"
     ]
    },
    {
     "name": "stdout",
     "output_type": "stream",
     "text": [
      "0.3137999 13.126874\n",
      "write to /home/aellien/Euclid_LSB_DR1/wavelets/out3/EUC_VIS_LSB_ObsID_2682_scaled.cut9.synth.lvl_sep.iptd.fits\n",
      "/home/aellien/Euclid_LSB_DR1/wavelets/out3/EUC_VIS_LSB_ObsID_2704_scaled.cut14.synth.lvl_sep.fits\n"
     ]
    },
    {
     "name": "stderr",
     "output_type": "stream",
     "text": [
      "WARNING: Input data contains invalid values (NaNs or infs), which were automatically clipped. [astropy.stats.sigma_clipping]\n"
     ]
    },
    {
     "name": "stdout",
     "output_type": "stream",
     "text": [
      "0.1764516 9.248195\n",
      "write to /home/aellien/Euclid_LSB_DR1/wavelets/out3/EUC_VIS_LSB_ObsID_2704_scaled.cut14.synth.lvl_sep.iptd.fits\n",
      "/home/aellien/Euclid_LSB_DR1/wavelets/out3/EUC_VIS_LSB_ObsID_2695_scaled.cut11.synth.lvl_sep.fits\n",
      "0.2524582 11.046108\n",
      "write to /home/aellien/Euclid_LSB_DR1/wavelets/out3/EUC_VIS_LSB_ObsID_2695_scaled.cut11.synth.lvl_sep.iptd.fits\n",
      "/home/aellien/Euclid_LSB_DR1/wavelets/out3/EUC_VIS_LSB_ObsID_2718_scaled.cut6.synth.lvl_sep.fits\n",
      "0.33844924 13.013091\n",
      "write to /home/aellien/Euclid_LSB_DR1/wavelets/out3/EUC_VIS_LSB_ObsID_2718_scaled.cut6.synth.lvl_sep.iptd.fits\n",
      "/home/aellien/Euclid_LSB_DR1/wavelets/out3/EUC_VIS_LSB_ObsID_2703_scaled.cut14.synth.lvl_sep.fits\n"
     ]
    },
    {
     "name": "stderr",
     "output_type": "stream",
     "text": [
      "WARNING: Input data contains invalid values (NaNs or infs), which were automatically clipped. [astropy.stats.sigma_clipping]\n"
     ]
    },
    {
     "name": "stdout",
     "output_type": "stream",
     "text": [
      "0.2589273 10.995149\n",
      "write to /home/aellien/Euclid_LSB_DR1/wavelets/out3/EUC_VIS_LSB_ObsID_2703_scaled.cut14.synth.lvl_sep.iptd.fits\n",
      "/home/aellien/Euclid_LSB_DR1/wavelets/out3/EUC_VIS_LSB_ObsID_2714_scaled.cut15.synth.lvl_sep.fits\n"
     ]
    },
    {
     "name": "stderr",
     "output_type": "stream",
     "text": [
      "WARNING: Input data contains invalid values (NaNs or infs), which were automatically clipped. [astropy.stats.sigma_clipping]\n"
     ]
    },
    {
     "name": "stdout",
     "output_type": "stream",
     "text": [
      "0.3223183 12.293165\n",
      "write to /home/aellien/Euclid_LSB_DR1/wavelets/out3/EUC_VIS_LSB_ObsID_2714_scaled.cut15.synth.lvl_sep.iptd.fits\n",
      "/home/aellien/Euclid_LSB_DR1/wavelets/out3/EUC_VIS_LSB_ObsID_2708_scaled.cut8.synth.lvl_sep.fits\n"
     ]
    },
    {
     "name": "stderr",
     "output_type": "stream",
     "text": [
      "WARNING: Input data contains invalid values (NaNs or infs), which were automatically clipped. [astropy.stats.sigma_clipping]\n"
     ]
    },
    {
     "name": "stdout",
     "output_type": "stream",
     "text": [
      "0.2743028 11.4488325\n",
      "write to /home/aellien/Euclid_LSB_DR1/wavelets/out3/EUC_VIS_LSB_ObsID_2708_scaled.cut8.synth.lvl_sep.iptd.fits\n",
      "/home/aellien/Euclid_LSB_DR1/wavelets/out3/EUC_VIS_LSB_ObsID_2683_scaled.cut5.synth.lvl_sep.fits\n"
     ]
    },
    {
     "name": "stderr",
     "output_type": "stream",
     "text": [
      "WARNING: Input data contains invalid values (NaNs or infs), which were automatically clipped. [astropy.stats.sigma_clipping]\n"
     ]
    },
    {
     "name": "stdout",
     "output_type": "stream",
     "text": [
      "0.2526339 10.734489\n",
      "write to /home/aellien/Euclid_LSB_DR1/wavelets/out3/EUC_VIS_LSB_ObsID_2683_scaled.cut5.synth.lvl_sep.iptd.fits\n",
      "/home/aellien/Euclid_LSB_DR1/wavelets/out3/EUC_VIS_LSB_ObsID_2695_scaled.cut15.synth.lvl_sep.fits\n"
     ]
    },
    {
     "name": "stderr",
     "output_type": "stream",
     "text": [
      "WARNING: Input data contains invalid values (NaNs or infs), which were automatically clipped. [astropy.stats.sigma_clipping]\n"
     ]
    },
    {
     "name": "stdout",
     "output_type": "stream",
     "text": [
      "0.18745945 8.992552\n",
      "write to /home/aellien/Euclid_LSB_DR1/wavelets/out3/EUC_VIS_LSB_ObsID_2695_scaled.cut15.synth.lvl_sep.iptd.fits\n",
      "/home/aellien/Euclid_LSB_DR1/wavelets/out3/EUC_VIS_LSB_ObsID_2704_scaled.cut3.synth.lvl_sep.fits\n"
     ]
    },
    {
     "name": "stderr",
     "output_type": "stream",
     "text": [
      "WARNING: Input data contains invalid values (NaNs or infs), which were automatically clipped. [astropy.stats.sigma_clipping]\n"
     ]
    },
    {
     "name": "stdout",
     "output_type": "stream",
     "text": [
      "0.38103825 13.85461\n",
      "write to /home/aellien/Euclid_LSB_DR1/wavelets/out3/EUC_VIS_LSB_ObsID_2704_scaled.cut3.synth.lvl_sep.iptd.fits\n",
      "/home/aellien/Euclid_LSB_DR1/wavelets/out3/EUC_VIS_LSB_ObsID_2710_scaled.cut8.synth.lvl_sep.fits\n"
     ]
    },
    {
     "name": "stderr",
     "output_type": "stream",
     "text": [
      "WARNING: Input data contains invalid values (NaNs or infs), which were automatically clipped. [astropy.stats.sigma_clipping]\n"
     ]
    },
    {
     "name": "stdout",
     "output_type": "stream",
     "text": [
      "0.18956912 9.424608\n",
      "write to /home/aellien/Euclid_LSB_DR1/wavelets/out3/EUC_VIS_LSB_ObsID_2710_scaled.cut8.synth.lvl_sep.iptd.fits\n",
      "/home/aellien/Euclid_LSB_DR1/wavelets/out3/EUC_VIS_LSB_ObsID_2719_scaled.cut5.synth.lvl_sep.fits\n"
     ]
    },
    {
     "name": "stderr",
     "output_type": "stream",
     "text": [
      "WARNING: Input data contains invalid values (NaNs or infs), which were automatically clipped. [astropy.stats.sigma_clipping]\n"
     ]
    },
    {
     "name": "stdout",
     "output_type": "stream",
     "text": [
      "0.27472407 11.632537\n",
      "write to /home/aellien/Euclid_LSB_DR1/wavelets/out3/EUC_VIS_LSB_ObsID_2719_scaled.cut5.synth.lvl_sep.iptd.fits\n",
      "/home/aellien/Euclid_LSB_DR1/wavelets/out3/EUC_VIS_LSB_ObsID_2723_scaled.cut10.synth.lvl_sep.fits\n",
      "0.27710363 11.654891\n",
      "write to /home/aellien/Euclid_LSB_DR1/wavelets/out3/EUC_VIS_LSB_ObsID_2723_scaled.cut10.synth.lvl_sep.iptd.fits\n",
      "/home/aellien/Euclid_LSB_DR1/wavelets/out3/EUC_VIS_LSB_ObsID_2719_scaled.cut11.synth.lvl_sep.fits\n",
      "0.37062028 14.395317\n",
      "write to /home/aellien/Euclid_LSB_DR1/wavelets/out3/EUC_VIS_LSB_ObsID_2719_scaled.cut11.synth.lvl_sep.iptd.fits\n",
      "/home/aellien/Euclid_LSB_DR1/wavelets/out3/EUC_VIS_LSB_ObsID_2700_scaled.cut11.synth.lvl_sep.fits\n",
      "0.3589102 13.80386\n",
      "write to /home/aellien/Euclid_LSB_DR1/wavelets/out3/EUC_VIS_LSB_ObsID_2700_scaled.cut11.synth.lvl_sep.iptd.fits\n",
      "/home/aellien/Euclid_LSB_DR1/wavelets/out3/EUC_VIS_LSB_ObsID_2692_scaled.cut3.synth.lvl_sep.fits\n"
     ]
    },
    {
     "name": "stderr",
     "output_type": "stream",
     "text": [
      "WARNING: Input data contains invalid values (NaNs or infs), which were automatically clipped. [astropy.stats.sigma_clipping]\n"
     ]
    },
    {
     "name": "stdout",
     "output_type": "stream",
     "text": [
      "0.40833706 14.720688\n",
      "write to /home/aellien/Euclid_LSB_DR1/wavelets/out3/EUC_VIS_LSB_ObsID_2692_scaled.cut3.synth.lvl_sep.iptd.fits\n",
      "/home/aellien/Euclid_LSB_DR1/wavelets/out3/EUC_VIS_LSB_ObsID_2700_scaled.cut16.synth.lvl_sep.fits\n"
     ]
    },
    {
     "name": "stderr",
     "output_type": "stream",
     "text": [
      "WARNING: Input data contains invalid values (NaNs or infs), which were automatically clipped. [astropy.stats.sigma_clipping]\n"
     ]
    },
    {
     "name": "stdout",
     "output_type": "stream",
     "text": [
      "0.17657489 8.696817\n",
      "write to /home/aellien/Euclid_LSB_DR1/wavelets/out3/EUC_VIS_LSB_ObsID_2700_scaled.cut16.synth.lvl_sep.iptd.fits\n",
      "/home/aellien/Euclid_LSB_DR1/wavelets/out3/EUC_VIS_LSB_ObsID_2682_scaled.cut15.synth.lvl_sep.fits\n"
     ]
    },
    {
     "name": "stderr",
     "output_type": "stream",
     "text": [
      "WARNING: Input data contains invalid values (NaNs or infs), which were automatically clipped. [astropy.stats.sigma_clipping]\n"
     ]
    },
    {
     "name": "stdout",
     "output_type": "stream",
     "text": [
      "0.11122855 6.4818525\n",
      "write to /home/aellien/Euclid_LSB_DR1/wavelets/out3/EUC_VIS_LSB_ObsID_2682_scaled.cut15.synth.lvl_sep.iptd.fits\n",
      "/home/aellien/Euclid_LSB_DR1/wavelets/out3/EUC_VIS_LSB_ObsID_2714_scaled.cut3.synth.lvl_sep.fits\n"
     ]
    },
    {
     "name": "stderr",
     "output_type": "stream",
     "text": [
      "WARNING: Input data contains invalid values (NaNs or infs), which were automatically clipped. [astropy.stats.sigma_clipping]\n"
     ]
    },
    {
     "name": "stdout",
     "output_type": "stream",
     "text": [
      "0.32997406 13.242951\n",
      "write to /home/aellien/Euclid_LSB_DR1/wavelets/out3/EUC_VIS_LSB_ObsID_2714_scaled.cut3.synth.lvl_sep.iptd.fits\n",
      "/home/aellien/Euclid_LSB_DR1/wavelets/out3/EUC_VIS_LSB_ObsID_2723_scaled.cut11.synth.lvl_sep.fits\n",
      "0.3019209 12.297735\n",
      "write to /home/aellien/Euclid_LSB_DR1/wavelets/out3/EUC_VIS_LSB_ObsID_2723_scaled.cut11.synth.lvl_sep.iptd.fits\n",
      "/home/aellien/Euclid_LSB_DR1/wavelets/out3/EUC_VIS_LSB_ObsID_2682_scaled.cut11.synth.lvl_sep.fits\n"
     ]
    },
    {
     "name": "stderr",
     "output_type": "stream",
     "text": [
      "WARNING: Input data contains invalid values (NaNs or infs), which were automatically clipped. [astropy.stats.sigma_clipping]\n"
     ]
    },
    {
     "name": "stdout",
     "output_type": "stream",
     "text": [
      "0.2458065 10.986602\n",
      "write to /home/aellien/Euclid_LSB_DR1/wavelets/out3/EUC_VIS_LSB_ObsID_2682_scaled.cut11.synth.lvl_sep.iptd.fits\n",
      "/home/aellien/Euclid_LSB_DR1/wavelets/out3/EUC_VIS_LSB_ObsID_2694_scaled.cut3.synth.lvl_sep.fits\n"
     ]
    },
    {
     "name": "stderr",
     "output_type": "stream",
     "text": [
      "WARNING: Input data contains invalid values (NaNs or infs), which were automatically clipped. [astropy.stats.sigma_clipping]\n"
     ]
    },
    {
     "name": "stdout",
     "output_type": "stream",
     "text": [
      "0.19804014 9.544457\n",
      "write to /home/aellien/Euclid_LSB_DR1/wavelets/out3/EUC_VIS_LSB_ObsID_2694_scaled.cut3.synth.lvl_sep.iptd.fits\n",
      "/home/aellien/Euclid_LSB_DR1/wavelets/out3/EUC_VIS_LSB_ObsID_2691_scaled.cut15.synth.lvl_sep.fits\n"
     ]
    },
    {
     "name": "stderr",
     "output_type": "stream",
     "text": [
      "WARNING: Input data contains invalid values (NaNs or infs), which were automatically clipped. [astropy.stats.sigma_clipping]\n"
     ]
    },
    {
     "name": "stdout",
     "output_type": "stream",
     "text": [
      "0.18445323 9.234091\n",
      "write to /home/aellien/Euclid_LSB_DR1/wavelets/out3/EUC_VIS_LSB_ObsID_2691_scaled.cut15.synth.lvl_sep.iptd.fits\n",
      "/home/aellien/Euclid_LSB_DR1/wavelets/out3/EUC_VIS_LSB_ObsID_2720_scaled.cut3.synth.lvl_sep.fits\n"
     ]
    },
    {
     "name": "stderr",
     "output_type": "stream",
     "text": [
      "WARNING: Input data contains invalid values (NaNs or infs), which were automatically clipped. [astropy.stats.sigma_clipping]\n"
     ]
    },
    {
     "name": "stdout",
     "output_type": "stream",
     "text": [
      "0.31633484 13.149498\n",
      "write to /home/aellien/Euclid_LSB_DR1/wavelets/out3/EUC_VIS_LSB_ObsID_2720_scaled.cut3.synth.lvl_sep.iptd.fits\n",
      "/home/aellien/Euclid_LSB_DR1/wavelets/out3/EUC_VIS_LSB_ObsID_2684_scaled.cut7.synth.lvl_sep.fits\n",
      "0.16115557 8.394626\n",
      "write to /home/aellien/Euclid_LSB_DR1/wavelets/out3/EUC_VIS_LSB_ObsID_2684_scaled.cut7.synth.lvl_sep.iptd.fits\n",
      "/home/aellien/Euclid_LSB_DR1/wavelets/out3/EUC_VIS_LSB_ObsID_2703_scaled.cut16.synth.lvl_sep.fits\n"
     ]
    },
    {
     "name": "stderr",
     "output_type": "stream",
     "text": [
      "WARNING: Input data contains invalid values (NaNs or infs), which were automatically clipped. [astropy.stats.sigma_clipping]\n"
     ]
    },
    {
     "name": "stdout",
     "output_type": "stream",
     "text": [
      "0.14794704 7.697346\n",
      "write to /home/aellien/Euclid_LSB_DR1/wavelets/out3/EUC_VIS_LSB_ObsID_2703_scaled.cut16.synth.lvl_sep.iptd.fits\n",
      "/home/aellien/Euclid_LSB_DR1/wavelets/out3/EUC_VIS_LSB_ObsID_2718_scaled.cut12.synth.lvl_sep.fits\n"
     ]
    },
    {
     "name": "stderr",
     "output_type": "stream",
     "text": [
      "WARNING: Input data contains invalid values (NaNs or infs), which were automatically clipped. [astropy.stats.sigma_clipping]\n"
     ]
    },
    {
     "name": "stdout",
     "output_type": "stream",
     "text": [
      "0.19311939 9.551121\n",
      "write to /home/aellien/Euclid_LSB_DR1/wavelets/out3/EUC_VIS_LSB_ObsID_2718_scaled.cut12.synth.lvl_sep.iptd.fits\n",
      "/home/aellien/Euclid_LSB_DR1/wavelets/out3/EUC_VIS_LSB_ObsID_2718_scaled.cut13.synth.lvl_sep.fits\n"
     ]
    },
    {
     "name": "stderr",
     "output_type": "stream",
     "text": [
      "WARNING: Input data contains invalid values (NaNs or infs), which were automatically clipped. [astropy.stats.sigma_clipping]\n"
     ]
    },
    {
     "name": "stdout",
     "output_type": "stream",
     "text": [
      "0.30647776 13.038527\n",
      "write to /home/aellien/Euclid_LSB_DR1/wavelets/out3/EUC_VIS_LSB_ObsID_2718_scaled.cut13.synth.lvl_sep.iptd.fits\n",
      "/home/aellien/Euclid_LSB_DR1/wavelets/out3/EUC_VIS_LSB_ObsID_2704_scaled.cut8.synth.lvl_sep.fits\n"
     ]
    },
    {
     "name": "stderr",
     "output_type": "stream",
     "text": [
      "WARNING: Input data contains invalid values (NaNs or infs), which were automatically clipped. [astropy.stats.sigma_clipping]\n"
     ]
    },
    {
     "name": "stdout",
     "output_type": "stream",
     "text": [
      "0.13142325 7.3871374\n",
      "write to /home/aellien/Euclid_LSB_DR1/wavelets/out3/EUC_VIS_LSB_ObsID_2704_scaled.cut8.synth.lvl_sep.iptd.fits\n",
      "/home/aellien/Euclid_LSB_DR1/wavelets/out3/EUC_VIS_LSB_ObsID_2709_scaled.cut2.synth.lvl_sep.fits\n"
     ]
    },
    {
     "name": "stderr",
     "output_type": "stream",
     "text": [
      "WARNING: Input data contains invalid values (NaNs or infs), which were automatically clipped. [astropy.stats.sigma_clipping]\n"
     ]
    },
    {
     "name": "stdout",
     "output_type": "stream",
     "text": [
      "0.26499906 11.51163\n",
      "write to /home/aellien/Euclid_LSB_DR1/wavelets/out3/EUC_VIS_LSB_ObsID_2709_scaled.cut2.synth.lvl_sep.iptd.fits\n",
      "/home/aellien/Euclid_LSB_DR1/wavelets/out3/EUC_VIS_LSB_ObsID_2722_scaled.cut9.synth.lvl_sep.fits\n"
     ]
    },
    {
     "name": "stderr",
     "output_type": "stream",
     "text": [
      "WARNING: Input data contains invalid values (NaNs or infs), which were automatically clipped. [astropy.stats.sigma_clipping]\n"
     ]
    },
    {
     "name": "stdout",
     "output_type": "stream",
     "text": [
      "0.1694248 8.400066\n",
      "write to /home/aellien/Euclid_LSB_DR1/wavelets/out3/EUC_VIS_LSB_ObsID_2722_scaled.cut9.synth.lvl_sep.iptd.fits\n",
      "/home/aellien/Euclid_LSB_DR1/wavelets/out3/EUC_VIS_LSB_ObsID_2721_scaled.cut7.synth.lvl_sep.fits\n",
      "0.28013656 10.951887\n",
      "write to /home/aellien/Euclid_LSB_DR1/wavelets/out3/EUC_VIS_LSB_ObsID_2721_scaled.cut7.synth.lvl_sep.iptd.fits\n",
      "/home/aellien/Euclid_LSB_DR1/wavelets/out3/EUC_VIS_LSB_ObsID_2710_scaled.cut9.synth.lvl_sep.fits\n"
     ]
    },
    {
     "name": "stderr",
     "output_type": "stream",
     "text": [
      "WARNING: Input data contains invalid values (NaNs or infs), which were automatically clipped. [astropy.stats.sigma_clipping]\n"
     ]
    },
    {
     "name": "stdout",
     "output_type": "stream",
     "text": [
      "0.1886546 9.903695\n",
      "write to /home/aellien/Euclid_LSB_DR1/wavelets/out3/EUC_VIS_LSB_ObsID_2710_scaled.cut9.synth.lvl_sep.iptd.fits\n",
      "/home/aellien/Euclid_LSB_DR1/wavelets/out3/EUC_VIS_LSB_ObsID_2683_scaled.cut12.synth.lvl_sep.fits\n"
     ]
    },
    {
     "name": "stderr",
     "output_type": "stream",
     "text": [
      "WARNING: Input data contains invalid values (NaNs or infs), which were automatically clipped. [astropy.stats.sigma_clipping]\n"
     ]
    },
    {
     "name": "stdout",
     "output_type": "stream",
     "text": [
      "0.29243976 11.794004\n",
      "write to /home/aellien/Euclid_LSB_DR1/wavelets/out3/EUC_VIS_LSB_ObsID_2683_scaled.cut12.synth.lvl_sep.iptd.fits\n",
      "/home/aellien/Euclid_LSB_DR1/wavelets/out3/EUC_VIS_LSB_ObsID_2708_scaled.cut12.synth.lvl_sep.fits\n"
     ]
    },
    {
     "name": "stderr",
     "output_type": "stream",
     "text": [
      "WARNING: Input data contains invalid values (NaNs or infs), which were automatically clipped. [astropy.stats.sigma_clipping]\n"
     ]
    },
    {
     "name": "stdout",
     "output_type": "stream",
     "text": [
      "0.15083165 8.1904335\n",
      "write to /home/aellien/Euclid_LSB_DR1/wavelets/out3/EUC_VIS_LSB_ObsID_2708_scaled.cut12.synth.lvl_sep.iptd.fits\n",
      "/home/aellien/Euclid_LSB_DR1/wavelets/out3/EUC_VIS_LSB_ObsID_2681_scaled.cut6.synth.lvl_sep.fits\n",
      "0.55153996 18.241804\n",
      "write to /home/aellien/Euclid_LSB_DR1/wavelets/out3/EUC_VIS_LSB_ObsID_2681_scaled.cut6.synth.lvl_sep.iptd.fits\n",
      "/home/aellien/Euclid_LSB_DR1/wavelets/out3/EUC_VIS_LSB_ObsID_2716_scaled.cut15.synth.lvl_sep.fits\n"
     ]
    },
    {
     "name": "stderr",
     "output_type": "stream",
     "text": [
      "WARNING: Input data contains invalid values (NaNs or infs), which were automatically clipped. [astropy.stats.sigma_clipping]\n"
     ]
    },
    {
     "name": "stdout",
     "output_type": "stream",
     "text": [
      "0.20094384 9.795919\n",
      "write to /home/aellien/Euclid_LSB_DR1/wavelets/out3/EUC_VIS_LSB_ObsID_2716_scaled.cut15.synth.lvl_sep.iptd.fits\n",
      "/home/aellien/Euclid_LSB_DR1/wavelets/out3/EUC_VIS_LSB_ObsID_2688_scaled.cut9.synth.lvl_sep.fits\n"
     ]
    },
    {
     "name": "stderr",
     "output_type": "stream",
     "text": [
      "WARNING: Input data contains invalid values (NaNs or infs), which were automatically clipped. [astropy.stats.sigma_clipping]\n"
     ]
    },
    {
     "name": "stdout",
     "output_type": "stream",
     "text": [
      "0.20482865 9.887727\n",
      "write to /home/aellien/Euclid_LSB_DR1/wavelets/out3/EUC_VIS_LSB_ObsID_2688_scaled.cut9.synth.lvl_sep.iptd.fits\n",
      "/home/aellien/Euclid_LSB_DR1/wavelets/out3/EUC_VIS_LSB_ObsID_2718_scaled.cut14.synth.lvl_sep.fits\n"
     ]
    },
    {
     "name": "stderr",
     "output_type": "stream",
     "text": [
      "WARNING: Input data contains invalid values (NaNs or infs), which were automatically clipped. [astropy.stats.sigma_clipping]\n"
     ]
    },
    {
     "name": "stdout",
     "output_type": "stream",
     "text": [
      "0.1664383 8.521807\n",
      "write to /home/aellien/Euclid_LSB_DR1/wavelets/out3/EUC_VIS_LSB_ObsID_2718_scaled.cut14.synth.lvl_sep.iptd.fits\n",
      "/home/aellien/Euclid_LSB_DR1/wavelets/out3/EUC_VIS_LSB_ObsID_2698_scaled.cut3.synth.lvl_sep.fits\n"
     ]
    },
    {
     "name": "stderr",
     "output_type": "stream",
     "text": [
      "WARNING: Input data contains invalid values (NaNs or infs), which were automatically clipped. [astropy.stats.sigma_clipping]\n"
     ]
    },
    {
     "name": "stdout",
     "output_type": "stream",
     "text": [
      "0.10428187 6.1534953\n",
      "write to /home/aellien/Euclid_LSB_DR1/wavelets/out3/EUC_VIS_LSB_ObsID_2698_scaled.cut3.synth.lvl_sep.iptd.fits\n",
      "/home/aellien/Euclid_LSB_DR1/wavelets/out3/EUC_VIS_LSB_ObsID_2681_scaled.cut14.synth.lvl_sep.fits\n"
     ]
    },
    {
     "name": "stderr",
     "output_type": "stream",
     "text": [
      "WARNING: Input data contains invalid values (NaNs or infs), which were automatically clipped. [astropy.stats.sigma_clipping]\n"
     ]
    },
    {
     "name": "stdout",
     "output_type": "stream",
     "text": [
      "0.608948 19.313618\n",
      "write to /home/aellien/Euclid_LSB_DR1/wavelets/out3/EUC_VIS_LSB_ObsID_2681_scaled.cut14.synth.lvl_sep.iptd.fits\n",
      "/home/aellien/Euclid_LSB_DR1/wavelets/out3/EUC_VIS_LSB_ObsID_2692_scaled.cut13.synth.lvl_sep.fits\n"
     ]
    },
    {
     "name": "stderr",
     "output_type": "stream",
     "text": [
      "WARNING: Input data contains invalid values (NaNs or infs), which were automatically clipped. [astropy.stats.sigma_clipping]\n"
     ]
    },
    {
     "name": "stdout",
     "output_type": "stream",
     "text": [
      "0.14299838 8.091213\n",
      "write to /home/aellien/Euclid_LSB_DR1/wavelets/out3/EUC_VIS_LSB_ObsID_2692_scaled.cut13.synth.lvl_sep.iptd.fits\n",
      "/home/aellien/Euclid_LSB_DR1/wavelets/out3/EUC_VIS_LSB_ObsID_2697_scaled.cut10.synth.lvl_sep.fits\n",
      "0.17399213 8.431661\n",
      "write to /home/aellien/Euclid_LSB_DR1/wavelets/out3/EUC_VIS_LSB_ObsID_2697_scaled.cut10.synth.lvl_sep.iptd.fits\n",
      "/home/aellien/Euclid_LSB_DR1/wavelets/out3/EUC_VIS_LSB_ObsID_2700_scaled.cut14.synth.lvl_sep.fits\n"
     ]
    },
    {
     "name": "stderr",
     "output_type": "stream",
     "text": [
      "WARNING: Input data contains invalid values (NaNs or infs), which were automatically clipped. [astropy.stats.sigma_clipping]\n"
     ]
    },
    {
     "name": "stdout",
     "output_type": "stream",
     "text": [
      "0.21598445 9.845763\n",
      "write to /home/aellien/Euclid_LSB_DR1/wavelets/out3/EUC_VIS_LSB_ObsID_2700_scaled.cut14.synth.lvl_sep.iptd.fits\n",
      "/home/aellien/Euclid_LSB_DR1/wavelets/out3/EUC_VIS_LSB_ObsID_2686_scaled.cut12.synth.lvl_sep.fits\n"
     ]
    },
    {
     "name": "stderr",
     "output_type": "stream",
     "text": [
      "WARNING: Input data contains invalid values (NaNs or infs), which were automatically clipped. [astropy.stats.sigma_clipping]\n"
     ]
    },
    {
     "name": "stdout",
     "output_type": "stream",
     "text": [
      "0.1633332 8.571185\n",
      "write to /home/aellien/Euclid_LSB_DR1/wavelets/out3/EUC_VIS_LSB_ObsID_2686_scaled.cut12.synth.lvl_sep.iptd.fits\n",
      "/home/aellien/Euclid_LSB_DR1/wavelets/out3/EUC_VIS_LSB_ObsID_2713_scaled.cut9.synth.lvl_sep.fits\n"
     ]
    },
    {
     "name": "stderr",
     "output_type": "stream",
     "text": [
      "WARNING: Input data contains invalid values (NaNs or infs), which were automatically clipped. [astropy.stats.sigma_clipping]\n"
     ]
    },
    {
     "name": "stdout",
     "output_type": "stream",
     "text": [
      "0.14955159 8.046292\n",
      "write to /home/aellien/Euclid_LSB_DR1/wavelets/out3/EUC_VIS_LSB_ObsID_2713_scaled.cut9.synth.lvl_sep.iptd.fits\n",
      "/home/aellien/Euclid_LSB_DR1/wavelets/out3/EUC_VIS_LSB_ObsID_2710_scaled.cut4.synth.lvl_sep.fits\n"
     ]
    },
    {
     "name": "stderr",
     "output_type": "stream",
     "text": [
      "WARNING: Input data contains invalid values (NaNs or infs), which were automatically clipped. [astropy.stats.sigma_clipping]\n"
     ]
    },
    {
     "name": "stdout",
     "output_type": "stream",
     "text": [
      "0.17275639 8.56564\n",
      "write to /home/aellien/Euclid_LSB_DR1/wavelets/out3/EUC_VIS_LSB_ObsID_2710_scaled.cut4.synth.lvl_sep.iptd.fits\n",
      "/home/aellien/Euclid_LSB_DR1/wavelets/out3/EUC_VIS_LSB_ObsID_2714_scaled.cut14.synth.lvl_sep.fits\n"
     ]
    },
    {
     "name": "stderr",
     "output_type": "stream",
     "text": [
      "WARNING: Input data contains invalid values (NaNs or infs), which were automatically clipped. [astropy.stats.sigma_clipping]\n"
     ]
    },
    {
     "name": "stdout",
     "output_type": "stream",
     "text": [
      "0.42627817 15.347623\n",
      "write to /home/aellien/Euclid_LSB_DR1/wavelets/out3/EUC_VIS_LSB_ObsID_2714_scaled.cut14.synth.lvl_sep.iptd.fits\n",
      "/home/aellien/Euclid_LSB_DR1/wavelets/out3/EUC_VIS_LSB_ObsID_2715_scaled.cut13.synth.lvl_sep.fits\n"
     ]
    },
    {
     "name": "stderr",
     "output_type": "stream",
     "text": [
      "WARNING: Input data contains invalid values (NaNs or infs), which were automatically clipped. [astropy.stats.sigma_clipping]\n"
     ]
    },
    {
     "name": "stdout",
     "output_type": "stream",
     "text": [
      "0.28740495 12.478461\n",
      "write to /home/aellien/Euclid_LSB_DR1/wavelets/out3/EUC_VIS_LSB_ObsID_2715_scaled.cut13.synth.lvl_sep.iptd.fits\n",
      "/home/aellien/Euclid_LSB_DR1/wavelets/out3/EUC_VIS_LSB_ObsID_2719_scaled.cut14.synth.lvl_sep.fits\n"
     ]
    },
    {
     "name": "stderr",
     "output_type": "stream",
     "text": [
      "WARNING: Input data contains invalid values (NaNs or infs), which were automatically clipped. [astropy.stats.sigma_clipping]\n"
     ]
    },
    {
     "name": "stdout",
     "output_type": "stream",
     "text": [
      "0.20474695 9.715464\n",
      "write to /home/aellien/Euclid_LSB_DR1/wavelets/out3/EUC_VIS_LSB_ObsID_2719_scaled.cut14.synth.lvl_sep.iptd.fits\n",
      "/home/aellien/Euclid_LSB_DR1/wavelets/out3/EUC_VIS_LSB_ObsID_2713_scaled.cut3.synth.lvl_sep.fits\n"
     ]
    },
    {
     "name": "stderr",
     "output_type": "stream",
     "text": [
      "WARNING: Input data contains invalid values (NaNs or infs), which were automatically clipped. [astropy.stats.sigma_clipping]\n"
     ]
    },
    {
     "name": "stdout",
     "output_type": "stream",
     "text": [
      "0.2636799 10.893024\n",
      "write to /home/aellien/Euclid_LSB_DR1/wavelets/out3/EUC_VIS_LSB_ObsID_2713_scaled.cut3.synth.lvl_sep.iptd.fits\n",
      "/home/aellien/Euclid_LSB_DR1/wavelets/out3/EUC_VIS_LSB_ObsID_2701_scaled.cut13.synth.lvl_sep.fits\n"
     ]
    },
    {
     "name": "stderr",
     "output_type": "stream",
     "text": [
      "WARNING: Input data contains invalid values (NaNs or infs), which were automatically clipped. [astropy.stats.sigma_clipping]\n"
     ]
    },
    {
     "name": "stdout",
     "output_type": "stream",
     "text": [
      "0.32015735 12.793912\n",
      "write to /home/aellien/Euclid_LSB_DR1/wavelets/out3/EUC_VIS_LSB_ObsID_2701_scaled.cut13.synth.lvl_sep.iptd.fits\n",
      "/home/aellien/Euclid_LSB_DR1/wavelets/out3/EUC_VIS_LSB_ObsID_2693_scaled.cut10.synth.lvl_sep.fits\n",
      "0.3025009 12.682279\n",
      "write to /home/aellien/Euclid_LSB_DR1/wavelets/out3/EUC_VIS_LSB_ObsID_2693_scaled.cut10.synth.lvl_sep.iptd.fits\n",
      "/home/aellien/Euclid_LSB_DR1/wavelets/out3/EUC_VIS_LSB_ObsID_2713_scaled.cut2.synth.lvl_sep.fits\n"
     ]
    },
    {
     "name": "stderr",
     "output_type": "stream",
     "text": [
      "WARNING: Input data contains invalid values (NaNs or infs), which were automatically clipped. [astropy.stats.sigma_clipping]\n"
     ]
    },
    {
     "name": "stdout",
     "output_type": "stream",
     "text": [
      "0.14034888 8.197924\n",
      "write to /home/aellien/Euclid_LSB_DR1/wavelets/out3/EUC_VIS_LSB_ObsID_2713_scaled.cut2.synth.lvl_sep.iptd.fits\n",
      "/home/aellien/Euclid_LSB_DR1/wavelets/out3/EUC_VIS_LSB_ObsID_2689_scaled.cut5.synth.lvl_sep.fits\n"
     ]
    },
    {
     "name": "stderr",
     "output_type": "stream",
     "text": [
      "WARNING: Input data contains invalid values (NaNs or infs), which were automatically clipped. [astropy.stats.sigma_clipping]\n"
     ]
    },
    {
     "name": "stdout",
     "output_type": "stream",
     "text": [
      "0.15316157 8.322169\n",
      "write to /home/aellien/Euclid_LSB_DR1/wavelets/out3/EUC_VIS_LSB_ObsID_2689_scaled.cut5.synth.lvl_sep.iptd.fits\n",
      "/home/aellien/Euclid_LSB_DR1/wavelets/out3/EUC_VIS_LSB_ObsID_2715_scaled.cut15.synth.lvl_sep.fits\n"
     ]
    },
    {
     "name": "stderr",
     "output_type": "stream",
     "text": [
      "WARNING: Input data contains invalid values (NaNs or infs), which were automatically clipped. [astropy.stats.sigma_clipping]\n"
     ]
    },
    {
     "name": "stdout",
     "output_type": "stream",
     "text": [
      "0.35023102 13.5553875\n",
      "write to /home/aellien/Euclid_LSB_DR1/wavelets/out3/EUC_VIS_LSB_ObsID_2715_scaled.cut15.synth.lvl_sep.iptd.fits\n",
      "/home/aellien/Euclid_LSB_DR1/wavelets/out3/EUC_VIS_LSB_ObsID_2683_scaled.cut15.synth.lvl_sep.fits\n"
     ]
    },
    {
     "name": "stderr",
     "output_type": "stream",
     "text": [
      "WARNING: Input data contains invalid values (NaNs or infs), which were automatically clipped. [astropy.stats.sigma_clipping]\n"
     ]
    },
    {
     "name": "stdout",
     "output_type": "stream",
     "text": [
      "0.3898855 16.626669\n",
      "write to /home/aellien/Euclid_LSB_DR1/wavelets/out3/EUC_VIS_LSB_ObsID_2683_scaled.cut15.synth.lvl_sep.iptd.fits\n",
      "/home/aellien/Euclid_LSB_DR1/wavelets/out3/EUC_VIS_LSB_ObsID_2714_scaled.cut13.synth.lvl_sep.fits\n"
     ]
    },
    {
     "name": "stderr",
     "output_type": "stream",
     "text": [
      "WARNING: Input data contains invalid values (NaNs or infs), which were automatically clipped. [astropy.stats.sigma_clipping]\n"
     ]
    },
    {
     "name": "stdout",
     "output_type": "stream",
     "text": [
      "0.32490093 13.164279\n",
      "write to /home/aellien/Euclid_LSB_DR1/wavelets/out3/EUC_VIS_LSB_ObsID_2714_scaled.cut13.synth.lvl_sep.iptd.fits\n",
      "/home/aellien/Euclid_LSB_DR1/wavelets/out3/EUC_VIS_LSB_ObsID_2685_scaled.cut14.synth.lvl_sep.fits\n"
     ]
    },
    {
     "name": "stderr",
     "output_type": "stream",
     "text": [
      "WARNING: Input data contains invalid values (NaNs or infs), which were automatically clipped. [astropy.stats.sigma_clipping]\n"
     ]
    },
    {
     "name": "stdout",
     "output_type": "stream",
     "text": [
      "0.18519181 9.293378\n",
      "write to /home/aellien/Euclid_LSB_DR1/wavelets/out3/EUC_VIS_LSB_ObsID_2685_scaled.cut14.synth.lvl_sep.iptd.fits\n",
      "/home/aellien/Euclid_LSB_DR1/wavelets/out3/EUC_VIS_LSB_ObsID_2697_scaled.cut3.synth.lvl_sep.fits\n"
     ]
    },
    {
     "name": "stderr",
     "output_type": "stream",
     "text": [
      "WARNING: Input data contains invalid values (NaNs or infs), which were automatically clipped. [astropy.stats.sigma_clipping]\n"
     ]
    },
    {
     "name": "stdout",
     "output_type": "stream",
     "text": [
      "0.13034916 7.283245\n",
      "write to /home/aellien/Euclid_LSB_DR1/wavelets/out3/EUC_VIS_LSB_ObsID_2697_scaled.cut3.synth.lvl_sep.iptd.fits\n",
      "/home/aellien/Euclid_LSB_DR1/wavelets/out3/EUC_VIS_LSB_ObsID_2698_scaled.cut9.synth.lvl_sep.fits\n"
     ]
    },
    {
     "name": "stderr",
     "output_type": "stream",
     "text": [
      "WARNING: Input data contains invalid values (NaNs or infs), which were automatically clipped. [astropy.stats.sigma_clipping]\n"
     ]
    },
    {
     "name": "stdout",
     "output_type": "stream",
     "text": [
      "0.29216647 11.610141\n",
      "write to /home/aellien/Euclid_LSB_DR1/wavelets/out3/EUC_VIS_LSB_ObsID_2698_scaled.cut9.synth.lvl_sep.iptd.fits\n",
      "/home/aellien/Euclid_LSB_DR1/wavelets/out3/EUC_VIS_LSB_ObsID_2709_scaled.cut6.synth.lvl_sep.fits\n"
     ]
    },
    {
     "name": "stderr",
     "output_type": "stream",
     "text": [
      "WARNING: Input data contains invalid values (NaNs or infs), which were automatically clipped. [astropy.stats.sigma_clipping]\n"
     ]
    },
    {
     "name": "stdout",
     "output_type": "stream",
     "text": [
      "0.32290947 12.822965\n",
      "write to /home/aellien/Euclid_LSB_DR1/wavelets/out3/EUC_VIS_LSB_ObsID_2709_scaled.cut6.synth.lvl_sep.iptd.fits\n",
      "/home/aellien/Euclid_LSB_DR1/wavelets/out3/EUC_VIS_LSB_ObsID_2706_scaled.cut11.synth.lvl_sep.fits\n",
      "0.40407512 15.345447\n",
      "write to /home/aellien/Euclid_LSB_DR1/wavelets/out3/EUC_VIS_LSB_ObsID_2706_scaled.cut11.synth.lvl_sep.iptd.fits\n",
      "/home/aellien/Euclid_LSB_DR1/wavelets/out3/EUC_VIS_LSB_ObsID_2694_scaled.cut6.synth.lvl_sep.fits\n",
      "0.23843934 10.113635\n",
      "write to /home/aellien/Euclid_LSB_DR1/wavelets/out3/EUC_VIS_LSB_ObsID_2694_scaled.cut6.synth.lvl_sep.iptd.fits\n",
      "/home/aellien/Euclid_LSB_DR1/wavelets/out3/EUC_VIS_LSB_ObsID_2702_scaled.cut8.synth.lvl_sep.fits\n"
     ]
    },
    {
     "name": "stderr",
     "output_type": "stream",
     "text": [
      "WARNING: Input data contains invalid values (NaNs or infs), which were automatically clipped. [astropy.stats.sigma_clipping]\n"
     ]
    },
    {
     "name": "stdout",
     "output_type": "stream",
     "text": [
      "0.2524921 11.175867\n",
      "write to /home/aellien/Euclid_LSB_DR1/wavelets/out3/EUC_VIS_LSB_ObsID_2702_scaled.cut8.synth.lvl_sep.iptd.fits\n",
      "/home/aellien/Euclid_LSB_DR1/wavelets/out3/EUC_VIS_LSB_ObsID_2722_scaled.cut7.synth.lvl_sep.fits\n",
      "0.3137169 12.992275\n",
      "write to /home/aellien/Euclid_LSB_DR1/wavelets/out3/EUC_VIS_LSB_ObsID_2722_scaled.cut7.synth.lvl_sep.iptd.fits\n",
      "/home/aellien/Euclid_LSB_DR1/wavelets/out3/EUC_VIS_LSB_ObsID_2721_scaled.cut10.synth.lvl_sep.fits\n",
      "0.28611884 12.278019\n",
      "write to /home/aellien/Euclid_LSB_DR1/wavelets/out3/EUC_VIS_LSB_ObsID_2721_scaled.cut10.synth.lvl_sep.iptd.fits\n",
      "/home/aellien/Euclid_LSB_DR1/wavelets/out3/EUC_VIS_LSB_ObsID_2695_scaled.cut10.synth.lvl_sep.fits\n",
      "0.08897715 5.718615\n",
      "write to /home/aellien/Euclid_LSB_DR1/wavelets/out3/EUC_VIS_LSB_ObsID_2695_scaled.cut10.synth.lvl_sep.iptd.fits\n",
      "/home/aellien/Euclid_LSB_DR1/wavelets/out3/EUC_VIS_LSB_ObsID_2684_scaled.cut11.synth.lvl_sep.fits\n"
     ]
    },
    {
     "name": "stderr",
     "output_type": "stream",
     "text": [
      "WARNING: Input data contains invalid values (NaNs or infs), which were automatically clipped. [astropy.stats.sigma_clipping]\n"
     ]
    },
    {
     "name": "stdout",
     "output_type": "stream",
     "text": [
      "0.39869195 14.976853\n",
      "write to /home/aellien/Euclid_LSB_DR1/wavelets/out3/EUC_VIS_LSB_ObsID_2684_scaled.cut11.synth.lvl_sep.iptd.fits\n",
      "/home/aellien/Euclid_LSB_DR1/wavelets/out3/EUC_VIS_LSB_ObsID_2707_scaled.cut11.synth.lvl_sep.fits\n",
      "0.095161885 6.0224595\n",
      "write to /home/aellien/Euclid_LSB_DR1/wavelets/out3/EUC_VIS_LSB_ObsID_2707_scaled.cut11.synth.lvl_sep.iptd.fits\n",
      "/home/aellien/Euclid_LSB_DR1/wavelets/out3/EUC_VIS_LSB_ObsID_2699_scaled.cut15.synth.lvl_sep.fits\n"
     ]
    },
    {
     "name": "stderr",
     "output_type": "stream",
     "text": [
      "WARNING: Input data contains invalid values (NaNs or infs), which were automatically clipped. [astropy.stats.sigma_clipping]\n"
     ]
    },
    {
     "name": "stdout",
     "output_type": "stream",
     "text": [
      "0.27169544 11.297017\n",
      "write to /home/aellien/Euclid_LSB_DR1/wavelets/out3/EUC_VIS_LSB_ObsID_2699_scaled.cut15.synth.lvl_sep.iptd.fits\n",
      "/home/aellien/Euclid_LSB_DR1/wavelets/out3/EUC_VIS_LSB_ObsID_2687_scaled.cut15.synth.lvl_sep.fits\n"
     ]
    },
    {
     "name": "stderr",
     "output_type": "stream",
     "text": [
      "WARNING: Input data contains invalid values (NaNs or infs), which were automatically clipped. [astropy.stats.sigma_clipping]\n"
     ]
    },
    {
     "name": "stdout",
     "output_type": "stream",
     "text": [
      "0.15990923 8.339125\n",
      "write to /home/aellien/Euclid_LSB_DR1/wavelets/out3/EUC_VIS_LSB_ObsID_2687_scaled.cut15.synth.lvl_sep.iptd.fits\n",
      "/home/aellien/Euclid_LSB_DR1/wavelets/out3/EUC_VIS_LSB_ObsID_2695_scaled.cut7.synth.lvl_sep.fits\n",
      "0.4297833 15.461925\n",
      "write to /home/aellien/Euclid_LSB_DR1/wavelets/out3/EUC_VIS_LSB_ObsID_2695_scaled.cut7.synth.lvl_sep.iptd.fits\n",
      "/home/aellien/Euclid_LSB_DR1/wavelets/out3/EUC_VIS_LSB_ObsID_2711_scaled.cut16.synth.lvl_sep.fits\n"
     ]
    },
    {
     "name": "stderr",
     "output_type": "stream",
     "text": [
      "WARNING: Input data contains invalid values (NaNs or infs), which were automatically clipped. [astropy.stats.sigma_clipping]\n"
     ]
    },
    {
     "name": "stdout",
     "output_type": "stream",
     "text": [
      "0.20041715 9.710151\n",
      "write to /home/aellien/Euclid_LSB_DR1/wavelets/out3/EUC_VIS_LSB_ObsID_2711_scaled.cut16.synth.lvl_sep.iptd.fits\n",
      "/home/aellien/Euclid_LSB_DR1/wavelets/out3/EUC_VIS_LSB_ObsID_2712_scaled.cut8.synth.lvl_sep.fits\n"
     ]
    },
    {
     "name": "stderr",
     "output_type": "stream",
     "text": [
      "WARNING: Input data contains invalid values (NaNs or infs), which were automatically clipped. [astropy.stats.sigma_clipping]\n"
     ]
    },
    {
     "name": "stdout",
     "output_type": "stream",
     "text": [
      "0.21787415 10.360696\n",
      "write to /home/aellien/Euclid_LSB_DR1/wavelets/out3/EUC_VIS_LSB_ObsID_2712_scaled.cut8.synth.lvl_sep.iptd.fits\n",
      "/home/aellien/Euclid_LSB_DR1/wavelets/out3/EUC_VIS_LSB_ObsID_2712_scaled.cut3.synth.lvl_sep.fits\n"
     ]
    },
    {
     "name": "stderr",
     "output_type": "stream",
     "text": [
      "WARNING: Input data contains invalid values (NaNs or infs), which were automatically clipped. [astropy.stats.sigma_clipping]\n"
     ]
    },
    {
     "name": "stdout",
     "output_type": "stream",
     "text": [
      "0.19729844 9.48462\n",
      "write to /home/aellien/Euclid_LSB_DR1/wavelets/out3/EUC_VIS_LSB_ObsID_2712_scaled.cut3.synth.lvl_sep.iptd.fits\n",
      "/home/aellien/Euclid_LSB_DR1/wavelets/out3/EUC_VIS_LSB_ObsID_2697_scaled.cut8.synth.lvl_sep.fits\n"
     ]
    },
    {
     "name": "stderr",
     "output_type": "stream",
     "text": [
      "WARNING: Input data contains invalid values (NaNs or infs), which were automatically clipped. [astropy.stats.sigma_clipping]\n"
     ]
    },
    {
     "name": "stdout",
     "output_type": "stream",
     "text": [
      "0.42168385 14.769516\n",
      "write to /home/aellien/Euclid_LSB_DR1/wavelets/out3/EUC_VIS_LSB_ObsID_2697_scaled.cut8.synth.lvl_sep.iptd.fits\n",
      "/home/aellien/Euclid_LSB_DR1/wavelets/out3/EUC_VIS_LSB_ObsID_2685_scaled.cut10.synth.lvl_sep.fits\n",
      "0.2432624 11.100539\n",
      "write to /home/aellien/Euclid_LSB_DR1/wavelets/out3/EUC_VIS_LSB_ObsID_2685_scaled.cut10.synth.lvl_sep.iptd.fits\n",
      "/home/aellien/Euclid_LSB_DR1/wavelets/out3/EUC_VIS_LSB_ObsID_2719_scaled.cut9.synth.lvl_sep.fits\n"
     ]
    },
    {
     "name": "stderr",
     "output_type": "stream",
     "text": [
      "WARNING: Input data contains invalid values (NaNs or infs), which were automatically clipped. [astropy.stats.sigma_clipping]\n"
     ]
    },
    {
     "name": "stdout",
     "output_type": "stream",
     "text": [
      "0.41225815 15.578761\n",
      "write to /home/aellien/Euclid_LSB_DR1/wavelets/out3/EUC_VIS_LSB_ObsID_2719_scaled.cut9.synth.lvl_sep.iptd.fits\n",
      "/home/aellien/Euclid_LSB_DR1/wavelets/out3/EUC_VIS_LSB_ObsID_2697_scaled.cut12.synth.lvl_sep.fits\n"
     ]
    },
    {
     "name": "stderr",
     "output_type": "stream",
     "text": [
      "WARNING: Input data contains invalid values (NaNs or infs), which were automatically clipped. [astropy.stats.sigma_clipping]\n"
     ]
    },
    {
     "name": "stdout",
     "output_type": "stream",
     "text": [
      "0.19932666 9.391706\n",
      "write to /home/aellien/Euclid_LSB_DR1/wavelets/out3/EUC_VIS_LSB_ObsID_2697_scaled.cut12.synth.lvl_sep.iptd.fits\n",
      "/home/aellien/Euclid_LSB_DR1/wavelets/out3/EUC_VIS_LSB_ObsID_2684_scaled.cut12.synth.lvl_sep.fits\n"
     ]
    },
    {
     "name": "stderr",
     "output_type": "stream",
     "text": [
      "WARNING: Input data contains invalid values (NaNs or infs), which were automatically clipped. [astropy.stats.sigma_clipping]\n"
     ]
    },
    {
     "name": "stdout",
     "output_type": "stream",
     "text": [
      "0.2089861 10.488172\n",
      "write to /home/aellien/Euclid_LSB_DR1/wavelets/out3/EUC_VIS_LSB_ObsID_2684_scaled.cut12.synth.lvl_sep.iptd.fits\n",
      "/home/aellien/Euclid_LSB_DR1/wavelets/out3/EUC_VIS_LSB_ObsID_2721_scaled.cut15.synth.lvl_sep.fits\n"
     ]
    },
    {
     "name": "stderr",
     "output_type": "stream",
     "text": [
      "WARNING: Input data contains invalid values (NaNs or infs), which were automatically clipped. [astropy.stats.sigma_clipping]\n"
     ]
    },
    {
     "name": "stdout",
     "output_type": "stream",
     "text": [
      "0.14988473 8.101322\n",
      "write to /home/aellien/Euclid_LSB_DR1/wavelets/out3/EUC_VIS_LSB_ObsID_2721_scaled.cut15.synth.lvl_sep.iptd.fits\n",
      "/home/aellien/Euclid_LSB_DR1/wavelets/out3/EUC_VIS_LSB_ObsID_2681_scaled.cut12.synth.lvl_sep.fits\n"
     ]
    },
    {
     "name": "stderr",
     "output_type": "stream",
     "text": [
      "WARNING: Input data contains invalid values (NaNs or infs), which were automatically clipped. [astropy.stats.sigma_clipping]\n"
     ]
    },
    {
     "name": "stdout",
     "output_type": "stream",
     "text": [
      "0.073886275 4.9521785\n",
      "write to /home/aellien/Euclid_LSB_DR1/wavelets/out3/EUC_VIS_LSB_ObsID_2681_scaled.cut12.synth.lvl_sep.iptd.fits\n",
      "/home/aellien/Euclid_LSB_DR1/wavelets/out3/EUC_VIS_LSB_ObsID_2700_scaled.cut15.synth.lvl_sep.fits\n"
     ]
    },
    {
     "name": "stderr",
     "output_type": "stream",
     "text": [
      "WARNING: Input data contains invalid values (NaNs or infs), which were automatically clipped. [astropy.stats.sigma_clipping]\n"
     ]
    },
    {
     "name": "stdout",
     "output_type": "stream",
     "text": [
      "0.16840827 8.4491205\n",
      "write to /home/aellien/Euclid_LSB_DR1/wavelets/out3/EUC_VIS_LSB_ObsID_2700_scaled.cut15.synth.lvl_sep.iptd.fits\n",
      "/home/aellien/Euclid_LSB_DR1/wavelets/out3/EUC_VIS_LSB_ObsID_2717_scaled.cut5.synth.lvl_sep.fits\n"
     ]
    },
    {
     "name": "stderr",
     "output_type": "stream",
     "text": [
      "WARNING: Input data contains invalid values (NaNs or infs), which were automatically clipped. [astropy.stats.sigma_clipping]\n"
     ]
    },
    {
     "name": "stdout",
     "output_type": "stream",
     "text": [
      "0.5663908 17.852629\n",
      "write to /home/aellien/Euclid_LSB_DR1/wavelets/out3/EUC_VIS_LSB_ObsID_2717_scaled.cut5.synth.lvl_sep.iptd.fits\n",
      "/home/aellien/Euclid_LSB_DR1/wavelets/out3/EUC_VIS_LSB_ObsID_2705_scaled.cut7.synth.lvl_sep.fits\n",
      "0.20756559 9.890581\n",
      "write to /home/aellien/Euclid_LSB_DR1/wavelets/out3/EUC_VIS_LSB_ObsID_2705_scaled.cut7.synth.lvl_sep.iptd.fits\n",
      "/home/aellien/Euclid_LSB_DR1/wavelets/out3/EUC_VIS_LSB_ObsID_2691_scaled.cut2.synth.lvl_sep.fits\n"
     ]
    },
    {
     "name": "stderr",
     "output_type": "stream",
     "text": [
      "WARNING: Input data contains invalid values (NaNs or infs), which were automatically clipped. [astropy.stats.sigma_clipping]\n"
     ]
    },
    {
     "name": "stdout",
     "output_type": "stream",
     "text": [
      "0.17986456 9.199956\n",
      "write to /home/aellien/Euclid_LSB_DR1/wavelets/out3/EUC_VIS_LSB_ObsID_2691_scaled.cut2.synth.lvl_sep.iptd.fits\n",
      "/home/aellien/Euclid_LSB_DR1/wavelets/out3/EUC_VIS_LSB_ObsID_2712_scaled.cut11.synth.lvl_sep.fits\n",
      "0.1058008 6.190947\n",
      "write to /home/aellien/Euclid_LSB_DR1/wavelets/out3/EUC_VIS_LSB_ObsID_2712_scaled.cut11.synth.lvl_sep.iptd.fits\n",
      "/home/aellien/Euclid_LSB_DR1/wavelets/out3/EUC_VIS_LSB_ObsID_2719_scaled.cut4.synth.lvl_sep.fits\n"
     ]
    },
    {
     "name": "stderr",
     "output_type": "stream",
     "text": [
      "WARNING: Input data contains invalid values (NaNs or infs), which were automatically clipped. [astropy.stats.sigma_clipping]\n"
     ]
    },
    {
     "name": "stdout",
     "output_type": "stream",
     "text": [
      "0.48502424 16.55123\n",
      "write to /home/aellien/Euclid_LSB_DR1/wavelets/out3/EUC_VIS_LSB_ObsID_2719_scaled.cut4.synth.lvl_sep.iptd.fits\n",
      "/home/aellien/Euclid_LSB_DR1/wavelets/out3/EUC_VIS_LSB_ObsID_2702_scaled.cut5.synth.lvl_sep.fits\n"
     ]
    },
    {
     "name": "stderr",
     "output_type": "stream",
     "text": [
      "WARNING: Input data contains invalid values (NaNs or infs), which were automatically clipped. [astropy.stats.sigma_clipping]\n"
     ]
    },
    {
     "name": "stdout",
     "output_type": "stream",
     "text": [
      "0.51499647 16.761068\n",
      "write to /home/aellien/Euclid_LSB_DR1/wavelets/out3/EUC_VIS_LSB_ObsID_2702_scaled.cut5.synth.lvl_sep.iptd.fits\n",
      "/home/aellien/Euclid_LSB_DR1/wavelets/out3/EUC_VIS_LSB_ObsID_2689_scaled.cut7.synth.lvl_sep.fits\n",
      "0.2079902 9.997575\n",
      "write to /home/aellien/Euclid_LSB_DR1/wavelets/out3/EUC_VIS_LSB_ObsID_2689_scaled.cut7.synth.lvl_sep.iptd.fits\n",
      "/home/aellien/Euclid_LSB_DR1/wavelets/out3/EUC_VIS_LSB_ObsID_2689_scaled.cut10.synth.lvl_sep.fits\n",
      "0.30017266 12.671693\n",
      "write to /home/aellien/Euclid_LSB_DR1/wavelets/out3/EUC_VIS_LSB_ObsID_2689_scaled.cut10.synth.lvl_sep.iptd.fits\n",
      "/home/aellien/Euclid_LSB_DR1/wavelets/out3/EUC_VIS_LSB_ObsID_2719_scaled.cut12.synth.lvl_sep.fits\n"
     ]
    },
    {
     "name": "stderr",
     "output_type": "stream",
     "text": [
      "WARNING: Input data contains invalid values (NaNs or infs), which were automatically clipped. [astropy.stats.sigma_clipping]\n"
     ]
    },
    {
     "name": "stdout",
     "output_type": "stream",
     "text": [
      "0.14171071 7.5387225\n",
      "write to /home/aellien/Euclid_LSB_DR1/wavelets/out3/EUC_VIS_LSB_ObsID_2719_scaled.cut12.synth.lvl_sep.iptd.fits\n",
      "/home/aellien/Euclid_LSB_DR1/wavelets/out3/EUC_VIS_LSB_ObsID_2706_scaled.cut3.synth.lvl_sep.fits\n"
     ]
    },
    {
     "name": "stderr",
     "output_type": "stream",
     "text": [
      "WARNING: Input data contains invalid values (NaNs or infs), which were automatically clipped. [astropy.stats.sigma_clipping]\n"
     ]
    },
    {
     "name": "stdout",
     "output_type": "stream",
     "text": [
      "0.15761884 8.554499\n",
      "write to /home/aellien/Euclid_LSB_DR1/wavelets/out3/EUC_VIS_LSB_ObsID_2706_scaled.cut3.synth.lvl_sep.iptd.fits\n",
      "/home/aellien/Euclid_LSB_DR1/wavelets/out3/EUC_VIS_LSB_ObsID_2696_scaled.cut9.synth.lvl_sep.fits\n"
     ]
    },
    {
     "name": "stderr",
     "output_type": "stream",
     "text": [
      "WARNING: Input data contains invalid values (NaNs or infs), which were automatically clipped. [astropy.stats.sigma_clipping]\n"
     ]
    },
    {
     "name": "stdout",
     "output_type": "stream",
     "text": [
      "0.20600289 9.6109915\n",
      "write to /home/aellien/Euclid_LSB_DR1/wavelets/out3/EUC_VIS_LSB_ObsID_2696_scaled.cut9.synth.lvl_sep.iptd.fits\n",
      "/home/aellien/Euclid_LSB_DR1/wavelets/out3/EUC_VIS_LSB_ObsID_2693_scaled.cut11.synth.lvl_sep.fits\n",
      "0.17528436 8.809003\n",
      "write to /home/aellien/Euclid_LSB_DR1/wavelets/out3/EUC_VIS_LSB_ObsID_2693_scaled.cut11.synth.lvl_sep.iptd.fits\n",
      "/home/aellien/Euclid_LSB_DR1/wavelets/out3/EUC_VIS_LSB_ObsID_2682_scaled.cut7.synth.lvl_sep.fits\n",
      "0.2087747 9.766313\n",
      "write to /home/aellien/Euclid_LSB_DR1/wavelets/out3/EUC_VIS_LSB_ObsID_2682_scaled.cut7.synth.lvl_sep.iptd.fits\n",
      "/home/aellien/Euclid_LSB_DR1/wavelets/out3/EUC_VIS_LSB_ObsID_2713_scaled.cut15.synth.lvl_sep.fits\n"
     ]
    },
    {
     "name": "stderr",
     "output_type": "stream",
     "text": [
      "WARNING: Input data contains invalid values (NaNs or infs), which were automatically clipped. [astropy.stats.sigma_clipping]\n"
     ]
    },
    {
     "name": "stdout",
     "output_type": "stream",
     "text": [
      "0.24347882 10.937981\n",
      "write to /home/aellien/Euclid_LSB_DR1/wavelets/out3/EUC_VIS_LSB_ObsID_2713_scaled.cut15.synth.lvl_sep.iptd.fits\n",
      "/home/aellien/Euclid_LSB_DR1/wavelets/out3/EUC_VIS_LSB_ObsID_2714_scaled.cut9.synth.lvl_sep.fits\n"
     ]
    },
    {
     "name": "stderr",
     "output_type": "stream",
     "text": [
      "WARNING: Input data contains invalid values (NaNs or infs), which were automatically clipped. [astropy.stats.sigma_clipping]\n"
     ]
    },
    {
     "name": "stdout",
     "output_type": "stream",
     "text": [
      "0.23273209 10.970817\n",
      "write to /home/aellien/Euclid_LSB_DR1/wavelets/out3/EUC_VIS_LSB_ObsID_2714_scaled.cut9.synth.lvl_sep.iptd.fits\n",
      "/home/aellien/Euclid_LSB_DR1/wavelets/out3/EUC_VIS_LSB_ObsID_2688_scaled.cut8.synth.lvl_sep.fits\n"
     ]
    },
    {
     "name": "stderr",
     "output_type": "stream",
     "text": [
      "WARNING: Input data contains invalid values (NaNs or infs), which were automatically clipped. [astropy.stats.sigma_clipping]\n"
     ]
    },
    {
     "name": "stdout",
     "output_type": "stream",
     "text": [
      "0.30332875 13.233786\n",
      "write to /home/aellien/Euclid_LSB_DR1/wavelets/out3/EUC_VIS_LSB_ObsID_2688_scaled.cut8.synth.lvl_sep.iptd.fits\n",
      "/home/aellien/Euclid_LSB_DR1/wavelets/out3/EUC_VIS_LSB_ObsID_2696_scaled.cut7.synth.lvl_sep.fits\n",
      "0.4527887 15.167145\n",
      "write to /home/aellien/Euclid_LSB_DR1/wavelets/out3/EUC_VIS_LSB_ObsID_2696_scaled.cut7.synth.lvl_sep.iptd.fits\n",
      "/home/aellien/Euclid_LSB_DR1/wavelets/out3/EUC_VIS_LSB_ObsID_2722_scaled.cut16.synth.lvl_sep.fits\n"
     ]
    },
    {
     "name": "stderr",
     "output_type": "stream",
     "text": [
      "WARNING: Input data contains invalid values (NaNs or infs), which were automatically clipped. [astropy.stats.sigma_clipping]\n"
     ]
    },
    {
     "name": "stdout",
     "output_type": "stream",
     "text": [
      "0.12541494 7.016244\n",
      "write to /home/aellien/Euclid_LSB_DR1/wavelets/out3/EUC_VIS_LSB_ObsID_2722_scaled.cut16.synth.lvl_sep.iptd.fits\n",
      "/home/aellien/Euclid_LSB_DR1/wavelets/out3/EUC_VIS_LSB_ObsID_2715_scaled.cut3.synth.lvl_sep.fits\n"
     ]
    },
    {
     "name": "stderr",
     "output_type": "stream",
     "text": [
      "WARNING: Input data contains invalid values (NaNs or infs), which were automatically clipped. [astropy.stats.sigma_clipping]\n"
     ]
    },
    {
     "name": "stdout",
     "output_type": "stream",
     "text": [
      "0.2960442 12.189277\n",
      "write to /home/aellien/Euclid_LSB_DR1/wavelets/out3/EUC_VIS_LSB_ObsID_2715_scaled.cut3.synth.lvl_sep.iptd.fits\n",
      "/home/aellien/Euclid_LSB_DR1/wavelets/out3/EUC_VIS_LSB_ObsID_2712_scaled.cut5.synth.lvl_sep.fits\n"
     ]
    },
    {
     "name": "stderr",
     "output_type": "stream",
     "text": [
      "WARNING: Input data contains invalid values (NaNs or infs), which were automatically clipped. [astropy.stats.sigma_clipping]\n"
     ]
    },
    {
     "name": "stdout",
     "output_type": "stream",
     "text": [
      "0.39417624 14.809466\n",
      "write to /home/aellien/Euclid_LSB_DR1/wavelets/out3/EUC_VIS_LSB_ObsID_2712_scaled.cut5.synth.lvl_sep.iptd.fits\n",
      "/home/aellien/Euclid_LSB_DR1/wavelets/out3/EUC_VIS_LSB_ObsID_2722_scaled.cut2.synth.lvl_sep.fits\n"
     ]
    },
    {
     "name": "stderr",
     "output_type": "stream",
     "text": [
      "WARNING: Input data contains invalid values (NaNs or infs), which were automatically clipped. [astropy.stats.sigma_clipping]\n"
     ]
    },
    {
     "name": "stdout",
     "output_type": "stream",
     "text": [
      "0.22865687 10.04829\n",
      "write to /home/aellien/Euclid_LSB_DR1/wavelets/out3/EUC_VIS_LSB_ObsID_2722_scaled.cut2.synth.lvl_sep.iptd.fits\n",
      "/home/aellien/Euclid_LSB_DR1/wavelets/out3/EUC_VIS_LSB_ObsID_2690_scaled.cut4.synth.lvl_sep.fits\n"
     ]
    },
    {
     "name": "stderr",
     "output_type": "stream",
     "text": [
      "WARNING: Input data contains invalid values (NaNs or infs), which were automatically clipped. [astropy.stats.sigma_clipping]\n"
     ]
    },
    {
     "name": "stdout",
     "output_type": "stream",
     "text": [
      "0.24596187 10.872251\n",
      "write to /home/aellien/Euclid_LSB_DR1/wavelets/out3/EUC_VIS_LSB_ObsID_2690_scaled.cut4.synth.lvl_sep.iptd.fits\n",
      "/home/aellien/Euclid_LSB_DR1/wavelets/out3/EUC_VIS_LSB_ObsID_2698_scaled.cut5.synth.lvl_sep.fits\n"
     ]
    },
    {
     "name": "stderr",
     "output_type": "stream",
     "text": [
      "WARNING: Input data contains invalid values (NaNs or infs), which were automatically clipped. [astropy.stats.sigma_clipping]\n"
     ]
    },
    {
     "name": "stdout",
     "output_type": "stream",
     "text": [
      "0.86153173 23.43895\n",
      "write to /home/aellien/Euclid_LSB_DR1/wavelets/out3/EUC_VIS_LSB_ObsID_2698_scaled.cut5.synth.lvl_sep.iptd.fits\n",
      "/home/aellien/Euclid_LSB_DR1/wavelets/out3/EUC_VIS_LSB_ObsID_2701_scaled.cut9.synth.lvl_sep.fits\n"
     ]
    },
    {
     "name": "stderr",
     "output_type": "stream",
     "text": [
      "WARNING: Input data contains invalid values (NaNs or infs), which were automatically clipped. [astropy.stats.sigma_clipping]\n"
     ]
    },
    {
     "name": "stdout",
     "output_type": "stream",
     "text": [
      "0.21296221 9.684365\n",
      "write to /home/aellien/Euclid_LSB_DR1/wavelets/out3/EUC_VIS_LSB_ObsID_2701_scaled.cut9.synth.lvl_sep.iptd.fits\n",
      "/home/aellien/Euclid_LSB_DR1/wavelets/out3/EUC_VIS_LSB_ObsID_2717_scaled.cut16.synth.lvl_sep.fits\n"
     ]
    },
    {
     "name": "stderr",
     "output_type": "stream",
     "text": [
      "WARNING: Input data contains invalid values (NaNs or infs), which were automatically clipped. [astropy.stats.sigma_clipping]\n"
     ]
    },
    {
     "name": "stdout",
     "output_type": "stream",
     "text": [
      "0.23167802 10.101651\n",
      "write to /home/aellien/Euclid_LSB_DR1/wavelets/out3/EUC_VIS_LSB_ObsID_2717_scaled.cut16.synth.lvl_sep.iptd.fits\n",
      "/home/aellien/Euclid_LSB_DR1/wavelets/out3/EUC_VIS_LSB_ObsID_2708_scaled.cut14.synth.lvl_sep.fits\n"
     ]
    },
    {
     "name": "stderr",
     "output_type": "stream",
     "text": [
      "WARNING: Input data contains invalid values (NaNs or infs), which were automatically clipped. [astropy.stats.sigma_clipping]\n"
     ]
    },
    {
     "name": "stdout",
     "output_type": "stream",
     "text": [
      "0.31824633 11.851845\n",
      "write to /home/aellien/Euclid_LSB_DR1/wavelets/out3/EUC_VIS_LSB_ObsID_2708_scaled.cut14.synth.lvl_sep.iptd.fits\n",
      "done\n"
     ]
    }
   ],
   "source": [
    "nfpl = glob.glob(os.path.join(path_wavelets, '*synth.lvl_sep.fits'))\n",
    "\n",
    "for nfp in nfpl:\n",
    "\n",
    "    print(nfp)\n",
    "\n",
    "    hdu = fits.open(nfp)\n",
    "    oim = hdu[1].data\n",
    "    header = hdu[1].header\n",
    "    res = hdu[3].data\n",
    "\n",
    "    # noise props\n",
    "    bckup = np.copy(oim)\n",
    "    oim[oim == 0] = np.nan\n",
    "    noise, valmax = sample_noise(oim, 5)\n",
    "    print(np.nanmean(oim), np.nanstd(oim))\n",
    "\n",
    "    # inpatinting\n",
    "    iptd = np.copy(res)\n",
    "    iptd[bckup == 0] = -1000 # add zeros to inpainting\n",
    "    iptd = inpaint_with_gaussian_noise(iptd, np.nanmean(noise), np.nanstd(noise), 4)\n",
    "\n",
    "    # write output\n",
    "    nfo = nfp[:-4] + 'iptd.fits'\n",
    "    print('write to %s'%nfo)\n",
    "    hduo = fits.PrimaryHDU(iptd, header = header)\n",
    "    hduo.writeto(nfo, overwrite = True)\n",
    "    \n",
    "print('done')"
   ]
  },
  {
   "cell_type": "code",
   "execution_count": null,
   "id": "6fc3a938-7ebc-493f-9e9a-67d5ec20b06e",
   "metadata": {},
   "outputs": [
    {
     "name": "stderr",
     "output_type": "stream",
     "text": [
      "WARNING: Input data contains invalid values (NaNs or infs), which were automatically clipped. [astropy.stats.sigma_clipping]\n"
     ]
    }
   ],
   "source": [
    "#mosaic = inpaint_with_gaussian_noise(mosaic, np.nanmin(mosaic), np.nanstd(mosaic), iptd_sigma)"
   ]
  }
 ],
 "metadata": {
  "kernelspec": {
   "display_name": "Python 3 (ipykernel)",
   "language": "python",
   "name": "python3"
  },
  "language_info": {
   "codemirror_mode": {
    "name": "ipython",
    "version": 3
   },
   "file_extension": ".py",
   "mimetype": "text/x-python",
   "name": "python",
   "nbconvert_exporter": "python",
   "pygments_lexer": "ipython3",
   "version": "3.11.6"
  }
 },
 "nbformat": 4,
 "nbformat_minor": 5
}
