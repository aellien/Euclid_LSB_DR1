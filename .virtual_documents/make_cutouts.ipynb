from astropy.io import fits
from astropy.wcs import WCS
from astropy.nddata import Cutout2D
import numpy as np
import glob as glob
import os

path_data = '/home/aellien/Euclid_LSB_DR1/data/EUC_EDF_N_bin4_10k2/'
path_analysis = '/home/aellien/Euclid_LSB_DR1/analysis'
path_out = '/home/aellien/Euclid_LSB_DR1/data/EUC_EDF_N_bin4_2.5k2'


for tile in glob.glob(path_analysis+'/*scaled_masked.fits'):

    nf = tile.split('/')[-1]
    hdu = fits.open(tile)
    header = hdu[1].header
    w = WCS(header)
    im = hdu[1].data
    xs, ys = im.shape
    w = WCS(hdu[1].header)

    ns = 2650.
    xc = int(ns / 2.)

    k = 0
    for i in range(0, 3):
        for j in range(0, 3):
            k += 1
            cutout = Cutout2D(im, ((i * ns) + xc, (j * ns) + xc), ns, wcs = w)
            hduo = fits.PrimaryHDU(cutout.data, header = cutout.wcs.to_header())
            hduo.writeto(os.path.join(path_out, nf[:-4]+'cut%d.fits'%k), overwrite = True)



