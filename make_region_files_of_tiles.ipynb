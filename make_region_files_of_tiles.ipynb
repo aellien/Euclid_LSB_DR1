{
 "cells": [
  {
   "cell_type": "code",
   "execution_count": 1,
   "id": "841fe366-6a9c-43aa-a82f-db6761ca5816",
   "metadata": {},
   "outputs": [],
   "source": [
    "from astropy.io import fits\n",
    "from astropy.wcs import WCS\n",
    "import os\n",
    "import glob\n",
    "path_data = '/home/aellien/Euclid_LSB_DR1/data/EUC_EDF_N_bin4_10k2/'\n",
    "path_analysis = '/home/aellien/Euclid_LSB_DR1/analysis'\n",
    "path_cut = '/home/aellien/Euclid_LSB_DR1/data/EUC_EDF_N_bin4_2.5k2'"
   ]
  },
  {
   "cell_type": "code",
   "execution_count": 28,
   "id": "6eb2b555-3d4b-4565-8c90-9b1d3d6fa3b3",
   "metadata": {},
   "outputs": [
    {
     "name": "stdout",
     "output_type": "stream",
     "text": [
      "done\n"
     ]
    }
   ],
   "source": [
    "# Make tile region files\n",
    "\n",
    "all_regions = [\n",
    "        \"# Region file format: DS9 version 4.1\",\n",
    "        \"global color=green dashlist=8 3 width=1 font='helvetica 10 normal' select=1\",\n",
    "        \"fk5\" ]\n",
    "\n",
    "for tile in glob.glob(path_data+'/*scaled.fits'):\n",
    "    \n",
    "    #print(tile)\n",
    "    nf = tile.split('/')[-1]\n",
    "    tile_id = nf.split('_')[4]\n",
    "    hdu = fits.open(tile)\n",
    "    data = hdu[1].data\n",
    "    header = hdu[1].header\n",
    "    wcs = WCS(header)\n",
    "    ny, nx = data.shape  # image dimensions\n",
    "\n",
    "    # Get world coordinates of image corners\n",
    "    corners_pixel = [(0, 0), (nx - 1, 0), (nx - 1, ny - 1), (0, ny - 1)]\n",
    "    corners_world = wcs.pixel_to_world_values([x for x, y in corners_pixel],\n",
    "                                              [y for x, y in corners_pixel])\n",
    "    # Build DS9 polygon region in world coordinates (assumes RA/Dec)\n",
    "    ra = corners_world[0]\n",
    "    dec = corners_world[1]\n",
    "    region_lines = [\n",
    "        \"# Region file format: DS9 version 4.1\",\n",
    "        \"global color=green dashlist=8 3 width=1 font='helvetica 10 normal' select=1\",\n",
    "        \"fk5\",\n",
    "        \"polygon(\" + \",\".join(f\"{r},{d}\" for r, d in zip(ra, dec)) + \") # text={%s}\"%tile_id\n",
    "    ]\n",
    "    all_regions.append(\"polygon(\" + \",\".join(f\"{r},{d}\" for r, d in zip(ra, dec)) + \") # text={%s}\"%tile_id)\n",
    "    \n",
    "    with open(os.path.join(path_data, 'EUC_VIS_LSB_ObsID_%s_scaled.reg'%tile_id), 'w') as f:\n",
    "        f.write(\"\\n\".join(region_lines))\n",
    "\n",
    "with open(os.path.join(path_data, 'all_tiles.reg'), 'w') as f:\n",
    "        f.write(\"\\n\".join(all_regions))\n",
    "\n",
    "print('done')"
   ]
  },
  {
   "cell_type": "code",
   "execution_count": 2,
   "id": "cc9c4f1a-b662-4ece-bcc3-8407fb57e98c",
   "metadata": {},
   "outputs": [
    {
     "name": "stdout",
     "output_type": "stream",
     "text": [
      "done\n"
     ]
    }
   ],
   "source": [
    "# Make cut region files\n",
    "\n",
    "all_regions = [\n",
    "        \"# Region file format: DS9 version 4.1\",\n",
    "        \"global color=yellow dashlist=8 3 width=1 font='helvetica 10 normal' select=1\",\n",
    "        \"fk5\" ]\n",
    "\n",
    "for cut in glob.glob(path_cut+'/*scaled.cut*.fits'):\n",
    "    \n",
    "    nf = cut.split('/')[-1]\n",
    "    tile_id = nf.split('_')[4]\n",
    "    cut_id = nf.split('_')[5][10]\n",
    "    hdu = fits.open(cut)\n",
    "    data = hdu[0].data\n",
    "    header = hdu[0].header\n",
    "    wcs = WCS(header)\n",
    "    ny, nx = data.shape  # image dimensions\n",
    "\n",
    "    # Get world coordinates of image corners\n",
    "    corners_pixel = [(0, 0), (nx - 1, 0), (nx - 1, ny - 1), (0, ny - 1)]\n",
    "    corners_world = wcs.pixel_to_world_values([x for x, y in corners_pixel],\n",
    "                                              [y for x, y in corners_pixel])\n",
    "    # Build DS9 polygon region in world coordinates (assumes RA/Dec)\n",
    "    ra = corners_world[0]\n",
    "    dec = corners_world[1]\n",
    "    region_lines = [\n",
    "        \"# Region file format: DS9 version 4.1\",\n",
    "        \"global color=yellow dashlist=8 3 width=1 font='helvetica 10 normal' select=1\",\n",
    "        \"fk5\",\n",
    "        \"polygon(\" + \",\".join(f\"{r},{d}\" for r, d in zip(ra, dec)) + \") # text={%s}\"%(tile_id+cut_id)\n",
    "    ]\n",
    "    all_regions.append(\"polygon(\" + \",\".join(f\"{r},{d}\" for r, d in zip(ra, dec)) + \") # text={%s}\"%(tile_id+cut_id))\n",
    "    \n",
    "    with open(os.path.join(path_cut, 'EUC_VIS_LSB_ObsID_%s_scaled.cut%s.reg'%(tile_id, cut_id)), 'w') as f:\n",
    "        f.write(\"\\n\".join(region_lines))\n",
    "\n",
    "with open(os.path.join(path_cut, 'all_cut.reg'), 'w') as f:\n",
    "        f.write(\"\\n\".join(all_regions))\n",
    "\n",
    "print('done')"
   ]
  },
  {
   "cell_type": "code",
   "execution_count": null,
   "id": "2fead642-d78b-4140-9004-5d52fbfa0688",
   "metadata": {},
   "outputs": [],
   "source": []
  }
 ],
 "metadata": {
  "kernelspec": {
   "display_name": "Python 3 (ipykernel)",
   "language": "python",
   "name": "python3"
  },
  "language_info": {
   "codemirror_mode": {
    "name": "ipython",
    "version": 3
   },
   "file_extension": ".py",
   "mimetype": "text/x-python",
   "name": "python",
   "nbconvert_exporter": "python",
   "pygments_lexer": "ipython3",
   "version": "3.11.6"
  }
 },
 "nbformat": 4,
 "nbformat_minor": 5
}
