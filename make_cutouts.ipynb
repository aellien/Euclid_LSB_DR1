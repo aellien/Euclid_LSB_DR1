{
 "cells": [
  {
   "cell_type": "code",
   "execution_count": 5,
   "id": "50814c58-43ac-441f-a1a9-17762642d02e",
   "metadata": {},
   "outputs": [],
   "source": [
    "from astropy.io import fits\n",
    "from astropy.wcs import WCS\n",
    "from astropy.nddata import Cutout2D\n",
    "import numpy as np\n",
    "import glob as glob\n",
    "import os\n",
    "\n",
    "path_data = '/home/aellien/Euclid_LSB_DR1/data/EUC_EDF_N_bin4_10k2/'\n",
    "path_analysis = '/home/aellien/Euclid_LSB_DR1/analysis'\n",
    "path_out = '/home/aellien/Euclid_LSB_DR1/data/EUC_EDF_N_bin4_2.5k2'"
   ]
  },
  {
   "cell_type": "code",
   "execution_count": 6,
   "id": "b8790b34-ddb8-49bb-bcb1-9d860dcccadf",
   "metadata": {},
   "outputs": [
    {
     "name": "stdout",
     "output_type": "stream",
     "text": [
      "/home/aellien/Euclid_LSB_DR1/analysis/EUC_VIS_LSB_ObsID_2714_scaled_masked.fits\n",
      "/home/aellien/Euclid_LSB_DR1/analysis/EUC_VIS_LSB_ObsID_2695_scaled_masked.fits\n",
      "/home/aellien/Euclid_LSB_DR1/analysis/EUC_VIS_LSB_ObsID_2722_scaled_masked.fits\n",
      "/home/aellien/Euclid_LSB_DR1/analysis/EUC_VIS_LSB_ObsID_2717_scaled_masked.fits\n",
      "/home/aellien/Euclid_LSB_DR1/analysis/EUC_VIS_LSB_ObsID_2693_scaled_masked.fits\n",
      "/home/aellien/Euclid_LSB_DR1/analysis/EUC_VIS_LSB_ObsID_2696_scaled_masked.fits\n",
      "/home/aellien/Euclid_LSB_DR1/analysis/EUC_VIS_LSB_ObsID_2691_scaled_masked.fits\n",
      "/home/aellien/Euclid_LSB_DR1/analysis/EUC_VIS_LSB_ObsID_2699_scaled_masked.fits\n",
      "/home/aellien/Euclid_LSB_DR1/analysis/EUC_VIS_LSB_ObsID_2688_scaled_masked.fits\n",
      "/home/aellien/Euclid_LSB_DR1/analysis/EUC_VIS_LSB_ObsID_2700_scaled_masked.fits\n",
      "/home/aellien/Euclid_LSB_DR1/analysis/EUC_VIS_LSB_ObsID_2718_scaled_masked.fits\n",
      "/home/aellien/Euclid_LSB_DR1/analysis/EUC_VIS_LSB_ObsID_2712_scaled_masked.fits\n",
      "/home/aellien/Euclid_LSB_DR1/analysis/EUC_VIS_LSB_ObsID_2704_scaled_masked.fits\n",
      "/home/aellien/Euclid_LSB_DR1/analysis/EUC_VIS_LSB_ObsID_2681_scaled_masked.fits\n",
      "/home/aellien/Euclid_LSB_DR1/analysis/EUC_VIS_LSB_ObsID_2682_scaled_masked.fits\n",
      "/home/aellien/Euclid_LSB_DR1/analysis/EUC_VIS_LSB_ObsID_2694_scaled_masked.fits\n",
      "/home/aellien/Euclid_LSB_DR1/analysis/EUC_VIS_LSB_ObsID_2692_scaled_masked.fits\n",
      "/home/aellien/Euclid_LSB_DR1/analysis/EUC_VIS_LSB_ObsID_2685_scaled_masked.fits\n",
      "/home/aellien/Euclid_LSB_DR1/analysis/EUC_VIS_LSB_ObsID_2723_scaled_masked.fits\n",
      "/home/aellien/Euclid_LSB_DR1/analysis/EUC_VIS_LSB_ObsID_2697_scaled_masked.fits\n",
      "/home/aellien/Euclid_LSB_DR1/analysis/EUC_VIS_LSB_ObsID_2701_scaled_masked.fits\n",
      "/home/aellien/Euclid_LSB_DR1/analysis/EUC_VIS_LSB_ObsID_2716_scaled_masked.fits\n",
      "/home/aellien/Euclid_LSB_DR1/analysis/EUC_VIS_LSB_ObsID_2690_scaled_masked.fits\n",
      "/home/aellien/Euclid_LSB_DR1/analysis/EUC_VIS_LSB_ObsID_2719_scaled_masked.fits\n",
      "/home/aellien/Euclid_LSB_DR1/analysis/EUC_VIS_LSB_ObsID_2703_scaled_masked.fits\n",
      "/home/aellien/Euclid_LSB_DR1/analysis/EUC_VIS_LSB_ObsID_2711_scaled_masked.fits\n",
      "/home/aellien/Euclid_LSB_DR1/analysis/EUC_VIS_LSB_ObsID_2715_scaled_masked.fits\n",
      "/home/aellien/Euclid_LSB_DR1/analysis/EUC_VIS_LSB_ObsID_2698_scaled_masked.fits\n",
      "/home/aellien/Euclid_LSB_DR1/analysis/EUC_VIS_LSB_ObsID_2684_scaled_masked.fits\n",
      "/home/aellien/Euclid_LSB_DR1/analysis/EUC_VIS_LSB_ObsID_2720_scaled_masked.fits\n",
      "/home/aellien/Euclid_LSB_DR1/analysis/EUC_VIS_LSB_ObsID_2702_scaled_masked.fits\n",
      "/home/aellien/Euclid_LSB_DR1/analysis/EUC_VIS_LSB_ObsID_2721_scaled_masked.fits\n",
      "/home/aellien/Euclid_LSB_DR1/analysis/EUC_VIS_LSB_ObsID_2709_scaled_masked.fits\n",
      "/home/aellien/Euclid_LSB_DR1/analysis/EUC_VIS_LSB_ObsID_2683_scaled_masked.fits\n",
      "/home/aellien/Euclid_LSB_DR1/analysis/EUC_VIS_LSB_ObsID_2689_scaled_masked.fits\n",
      "/home/aellien/Euclid_LSB_DR1/analysis/EUC_VIS_LSB_ObsID_2687_scaled_masked.fits\n",
      "/home/aellien/Euclid_LSB_DR1/analysis/EUC_VIS_LSB_ObsID_2686_scaled_masked.fits\n",
      "/home/aellien/Euclid_LSB_DR1/analysis/EUC_VIS_LSB_ObsID_2705_scaled_masked.fits\n",
      "/home/aellien/Euclid_LSB_DR1/analysis/EUC_VIS_LSB_ObsID_2707_scaled_masked.fits\n",
      "/home/aellien/Euclid_LSB_DR1/analysis/EUC_VIS_LSB_ObsID_2710_scaled_masked.fits\n",
      "/home/aellien/Euclid_LSB_DR1/analysis/EUC_VIS_LSB_ObsID_2706_scaled_masked.fits\n",
      "/home/aellien/Euclid_LSB_DR1/analysis/EUC_VIS_LSB_ObsID_2713_scaled_masked.fits\n",
      "/home/aellien/Euclid_LSB_DR1/analysis/EUC_VIS_LSB_ObsID_2708_scaled_masked.fits\n"
     ]
    }
   ],
   "source": [
    "for tile in glob.glob(path_analysis+'/*scaled_masked.fits'):\n",
    "    print(tile)\n",
    "    nf = tile.split('/')[-1]\n",
    "    hdu = fits.open(tile)\n",
    "    header = hdu[1].header\n",
    "    w = WCS(header)\n",
    "    im = hdu[1].data\n",
    "    xs, ys = im.shape\n",
    "    w = WCS(hdu[1].header)\n",
    "\n",
    "    ns = 2650.\n",
    "    xc = int(ns / 2.)\n",
    "\n",
    "    k = 0\n",
    "    for i in range(0, 3):\n",
    "        for j in range(0, 3):\n",
    "            k += 1\n",
    "            cutout = Cutout2D(im, ((i * ns) + xc, (j * ns) + xc), ns, wcs = w)\n",
    "            hduo = fits.PrimaryHDU(cutout.data, header = cutout.wcs.to_header())\n",
    "            hduo.writeto(os.path.join(path_out, nf[:-4]+'cut%d.fits'%k), overwrite = True)"
   ]
  },
  {
   "cell_type": "code",
   "execution_count": null,
   "id": "8cdd9f86-3103-48a4-83cc-a41d3fc319f4",
   "metadata": {},
   "outputs": [],
   "source": []
  }
 ],
 "metadata": {
  "kernelspec": {
   "display_name": "Python 3 (ipykernel)",
   "language": "python",
   "name": "python3"
  },
  "language_info": {
   "codemirror_mode": {
    "name": "ipython",
    "version": 3
   },
   "file_extension": ".py",
   "mimetype": "text/x-python",
   "name": "python",
   "nbconvert_exporter": "python",
   "pygments_lexer": "ipython3",
   "version": "3.11.6"
  }
 },
 "nbformat": 4,
 "nbformat_minor": 5
}
